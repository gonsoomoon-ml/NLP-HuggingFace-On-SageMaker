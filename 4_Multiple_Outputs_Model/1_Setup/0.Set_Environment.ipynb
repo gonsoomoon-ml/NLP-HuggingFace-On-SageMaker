{
 "cells": [
  {
   "cell_type": "markdown",
   "id": "c91bc5b9-d813-4c30-8aaa-87a8de5cd39d",
   "metadata": {
    "jp-MarkdownHeadingCollapsed": true,
    "tags": []
   },
   "source": [
    "# 필수 단계 - 환경 세팅\n",
    "---\n",
    "\n",
    "이 워크샵에 필요한 Python Package 설치 및 환경 세팅 합니다.\n",
    "\n",
    "## 본 워크샵의 모든 노트북은 `conda_python3` 를  선택해야 합니다.\n",
    "\n",
    "---\n",
    "\n"
   ]
  },
  {
   "cell_type": "markdown",
   "id": "549bc4c1-de9c-4c50-845b-ef787b568866",
   "metadata": {
    "tags": []
   },
   "source": [
    "# 1. pip 업그레이드"
   ]
  },
  {
   "cell_type": "code",
   "execution_count": 1,
   "id": "f6a107de-99a8-4915-ae08-d5a58401cf4b",
   "metadata": {},
   "outputs": [
    {
     "name": "stdout",
     "output_type": "stream",
     "text": [
      "Looking in indexes: https://pypi.org/simple, https://pip.repos.neuron.amazonaws.com\n",
      "Requirement already satisfied: pip in /home/ec2-user/anaconda3/envs/python3/lib/python3.8/site-packages (22.2.2)\n"
     ]
    }
   ],
   "source": [
    "! pip install --upgrade pip"
   ]
  },
  {
   "cell_type": "markdown",
   "id": "eb3b8b1c-a0b2-4d69-aa00-a544f679380a",
   "metadata": {},
   "source": [
    "# 2. 사용하는 Python Packages 설치 유뮤 및 버전 확인"
   ]
  },
  {
   "cell_type": "code",
   "execution_count": 1,
   "id": "accc3e9b-037e-481c-aebc-9dba0e21bd76",
   "metadata": {},
   "outputs": [
    {
     "name": "stdout",
     "output_type": "stream",
     "text": [
      "graphviz                           0.20.1\n",
      "Python 3.8.12\n"
     ]
    }
   ],
   "source": [
    "%%sh \n",
    "pip list | grep tensorflow\n",
    "# pip list | grep torch\n",
    "# pip list | grep torchvision\n",
    "# pip list | grep transformers\n",
    "# pip list | grep konlpy\n",
    "# pip list | grep mecab\n",
    "# pip list | grep wordcloud\n",
    "pip list | grep graphviz\n",
    "pip list | grep pydot\n",
    "# pip list | grep datasets\n",
    "# pip list | grep progressbar\n",
    "# pip list | grep pyldavis\n",
    "# pip list | grep contextualized-topic-models\n",
    "# pip list | grep bertopic\n",
    "\n",
    "python --version"
   ]
  },
  {
   "cell_type": "markdown",
   "id": "93811757-465c-4481-85ba-1f857e28ab1a",
   "metadata": {},
   "source": [
    "# 3. Python Package 설치"
   ]
  },
  {
   "cell_type": "markdown",
   "id": "88365c7c-3cc6-4689-a83c-c06e9dfdab09",
   "metadata": {},
   "source": [
    "## 3.0. Tensorflow-gpu 설치ㅡ"
   ]
  },
  {
   "cell_type": "code",
   "execution_count": 4,
   "id": "5c0e294f-224e-4152-94fe-424dbe3f3347",
   "metadata": {},
   "outputs": [
    {
     "name": "stdout",
     "output_type": "stream",
     "text": [
      "Looking in indexes: https://pypi.org/simple, https://pip.repos.neuron.amazonaws.com\n",
      "Collecting tensorflow-gpu==2.7.1\n",
      "  Downloading tensorflow_gpu-2.7.1-cp38-cp38-manylinux2010_x86_64.whl (495.1 MB)\n",
      "\u001b[2K     \u001b[90m━━━━━━━━━━━━━━━━━━━━━━━━━━━━━━━━━━━━━━━\u001b[0m \u001b[32m495.1/495.1 MB\u001b[0m \u001b[31m2.7 MB/s\u001b[0m eta \u001b[36m0:00:00\u001b[0m00:01\u001b[0m00:01\u001b[0m\n",
      "\u001b[?25hCollecting keras-preprocessing>=1.1.1\n",
      "  Downloading Keras_Preprocessing-1.1.2-py2.py3-none-any.whl (42 kB)\n",
      "\u001b[2K     \u001b[90m━━━━━━━━━━━━━━━━━━━━━━━━━━━━━━━━━━━━━━━━\u001b[0m \u001b[32m42.6/42.6 kB\u001b[0m \u001b[31m10.9 MB/s\u001b[0m eta \u001b[36m0:00:00\u001b[0m\n",
      "\u001b[?25hRequirement already satisfied: typing-extensions>=3.6.6 in /home/ec2-user/anaconda3/envs/python3/lib/python3.8/site-packages (from tensorflow-gpu==2.7.1) (4.0.0)\n",
      "Collecting libclang>=9.0.1\n",
      "  Downloading libclang-14.0.6-py2.py3-none-manylinux2010_x86_64.whl (14.1 MB)\n",
      "\u001b[2K     \u001b[90m━━━━━━━━━━━━━━━━━━━━━━━━━━━━━━━━━━━━━━━━\u001b[0m \u001b[32m14.1/14.1 MB\u001b[0m \u001b[31m80.0 MB/s\u001b[0m eta \u001b[36m0:00:00\u001b[0m00:01\u001b[0m00:01\u001b[0m\n",
      "\u001b[?25hCollecting termcolor>=1.1.0\n",
      "  Downloading termcolor-1.1.0.tar.gz (3.9 kB)\n",
      "  Preparing metadata (setup.py) ... \u001b[?25ldone\n",
      "\u001b[?25hRequirement already satisfied: h5py>=2.9.0 in /home/ec2-user/anaconda3/envs/python3/lib/python3.8/site-packages (from tensorflow-gpu==2.7.1) (3.3.0)\n",
      "Collecting grpcio<2.0,>=1.24.3\n",
      "  Downloading grpcio-1.47.0-cp38-cp38-manylinux_2_17_x86_64.manylinux2014_x86_64.whl (4.5 MB)\n",
      "\u001b[2K     \u001b[90m━━━━━━━━━━━━━━━━━━━━━━━━━━━━━━━━━━━━━━━━\u001b[0m \u001b[32m4.5/4.5 MB\u001b[0m \u001b[31m93.8 MB/s\u001b[0m eta \u001b[36m0:00:00\u001b[0m:00:01\u001b[0m\n",
      "\u001b[?25hCollecting astunparse>=1.6.0\n",
      "  Downloading astunparse-1.6.3-py2.py3-none-any.whl (12 kB)\n",
      "Collecting keras<2.8,>=2.7.0rc0\n",
      "  Downloading keras-2.7.0-py2.py3-none-any.whl (1.3 MB)\n",
      "\u001b[2K     \u001b[90m━━━━━━━━━━━━━━━━━━━━━━━━━━━━━━━━━━━━━━━━\u001b[0m \u001b[32m1.3/1.3 MB\u001b[0m \u001b[31m89.0 MB/s\u001b[0m eta \u001b[36m0:00:00\u001b[0m\n",
      "\u001b[?25hRequirement already satisfied: wheel<1.0,>=0.32.0 in /home/ec2-user/anaconda3/envs/python3/lib/python3.8/site-packages (from tensorflow-gpu==2.7.1) (0.37.0)\n",
      "Collecting tensorflow-estimator<2.8,~=2.7.0rc0\n",
      "  Downloading tensorflow_estimator-2.7.0-py2.py3-none-any.whl (463 kB)\n",
      "\u001b[2K     \u001b[90m━━━━━━━━━━━━━━━━━━━━━━━━━━━━━━━━━━━━━━\u001b[0m \u001b[32m463.1/463.1 kB\u001b[0m \u001b[31m70.5 MB/s\u001b[0m eta \u001b[36m0:00:00\u001b[0m\n",
      "\u001b[?25hRequirement already satisfied: numpy>=1.14.5 in /home/ec2-user/anaconda3/envs/python3/lib/python3.8/site-packages (from tensorflow-gpu==2.7.1) (1.20.3)\n",
      "Collecting opt-einsum>=2.3.2\n",
      "  Downloading opt_einsum-3.3.0-py3-none-any.whl (65 kB)\n",
      "\u001b[2K     \u001b[90m━━━━━━━━━━━━━━━━━━━━━━━━━━━━━━━━━━━━━━━━\u001b[0m \u001b[32m65.5/65.5 kB\u001b[0m \u001b[31m19.2 MB/s\u001b[0m eta \u001b[36m0:00:00\u001b[0m\n",
      "\u001b[?25hRequirement already satisfied: protobuf>=3.9.2 in /home/ec2-user/anaconda3/envs/python3/lib/python3.8/site-packages (from tensorflow-gpu==2.7.1) (3.19.1)\n",
      "Requirement already satisfied: six>=1.12.0 in /home/ec2-user/anaconda3/envs/python3/lib/python3.8/site-packages (from tensorflow-gpu==2.7.1) (1.16.0)\n",
      "Requirement already satisfied: google-pasta>=0.1.1 in /home/ec2-user/anaconda3/envs/python3/lib/python3.8/site-packages (from tensorflow-gpu==2.7.1) (0.2.0)\n",
      "Collecting flatbuffers<3.0,>=1.12\n",
      "  Downloading flatbuffers-2.0-py2.py3-none-any.whl (26 kB)\n",
      "Collecting tensorboard~=2.6\n",
      "  Downloading tensorboard-2.10.0-py3-none-any.whl (5.9 MB)\n",
      "\u001b[2K     \u001b[90m━━━━━━━━━━━━━━━━━━━━━━━━━━━━━━━━━━━━━━━━\u001b[0m \u001b[32m5.9/5.9 MB\u001b[0m \u001b[31m100.6 MB/s\u001b[0m eta \u001b[36m0:00:00\u001b[0ma \u001b[36m0:00:01\u001b[0m\n",
      "\u001b[?25hCollecting tensorflow-io-gcs-filesystem>=0.21.0\n",
      "  Downloading tensorflow_io_gcs_filesystem-0.26.0-cp38-cp38-manylinux_2_12_x86_64.manylinux2010_x86_64.whl (2.4 MB)\n",
      "\u001b[2K     \u001b[90m━━━━━━━━━━━━━━━━━━━━━━━━━━━━━━━━━━━━━━━━\u001b[0m \u001b[32m2.4/2.4 MB\u001b[0m \u001b[31m99.4 MB/s\u001b[0m eta \u001b[36m0:00:00\u001b[0m\n",
      "\u001b[?25hRequirement already satisfied: wrapt>=1.11.0 in /home/ec2-user/anaconda3/envs/python3/lib/python3.8/site-packages (from tensorflow-gpu==2.7.1) (1.13.3)\n",
      "Collecting absl-py>=0.4.0\n",
      "  Downloading absl_py-1.2.0-py3-none-any.whl (123 kB)\n",
      "\u001b[2K     \u001b[90m━━━━━━━━━━━━━━━━━━━━━━━━━━━━━━━━━━━━━━\u001b[0m \u001b[32m123.4/123.4 kB\u001b[0m \u001b[31m31.2 MB/s\u001b[0m eta \u001b[36m0:00:00\u001b[0m\n",
      "\u001b[?25hCollecting gast<0.5.0,>=0.2.1\n",
      "  Downloading gast-0.4.0-py3-none-any.whl (9.8 kB)\n",
      "Requirement already satisfied: requests<3,>=2.21.0 in /home/ec2-user/anaconda3/envs/python3/lib/python3.8/site-packages (from tensorboard~=2.6->tensorflow-gpu==2.7.1) (2.26.0)\n",
      "Collecting tensorboard-plugin-wit>=1.6.0\n",
      "  Downloading tensorboard_plugin_wit-1.8.1-py3-none-any.whl (781 kB)\n",
      "\u001b[2K     \u001b[90m━━━━━━━━━━━━━━━━━━━━━━━━━━━━━━━━━━━━━━\u001b[0m \u001b[32m781.3/781.3 kB\u001b[0m \u001b[31m80.6 MB/s\u001b[0m eta \u001b[36m0:00:00\u001b[0m\n",
      "\u001b[?25hRequirement already satisfied: setuptools>=41.0.0 in /home/ec2-user/anaconda3/envs/python3/lib/python3.8/site-packages (from tensorboard~=2.6->tensorflow-gpu==2.7.1) (59.4.0)\n",
      "Collecting google-auth<3,>=1.6.3\n",
      "  Downloading google_auth-2.11.0-py2.py3-none-any.whl (167 kB)\n",
      "\u001b[2K     \u001b[90m━━━━━━━━━━━━━━━━━━━━━━━━━━━━━━━━━━━━━━\u001b[0m \u001b[32m167.2/167.2 kB\u001b[0m \u001b[31m40.5 MB/s\u001b[0m eta \u001b[36m0:00:00\u001b[0m\n",
      "\u001b[?25hRequirement already satisfied: werkzeug>=1.0.1 in /home/ec2-user/anaconda3/envs/python3/lib/python3.8/site-packages (from tensorboard~=2.6->tensorflow-gpu==2.7.1) (2.0.3)\n",
      "Collecting tensorboard-data-server<0.7.0,>=0.6.0\n",
      "  Downloading tensorboard_data_server-0.6.1-py3-none-manylinux2010_x86_64.whl (4.9 MB)\n",
      "\u001b[2K     \u001b[90m━━━━━━━━━━━━━━━━━━━━━━━━━━━━━━━━━━━━━━━━\u001b[0m \u001b[32m4.9/4.9 MB\u001b[0m \u001b[31m100.9 MB/s\u001b[0m eta \u001b[36m0:00:00\u001b[0m00:01\u001b[0m\n",
      "\u001b[?25hCollecting markdown>=2.6.8\n",
      "  Downloading Markdown-3.4.1-py3-none-any.whl (93 kB)\n",
      "\u001b[2K     \u001b[90m━━━━━━━━━━━━━━━━━━━━━━━━━━━━━━━━━━━━━━━━\u001b[0m \u001b[32m93.3/93.3 kB\u001b[0m \u001b[31m25.5 MB/s\u001b[0m eta \u001b[36m0:00:00\u001b[0m\n",
      "\u001b[?25hCollecting google-auth-oauthlib<0.5,>=0.4.1\n",
      "  Downloading google_auth_oauthlib-0.4.6-py2.py3-none-any.whl (18 kB)\n",
      "Collecting pyasn1-modules>=0.2.1\n",
      "  Downloading pyasn1_modules-0.2.8-py2.py3-none-any.whl (155 kB)\n",
      "\u001b[2K     \u001b[90m━━━━━━━━━━━━━━━━━━━━━━━━━━━━━━━━━━━━━━\u001b[0m \u001b[32m155.3/155.3 kB\u001b[0m \u001b[31m35.2 MB/s\u001b[0m eta \u001b[36m0:00:00\u001b[0m\n",
      "\u001b[?25hRequirement already satisfied: rsa<5,>=3.1.4 in /home/ec2-user/anaconda3/envs/python3/lib/python3.8/site-packages (from google-auth<3,>=1.6.3->tensorboard~=2.6->tensorflow-gpu==2.7.1) (4.7.2)\n",
      "Collecting cachetools<6.0,>=2.0.0\n",
      "  Downloading cachetools-5.2.0-py3-none-any.whl (9.3 kB)\n",
      "Collecting requests-oauthlib>=0.7.0\n",
      "  Downloading requests_oauthlib-1.3.1-py2.py3-none-any.whl (23 kB)\n",
      "Collecting importlib-metadata>=4.4\n",
      "  Downloading importlib_metadata-4.12.0-py3-none-any.whl (21 kB)\n",
      "Requirement already satisfied: charset-normalizer~=2.0.0 in /home/ec2-user/anaconda3/envs/python3/lib/python3.8/site-packages (from requests<3,>=2.21.0->tensorboard~=2.6->tensorflow-gpu==2.7.1) (2.0.8)\n",
      "Requirement already satisfied: idna<4,>=2.5 in /home/ec2-user/anaconda3/envs/python3/lib/python3.8/site-packages (from requests<3,>=2.21.0->tensorboard~=2.6->tensorflow-gpu==2.7.1) (3.1)\n",
      "Requirement already satisfied: certifi>=2017.4.17 in /home/ec2-user/anaconda3/envs/python3/lib/python3.8/site-packages (from requests<3,>=2.21.0->tensorboard~=2.6->tensorflow-gpu==2.7.1) (2021.10.8)\n",
      "Requirement already satisfied: urllib3<1.27,>=1.21.1 in /home/ec2-user/anaconda3/envs/python3/lib/python3.8/site-packages (from requests<3,>=2.21.0->tensorboard~=2.6->tensorflow-gpu==2.7.1) (1.26.8)\n",
      "Requirement already satisfied: zipp>=0.5 in /home/ec2-user/anaconda3/envs/python3/lib/python3.8/site-packages (from importlib-metadata>=4.4->markdown>=2.6.8->tensorboard~=2.6->tensorflow-gpu==2.7.1) (3.6.0)\n",
      "Requirement already satisfied: pyasn1<0.5.0,>=0.4.6 in /home/ec2-user/anaconda3/envs/python3/lib/python3.8/site-packages (from pyasn1-modules>=0.2.1->google-auth<3,>=1.6.3->tensorboard~=2.6->tensorflow-gpu==2.7.1) (0.4.8)\n",
      "Collecting oauthlib>=3.0.0\n",
      "  Downloading oauthlib-3.2.0-py3-none-any.whl (151 kB)\n",
      "\u001b[2K     \u001b[90m━━━━━━━━━━━━━━━━━━━━━━━━━━━━━━━━━━━━━━\u001b[0m \u001b[32m151.5/151.5 kB\u001b[0m \u001b[31m35.3 MB/s\u001b[0m eta \u001b[36m0:00:00\u001b[0m\n",
      "\u001b[?25hBuilding wheels for collected packages: termcolor\n",
      "  Building wheel for termcolor (setup.py) ... \u001b[?25ldone\n",
      "\u001b[?25h  Created wheel for termcolor: filename=termcolor-1.1.0-py3-none-any.whl size=4847 sha256=6bb536129a21d93084ade8ffe755d6a166034523a9c0e6874012c70223e6a061\n",
      "  Stored in directory: /home/ec2-user/.cache/pip/wheels/a0/16/9c/5473df82468f958445479c59e784896fa24f4a5fc024b0f501\n",
      "Successfully built termcolor\n",
      "Installing collected packages: termcolor, tensorflow-estimator, tensorboard-plugin-wit, libclang, keras, flatbuffers, tensorflow-io-gcs-filesystem, tensorboard-data-server, pyasn1-modules, opt-einsum, oauthlib, keras-preprocessing, importlib-metadata, grpcio, gast, cachetools, astunparse, absl-py, requests-oauthlib, markdown, google-auth, google-auth-oauthlib, tensorboard, tensorflow-gpu\n",
      "  Attempting uninstall: importlib-metadata\n",
      "    Found existing installation: importlib-metadata 1.7.0\n",
      "    Uninstalling importlib-metadata-1.7.0:\n",
      "      Successfully uninstalled importlib-metadata-1.7.0\n",
      "Successfully installed absl-py-1.2.0 astunparse-1.6.3 cachetools-5.2.0 flatbuffers-2.0 gast-0.4.0 google-auth-2.11.0 google-auth-oauthlib-0.4.6 grpcio-1.47.0 importlib-metadata-4.12.0 keras-2.7.0 keras-preprocessing-1.1.2 libclang-14.0.6 markdown-3.4.1 oauthlib-3.2.0 opt-einsum-3.3.0 pyasn1-modules-0.2.8 requests-oauthlib-1.3.1 tensorboard-2.10.0 tensorboard-data-server-0.6.1 tensorboard-plugin-wit-1.8.1 tensorflow-estimator-2.7.0 tensorflow-gpu-2.7.1 tensorflow-io-gcs-filesystem-0.26.0 termcolor-1.1.0\n",
      "Note: you may need to restart the kernel to use updated packages.\n"
     ]
    }
   ],
   "source": [
    "pip install tensorflow-gpu==2.7.1"
   ]
  },
  {
   "cell_type": "markdown",
   "id": "a3b2f7be-2a88-4abf-91e6-22aa61891fbe",
   "metadata": {},
   "source": [
    "## 3.1. sentence-transformers 설치"
   ]
  },
  {
   "cell_type": "code",
   "execution_count": 11,
   "id": "49484c5e-0588-4cd6-acdb-aa5b60204562",
   "metadata": {
    "tags": []
   },
   "outputs": [],
   "source": [
    "# pip install -U sentence-transformers==2.2.2"
   ]
  },
  {
   "cell_type": "markdown",
   "id": "a10f4d95-6fa5-4aea-85d7-2d0095c85be2",
   "metadata": {},
   "source": [
    "## 3.2. torch, torchvision, dataset and transformers 설치"
   ]
  },
  {
   "cell_type": "code",
   "execution_count": 5,
   "id": "63d7f159-b248-4b93-b34c-8231bf993932",
   "metadata": {
    "tags": []
   },
   "outputs": [],
   "source": [
    "# ! pip3 install torch==1.9.1 torchvision==0.10.1 transformers==4.18.0  datasets==2.4.0"
   ]
  },
  {
   "cell_type": "markdown",
   "id": "27bff16c-e9fd-4c24-bf16-7f7b8550b8ed",
   "metadata": {},
   "source": [
    "## 3.3. konlpy , Mecab, wordcloud 등 설치"
   ]
  },
  {
   "cell_type": "code",
   "execution_count": 6,
   "id": "fe552b86-8d9a-4c29-937d-e4a373496026",
   "metadata": {
    "tags": []
   },
   "outputs": [],
   "source": [
    "# !pip install konlpy==0.6.0 # 한글 Tokenizer 사용\n"
   ]
  },
  {
   "cell_type": "markdown",
   "id": "3310bdee-b1c6-48ef-b7e5-41e398e94136",
   "metadata": {},
   "source": [
    "### Mecab 설치"
   ]
  },
  {
   "cell_type": "code",
   "execution_count": 7,
   "id": "f69d3cc6-9586-4ba7-b19a-f1cb6c88c4a5",
   "metadata": {},
   "outputs": [],
   "source": [
    "# # Colab에 Mecab 설치\n",
    "# !git clone https://github.com/SOMJANG/Mecab-ko-for-Google-Colab.git\n",
    "# %cd Mecab-ko-for-Google-Colab\n",
    "# !bash install_mecab-ko_on_colab190912.sh"
   ]
  },
  {
   "cell_type": "code",
   "execution_count": 8,
   "id": "0bef01c5-7290-4105-a83b-7773fedb6cda",
   "metadata": {},
   "outputs": [],
   "source": [
    "# !pip install wordcloud==1.8.1 graphviz==0.20.1 progressbar==2.5"
   ]
  },
  {
   "cell_type": "markdown",
   "id": "d3785f6b-742d-4be6-8cf6-9106f38c4f9c",
   "metadata": {},
   "source": [
    "## 3.4. contextualized-topic-model 설치"
   ]
  },
  {
   "cell_type": "code",
   "execution_count": 9,
   "id": "f315b07d-ca9f-463c-9364-c8eccbe0fd32",
   "metadata": {
    "tags": []
   },
   "outputs": [],
   "source": [
    "# ! pip install contextualized-topic-models==2.2.0\n",
    "# ! pip install pyldavis\n",
    "\n"
   ]
  },
  {
   "cell_type": "markdown",
   "id": "c1da6917-5df9-4ba2-ae5b-45954dda0ced",
   "metadata": {},
   "source": [
    "## 3.5. BERTopic 설치"
   ]
  },
  {
   "cell_type": "code",
   "execution_count": 10,
   "id": "87252c15-6d11-4fd7-b49e-762e5cb749e2",
   "metadata": {
    "tags": []
   },
   "outputs": [],
   "source": [
    "# !pip install bertopic[visualization]"
   ]
  },
  {
   "cell_type": "markdown",
   "id": "a409203d-64f9-4a58-8727-69bbf166d744",
   "metadata": {},
   "source": [
    "## 3.6. 기타"
   ]
  },
  {
   "cell_type": "code",
   "execution_count": 14,
   "id": "c0764caa-f712-4394-92a7-00b32c8ca740",
   "metadata": {},
   "outputs": [
    {
     "name": "stdout",
     "output_type": "stream",
     "text": [
      "Looking in indexes: https://pypi.org/simple, https://pip.repos.neuron.amazonaws.com\n",
      "Collecting pydot\n",
      "  Using cached pydot-1.4.2-py2.py3-none-any.whl (21 kB)\n",
      "Requirement already satisfied: pyldavis in /home/ec2-user/anaconda3/envs/python3/lib/python3.8/site-packages (3.3.1)\n",
      "Requirement already satisfied: pyparsing>=2.1.4 in /home/ec2-user/anaconda3/envs/python3/lib/python3.8/site-packages (from pydot) (3.0.6)\n",
      "Requirement already satisfied: joblib in /home/ec2-user/anaconda3/envs/python3/lib/python3.8/site-packages (from pyldavis) (1.1.0)\n",
      "Requirement already satisfied: scikit-learn in /home/ec2-user/anaconda3/envs/python3/lib/python3.8/site-packages (from pyldavis) (1.0.1)\n",
      "Requirement already satisfied: numexpr in /home/ec2-user/anaconda3/envs/python3/lib/python3.8/site-packages (from pyldavis) (2.7.3)\n",
      "Requirement already satisfied: funcy in /home/ec2-user/anaconda3/envs/python3/lib/python3.8/site-packages (from pyldavis) (1.17)\n",
      "Requirement already satisfied: sklearn in /home/ec2-user/anaconda3/envs/python3/lib/python3.8/site-packages (from pyldavis) (0.0)\n",
      "Requirement already satisfied: pandas>=1.2.0 in /home/ec2-user/anaconda3/envs/python3/lib/python3.8/site-packages (from pyldavis) (1.3.4)\n",
      "Requirement already satisfied: numpy>=1.20.0 in /home/ec2-user/anaconda3/envs/python3/lib/python3.8/site-packages (from pyldavis) (1.20.3)\n",
      "Requirement already satisfied: jinja2 in /home/ec2-user/anaconda3/envs/python3/lib/python3.8/site-packages (from pyldavis) (3.0.3)\n",
      "Requirement already satisfied: future in /home/ec2-user/anaconda3/envs/python3/lib/python3.8/site-packages (from pyldavis) (0.18.2)\n",
      "Requirement already satisfied: gensim in /home/ec2-user/anaconda3/envs/python3/lib/python3.8/site-packages (from pyldavis) (4.2.0)\n",
      "Requirement already satisfied: scipy in /home/ec2-user/anaconda3/envs/python3/lib/python3.8/site-packages (from pyldavis) (1.5.3)\n",
      "Requirement already satisfied: setuptools in /home/ec2-user/anaconda3/envs/python3/lib/python3.8/site-packages (from pyldavis) (59.4.0)\n",
      "Requirement already satisfied: python-dateutil>=2.7.3 in /home/ec2-user/anaconda3/envs/python3/lib/python3.8/site-packages (from pandas>=1.2.0->pyldavis) (2.8.2)\n",
      "Requirement already satisfied: pytz>=2017.3 in /home/ec2-user/anaconda3/envs/python3/lib/python3.8/site-packages (from pandas>=1.2.0->pyldavis) (2021.3)\n",
      "Requirement already satisfied: smart-open>=1.8.1 in /home/ec2-user/anaconda3/envs/python3/lib/python3.8/site-packages (from gensim->pyldavis) (6.0.0)\n",
      "Requirement already satisfied: MarkupSafe>=2.0 in /home/ec2-user/anaconda3/envs/python3/lib/python3.8/site-packages (from jinja2->pyldavis) (2.0.1)\n",
      "Requirement already satisfied: threadpoolctl>=2.0.0 in /home/ec2-user/anaconda3/envs/python3/lib/python3.8/site-packages (from scikit-learn->pyldavis) (3.0.0)\n",
      "Requirement already satisfied: six>=1.5 in /home/ec2-user/anaconda3/envs/python3/lib/python3.8/site-packages (from python-dateutil>=2.7.3->pandas>=1.2.0->pyldavis) (1.16.0)\n",
      "Installing collected packages: pydot\n",
      "Successfully installed pydot-1.4.2\n"
     ]
    }
   ],
   "source": [
    "! pip install pydot pyldavis"
   ]
  },
  {
   "cell_type": "markdown",
   "id": "1bb1624e-e814-4abd-a75f-9f998fc5043c",
   "metadata": {},
   "source": [
    "# 4. 설치된 버전 확인"
   ]
  },
  {
   "cell_type": "code",
   "execution_count": 15,
   "id": "a09bdb79-4d9a-47b6-9a00-d0ec1c97f02c",
   "metadata": {},
   "outputs": [
    {
     "name": "stdout",
     "output_type": "stream",
     "text": [
      "tensorflow-estimator               2.7.0\n",
      "tensorflow-gpu                     2.7.1\n",
      "tensorflow-io-gcs-filesystem       0.26.0\n",
      "graphviz                           0.20.1\n",
      "pydot                              1.4.2\n",
      "Python 3.8.12\n"
     ]
    }
   ],
   "source": [
    "%%sh \n",
    "pip list | grep tensorflow\n",
    "# pip list | grep sentence-transformers\n",
    "# pip list | grep torch\n",
    "# pip list | grep torchvision\n",
    "# pip list | grep transformers\n",
    "# pip list | grep konlpy\n",
    "# pip list | grep mecab\n",
    "# pip list | grep wordcloud\n",
    "pip list | grep graphviz\n",
    "pip list | grep pydot\n",
    "# pip list | grep datasets\n",
    "# pip list | grep progressbar\n",
    "# pip list | grep pyldavis\n",
    "# pip list | grep contextualized-topic-models\n",
    "# pip list | grep bertopic\n",
    "\n",
    "python --version"
   ]
  },
  {
   "cell_type": "markdown",
   "id": "ee1bdf6c-02d4-47a6-8fa1-54d1159a9610",
   "metadata": {},
   "source": [
    "# 5. 로컬 모드 셋업\n",
    "- 기본 다커 폴더 위치 변경 등을 함."
   ]
  },
  {
   "cell_type": "code",
   "execution_count": 16,
   "id": "c4c82705-7fed-45bb-9a03-6513b38f4261",
   "metadata": {},
   "outputs": [
    {
     "data": {
      "text/plain": [
       "'/home/ec2-user/SageMaker/NLP-HuggingFace-On-SageMaker/3_Semantic-Textual-Similarity/1_Setup/Mecab-ko-for-Google-Colab'"
      ]
     },
     "execution_count": 16,
     "metadata": {},
     "output_type": "execute_result"
    }
   ],
   "source": [
    "import os\n",
    "os.getcwd()"
   ]
  },
  {
   "cell_type": "code",
   "execution_count": 17,
   "id": "858c24e7-ccd1-41a5-9921-9f14397fe903",
   "metadata": {},
   "outputs": [
    {
     "name": "stdout",
     "output_type": "stream",
     "text": [
      "nvidia-docker2 already installed. We are good to go!\n",
      "SageMaker instance route table setup is ok. We are good to go.\n",
      "SageMaker instance routing for Docker is ok. We are good to go!\n"
     ]
    },
    {
     "name": "stderr",
     "output_type": "stream",
     "text": [
      "Redirecting to /bin/systemctl stop docker.service\n",
      "Warning: Stopping docker.service, but it can still be activated by:\n",
      "  docker.socket\n",
      "Redirecting to /bin/systemctl start docker.service\n"
     ]
    }
   ],
   "source": [
    "%%sh\n",
    "cd ..\n",
    "bash local_mode_setup.sh"
   ]
  },
  {
   "cell_type": "code",
   "execution_count": null,
   "id": "cbd79eac-7fbf-4a0f-aef7-85062fbac507",
   "metadata": {},
   "outputs": [],
   "source": []
  },
  {
   "cell_type": "code",
   "execution_count": null,
   "id": "06e978c9-558e-48b9-8f8a-11f57aa8662f",
   "metadata": {},
   "outputs": [],
   "source": []
  },
  {
   "cell_type": "code",
   "execution_count": null,
   "id": "afbc3b46-fff2-4eed-9933-211dc1e2135e",
   "metadata": {},
   "outputs": [],
   "source": []
  }
 ],
 "metadata": {
  "kernelspec": {
   "display_name": "conda_python3",
   "language": "python",
   "name": "conda_python3"
  },
  "language_info": {
   "codemirror_mode": {
    "name": "ipython",
    "version": 3
   },
   "file_extension": ".py",
   "mimetype": "text/x-python",
   "name": "python",
   "nbconvert_exporter": "python",
   "pygments_lexer": "ipython3",
   "version": "3.8.12"
  }
 },
 "nbformat": 4,
 "nbformat_minor": 5
}
