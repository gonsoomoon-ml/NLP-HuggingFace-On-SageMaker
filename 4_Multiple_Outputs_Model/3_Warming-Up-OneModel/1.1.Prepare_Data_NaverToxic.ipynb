{
 "cells": [
  {
   "cell_type": "markdown",
   "metadata": {
    "tags": []
   },
   "source": [
    "# Naver Toxic Data 준비\n",
    "\n",
    "- Toxic_comment_data\n",
    "    - https://github.com/songys/Toxic_comment_data\n",
    "- AwesomeKorean_Data\n",
    "    - https://github.com/songys/AwesomeKorean_Data\n",
    "- Awesome-Korean-NLP\n",
    "    - https://github.com/datanada/Awesome-Korean-NLP\n"
   ]
  },
  {
   "cell_type": "markdown",
   "metadata": {},
   "source": [
    "# 1. 환경 설정"
   ]
  },
  {
   "cell_type": "code",
   "execution_count": 1,
   "metadata": {},
   "outputs": [],
   "source": [
    "%load_ext autoreload\n",
    "%autoreload 2\n"
   ]
  },
  {
   "cell_type": "code",
   "execution_count": 19,
   "metadata": {},
   "outputs": [],
   "source": [
    "import logging\n",
    "import sys"
   ]
  },
  {
   "cell_type": "markdown",
   "metadata": {},
   "source": [
    "# 2. 데이터 다운로드\n",
    "- 훈련 : 9999, 테스트 : 10002 데이타를 가지고 있음"
   ]
  },
  {
   "cell_type": "code",
   "execution_count": 26,
   "metadata": {},
   "outputs": [],
   "source": [
    "from IPython.display import display as dp\n",
    "import os\n",
    "import pandas as pd\n",
    "import numpy as np\n",
    "pd.options.display.max_columns = 20\n",
    "pd.options.display.max_rows = 10\n",
    "pd.options.display.max_colwidth = 200\n",
    "\n"
   ]
  },
  {
   "cell_type": "code",
   "execution_count": 27,
   "metadata": {},
   "outputs": [
    {
     "name": "stdout",
     "output_type": "stream",
     "text": [
      "train_df shape:  (9999, 7)\n",
      "test_df shape:  (10002, 8)\n"
     ]
    }
   ],
   "source": [
    "data_folder = '../data/naver_toxic_review'\n",
    "\n",
    "train_file = os.path.join(data_folder, \"ko_train_label.csv\")\n",
    "test_file = os.path.join(data_folder, \"ko_test_label.csv\")\n",
    "\n",
    "\n",
    "train_df = pd.read_csv(train_file)\n",
    "train_df.drop_duplicates(inplace=True)\n",
    "test_df = pd.read_csv(test_file)\n",
    "test_df.drop_duplicates(inplace=True)\n",
    "\n",
    "print(\"train_df shape: \", train_df.shape)\n",
    "print(\"test_df shape: \", test_df.shape)"
   ]
  },
  {
   "cell_type": "markdown",
   "metadata": {},
   "source": [
    "# 3. 훈련 데이터 확인"
   ]
  },
  {
   "cell_type": "code",
   "execution_count": 28,
   "metadata": {},
   "outputs": [
    {
     "data": {
      "text/html": [
       "<div>\n",
       "<style scoped>\n",
       "    .dataframe tbody tr th:only-of-type {\n",
       "        vertical-align: middle;\n",
       "    }\n",
       "\n",
       "    .dataframe tbody tr th {\n",
       "        vertical-align: top;\n",
       "    }\n",
       "\n",
       "    .dataframe thead th {\n",
       "        text-align: right;\n",
       "    }\n",
       "</style>\n",
       "<table border=\"1\" class=\"dataframe\">\n",
       "  <thead>\n",
       "    <tr style=\"text-align: right;\">\n",
       "      <th></th>\n",
       "      <th>id</th>\n",
       "      <th>document</th>\n",
       "      <th>toxic</th>\n",
       "      <th>obscene</th>\n",
       "      <th>threat</th>\n",
       "      <th>insult</th>\n",
       "      <th>identity_hate</th>\n",
       "    </tr>\n",
       "  </thead>\n",
       "  <tbody>\n",
       "    <tr>\n",
       "      <th>0</th>\n",
       "      <td>9976970</td>\n",
       "      <td>아 더빙.. 진짜 짜증나네요 목소리</td>\n",
       "      <td>1</td>\n",
       "      <td>0</td>\n",
       "      <td>0</td>\n",
       "      <td>0</td>\n",
       "      <td>0</td>\n",
       "    </tr>\n",
       "    <tr>\n",
       "      <th>1</th>\n",
       "      <td>9045019</td>\n",
       "      <td>교도소 이야기구먼 ..솔직히 재미는 없다..평점 조정</td>\n",
       "      <td>1</td>\n",
       "      <td>0</td>\n",
       "      <td>0</td>\n",
       "      <td>0</td>\n",
       "      <td>0</td>\n",
       "    </tr>\n",
       "    <tr>\n",
       "      <th>2</th>\n",
       "      <td>5403919</td>\n",
       "      <td>막 걸음마 뗀 3세부터 초등학교 1학년생인 8살용영화.ㅋㅋㅋ...별반개도 아까움.</td>\n",
       "      <td>1</td>\n",
       "      <td>0</td>\n",
       "      <td>0</td>\n",
       "      <td>0</td>\n",
       "      <td>0</td>\n",
       "    </tr>\n",
       "    <tr>\n",
       "      <th>3</th>\n",
       "      <td>7797314</td>\n",
       "      <td>원작의 긴장감을 제대로 살려내지못했다.</td>\n",
       "      <td>1</td>\n",
       "      <td>0</td>\n",
       "      <td>0</td>\n",
       "      <td>0</td>\n",
       "      <td>0</td>\n",
       "    </tr>\n",
       "    <tr>\n",
       "      <th>4</th>\n",
       "      <td>9443947</td>\n",
       "      <td>별 반개도 아깝다 욕나온다 이응경 길용우 연기생활이몇년인지..정말 발로해도 그것보단 낫겟다 납치.감금만반복반복..이드라마는 가족도없다 연기못하는사람만모엿네</td>\n",
       "      <td>1</td>\n",
       "      <td>0</td>\n",
       "      <td>0</td>\n",
       "      <td>0</td>\n",
       "      <td>1</td>\n",
       "    </tr>\n",
       "    <tr>\n",
       "      <th>...</th>\n",
       "      <td>...</td>\n",
       "      <td>...</td>\n",
       "      <td>...</td>\n",
       "      <td>...</td>\n",
       "      <td>...</td>\n",
       "      <td>...</td>\n",
       "      <td>...</td>\n",
       "    </tr>\n",
       "    <tr>\n",
       "      <th>9994</th>\n",
       "      <td>7448293</td>\n",
       "      <td>혹시나 그래도 카메론디아즈니까 하고봤는데...먼이런영화를..이도저도아닌 .아암튼 시간 남아도보지않길.내용.전개 꽝입니다</td>\n",
       "      <td>1</td>\n",
       "      <td>0</td>\n",
       "      <td>0</td>\n",
       "      <td>0</td>\n",
       "      <td>0</td>\n",
       "    </tr>\n",
       "    <tr>\n",
       "      <th>9995</th>\n",
       "      <td>5824024</td>\n",
       "      <td>10점주는것들 한국영화는 1점주네. M창</td>\n",
       "      <td>1</td>\n",
       "      <td>0</td>\n",
       "      <td>0</td>\n",
       "      <td>0</td>\n",
       "      <td>0</td>\n",
       "    </tr>\n",
       "    <tr>\n",
       "      <th>9996</th>\n",
       "      <td>6420437</td>\n",
       "      <td>영상도 아름답고 뭘 말하는지 알겠지만 그렇기 때문에 짜증나고 답답하다</td>\n",
       "      <td>1</td>\n",
       "      <td>0</td>\n",
       "      <td>0</td>\n",
       "      <td>0</td>\n",
       "      <td>0</td>\n",
       "    </tr>\n",
       "    <tr>\n",
       "      <th>9997</th>\n",
       "      <td>6777278</td>\n",
       "      <td>영화를 왜 영화라고 하는지 모르는 애들이 나왔네.</td>\n",
       "      <td>1</td>\n",
       "      <td>0</td>\n",
       "      <td>0</td>\n",
       "      <td>0</td>\n",
       "      <td>0</td>\n",
       "    </tr>\n",
       "    <tr>\n",
       "      <th>9998</th>\n",
       "      <td>9238637</td>\n",
       "      <td>내가 이걸보고 며칠내내 화가났네 별이 아깝 어쩜이리쓰래기가... 내용잡다한거 다섞여서 몬내용인지도모르겠고 모하나 시작하면 끝까지가지도않고 내용똥이라 여주남주 러브스토리라도 볼려니깐 근친이래 아오.... 남주땜 별한개준다 배우들만 멋짐</td>\n",
       "      <td>1</td>\n",
       "      <td>0</td>\n",
       "      <td>0</td>\n",
       "      <td>0</td>\n",
       "      <td>0</td>\n",
       "    </tr>\n",
       "  </tbody>\n",
       "</table>\n",
       "<p>9999 rows × 7 columns</p>\n",
       "</div>"
      ],
      "text/plain": [
       "           id  \\\n",
       "0     9976970   \n",
       "1     9045019   \n",
       "2     5403919   \n",
       "3     7797314   \n",
       "4     9443947   \n",
       "...       ...   \n",
       "9994  7448293   \n",
       "9995  5824024   \n",
       "9996  6420437   \n",
       "9997  6777278   \n",
       "9998  9238637   \n",
       "\n",
       "                                                                                                                                document  \\\n",
       "0                                                                                                                    아 더빙.. 진짜 짜증나네요 목소리   \n",
       "1                                                                                                          교도소 이야기구먼 ..솔직히 재미는 없다..평점 조정   \n",
       "2                                                                                          막 걸음마 뗀 3세부터 초등학교 1학년생인 8살용영화.ㅋㅋㅋ...별반개도 아까움.   \n",
       "3                                                                                                                  원작의 긴장감을 제대로 살려내지못했다.   \n",
       "4                                                 별 반개도 아깝다 욕나온다 이응경 길용우 연기생활이몇년인지..정말 발로해도 그것보단 낫겟다 납치.감금만반복반복..이드라마는 가족도없다 연기못하는사람만모엿네   \n",
       "...                                                                                                                                  ...   \n",
       "9994                                                                  혹시나 그래도 카메론디아즈니까 하고봤는데...먼이런영화를..이도저도아닌 .아암튼 시간 남아도보지않길.내용.전개 꽝입니다   \n",
       "9995                                                                                                              10점주는것들 한국영화는 1점주네. M창   \n",
       "9996                                                                                              영상도 아름답고 뭘 말하는지 알겠지만 그렇기 때문에 짜증나고 답답하다   \n",
       "9997                                                                                                         영화를 왜 영화라고 하는지 모르는 애들이 나왔네.   \n",
       "9998  내가 이걸보고 며칠내내 화가났네 별이 아깝 어쩜이리쓰래기가... 내용잡다한거 다섞여서 몬내용인지도모르겠고 모하나 시작하면 끝까지가지도않고 내용똥이라 여주남주 러브스토리라도 볼려니깐 근친이래 아오.... 남주땜 별한개준다 배우들만 멋짐   \n",
       "\n",
       "      toxic  obscene  threat  insult  identity_hate  \n",
       "0         1        0       0       0              0  \n",
       "1         1        0       0       0              0  \n",
       "2         1        0       0       0              0  \n",
       "3         1        0       0       0              0  \n",
       "4         1        0       0       0              1  \n",
       "...     ...      ...     ...     ...            ...  \n",
       "9994      1        0       0       0              0  \n",
       "9995      1        0       0       0              0  \n",
       "9996      1        0       0       0              0  \n",
       "9997      1        0       0       0              0  \n",
       "9998      1        0       0       0              0  \n",
       "\n",
       "[9999 rows x 7 columns]"
      ]
     },
     "execution_count": 28,
     "metadata": {},
     "output_type": "execute_result"
    }
   ],
   "source": [
    "train_df"
   ]
  },
  {
   "cell_type": "code",
   "execution_count": 29,
   "metadata": {},
   "outputs": [
    {
     "name": "stdout",
     "output_type": "stream",
     "text": [
      "<class 'pandas.core.frame.DataFrame'>\n",
      "Int64Index: 9999 entries, 0 to 9998\n",
      "Data columns (total 7 columns):\n",
      " #   Column         Non-Null Count  Dtype \n",
      "---  ------         --------------  ----- \n",
      " 0   id             9999 non-null   int64 \n",
      " 1   document       9999 non-null   object\n",
      " 2   toxic          9999 non-null   int64 \n",
      " 3   obscene        9999 non-null   int64 \n",
      " 4   threat         9999 non-null   int64 \n",
      " 5   insult         9999 non-null   int64 \n",
      " 6   identity_hate  9999 non-null   int64 \n",
      "dtypes: int64(6), object(1)\n",
      "memory usage: 624.9+ KB\n"
     ]
    }
   ],
   "source": [
    "train_df.info()"
   ]
  },
  {
   "cell_type": "code",
   "execution_count": 30,
   "metadata": {},
   "outputs": [
    {
     "data": {
      "text/plain": [
       "toxic  obscene  threat  insult  identity_hate\n",
       "1      0        0       0       0                9507\n",
       "                                1                 153\n",
       "                        1       0                 104\n",
       "                                1                  82\n",
       "       1        0       0       0                  62\n",
       "                                                 ... \n",
       "0      0        1       1       0                   1\n",
       "1      1        1       0       0                   1\n",
       "                                1                   1\n",
       "                        1       0                   1\n",
       "                                1                   1\n",
       "Length: 18, dtype: int64"
      ]
     },
     "execution_count": 30,
     "metadata": {},
     "output_type": "execute_result"
    }
   ],
   "source": [
    "labels = ['toxic','obscene','threat','insult','identity_hate']\n",
    "train_df[labels].value_counts()"
   ]
  },
  {
   "cell_type": "code",
   "execution_count": 31,
   "metadata": {},
   "outputs": [
    {
     "data": {
      "text/plain": [
       "(9969, 95, 33, 225, 261)"
      ]
     },
     "execution_count": 31,
     "metadata": {},
     "output_type": "execute_result"
    }
   ],
   "source": [
    "(\n",
    "    train_df['toxic'].sum() , \n",
    "    train_df['obscene'].sum(), \n",
    "    train_df['threat'].sum(),\n",
    "    train_df['insult'].sum(),    \n",
    "    train_df['identity_hate'].sum(),        \n",
    ")"
   ]
  },
  {
   "cell_type": "code",
   "execution_count": 32,
   "metadata": {
    "tags": []
   },
   "outputs": [
    {
     "data": {
      "text/html": [
       "<div>\n",
       "<style scoped>\n",
       "    .dataframe tbody tr th:only-of-type {\n",
       "        vertical-align: middle;\n",
       "    }\n",
       "\n",
       "    .dataframe tbody tr th {\n",
       "        vertical-align: top;\n",
       "    }\n",
       "\n",
       "    .dataframe thead th {\n",
       "        text-align: right;\n",
       "    }\n",
       "</style>\n",
       "<table border=\"1\" class=\"dataframe\">\n",
       "  <thead>\n",
       "    <tr style=\"text-align: right;\">\n",
       "      <th></th>\n",
       "      <th>id</th>\n",
       "      <th>document</th>\n",
       "      <th>toxic</th>\n",
       "      <th>obscene</th>\n",
       "      <th>threat</th>\n",
       "      <th>insult</th>\n",
       "      <th>identity_hate</th>\n",
       "    </tr>\n",
       "  </thead>\n",
       "  <tbody>\n",
       "    <tr>\n",
       "      <th>18</th>\n",
       "      <td>9440670</td>\n",
       "      <td>리얼리티가 뛰어나긴 한데 큰 공감은 안간다. 이민기캐릭터는 정신의학상 분노조절장애 초기 증상일거다. 툭하면 사람패고 욕하고 물건 파손하고.. 조금 오바였음. 극 초반엔 신선했는데 가면 갈수록 이민기 정신상태 공감불가.</td>\n",
       "      <td>1</td>\n",
       "      <td>0</td>\n",
       "      <td>1</td>\n",
       "      <td>0</td>\n",
       "      <td>0</td>\n",
       "    </tr>\n",
       "    <tr>\n",
       "      <th>744</th>\n",
       "      <td>7353539</td>\n",
       "      <td>18, 동성애는 개뿔, 게.이.색.히.들 다 죽었으면 좋겠다.예수님 도와주세요</td>\n",
       "      <td>1</td>\n",
       "      <td>1</td>\n",
       "      <td>1</td>\n",
       "      <td>0</td>\n",
       "      <td>1</td>\n",
       "    </tr>\n",
       "    <tr>\n",
       "      <th>1177</th>\n",
       "      <td>8844045</td>\n",
       "      <td>감독을 마파도로 보내고 싶다.</td>\n",
       "      <td>1</td>\n",
       "      <td>0</td>\n",
       "      <td>1</td>\n",
       "      <td>0</td>\n",
       "      <td>1</td>\n",
       "    </tr>\n",
       "    <tr>\n",
       "      <th>2625</th>\n",
       "      <td>9344700</td>\n",
       "      <td>고양이가 생선 한조각 가져갔다고 극단적인 처분을 하고 싶지만 방송이니 돌팔매질한다고 이서진이 지껄이는 것 보고 깜짝 놀랐다 이걸 당당하게 방송한 나영석의 가치관도 똑같다고 본다 당신들은 동물 학대 범죄를 방송에 조장한 인격 장애자들이야 보이콧하겠다</td>\n",
       "      <td>1</td>\n",
       "      <td>0</td>\n",
       "      <td>1</td>\n",
       "      <td>0</td>\n",
       "      <td>1</td>\n",
       "    </tr>\n",
       "    <tr>\n",
       "      <th>2853</th>\n",
       "      <td>8381506</td>\n",
       "      <td>작가년 죄를물어 구속시켜야한다은희수 보다 더 죄가 크다 시청자를 기만한 작가는 구속해라 이런 개 허접 쓰레기</td>\n",
       "      <td>1</td>\n",
       "      <td>0</td>\n",
       "      <td>1</td>\n",
       "      <td>1</td>\n",
       "      <td>1</td>\n",
       "    </tr>\n",
       "  </tbody>\n",
       "</table>\n",
       "</div>"
      ],
      "text/plain": [
       "           id  \\\n",
       "18    9440670   \n",
       "744   7353539   \n",
       "1177  8844045   \n",
       "2625  9344700   \n",
       "2853  8381506   \n",
       "\n",
       "                                                                                                                                        document  \\\n",
       "18                     리얼리티가 뛰어나긴 한데 큰 공감은 안간다. 이민기캐릭터는 정신의학상 분노조절장애 초기 증상일거다. 툭하면 사람패고 욕하고 물건 파손하고.. 조금 오바였음. 극 초반엔 신선했는데 가면 갈수록 이민기 정신상태 공감불가.   \n",
       "744                                                                                                  18, 동성애는 개뿔, 게.이.색.히.들 다 죽었으면 좋겠다.예수님 도와주세요   \n",
       "1177                                                                                                                            감독을 마파도로 보내고 싶다.   \n",
       "2625  고양이가 생선 한조각 가져갔다고 극단적인 처분을 하고 싶지만 방송이니 돌팔매질한다고 이서진이 지껄이는 것 보고 깜짝 놀랐다 이걸 당당하게 방송한 나영석의 가치관도 똑같다고 본다 당신들은 동물 학대 범죄를 방송에 조장한 인격 장애자들이야 보이콧하겠다   \n",
       "2853                                                                                작가년 죄를물어 구속시켜야한다은희수 보다 더 죄가 크다 시청자를 기만한 작가는 구속해라 이런 개 허접 쓰레기   \n",
       "\n",
       "      toxic  obscene  threat  insult  identity_hate  \n",
       "18        1        0       1       0              0  \n",
       "744       1        1       1       0              1  \n",
       "1177      1        0       1       0              1  \n",
       "2625      1        0       1       0              1  \n",
       "2853      1        0       1       1              1  "
      ]
     },
     "execution_count": 32,
     "metadata": {},
     "output_type": "execute_result"
    }
   ],
   "source": [
    "# train_df[(train_df.toxic == 1) & (train_df.obscene ==1 ) & (train_df.threat ==1 )]\n",
    "train_df[(train_df.toxic == 1) &  (train_df.threat ==1 )].head()"
   ]
  },
  {
   "cell_type": "markdown",
   "metadata": {},
   "source": [
    "# 4. 테스트 데이터 확인"
   ]
  },
  {
   "cell_type": "code",
   "execution_count": 33,
   "metadata": {},
   "outputs": [],
   "source": [
    "def clean_test_data(df):\n",
    "    df_t = df.copy()\n",
    "    df_t.rename(columns={\n",
    "                '\"toxic\"' : 'toxic',\n",
    "                '\"obscene\"' : 'obscene',        \n",
    "                '\"threat\"' : 'threat',\n",
    "                '\"insult\"' : 'insult',        \n",
    "                '\"identity_hate\"' : 'identity_hate',                        \n",
    "                }, \n",
    "                inplace=True)\n",
    "    df_t.drop(columns=['Unnamed: 7'], inplace=True)\n",
    "    \n",
    "    df_t = df_t[~df_t.document.isnull()]\n",
    "    df_t = df_t[~df_t.toxic.isnull()]    \n",
    "    \n",
    "    df_t.toxic = df_t.toxic.astype(int)    \n",
    "    df_t.obscene = df_t.obscene.astype(int)        \n",
    "    df_t.threat = df_t.threat.astype(int)            \n",
    "    df_t.insult = df_t.insult.astype(int)                \n",
    "    df_t.identity_hate = df_t.identity_hate.astype(int)                    \n",
    "    \n",
    "    return df_t\n",
    "\n",
    "test_df= clean_test_data(test_df)\n"
   ]
  },
  {
   "cell_type": "code",
   "execution_count": 34,
   "metadata": {},
   "outputs": [
    {
     "data": {
      "text/plain": [
       "(9908, 88, 22, 193, 211)"
      ]
     },
     "execution_count": 34,
     "metadata": {},
     "output_type": "execute_result"
    }
   ],
   "source": [
    "(\n",
    "    test_df['toxic'].sum() , \n",
    "    test_df['obscene'].sum(), \n",
    "    test_df['threat'].sum(),\n",
    "    test_df['insult'].sum(),    \n",
    "    test_df['identity_hate'].sum(),        \n",
    ")"
   ]
  },
  {
   "cell_type": "code",
   "execution_count": 35,
   "metadata": {},
   "outputs": [
    {
     "data": {
      "text/html": [
       "<div>\n",
       "<style scoped>\n",
       "    .dataframe tbody tr th:only-of-type {\n",
       "        vertical-align: middle;\n",
       "    }\n",
       "\n",
       "    .dataframe tbody tr th {\n",
       "        vertical-align: top;\n",
       "    }\n",
       "\n",
       "    .dataframe thead th {\n",
       "        text-align: right;\n",
       "    }\n",
       "</style>\n",
       "<table border=\"1\" class=\"dataframe\">\n",
       "  <thead>\n",
       "    <tr style=\"text-align: right;\">\n",
       "      <th></th>\n",
       "      <th>id</th>\n",
       "      <th>document</th>\n",
       "      <th>toxic</th>\n",
       "      <th>obscene</th>\n",
       "      <th>threat</th>\n",
       "      <th>insult</th>\n",
       "      <th>identity_hate</th>\n",
       "    </tr>\n",
       "  </thead>\n",
       "  <tbody>\n",
       "    <tr>\n",
       "      <th>9</th>\n",
       "      <td>6829990.0</td>\n",
       "      <td>나름 교훈돋기는 하지만 어쩔수없이 저평점 받을수밖에 없는 저질섹스코미디</td>\n",
       "      <td>1</td>\n",
       "      <td>1</td>\n",
       "      <td>0</td>\n",
       "      <td>0</td>\n",
       "      <td>0</td>\n",
       "    </tr>\n",
       "    <tr>\n",
       "      <th>31</th>\n",
       "      <td>5494222.0</td>\n",
       "      <td>\"\"\"결혼은 현실이에요 징징징\"\" 성현아 벗겨놓고 이 정도 얘기 밖에 못 하냐.\"</td>\n",
       "      <td>1</td>\n",
       "      <td>1</td>\n",
       "      <td>0</td>\n",
       "      <td>1</td>\n",
       "      <td>0</td>\n",
       "    </tr>\n",
       "    <tr>\n",
       "      <th>71</th>\n",
       "      <td>4409316.0</td>\n",
       "      <td>클럽과 사건의 연결이 전혀안된다. 섹스클럽얘기는 흥미거리일뿐 스토리연관이 없다.</td>\n",
       "      <td>1</td>\n",
       "      <td>1</td>\n",
       "      <td>0</td>\n",
       "      <td>0</td>\n",
       "      <td>0</td>\n",
       "    </tr>\n",
       "    <tr>\n",
       "      <th>76</th>\n",
       "      <td>36164.0</td>\n",
       "      <td>노인들의 섹스 외엔 보여줄 게 없는 영화. 영활까?</td>\n",
       "      <td>1</td>\n",
       "      <td>1</td>\n",
       "      <td>0</td>\n",
       "      <td>1</td>\n",
       "      <td>0</td>\n",
       "    </tr>\n",
       "    <tr>\n",
       "      <th>92</th>\n",
       "      <td>9652869.0</td>\n",
       "      <td>요요비치 나옴...발코니에서 아래를 내려다 보는 일행중 한명으로 등장함 상영 1시간 10분쯤 10초 즈음해서..영화는 형편없음. 야하지도 않고,.</td>\n",
       "      <td>1</td>\n",
       "      <td>1</td>\n",
       "      <td>0</td>\n",
       "      <td>1</td>\n",
       "      <td>0</td>\n",
       "    </tr>\n",
       "    <tr>\n",
       "      <th>256</th>\n",
       "      <td>9744001.0</td>\n",
       "      <td>이건 영화가 아니라 포르노 수준인데...</td>\n",
       "      <td>1</td>\n",
       "      <td>1</td>\n",
       "      <td>0</td>\n",
       "      <td>0</td>\n",
       "      <td>0</td>\n",
       "    </tr>\n",
       "    <tr>\n",
       "      <th>259</th>\n",
       "      <td>8657276.0</td>\n",
       "      <td>\"아주 큰 교훈을 얻었다 \"\"야한장면을 보고 싶으면 야동을 보라\"\"\"</td>\n",
       "      <td>1</td>\n",
       "      <td>1</td>\n",
       "      <td>0</td>\n",
       "      <td>0</td>\n",
       "      <td>0</td>\n",
       "    </tr>\n",
       "    <tr>\n",
       "      <th>348</th>\n",
       "      <td>8845712.0</td>\n",
       "      <td>hell yeah mother fucking jesus crist</td>\n",
       "      <td>1</td>\n",
       "      <td>1</td>\n",
       "      <td>0</td>\n",
       "      <td>1</td>\n",
       "      <td>0</td>\n",
       "    </tr>\n",
       "    <tr>\n",
       "      <th>431</th>\n",
       "      <td>1961922.0</td>\n",
       "      <td>장정일님의 원작..... 에로티시즘만 가득;;;</td>\n",
       "      <td>1</td>\n",
       "      <td>1</td>\n",
       "      <td>0</td>\n",
       "      <td>0</td>\n",
       "      <td>0</td>\n",
       "    </tr>\n",
       "    <tr>\n",
       "      <th>482</th>\n",
       "      <td>4664543.0</td>\n",
       "      <td>에로용으로도 못 쓰는 영화</td>\n",
       "      <td>1</td>\n",
       "      <td>1</td>\n",
       "      <td>0</td>\n",
       "      <td>0</td>\n",
       "      <td>0</td>\n",
       "    </tr>\n",
       "  </tbody>\n",
       "</table>\n",
       "</div>"
      ],
      "text/plain": [
       "            id  \\\n",
       "9    6829990.0   \n",
       "31   5494222.0   \n",
       "71   4409316.0   \n",
       "76     36164.0   \n",
       "92   9652869.0   \n",
       "256  9744001.0   \n",
       "259  8657276.0   \n",
       "348  8845712.0   \n",
       "431  1961922.0   \n",
       "482  4664543.0   \n",
       "\n",
       "                                                                              document  \\\n",
       "9                                              나름 교훈돋기는 하지만 어쩔수없이 저평점 받을수밖에 없는 저질섹스코미디   \n",
       "31                                       \"\"\"결혼은 현실이에요 징징징\"\" 성현아 벗겨놓고 이 정도 얘기 밖에 못 하냐.\"   \n",
       "71                                        클럽과 사건의 연결이 전혀안된다. 섹스클럽얘기는 흥미거리일뿐 스토리연관이 없다.   \n",
       "76                                                        노인들의 섹스 외엔 보여줄 게 없는 영화. 영활까?   \n",
       "92   요요비치 나옴...발코니에서 아래를 내려다 보는 일행중 한명으로 등장함 상영 1시간 10분쯤 10초 즈음해서..영화는 형편없음. 야하지도 않고,.   \n",
       "256                                                             이건 영화가 아니라 포르노 수준인데...   \n",
       "259                                             \"아주 큰 교훈을 얻었다 \"\"야한장면을 보고 싶으면 야동을 보라\"\"\"   \n",
       "348                                               hell yeah mother fucking jesus crist   \n",
       "431                                                         장정일님의 원작..... 에로티시즘만 가득;;;   \n",
       "482                                                                     에로용으로도 못 쓰는 영화   \n",
       "\n",
       "     toxic  obscene  threat  insult  identity_hate  \n",
       "9        1        1       0       0              0  \n",
       "31       1        1       0       1              0  \n",
       "71       1        1       0       0              0  \n",
       "76       1        1       0       1              0  \n",
       "92       1        1       0       1              0  \n",
       "256      1        1       0       0              0  \n",
       "259      1        1       0       0              0  \n",
       "348      1        1       0       1              0  \n",
       "431      1        1       0       0              0  \n",
       "482      1        1       0       0              0  "
      ]
     },
     "execution_count": 35,
     "metadata": {},
     "output_type": "execute_result"
    }
   ],
   "source": [
    "test_df[(test_df.toxic == 1) &  (test_df.obscene ==1 )].head(10)"
   ]
  },
  {
   "cell_type": "markdown",
   "metadata": {},
   "source": [
    "# 5. 데이터 정리 및 저장"
   ]
  },
  {
   "cell_type": "markdown",
   "metadata": {},
   "source": [
    "## 5.1. 훈련 데이터 및 테스트 데이터 머지 "
   ]
  },
  {
   "cell_type": "code",
   "execution_count": 36,
   "metadata": {},
   "outputs": [],
   "source": [
    "def merge_dataset(train_df, test_df):\n",
    "    data_df = pd.concat([train_df, test_df])\n",
    "    data_df.rename(columns={'document' : 'comment_text'}, inplace=True)\n",
    "    data_df.reset_index(inplace = True)\n",
    "    return data_df\n",
    "\n",
    "data_df = merge_dataset(train_df, test_df)"
   ]
  },
  {
   "cell_type": "code",
   "execution_count": 37,
   "metadata": {},
   "outputs": [
    {
     "data": {
      "text/html": [
       "<div>\n",
       "<style scoped>\n",
       "    .dataframe tbody tr th:only-of-type {\n",
       "        vertical-align: middle;\n",
       "    }\n",
       "\n",
       "    .dataframe tbody tr th {\n",
       "        vertical-align: top;\n",
       "    }\n",
       "\n",
       "    .dataframe thead th {\n",
       "        text-align: right;\n",
       "    }\n",
       "</style>\n",
       "<table border=\"1\" class=\"dataframe\">\n",
       "  <thead>\n",
       "    <tr style=\"text-align: right;\">\n",
       "      <th></th>\n",
       "      <th>index</th>\n",
       "      <th>id</th>\n",
       "      <th>comment_text</th>\n",
       "      <th>toxic</th>\n",
       "      <th>obscene</th>\n",
       "      <th>threat</th>\n",
       "      <th>insult</th>\n",
       "      <th>identity_hate</th>\n",
       "    </tr>\n",
       "  </thead>\n",
       "  <tbody>\n",
       "    <tr>\n",
       "      <th>0</th>\n",
       "      <td>0</td>\n",
       "      <td>9976970.0</td>\n",
       "      <td>아 더빙.. 진짜 짜증나네요 목소리</td>\n",
       "      <td>1</td>\n",
       "      <td>0</td>\n",
       "      <td>0</td>\n",
       "      <td>0</td>\n",
       "      <td>0</td>\n",
       "    </tr>\n",
       "    <tr>\n",
       "      <th>1</th>\n",
       "      <td>1</td>\n",
       "      <td>9045019.0</td>\n",
       "      <td>교도소 이야기구먼 ..솔직히 재미는 없다..평점 조정</td>\n",
       "      <td>1</td>\n",
       "      <td>0</td>\n",
       "      <td>0</td>\n",
       "      <td>0</td>\n",
       "      <td>0</td>\n",
       "    </tr>\n",
       "    <tr>\n",
       "      <th>2</th>\n",
       "      <td>2</td>\n",
       "      <td>5403919.0</td>\n",
       "      <td>막 걸음마 뗀 3세부터 초등학교 1학년생인 8살용영화.ㅋㅋㅋ...별반개도 아까움.</td>\n",
       "      <td>1</td>\n",
       "      <td>0</td>\n",
       "      <td>0</td>\n",
       "      <td>0</td>\n",
       "      <td>0</td>\n",
       "    </tr>\n",
       "    <tr>\n",
       "      <th>3</th>\n",
       "      <td>3</td>\n",
       "      <td>7797314.0</td>\n",
       "      <td>원작의 긴장감을 제대로 살려내지못했다.</td>\n",
       "      <td>1</td>\n",
       "      <td>0</td>\n",
       "      <td>0</td>\n",
       "      <td>0</td>\n",
       "      <td>0</td>\n",
       "    </tr>\n",
       "    <tr>\n",
       "      <th>4</th>\n",
       "      <td>4</td>\n",
       "      <td>9443947.0</td>\n",
       "      <td>별 반개도 아깝다 욕나온다 이응경 길용우 연기생활이몇년인지..정말 발로해도 그것보단 낫겟다 납치.감금만반복반복..이드라마는 가족도없다 연기못하는사람만모엿네</td>\n",
       "      <td>1</td>\n",
       "      <td>0</td>\n",
       "      <td>0</td>\n",
       "      <td>0</td>\n",
       "      <td>1</td>\n",
       "    </tr>\n",
       "    <tr>\n",
       "      <th>...</th>\n",
       "      <td>...</td>\n",
       "      <td>...</td>\n",
       "      <td>...</td>\n",
       "      <td>...</td>\n",
       "      <td>...</td>\n",
       "      <td>...</td>\n",
       "      <td>...</td>\n",
       "      <td>...</td>\n",
       "    </tr>\n",
       "    <tr>\n",
       "      <th>19993</th>\n",
       "      <td>9994</td>\n",
       "      <td>6766192.0</td>\n",
       "      <td>올해 최악의 영화</td>\n",
       "      <td>1</td>\n",
       "      <td>0</td>\n",
       "      <td>0</td>\n",
       "      <td>0</td>\n",
       "      <td>0</td>\n",
       "    </tr>\n",
       "    <tr>\n",
       "      <th>19994</th>\n",
       "      <td>9995</td>\n",
       "      <td>3006940.0</td>\n",
       "      <td>정말재미없게본영화는시간이지난다음 내용,엔딩이잘기억안나는데방탄승도생각안난다..</td>\n",
       "      <td>1</td>\n",
       "      <td>0</td>\n",
       "      <td>0</td>\n",
       "      <td>0</td>\n",
       "      <td>0</td>\n",
       "    </tr>\n",
       "    <tr>\n",
       "      <th>19995</th>\n",
       "      <td>9996</td>\n",
       "      <td>3342697.0</td>\n",
       "      <td>내 취향 아닌갑다</td>\n",
       "      <td>1</td>\n",
       "      <td>0</td>\n",
       "      <td>0</td>\n",
       "      <td>0</td>\n",
       "      <td>0</td>\n",
       "    </tr>\n",
       "    <tr>\n",
       "      <th>19996</th>\n",
       "      <td>9997</td>\n",
       "      <td>10120473.0</td>\n",
       "      <td>\"여주 \"\"이들과 함께아니면 안가\"\",\"\"날속이다니 퉤\"\",\"\"내친구를 쐈어\"\" 브루스\"\"헬기돌려\"</td>\n",
       "      <td>1</td>\n",
       "      <td>0</td>\n",
       "      <td>0</td>\n",
       "      <td>0</td>\n",
       "      <td>0</td>\n",
       "    </tr>\n",
       "    <tr>\n",
       "      <th>19997</th>\n",
       "      <td>9998</td>\n",
       "      <td>5407732.0</td>\n",
       "      <td>빌어먹을파일럿의개인감정으로인류가저렇게되다니스토리가매우실망적이다</td>\n",
       "      <td>1</td>\n",
       "      <td>0</td>\n",
       "      <td>0</td>\n",
       "      <td>0</td>\n",
       "      <td>0</td>\n",
       "    </tr>\n",
       "  </tbody>\n",
       "</table>\n",
       "<p>19998 rows × 8 columns</p>\n",
       "</div>"
      ],
      "text/plain": [
       "       index          id  \\\n",
       "0          0   9976970.0   \n",
       "1          1   9045019.0   \n",
       "2          2   5403919.0   \n",
       "3          3   7797314.0   \n",
       "4          4   9443947.0   \n",
       "...      ...         ...   \n",
       "19993   9994   6766192.0   \n",
       "19994   9995   3006940.0   \n",
       "19995   9996   3342697.0   \n",
       "19996   9997  10120473.0   \n",
       "19997   9998   5407732.0   \n",
       "\n",
       "                                                                                 comment_text  \\\n",
       "0                                                                         아 더빙.. 진짜 짜증나네요 목소리   \n",
       "1                                                               교도소 이야기구먼 ..솔직히 재미는 없다..평점 조정   \n",
       "2                                               막 걸음마 뗀 3세부터 초등학교 1학년생인 8살용영화.ㅋㅋㅋ...별반개도 아까움.   \n",
       "3                                                                       원작의 긴장감을 제대로 살려내지못했다.   \n",
       "4      별 반개도 아깝다 욕나온다 이응경 길용우 연기생활이몇년인지..정말 발로해도 그것보단 낫겟다 납치.감금만반복반복..이드라마는 가족도없다 연기못하는사람만모엿네   \n",
       "...                                                                                       ...   \n",
       "19993                                                                               올해 최악의 영화   \n",
       "19994                                              정말재미없게본영화는시간이지난다음 내용,엔딩이잘기억안나는데방탄승도생각안난다..   \n",
       "19995                                                                               내 취향 아닌갑다   \n",
       "19996                                 \"여주 \"\"이들과 함께아니면 안가\"\",\"\"날속이다니 퉤\"\",\"\"내친구를 쐈어\"\" 브루스\"\"헬기돌려\"   \n",
       "19997                                                      빌어먹을파일럿의개인감정으로인류가저렇게되다니스토리가매우실망적이다   \n",
       "\n",
       "       toxic  obscene  threat  insult  identity_hate  \n",
       "0          1        0       0       0              0  \n",
       "1          1        0       0       0              0  \n",
       "2          1        0       0       0              0  \n",
       "3          1        0       0       0              0  \n",
       "4          1        0       0       0              1  \n",
       "...      ...      ...     ...     ...            ...  \n",
       "19993      1        0       0       0              0  \n",
       "19994      1        0       0       0              0  \n",
       "19995      1        0       0       0              0  \n",
       "19996      1        0       0       0              0  \n",
       "19997      1        0       0       0              0  \n",
       "\n",
       "[19998 rows x 8 columns]"
      ]
     },
     "execution_count": 37,
     "metadata": {},
     "output_type": "execute_result"
    }
   ],
   "source": [
    "data_df"
   ]
  },
  {
   "cell_type": "markdown",
   "metadata": {},
   "source": [
    "## 5.3. 데이터 세트를 훈련, 테스트로 분리"
   ]
  },
  {
   "cell_type": "code",
   "execution_count": 39,
   "metadata": {},
   "outputs": [
    {
     "name": "stdout",
     "output_type": "stream",
     "text": [
      "19998\n",
      "17999 1999 19998\n",
      "train sahpe:  (17999, 8)\n",
      "test sahpe:  (1999, 8)\n"
     ]
    }
   ],
   "source": [
    "def split_train_test(data_df, ratio):\n",
    "    total_len = len(data_df)\n",
    "    train_size = total_len - int(total_len * ratio)\n",
    "    test_size = int(total_len * ratio)    \n",
    "    \n",
    "    print(total_len)\n",
    "    print(train_size, test_size, train_size + test_size)\n",
    "    \n",
    "    # df = data_df.sample(frac=1.0)\n",
    "    \n",
    "    train_df = data_df[0:train_size]\n",
    "    test_df = data_df[train_size:]\n",
    "    \n",
    "    return train_df , test_df\n",
    "    \n",
    "tr_df, te_df = split_train_test(data_df, ratio=0.1)    \n",
    "print(\"train sahpe: \", tr_df.shape)\n",
    "print(\"test sahpe: \", te_df.shape)"
   ]
  },
  {
   "cell_type": "code",
   "execution_count": 42,
   "metadata": {},
   "outputs": [
    {
     "data": {
      "text/plain": [
       "(17889, 167, 52, 391, 430)"
      ]
     },
     "execution_count": 42,
     "metadata": {},
     "output_type": "execute_result"
    }
   ],
   "source": [
    "(\n",
    "    tr_df['toxic'].sum() , \n",
    "    tr_df['obscene'].sum(), \n",
    "    tr_df['threat'].sum(),\n",
    "    tr_df['insult'].sum(),    \n",
    "    tr_df['identity_hate'].sum(),        \n",
    ")"
   ]
  },
  {
   "cell_type": "code",
   "execution_count": 43,
   "metadata": {},
   "outputs": [
    {
     "data": {
      "text/plain": [
       "(1988, 16, 3, 27, 42)"
      ]
     },
     "execution_count": 43,
     "metadata": {},
     "output_type": "execute_result"
    }
   ],
   "source": [
    "(\n",
    "    te_df['toxic'].sum() , \n",
    "    te_df['obscene'].sum(), \n",
    "    te_df['threat'].sum(),\n",
    "    te_df['insult'].sum(),    \n",
    "    te_df['identity_hate'].sum(),        \n",
    ")"
   ]
  },
  {
   "cell_type": "markdown",
   "metadata": {},
   "source": [
    "## 5.4. 데이터 저장"
   ]
  },
  {
   "cell_type": "code",
   "execution_count": 40,
   "metadata": {},
   "outputs": [
    {
     "name": "stdout",
     "output_type": "stream",
     "text": [
      "data frame is saved at data/naver_toxic_review/train.csv\n",
      "data frame is saved at data/naver_toxic_review/test.csv\n"
     ]
    },
    {
     "data": {
      "text/plain": [
       "'data/naver_toxic_review/test.csv'"
      ]
     },
     "execution_count": 40,
     "metadata": {},
     "output_type": "execute_result"
    }
   ],
   "source": [
    "def save_dataframe(df, file_path):\n",
    "    print(f\"data frame is saved at {file_path}\")\n",
    "    df.to_csv(file_path, index=False)\n",
    "    \n",
    "    return file_path\n",
    "    \n",
    "data_folder = 'data'    \n",
    "dataset = \"naver_toxic_review\"\n",
    "\n",
    "os.makedirs(f\"{data_folder}/{dataset}\", exist_ok=True)\n",
    "\n",
    "naver_toxic_train_file_path = f\"{data_folder}/{dataset}/train.csv\"\n",
    "naver_toxic_test_file_path = f\"{data_folder}/{dataset}/test.csv\"\n",
    "\n",
    "save_dataframe(tr_df, naver_toxic_train_file_path)\n",
    "save_dataframe(te_df, naver_toxic_test_file_path)\n"
   ]
  },
  {
   "cell_type": "code",
   "execution_count": 41,
   "metadata": {},
   "outputs": [
    {
     "name": "stdout",
     "output_type": "stream",
     "text": [
      "Stored 'naver_toxic_train_file_path' (str)\n",
      "Stored 'naver_toxic_test_file_path' (str)\n"
     ]
    }
   ],
   "source": [
    "%store naver_toxic_train_file_path\n",
    "%store naver_toxic_test_file_path"
   ]
  },
  {
   "cell_type": "code",
   "execution_count": null,
   "metadata": {},
   "outputs": [],
   "source": []
  },
  {
   "cell_type": "code",
   "execution_count": null,
   "metadata": {},
   "outputs": [],
   "source": []
  },
  {
   "cell_type": "code",
   "execution_count": null,
   "metadata": {},
   "outputs": [],
   "source": []
  }
 ],
 "metadata": {
  "kernelspec": {
   "display_name": "conda_python3",
   "language": "python",
   "name": "conda_python3"
  },
  "language_info": {
   "codemirror_mode": {
    "name": "ipython",
    "version": 3
   },
   "file_extension": ".py",
   "mimetype": "text/x-python",
   "name": "python",
   "nbconvert_exporter": "python",
   "pygments_lexer": "ipython3",
   "version": "3.8.12"
  },
  "notice": "Copyright 2018 Amazon.com, Inc. or its affiliates. All Rights Reserved.  Licensed under the Apache License, Version 2.0 (the \"License\"). You may not use this file except in compliance with the License. A copy of the License is located at http://aws.amazon.com/apache2.0/ or in the \"license\" file accompanying this file. This file is distributed on an \"AS IS\" BASIS, WITHOUT WARRANTIES OR CONDITIONS OF ANY KIND, either express or implied. See the License for the specific language governing permissions and limitations under the License."
 },
 "nbformat": 4,
 "nbformat_minor": 4
}
