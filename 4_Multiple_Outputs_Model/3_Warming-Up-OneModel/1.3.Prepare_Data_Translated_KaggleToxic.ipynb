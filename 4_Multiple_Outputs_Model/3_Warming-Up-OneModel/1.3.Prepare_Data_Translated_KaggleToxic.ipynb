{
 "cells": [
  {
   "cell_type": "markdown",
   "metadata": {
    "jp-MarkdownHeadingCollapsed": true,
    "tags": []
   },
   "source": [
    "# Translated (Korean) Kaggle Toxic Data 준비\n",
    "\n",
    "- Toxic Comment Classification Challenge\n",
    "    - https://www.kaggle.com/competitions/jigsaw-toxic-comment-classification-"
   ]
  },
  {
   "cell_type": "markdown",
   "metadata": {},
   "source": [
    "# 1. 환경 설정"
   ]
  },
  {
   "cell_type": "code",
   "execution_count": 1,
   "metadata": {},
   "outputs": [],
   "source": [
    "%load_ext autoreload\n",
    "%autoreload 2\n"
   ]
  },
  {
   "cell_type": "code",
   "execution_count": 2,
   "metadata": {},
   "outputs": [],
   "source": [
    "import logging\n",
    "import sys"
   ]
  },
  {
   "cell_type": "markdown",
   "metadata": {},
   "source": [
    "# 2. 데이터 다운로드"
   ]
  },
  {
   "cell_type": "code",
   "execution_count": 3,
   "metadata": {},
   "outputs": [],
   "source": [
    "from IPython.display import display as dp\n",
    "import os\n",
    "import pandas as pd\n",
    "import numpy as np\n",
    "pd.options.display.max_columns = 20\n",
    "pd.options.display.max_rows = 10\n",
    "pd.options.display.max_colwidth = 200\n",
    "\n"
   ]
  },
  {
   "cell_type": "code",
   "execution_count": 4,
   "metadata": {},
   "outputs": [
    {
     "name": "stdout",
     "output_type": "stream",
     "text": [
      "train_df shape:  (159571, 9)\n"
     ]
    }
   ],
   "source": [
    "data_folder = '../data/translated_kaggle_toxic_review'\n",
    "\n",
    "train_file = os.path.join(data_folder, \"train.csv\")\n",
    "\n",
    "\n",
    "\n",
    "train_df = pd.read_csv(train_file)\n",
    "train_df.drop_duplicates(inplace=True)\n",
    "\n",
    "print(\"train_df shape: \", train_df.shape)\n"
   ]
  },
  {
   "cell_type": "markdown",
   "metadata": {},
   "source": [
    "# 3. 훈련 데이터 확인"
   ]
  },
  {
   "cell_type": "code",
   "execution_count": 5,
   "metadata": {},
   "outputs": [
    {
     "data": {
      "text/html": [
       "<div>\n",
       "<style scoped>\n",
       "    .dataframe tbody tr th:only-of-type {\n",
       "        vertical-align: middle;\n",
       "    }\n",
       "\n",
       "    .dataframe tbody tr th {\n",
       "        vertical-align: top;\n",
       "    }\n",
       "\n",
       "    .dataframe thead th {\n",
       "        text-align: right;\n",
       "    }\n",
       "</style>\n",
       "<table border=\"1\" class=\"dataframe\">\n",
       "  <thead>\n",
       "    <tr style=\"text-align: right;\">\n",
       "      <th></th>\n",
       "      <th>id</th>\n",
       "      <th>comment_text</th>\n",
       "      <th>toxic</th>\n",
       "      <th>severe_toxic</th>\n",
       "      <th>obscene</th>\n",
       "      <th>threat</th>\n",
       "      <th>insult</th>\n",
       "      <th>identity_hate</th>\n",
       "      <th>comment_text_kr</th>\n",
       "    </tr>\n",
       "  </thead>\n",
       "  <tbody>\n",
       "    <tr>\n",
       "      <th>0</th>\n",
       "      <td>0000997932d777bf</td>\n",
       "      <td>Explanation\\nWhy the edits made under my username Hardcore Metallica Fan were reverted? They weren't vandalisms, just closure on some GAs after I voted at New York Dolls FAC. And please don't remo...</td>\n",
       "      <td>0</td>\n",
       "      <td>0</td>\n",
       "      <td>0</td>\n",
       "      <td>0</td>\n",
       "      <td>0</td>\n",
       "      <td>0</td>\n",
       "      <td>설명\\n내 사용자 이름 하드코어 메탈리카 팬으로 편집한 내용이 되돌아간 이유는 무엇인가요?그들은 기물 파손이 아니라 뉴욕 인형 FAC에서 투표한 후 일부 GA를 폐쇄했습니다.그리고 제가 지금 은퇴했으니 토론 문서에서 템플릿을 제거하지 마십시오.89.205.38.27</td>\n",
       "    </tr>\n",
       "    <tr>\n",
       "      <th>1</th>\n",
       "      <td>000103f0d9cfb60f</td>\n",
       "      <td>D'aww! He matches this background colour I'm seemingly stuck with. Thanks.  (talk) 21:51, January 11, 2016 (UTC)</td>\n",
       "      <td>0</td>\n",
       "      <td>0</td>\n",
       "      <td>0</td>\n",
       "      <td>0</td>\n",
       "      <td>0</td>\n",
       "      <td>0</td>\n",
       "      <td>다우!그는 제가 붙어있는 것처럼 보이는 이 배경색과 일치합니다.감사합니다.(토크) 2016년 1월 11일 21:51 (UTC)</td>\n",
       "    </tr>\n",
       "    <tr>\n",
       "      <th>2</th>\n",
       "      <td>000113f07ec002fd</td>\n",
       "      <td>Hey man, I'm really not trying to edit war. It's just that this guy is constantly removing relevant information and talking to me through edits instead of my talk page. He seems to care more about...</td>\n",
       "      <td>0</td>\n",
       "      <td>0</td>\n",
       "      <td>0</td>\n",
       "      <td>0</td>\n",
       "      <td>0</td>\n",
       "      <td>0</td>\n",
       "      <td>이봐, 난 정말 전쟁을 편집하려고 하는 게 아니야.이 사람은 제 토론 문서 대신 지속적으로 관련 정보를 제거하고 편집을 통해 저와 대화하고 있다는 것입니다.그는 실제 정보보다 서식에 더 신경을 쓰는 것 같습니다.</td>\n",
       "    </tr>\n",
       "    <tr>\n",
       "      <th>3</th>\n",
       "      <td>0001b41b1c6bb37e</td>\n",
       "      <td>\"\\nMore\\nI can't make any real suggestions on improvement - I wondered if the section statistics should be later on, or a subsection of \"\"types of accidents\"\"  -I think the references may need tid...</td>\n",
       "      <td>0</td>\n",
       "      <td>0</td>\n",
       "      <td>0</td>\n",
       "      <td>0</td>\n",
       "      <td>0</td>\n",
       "      <td>0</td>\n",
       "      <td>“\\n더 보기\\n개선에 대한 실질적인 제안을 할 수 없습니다. 섹션 통계가 나중에 있어야하는지 아니면 “” 사고 유형\"의 하위 섹션인지 궁금했습니다. 참고 문헌이 모두 정확히 동일한 형식 (예: 날짜 형식 등) 이되도록 정리해야 할 수도 있다고 생각합니다.참고 문헌에서 스타일 서식을 지정하는 데 대한 기본 설정이 있거나 직접 만들고 싶다면 알려주세요...</td>\n",
       "    </tr>\n",
       "    <tr>\n",
       "      <th>4</th>\n",
       "      <td>0001d958c54c6e35</td>\n",
       "      <td>You, sir, are my hero. Any chance you remember what page that's on?</td>\n",
       "      <td>0</td>\n",
       "      <td>0</td>\n",
       "      <td>0</td>\n",
       "      <td>0</td>\n",
       "      <td>0</td>\n",
       "      <td>0</td>\n",
       "      <td>선생님, 당신은 제 영웅이에요.어떤 페이지에 있는지 기억할 수 있을까요?</td>\n",
       "    </tr>\n",
       "    <tr>\n",
       "      <th>...</th>\n",
       "      <td>...</td>\n",
       "      <td>...</td>\n",
       "      <td>...</td>\n",
       "      <td>...</td>\n",
       "      <td>...</td>\n",
       "      <td>...</td>\n",
       "      <td>...</td>\n",
       "      <td>...</td>\n",
       "      <td>...</td>\n",
       "    </tr>\n",
       "    <tr>\n",
       "      <th>159566</th>\n",
       "      <td>ffe987279560d7ff</td>\n",
       "      <td>\":::::And for the second time of asking, when your view completely contradicts the coverage in reliable sources, why should anyone care what you feel? You can't even give a consistent argument - i...</td>\n",
       "      <td>0</td>\n",
       "      <td>0</td>\n",
       "      <td>0</td>\n",
       "      <td>0</td>\n",
       "      <td>0</td>\n",
       "      <td>0</td>\n",
       "      <td>“:: ::그리고 두 번째로, 당신의 견해가 신뢰할 수있는 출처의 보도와 완전히 모순 될 때, 왜 누군가가 당신이 느끼는 것에 관심을 가져야합니까?일관된 주장조차 할 수는 없습니다. 오프닝은 중요한 측면이나 “” 가장 중요한 측면만을 언급해야합니까? \\n\\n“</td>\n",
       "    </tr>\n",
       "    <tr>\n",
       "      <th>159567</th>\n",
       "      <td>ffea4adeee384e90</td>\n",
       "      <td>You should be ashamed of yourself \\n\\nThat is a horrible thing you put on my talk page.  128.61.19.93</td>\n",
       "      <td>0</td>\n",
       "      <td>0</td>\n",
       "      <td>0</td>\n",
       "      <td>0</td>\n",
       "      <td>0</td>\n",
       "      <td>0</td>\n",
       "      <td>너 자신을 부끄러워해야 해 \\n\\n제 토론 문서에 올린 끔찍한 일입니다. 128.61.19.93</td>\n",
       "    </tr>\n",
       "    <tr>\n",
       "      <th>159568</th>\n",
       "      <td>ffee36eab5c267c9</td>\n",
       "      <td>Spitzer \\n\\nUmm, theres no actual article for prostitution ring.  - Crunch Captain.</td>\n",
       "      <td>0</td>\n",
       "      <td>0</td>\n",
       "      <td>0</td>\n",
       "      <td>0</td>\n",
       "      <td>0</td>\n",
       "      <td>0</td>\n",
       "      <td>스피처 \\n\\n음, 매춘 반지에 대한 실제 기사는 없어요.</td>\n",
       "    </tr>\n",
       "    <tr>\n",
       "      <th>159569</th>\n",
       "      <td>fff125370e4aaaf3</td>\n",
       "      <td>And it looks like it was actually you who put on the speedy to have the first version deleted now that I look at it.</td>\n",
       "      <td>0</td>\n",
       "      <td>0</td>\n",
       "      <td>0</td>\n",
       "      <td>0</td>\n",
       "      <td>0</td>\n",
       "      <td>0</td>\n",
       "      <td>그리고 제가 살펴본 지금 첫 번째 버전을 삭제하기 위해 스피디를 입은 것은 실제로 당신이었던 것 같습니다.</td>\n",
       "    </tr>\n",
       "    <tr>\n",
       "      <th>159570</th>\n",
       "      <td>fff46fc426af1f9a</td>\n",
       "      <td>\"\\nAnd ... I really don't think you understand.  I came here and my idea was bad right away.  What kind of community goes \"\"you have bad ideas\"\" go away, instead of helping rewrite them.   \"</td>\n",
       "      <td>0</td>\n",
       "      <td>0</td>\n",
       "      <td>0</td>\n",
       "      <td>0</td>\n",
       "      <td>0</td>\n",
       "      <td>0</td>\n",
       "      <td>“\\n그리고...정말 이해가 안 될 것 같아요.여기 왔는데 바로 제 생각이 나빴어요.어떤 커뮤니티가 “” 나쁜 아이디어가 있습니다 “” 는 다시 작성하는 데 도움을주는 대신 사라집니다.“</td>\n",
       "    </tr>\n",
       "  </tbody>\n",
       "</table>\n",
       "<p>159571 rows × 9 columns</p>\n",
       "</div>"
      ],
      "text/plain": [
       "                      id  \\\n",
       "0       0000997932d777bf   \n",
       "1       000103f0d9cfb60f   \n",
       "2       000113f07ec002fd   \n",
       "3       0001b41b1c6bb37e   \n",
       "4       0001d958c54c6e35   \n",
       "...                  ...   \n",
       "159566  ffe987279560d7ff   \n",
       "159567  ffea4adeee384e90   \n",
       "159568  ffee36eab5c267c9   \n",
       "159569  fff125370e4aaaf3   \n",
       "159570  fff46fc426af1f9a   \n",
       "\n",
       "                                                                                                                                                                                                   comment_text  \\\n",
       "0       Explanation\\nWhy the edits made under my username Hardcore Metallica Fan were reverted? They weren't vandalisms, just closure on some GAs after I voted at New York Dolls FAC. And please don't remo...   \n",
       "1                                                                                              D'aww! He matches this background colour I'm seemingly stuck with. Thanks.  (talk) 21:51, January 11, 2016 (UTC)   \n",
       "2       Hey man, I'm really not trying to edit war. It's just that this guy is constantly removing relevant information and talking to me through edits instead of my talk page. He seems to care more about...   \n",
       "3       \"\\nMore\\nI can't make any real suggestions on improvement - I wondered if the section statistics should be later on, or a subsection of \"\"types of accidents\"\"  -I think the references may need tid...   \n",
       "4                                                                                                                                           You, sir, are my hero. Any chance you remember what page that's on?   \n",
       "...                                                                                                                                                                                                         ...   \n",
       "159566  \":::::And for the second time of asking, when your view completely contradicts the coverage in reliable sources, why should anyone care what you feel? You can't even give a consistent argument - i...   \n",
       "159567                                                                                                    You should be ashamed of yourself \\n\\nThat is a horrible thing you put on my talk page.  128.61.19.93   \n",
       "159568                                                                                                                      Spitzer \\n\\nUmm, theres no actual article for prostitution ring.  - Crunch Captain.   \n",
       "159569                                                                                     And it looks like it was actually you who put on the speedy to have the first version deleted now that I look at it.   \n",
       "159570           \"\\nAnd ... I really don't think you understand.  I came here and my idea was bad right away.  What kind of community goes \"\"you have bad ideas\"\" go away, instead of helping rewrite them.   \"   \n",
       "\n",
       "        toxic  severe_toxic  obscene  threat  insult  identity_hate  \\\n",
       "0           0             0        0       0       0              0   \n",
       "1           0             0        0       0       0              0   \n",
       "2           0             0        0       0       0              0   \n",
       "3           0             0        0       0       0              0   \n",
       "4           0             0        0       0       0              0   \n",
       "...       ...           ...      ...     ...     ...            ...   \n",
       "159566      0             0        0       0       0              0   \n",
       "159567      0             0        0       0       0              0   \n",
       "159568      0             0        0       0       0              0   \n",
       "159569      0             0        0       0       0              0   \n",
       "159570      0             0        0       0       0              0   \n",
       "\n",
       "                                                                                                                                                                                                comment_text_kr  \n",
       "0                                                          설명\\n내 사용자 이름 하드코어 메탈리카 팬으로 편집한 내용이 되돌아간 이유는 무엇인가요?그들은 기물 파손이 아니라 뉴욕 인형 FAC에서 투표한 후 일부 GA를 폐쇄했습니다.그리고 제가 지금 은퇴했으니 토론 문서에서 템플릿을 제거하지 마십시오.89.205.38.27  \n",
       "1                                                                                                                                        다우!그는 제가 붙어있는 것처럼 보이는 이 배경색과 일치합니다.감사합니다.(토크) 2016년 1월 11일 21:51 (UTC)  \n",
       "2                                                                                        이봐, 난 정말 전쟁을 편집하려고 하는 게 아니야.이 사람은 제 토론 문서 대신 지속적으로 관련 정보를 제거하고 편집을 통해 저와 대화하고 있다는 것입니다.그는 실제 정보보다 서식에 더 신경을 쓰는 것 같습니다.  \n",
       "3       “\\n더 보기\\n개선에 대한 실질적인 제안을 할 수 없습니다. 섹션 통계가 나중에 있어야하는지 아니면 “” 사고 유형\"의 하위 섹션인지 궁금했습니다. 참고 문헌이 모두 정확히 동일한 형식 (예: 날짜 형식 등) 이되도록 정리해야 할 수도 있다고 생각합니다.참고 문헌에서 스타일 서식을 지정하는 데 대한 기본 설정이 있거나 직접 만들고 싶다면 알려주세요...  \n",
       "4                                                                                                                                                                      선생님, 당신은 제 영웅이에요.어떤 페이지에 있는지 기억할 수 있을까요?  \n",
       "...                                                                                                                                                                                                         ...  \n",
       "159566                                                        “:: ::그리고 두 번째로, 당신의 견해가 신뢰할 수있는 출처의 보도와 완전히 모순 될 때, 왜 누군가가 당신이 느끼는 것에 관심을 가져야합니까?일관된 주장조차 할 수는 없습니다. 오프닝은 중요한 측면이나 “” 가장 중요한 측면만을 언급해야합니까? \\n\\n“  \n",
       "159567                                                                                                                                                    너 자신을 부끄러워해야 해 \\n\\n제 토론 문서에 올린 끔찍한 일입니다. 128.61.19.93  \n",
       "159568                                                                                                                                                                         스피처 \\n\\n음, 매춘 반지에 대한 실제 기사는 없어요.  \n",
       "159569                                                                                                                                              그리고 제가 살펴본 지금 첫 번째 버전을 삭제하기 위해 스피디를 입은 것은 실제로 당신이었던 것 같습니다.  \n",
       "159570                                                                                                 “\\n그리고...정말 이해가 안 될 것 같아요.여기 왔는데 바로 제 생각이 나빴어요.어떤 커뮤니티가 “” 나쁜 아이디어가 있습니다 “” 는 다시 작성하는 데 도움을주는 대신 사라집니다.“  \n",
       "\n",
       "[159571 rows x 9 columns]"
      ]
     },
     "execution_count": 5,
     "metadata": {},
     "output_type": "execute_result"
    }
   ],
   "source": [
    "train_df"
   ]
  },
  {
   "cell_type": "code",
   "execution_count": 6,
   "metadata": {},
   "outputs": [
    {
     "name": "stdout",
     "output_type": "stream",
     "text": [
      "<class 'pandas.core.frame.DataFrame'>\n",
      "Int64Index: 159571 entries, 0 to 159570\n",
      "Data columns (total 9 columns):\n",
      " #   Column           Non-Null Count   Dtype \n",
      "---  ------           --------------   ----- \n",
      " 0   id               159571 non-null  object\n",
      " 1   comment_text     159571 non-null  object\n",
      " 2   toxic            159571 non-null  int64 \n",
      " 3   severe_toxic     159571 non-null  int64 \n",
      " 4   obscene          159571 non-null  int64 \n",
      " 5   threat           159571 non-null  int64 \n",
      " 6   insult           159571 non-null  int64 \n",
      " 7   identity_hate    159571 non-null  int64 \n",
      " 8   comment_text_kr  159571 non-null  object\n",
      "dtypes: int64(6), object(3)\n",
      "memory usage: 12.2+ MB\n"
     ]
    }
   ],
   "source": [
    "train_df.info()"
   ]
  },
  {
   "cell_type": "code",
   "execution_count": 7,
   "metadata": {},
   "outputs": [
    {
     "data": {
      "text/plain": [
       "toxic  severe_toxic  obscene  threat  insult  identity_hate\n",
       "0      0             0        0       0       0                143346\n",
       "1      0             0        0       0       0                  5666\n",
       "                     1        0       1       0                  3800\n",
       "                                      0       0                  1758\n",
       "                     0        0       1       0                  1215\n",
       "                                                                ...  \n",
       "0      0             0        1       1       0                     3\n",
       "                     1        1       1       0                     2\n",
       "                                      0       0                     2\n",
       "1      1             0        1       0       1                     1\n",
       "                                      1       0                     1\n",
       "Length: 41, dtype: int64"
      ]
     },
     "execution_count": 7,
     "metadata": {},
     "output_type": "execute_result"
    }
   ],
   "source": [
    "labels = ['toxic','severe_toxic','obscene','threat','insult','identity_hate']\n",
    "train_df[labels].value_counts()"
   ]
  },
  {
   "cell_type": "code",
   "execution_count": 8,
   "metadata": {},
   "outputs": [
    {
     "data": {
      "text/plain": [
       "(15294, 1595, 8449, 478, 7877, 1405)"
      ]
     },
     "execution_count": 8,
     "metadata": {},
     "output_type": "execute_result"
    }
   ],
   "source": [
    "(\n",
    "    train_df['toxic'].sum() , \n",
    "    train_df['severe_toxic'].sum() ,     \n",
    "    train_df['obscene'].sum(), \n",
    "    train_df['threat'].sum(),\n",
    "    train_df['insult'].sum(),    \n",
    "    train_df['identity_hate'].sum(),        \n",
    ")"
   ]
  },
  {
   "cell_type": "code",
   "execution_count": 9,
   "metadata": {
    "tags": []
   },
   "outputs": [
    {
     "data": {
      "text/html": [
       "<div>\n",
       "<style scoped>\n",
       "    .dataframe tbody tr th:only-of-type {\n",
       "        vertical-align: middle;\n",
       "    }\n",
       "\n",
       "    .dataframe tbody tr th {\n",
       "        vertical-align: top;\n",
       "    }\n",
       "\n",
       "    .dataframe thead th {\n",
       "        text-align: right;\n",
       "    }\n",
       "</style>\n",
       "<table border=\"1\" class=\"dataframe\">\n",
       "  <thead>\n",
       "    <tr style=\"text-align: right;\">\n",
       "      <th></th>\n",
       "      <th>id</th>\n",
       "      <th>comment_text</th>\n",
       "      <th>toxic</th>\n",
       "      <th>severe_toxic</th>\n",
       "      <th>obscene</th>\n",
       "      <th>threat</th>\n",
       "      <th>insult</th>\n",
       "      <th>identity_hate</th>\n",
       "      <th>comment_text_kr</th>\n",
       "    </tr>\n",
       "  </thead>\n",
       "  <tbody>\n",
       "    <tr>\n",
       "      <th>79</th>\n",
       "      <td>003217c3eb469ba9</td>\n",
       "      <td>Hi! I am back again!\\nLast warning!\\nStop undoing my edits or die!</td>\n",
       "      <td>1</td>\n",
       "      <td>0</td>\n",
       "      <td>0</td>\n",
       "      <td>1</td>\n",
       "      <td>0</td>\n",
       "      <td>0</td>\n",
       "      <td>안녕하세요!다시 돌아왔어요!\\n마지막 경고!\\n내 편집을 취소하거나 죽지 마세요!</td>\n",
       "    </tr>\n",
       "    <tr>\n",
       "      <th>176</th>\n",
       "      <td>006b94add72ed61c</td>\n",
       "      <td>I think that your a Fagget get a oife and burn in Hell I hate you 'm sorry we cant have any more sex i'm running out of conndoms</td>\n",
       "      <td>1</td>\n",
       "      <td>0</td>\n",
       "      <td>1</td>\n",
       "      <td>1</td>\n",
       "      <td>1</td>\n",
       "      <td>1</td>\n",
       "      <td>나는 당신의 가제트가 생명을 얻고 화상을 입는 것 같아요 지옥 싫어 미안해 더 이상 섹스를 할 수 없어 콘돔이 부족해</td>\n",
       "    </tr>\n",
       "    <tr>\n",
       "      <th>600</th>\n",
       "      <td>0199d6af27b715f3</td>\n",
       "      <td>I'm also a sock puppet of this account...SUPRISE!!\\n-sincerely,\\n            The man that will track you down from the Internet and kill you</td>\n",
       "      <td>1</td>\n",
       "      <td>0</td>\n",
       "      <td>0</td>\n",
       "      <td>1</td>\n",
       "      <td>0</td>\n",
       "      <td>0</td>\n",
       "      <td>저도이 계정의 양말 꼭두각시입니다... 깜짝!!\\n-진심으로\\n 인터넷에서 당신을 추적하고 죽일 남자</td>\n",
       "    </tr>\n",
       "    <tr>\n",
       "      <th>802</th>\n",
       "      <td>02230885017a50c5</td>\n",
       "      <td>Fuck you, Smith. Please have me notified when you die. I want to dance on your grave.</td>\n",
       "      <td>1</td>\n",
       "      <td>0</td>\n",
       "      <td>1</td>\n",
       "      <td>1</td>\n",
       "      <td>1</td>\n",
       "      <td>0</td>\n",
       "      <td>젠장, 스미스죽으면 알려주세요.네 무덤에서 춤을 추고 싶어요.</td>\n",
       "    </tr>\n",
       "    <tr>\n",
       "      <th>1017</th>\n",
       "      <td>02c6e41e4b317ac3</td>\n",
       "      <td>WOULDN'T BE THE FIRST TIME BITCH. FUCK YOU I'LL FIND OUT WHERE YOU LIVE, SODOMIZE YOUR WIFE AND THEN BURN YOUR HOUSE DOWN. FUCK YOU YOU FUCKING QUEER.</td>\n",
       "      <td>1</td>\n",
       "      <td>1</td>\n",
       "      <td>1</td>\n",
       "      <td>1</td>\n",
       "      <td>1</td>\n",
       "      <td>1</td>\n",
       "      <td>처음은 아니겠지젠장, 네가 사는 곳을 알아보고 아내를 소돔화한 다음 집을 불태울게요젠장, 너 빌어 먹을 퀴어.</td>\n",
       "    </tr>\n",
       "  </tbody>\n",
       "</table>\n",
       "</div>"
      ],
      "text/plain": [
       "                    id  \\\n",
       "79    003217c3eb469ba9   \n",
       "176   006b94add72ed61c   \n",
       "600   0199d6af27b715f3   \n",
       "802   02230885017a50c5   \n",
       "1017  02c6e41e4b317ac3   \n",
       "\n",
       "                                                                                                                                                comment_text  \\\n",
       "79                                                                                        Hi! I am back again!\\nLast warning!\\nStop undoing my edits or die!   \n",
       "176                         I think that your a Fagget get a oife and burn in Hell I hate you 'm sorry we cant have any more sex i'm running out of conndoms   \n",
       "600             I'm also a sock puppet of this account...SUPRISE!!\\n-sincerely,\\n            The man that will track you down from the Internet and kill you   \n",
       "802                                                                    Fuck you, Smith. Please have me notified when you die. I want to dance on your grave.   \n",
       "1017  WOULDN'T BE THE FIRST TIME BITCH. FUCK YOU I'LL FIND OUT WHERE YOU LIVE, SODOMIZE YOUR WIFE AND THEN BURN YOUR HOUSE DOWN. FUCK YOU YOU FUCKING QUEER.   \n",
       "\n",
       "      toxic  severe_toxic  obscene  threat  insult  identity_hate  \\\n",
       "79        1             0        0       1       0              0   \n",
       "176       1             0        1       1       1              1   \n",
       "600       1             0        0       1       0              0   \n",
       "802       1             0        1       1       1              0   \n",
       "1017      1             1        1       1       1              1   \n",
       "\n",
       "                                                        comment_text_kr  \n",
       "79                        안녕하세요!다시 돌아왔어요!\\n마지막 경고!\\n내 편집을 취소하거나 죽지 마세요!  \n",
       "176   나는 당신의 가제트가 생명을 얻고 화상을 입는 것 같아요 지옥 싫어 미안해 더 이상 섹스를 할 수 없어 콘돔이 부족해  \n",
       "600            저도이 계정의 양말 꼭두각시입니다... 깜짝!!\\n-진심으로\\n 인터넷에서 당신을 추적하고 죽일 남자  \n",
       "802                                  젠장, 스미스죽으면 알려주세요.네 무덤에서 춤을 추고 싶어요.  \n",
       "1017      처음은 아니겠지젠장, 네가 사는 곳을 알아보고 아내를 소돔화한 다음 집을 불태울게요젠장, 너 빌어 먹을 퀴어.  "
      ]
     },
     "execution_count": 9,
     "metadata": {},
     "output_type": "execute_result"
    }
   ],
   "source": [
    "# train_df[(train_df.toxic == 1) & (train_df.obscene ==1 ) & (train_df.threat ==1 )]\n",
    "train_df[(train_df.toxic == 1) &  (train_df.threat ==1 )].head()"
   ]
  },
  {
   "cell_type": "markdown",
   "metadata": {},
   "source": [
    "# 4. 데이터 정리"
   ]
  },
  {
   "cell_type": "code",
   "execution_count": 10,
   "metadata": {},
   "outputs": [
    {
     "data": {
      "text/html": [
       "<div>\n",
       "<style scoped>\n",
       "    .dataframe tbody tr th:only-of-type {\n",
       "        vertical-align: middle;\n",
       "    }\n",
       "\n",
       "    .dataframe tbody tr th {\n",
       "        vertical-align: top;\n",
       "    }\n",
       "\n",
       "    .dataframe thead th {\n",
       "        text-align: right;\n",
       "    }\n",
       "</style>\n",
       "<table border=\"1\" class=\"dataframe\">\n",
       "  <thead>\n",
       "    <tr style=\"text-align: right;\">\n",
       "      <th></th>\n",
       "      <th>id</th>\n",
       "      <th>comment_text</th>\n",
       "      <th>toxic</th>\n",
       "      <th>severe_toxic</th>\n",
       "      <th>obscene</th>\n",
       "      <th>threat</th>\n",
       "      <th>insult</th>\n",
       "      <th>identity_hate</th>\n",
       "      <th>comment_text_en</th>\n",
       "    </tr>\n",
       "  </thead>\n",
       "  <tbody>\n",
       "    <tr>\n",
       "      <th>0</th>\n",
       "      <td>0000997932d777bf</td>\n",
       "      <td>설명\\n내 사용자 이름 하드코어 메탈리카 팬으로 편집한 내용이 되돌아간 이유는 무엇인가요?그들은 기물 파손이 아니라 뉴욕 인형 FAC에서 투표한 후 일부 GA를 폐쇄했습니다.그리고 제가 지금 은퇴했으니 토론 문서에서 템플릿을 제거하지 마십시오.89.205.38.27</td>\n",
       "      <td>0</td>\n",
       "      <td>0</td>\n",
       "      <td>0</td>\n",
       "      <td>0</td>\n",
       "      <td>0</td>\n",
       "      <td>0</td>\n",
       "      <td>Explanation\\nWhy the edits made under my username Hardcore Metallica Fan were reverted? They weren't vandalisms, just closure on some GAs after I voted at New York Dolls FAC. And please don't remo...</td>\n",
       "    </tr>\n",
       "    <tr>\n",
       "      <th>1</th>\n",
       "      <td>000103f0d9cfb60f</td>\n",
       "      <td>다우!그는 제가 붙어있는 것처럼 보이는 이 배경색과 일치합니다.감사합니다.(토크) 2016년 1월 11일 21:51 (UTC)</td>\n",
       "      <td>0</td>\n",
       "      <td>0</td>\n",
       "      <td>0</td>\n",
       "      <td>0</td>\n",
       "      <td>0</td>\n",
       "      <td>0</td>\n",
       "      <td>D'aww! He matches this background colour I'm seemingly stuck with. Thanks.  (talk) 21:51, January 11, 2016 (UTC)</td>\n",
       "    </tr>\n",
       "    <tr>\n",
       "      <th>2</th>\n",
       "      <td>000113f07ec002fd</td>\n",
       "      <td>이봐, 난 정말 전쟁을 편집하려고 하는 게 아니야.이 사람은 제 토론 문서 대신 지속적으로 관련 정보를 제거하고 편집을 통해 저와 대화하고 있다는 것입니다.그는 실제 정보보다 서식에 더 신경을 쓰는 것 같습니다.</td>\n",
       "      <td>0</td>\n",
       "      <td>0</td>\n",
       "      <td>0</td>\n",
       "      <td>0</td>\n",
       "      <td>0</td>\n",
       "      <td>0</td>\n",
       "      <td>Hey man, I'm really not trying to edit war. It's just that this guy is constantly removing relevant information and talking to me through edits instead of my talk page. He seems to care more about...</td>\n",
       "    </tr>\n",
       "    <tr>\n",
       "      <th>3</th>\n",
       "      <td>0001b41b1c6bb37e</td>\n",
       "      <td>“\\n더 보기\\n개선에 대한 실질적인 제안을 할 수 없습니다. 섹션 통계가 나중에 있어야하는지 아니면 “” 사고 유형\"의 하위 섹션인지 궁금했습니다. 참고 문헌이 모두 정확히 동일한 형식 (예: 날짜 형식 등) 이되도록 정리해야 할 수도 있다고 생각합니다.참고 문헌에서 스타일 서식을 지정하는 데 대한 기본 설정이 있거나 직접 만들고 싶다면 알려주세요...</td>\n",
       "      <td>0</td>\n",
       "      <td>0</td>\n",
       "      <td>0</td>\n",
       "      <td>0</td>\n",
       "      <td>0</td>\n",
       "      <td>0</td>\n",
       "      <td>\"\\nMore\\nI can't make any real suggestions on improvement - I wondered if the section statistics should be later on, or a subsection of \"\"types of accidents\"\"  -I think the references may need tid...</td>\n",
       "    </tr>\n",
       "    <tr>\n",
       "      <th>4</th>\n",
       "      <td>0001d958c54c6e35</td>\n",
       "      <td>선생님, 당신은 제 영웅이에요.어떤 페이지에 있는지 기억할 수 있을까요?</td>\n",
       "      <td>0</td>\n",
       "      <td>0</td>\n",
       "      <td>0</td>\n",
       "      <td>0</td>\n",
       "      <td>0</td>\n",
       "      <td>0</td>\n",
       "      <td>You, sir, are my hero. Any chance you remember what page that's on?</td>\n",
       "    </tr>\n",
       "    <tr>\n",
       "      <th>...</th>\n",
       "      <td>...</td>\n",
       "      <td>...</td>\n",
       "      <td>...</td>\n",
       "      <td>...</td>\n",
       "      <td>...</td>\n",
       "      <td>...</td>\n",
       "      <td>...</td>\n",
       "      <td>...</td>\n",
       "      <td>...</td>\n",
       "    </tr>\n",
       "    <tr>\n",
       "      <th>159566</th>\n",
       "      <td>ffe987279560d7ff</td>\n",
       "      <td>“:: ::그리고 두 번째로, 당신의 견해가 신뢰할 수있는 출처의 보도와 완전히 모순 될 때, 왜 누군가가 당신이 느끼는 것에 관심을 가져야합니까?일관된 주장조차 할 수는 없습니다. 오프닝은 중요한 측면이나 “” 가장 중요한 측면만을 언급해야합니까? \\n\\n“</td>\n",
       "      <td>0</td>\n",
       "      <td>0</td>\n",
       "      <td>0</td>\n",
       "      <td>0</td>\n",
       "      <td>0</td>\n",
       "      <td>0</td>\n",
       "      <td>\":::::And for the second time of asking, when your view completely contradicts the coverage in reliable sources, why should anyone care what you feel? You can't even give a consistent argument - i...</td>\n",
       "    </tr>\n",
       "    <tr>\n",
       "      <th>159567</th>\n",
       "      <td>ffea4adeee384e90</td>\n",
       "      <td>너 자신을 부끄러워해야 해 \\n\\n제 토론 문서에 올린 끔찍한 일입니다. 128.61.19.93</td>\n",
       "      <td>0</td>\n",
       "      <td>0</td>\n",
       "      <td>0</td>\n",
       "      <td>0</td>\n",
       "      <td>0</td>\n",
       "      <td>0</td>\n",
       "      <td>You should be ashamed of yourself \\n\\nThat is a horrible thing you put on my talk page.  128.61.19.93</td>\n",
       "    </tr>\n",
       "    <tr>\n",
       "      <th>159568</th>\n",
       "      <td>ffee36eab5c267c9</td>\n",
       "      <td>스피처 \\n\\n음, 매춘 반지에 대한 실제 기사는 없어요.</td>\n",
       "      <td>0</td>\n",
       "      <td>0</td>\n",
       "      <td>0</td>\n",
       "      <td>0</td>\n",
       "      <td>0</td>\n",
       "      <td>0</td>\n",
       "      <td>Spitzer \\n\\nUmm, theres no actual article for prostitution ring.  - Crunch Captain.</td>\n",
       "    </tr>\n",
       "    <tr>\n",
       "      <th>159569</th>\n",
       "      <td>fff125370e4aaaf3</td>\n",
       "      <td>그리고 제가 살펴본 지금 첫 번째 버전을 삭제하기 위해 스피디를 입은 것은 실제로 당신이었던 것 같습니다.</td>\n",
       "      <td>0</td>\n",
       "      <td>0</td>\n",
       "      <td>0</td>\n",
       "      <td>0</td>\n",
       "      <td>0</td>\n",
       "      <td>0</td>\n",
       "      <td>And it looks like it was actually you who put on the speedy to have the first version deleted now that I look at it.</td>\n",
       "    </tr>\n",
       "    <tr>\n",
       "      <th>159570</th>\n",
       "      <td>fff46fc426af1f9a</td>\n",
       "      <td>“\\n그리고...정말 이해가 안 될 것 같아요.여기 왔는데 바로 제 생각이 나빴어요.어떤 커뮤니티가 “” 나쁜 아이디어가 있습니다 “” 는 다시 작성하는 데 도움을주는 대신 사라집니다.“</td>\n",
       "      <td>0</td>\n",
       "      <td>0</td>\n",
       "      <td>0</td>\n",
       "      <td>0</td>\n",
       "      <td>0</td>\n",
       "      <td>0</td>\n",
       "      <td>\"\\nAnd ... I really don't think you understand.  I came here and my idea was bad right away.  What kind of community goes \"\"you have bad ideas\"\" go away, instead of helping rewrite them.   \"</td>\n",
       "    </tr>\n",
       "  </tbody>\n",
       "</table>\n",
       "<p>159571 rows × 9 columns</p>\n",
       "</div>"
      ],
      "text/plain": [
       "                      id  \\\n",
       "0       0000997932d777bf   \n",
       "1       000103f0d9cfb60f   \n",
       "2       000113f07ec002fd   \n",
       "3       0001b41b1c6bb37e   \n",
       "4       0001d958c54c6e35   \n",
       "...                  ...   \n",
       "159566  ffe987279560d7ff   \n",
       "159567  ffea4adeee384e90   \n",
       "159568  ffee36eab5c267c9   \n",
       "159569  fff125370e4aaaf3   \n",
       "159570  fff46fc426af1f9a   \n",
       "\n",
       "                                                                                                                                                                                                   comment_text  \\\n",
       "0                                                          설명\\n내 사용자 이름 하드코어 메탈리카 팬으로 편집한 내용이 되돌아간 이유는 무엇인가요?그들은 기물 파손이 아니라 뉴욕 인형 FAC에서 투표한 후 일부 GA를 폐쇄했습니다.그리고 제가 지금 은퇴했으니 토론 문서에서 템플릿을 제거하지 마십시오.89.205.38.27   \n",
       "1                                                                                                                                        다우!그는 제가 붙어있는 것처럼 보이는 이 배경색과 일치합니다.감사합니다.(토크) 2016년 1월 11일 21:51 (UTC)   \n",
       "2                                                                                        이봐, 난 정말 전쟁을 편집하려고 하는 게 아니야.이 사람은 제 토론 문서 대신 지속적으로 관련 정보를 제거하고 편집을 통해 저와 대화하고 있다는 것입니다.그는 실제 정보보다 서식에 더 신경을 쓰는 것 같습니다.   \n",
       "3       “\\n더 보기\\n개선에 대한 실질적인 제안을 할 수 없습니다. 섹션 통계가 나중에 있어야하는지 아니면 “” 사고 유형\"의 하위 섹션인지 궁금했습니다. 참고 문헌이 모두 정확히 동일한 형식 (예: 날짜 형식 등) 이되도록 정리해야 할 수도 있다고 생각합니다.참고 문헌에서 스타일 서식을 지정하는 데 대한 기본 설정이 있거나 직접 만들고 싶다면 알려주세요...   \n",
       "4                                                                                                                                                                      선생님, 당신은 제 영웅이에요.어떤 페이지에 있는지 기억할 수 있을까요?   \n",
       "...                                                                                                                                                                                                         ...   \n",
       "159566                                                        “:: ::그리고 두 번째로, 당신의 견해가 신뢰할 수있는 출처의 보도와 완전히 모순 될 때, 왜 누군가가 당신이 느끼는 것에 관심을 가져야합니까?일관된 주장조차 할 수는 없습니다. 오프닝은 중요한 측면이나 “” 가장 중요한 측면만을 언급해야합니까? \\n\\n“   \n",
       "159567                                                                                                                                                    너 자신을 부끄러워해야 해 \\n\\n제 토론 문서에 올린 끔찍한 일입니다. 128.61.19.93   \n",
       "159568                                                                                                                                                                         스피처 \\n\\n음, 매춘 반지에 대한 실제 기사는 없어요.   \n",
       "159569                                                                                                                                              그리고 제가 살펴본 지금 첫 번째 버전을 삭제하기 위해 스피디를 입은 것은 실제로 당신이었던 것 같습니다.   \n",
       "159570                                                                                                 “\\n그리고...정말 이해가 안 될 것 같아요.여기 왔는데 바로 제 생각이 나빴어요.어떤 커뮤니티가 “” 나쁜 아이디어가 있습니다 “” 는 다시 작성하는 데 도움을주는 대신 사라집니다.“   \n",
       "\n",
       "        toxic  severe_toxic  obscene  threat  insult  identity_hate  \\\n",
       "0           0             0        0       0       0              0   \n",
       "1           0             0        0       0       0              0   \n",
       "2           0             0        0       0       0              0   \n",
       "3           0             0        0       0       0              0   \n",
       "4           0             0        0       0       0              0   \n",
       "...       ...           ...      ...     ...     ...            ...   \n",
       "159566      0             0        0       0       0              0   \n",
       "159567      0             0        0       0       0              0   \n",
       "159568      0             0        0       0       0              0   \n",
       "159569      0             0        0       0       0              0   \n",
       "159570      0             0        0       0       0              0   \n",
       "\n",
       "                                                                                                                                                                                                comment_text_en  \n",
       "0       Explanation\\nWhy the edits made under my username Hardcore Metallica Fan were reverted? They weren't vandalisms, just closure on some GAs after I voted at New York Dolls FAC. And please don't remo...  \n",
       "1                                                                                              D'aww! He matches this background colour I'm seemingly stuck with. Thanks.  (talk) 21:51, January 11, 2016 (UTC)  \n",
       "2       Hey man, I'm really not trying to edit war. It's just that this guy is constantly removing relevant information and talking to me through edits instead of my talk page. He seems to care more about...  \n",
       "3       \"\\nMore\\nI can't make any real suggestions on improvement - I wondered if the section statistics should be later on, or a subsection of \"\"types of accidents\"\"  -I think the references may need tid...  \n",
       "4                                                                                                                                           You, sir, are my hero. Any chance you remember what page that's on?  \n",
       "...                                                                                                                                                                                                         ...  \n",
       "159566  \":::::And for the second time of asking, when your view completely contradicts the coverage in reliable sources, why should anyone care what you feel? You can't even give a consistent argument - i...  \n",
       "159567                                                                                                    You should be ashamed of yourself \\n\\nThat is a horrible thing you put on my talk page.  128.61.19.93  \n",
       "159568                                                                                                                      Spitzer \\n\\nUmm, theres no actual article for prostitution ring.  - Crunch Captain.  \n",
       "159569                                                                                     And it looks like it was actually you who put on the speedy to have the first version deleted now that I look at it.  \n",
       "159570           \"\\nAnd ... I really don't think you understand.  I came here and my idea was bad right away.  What kind of community goes \"\"you have bad ideas\"\" go away, instead of helping rewrite them.   \"  \n",
       "\n",
       "[159571 rows x 9 columns]"
      ]
     },
     "execution_count": 10,
     "metadata": {},
     "output_type": "execute_result"
    }
   ],
   "source": [
    "def clear_dataset(train_df):\n",
    "    df = train_df.copy()\n",
    "    df.rename(columns={\"comment_text\" : \"comment_text_en\"}, inplace=True)\n",
    "    df.rename(columns={\"comment_text_kr\" : \"comment_text\"}, inplace=True)    \n",
    "    \n",
    "    columns = ['id', 'comment_text', 'toxic', 'severe_toxic', 'obscene', 'threat',\n",
    "       'insult', 'identity_hate', 'comment_text_en']    \n",
    "    \n",
    "    df = df[columns]\n",
    "    \n",
    "    return df\n",
    "\n",
    "train_df = clear_dataset(train_df)\n",
    "train_df\n",
    "    "
   ]
  },
  {
   "cell_type": "markdown",
   "metadata": {},
   "source": [
    "# 5. 데이터 정리 및 저장"
   ]
  },
  {
   "cell_type": "code",
   "execution_count": null,
   "metadata": {},
   "outputs": [],
   "source": []
  },
  {
   "cell_type": "markdown",
   "metadata": {},
   "source": [
    "## 5.3. 데이터 세트를 훈련, 테스트로 분리"
   ]
  },
  {
   "cell_type": "code",
   "execution_count": 11,
   "metadata": {},
   "outputs": [
    {
     "name": "stdout",
     "output_type": "stream",
     "text": [
      "159571\n",
      "143614 15957 159571\n",
      "train sahpe:  (143614, 9)\n",
      "test sahpe:  (15957, 9)\n"
     ]
    }
   ],
   "source": [
    "def split_train_test(data_df, ratio):\n",
    "    total_len = len(data_df)\n",
    "    train_size = total_len - int(total_len * ratio)\n",
    "    test_size = int(total_len * ratio)    \n",
    "    \n",
    "    print(total_len)\n",
    "    print(train_size, test_size, train_size + test_size)\n",
    "    \n",
    "    # df = data_df.sample(frac=1.0)\n",
    "    \n",
    "    train_df = data_df[0:train_size]\n",
    "    test_df = data_df[train_size:]\n",
    "    \n",
    "    return train_df , test_df\n",
    "    \n",
    "tr_df, te_df = split_train_test(train_df, ratio=0.1)    \n",
    "print(\"train sahpe: \", tr_df.shape)\n",
    "print(\"test sahpe: \", te_df.shape)"
   ]
  },
  {
   "cell_type": "code",
   "execution_count": 12,
   "metadata": {},
   "outputs": [
    {
     "data": {
      "text/plain": [
       "(13751, 1445, 7585, 428, 7060, 1261)"
      ]
     },
     "execution_count": 12,
     "metadata": {},
     "output_type": "execute_result"
    }
   ],
   "source": [
    "(\n",
    "    tr_df['toxic'].sum() , \n",
    "    tr_df['severe_toxic'].sum() ,     \n",
    "    tr_df['obscene'].sum(), \n",
    "    tr_df['threat'].sum(),\n",
    "    tr_df['insult'].sum(),    \n",
    "    tr_df['identity_hate'].sum(),        \n",
    ")"
   ]
  },
  {
   "cell_type": "code",
   "execution_count": 13,
   "metadata": {},
   "outputs": [
    {
     "data": {
      "text/plain": [
       "(1543, 150, 864, 50, 817, 144)"
      ]
     },
     "execution_count": 13,
     "metadata": {},
     "output_type": "execute_result"
    }
   ],
   "source": [
    "(\n",
    "    te_df['toxic'].sum(), \n",
    "    te_df['severe_toxic'].sum(),         \n",
    "    te_df['obscene'].sum(), \n",
    "    te_df['threat'].sum(),\n",
    "    te_df['insult'].sum(),    \n",
    "    te_df['identity_hate'].sum(),        \n",
    ")"
   ]
  },
  {
   "cell_type": "markdown",
   "metadata": {},
   "source": [
    "## 5.4. 데이터 저장"
   ]
  },
  {
   "cell_type": "code",
   "execution_count": 15,
   "metadata": {},
   "outputs": [
    {
     "name": "stdout",
     "output_type": "stream",
     "text": [
      "data frame is saved at data/translated_kaggle_toxic_review/train.csv\n",
      "data frame is saved at data/translated_kaggle_toxic_review/test.csv\n"
     ]
    },
    {
     "data": {
      "text/plain": [
       "'data/translated_kaggle_toxic_review/test.csv'"
      ]
     },
     "execution_count": 15,
     "metadata": {},
     "output_type": "execute_result"
    }
   ],
   "source": [
    "def save_dataframe(df, file_path):\n",
    "    print(f\"data frame is saved at {file_path}\")\n",
    "    df.to_csv(file_path, index=False)\n",
    "    \n",
    "    return file_path\n",
    "    \n",
    "data_folder = 'data'    \n",
    "dataset = \"translated_kaggle_toxic_review\"\n",
    "\n",
    "os.makedirs(f\"{data_folder}/{dataset}\", exist_ok=True)\n",
    "\n",
    "translated_kaggle_toxic_train_file_path = f\"{data_folder}/{dataset}/train.csv\"\n",
    "translated_kaggle_toxic_test_file_path = f\"{data_folder}/{dataset}/test.csv\"\n",
    "\n",
    "save_dataframe(tr_df, translated_kaggle_toxic_train_file_path)\n",
    "save_dataframe(te_df, translated_kaggle_toxic_test_file_path)\n"
   ]
  },
  {
   "cell_type": "code",
   "execution_count": 16,
   "metadata": {},
   "outputs": [
    {
     "name": "stdout",
     "output_type": "stream",
     "text": [
      "Stored 'translated_kaggle_toxic_train_file_path' (str)\n",
      "Stored 'translated_kaggle_toxic_test_file_path' (str)\n"
     ]
    }
   ],
   "source": [
    "%store translated_kaggle_toxic_train_file_path\n",
    "%store translated_kaggle_toxic_test_file_path"
   ]
  },
  {
   "cell_type": "code",
   "execution_count": null,
   "metadata": {},
   "outputs": [],
   "source": []
  },
  {
   "cell_type": "code",
   "execution_count": null,
   "metadata": {},
   "outputs": [],
   "source": []
  },
  {
   "cell_type": "code",
   "execution_count": null,
   "metadata": {},
   "outputs": [],
   "source": []
  }
 ],
 "metadata": {
  "kernelspec": {
   "display_name": "conda_python3",
   "language": "python",
   "name": "conda_python3"
  },
  "language_info": {
   "codemirror_mode": {
    "name": "ipython",
    "version": 3
   },
   "file_extension": ".py",
   "mimetype": "text/x-python",
   "name": "python",
   "nbconvert_exporter": "python",
   "pygments_lexer": "ipython3",
   "version": "3.8.12"
  },
  "notice": "Copyright 2018 Amazon.com, Inc. or its affiliates. All Rights Reserved.  Licensed under the Apache License, Version 2.0 (the \"License\"). You may not use this file except in compliance with the License. A copy of the License is located at http://aws.amazon.com/apache2.0/ or in the \"license\" file accompanying this file. This file is distributed on an \"AS IS\" BASIS, WITHOUT WARRANTIES OR CONDITIONS OF ANY KIND, either express or implied. See the License for the specific language governing permissions and limitations under the License."
 },
 "nbformat": 4,
 "nbformat_minor": 4
}
