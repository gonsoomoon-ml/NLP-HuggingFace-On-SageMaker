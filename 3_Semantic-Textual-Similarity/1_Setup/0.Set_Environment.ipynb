{
 "cells": [
  {
   "cell_type": "markdown",
   "id": "c91bc5b9-d813-4c30-8aaa-87a8de5cd39d",
   "metadata": {
    "jp-MarkdownHeadingCollapsed": true,
    "tags": []
   },
   "source": [
    "# 환경 세팅\n",
    "\n",
    "이 워크샵에 필요한 Python Package 설치 및 환경 세팅 합니다.\n",
    "\n",
    "## 본 워크샵의 모든 노트북은 `conda_python3` 를  선택해야 합니다.\n",
    "\n",
    "---\n",
    "\n"
   ]
  },
  {
   "cell_type": "markdown",
   "id": "549bc4c1-de9c-4c50-845b-ef787b568866",
   "metadata": {
    "tags": []
   },
   "source": [
    "# 1. pip 업그레이드"
   ]
  },
  {
   "cell_type": "code",
   "execution_count": 1,
   "id": "f6a107de-99a8-4915-ae08-d5a58401cf4b",
   "metadata": {},
   "outputs": [
    {
     "name": "stdout",
     "output_type": "stream",
     "text": [
      "Looking in indexes: https://pypi.org/simple, https://pip.repos.neuron.amazonaws.com\n",
      "Requirement already satisfied: pip in /home/ec2-user/anaconda3/envs/python3/lib/python3.8/site-packages (22.2.2)\n"
     ]
    }
   ],
   "source": [
    "! pip install --upgrade pip"
   ]
  },
  {
   "cell_type": "markdown",
   "id": "eb3b8b1c-a0b2-4d69-aa00-a544f679380a",
   "metadata": {},
   "source": [
    "# 2. 사용하는 Python Packages 설치 유뮤 및 버전 확인"
   ]
  },
  {
   "cell_type": "code",
   "execution_count": 2,
   "id": "accc3e9b-037e-481c-aebc-9dba0e21bd76",
   "metadata": {},
   "outputs": [
    {
     "name": "stdout",
     "output_type": "stream",
     "text": [
      "sentence-transformers              2.2.2\n",
      "torch                              1.9.1\n",
      "torchvision                        0.10.1\n",
      "torchvision                        0.10.1\n",
      "sentence-transformers              2.2.2\n",
      "transformers                       4.18.0\n",
      "konlpy                             0.6.0\n",
      "wordcloud                          1.8.1\n",
      "graphviz                           0.20.1\n",
      "datasets                           2.4.0\n",
      "progressbar                        2.5\n",
      "Python 3.8.12\n"
     ]
    }
   ],
   "source": [
    "%%sh \n",
    "pip list | grep sentence-transformers\n",
    "pip list | grep torch\n",
    "pip list | grep torchvision\n",
    "pip list | grep transformers\n",
    "pip list | grep konlpy\n",
    "pip list | grep wordcloud\n",
    "pip list | grep graphviz\n",
    "pip list | grep datasets\n",
    "pip list | grep progressbar\n",
    "python --version"
   ]
  },
  {
   "cell_type": "markdown",
   "id": "93811757-465c-4481-85ba-1f857e28ab1a",
   "metadata": {},
   "source": [
    "# 3. Python Package 설치"
   ]
  },
  {
   "cell_type": "markdown",
   "id": "a3b2f7be-2a88-4abf-91e6-22aa61891fbe",
   "metadata": {},
   "source": [
    "## 3.1. sentence-transformers 설치"
   ]
  },
  {
   "cell_type": "code",
   "execution_count": 3,
   "id": "49484c5e-0588-4cd6-acdb-aa5b60204562",
   "metadata": {
    "tags": []
   },
   "outputs": [
    {
     "name": "stdout",
     "output_type": "stream",
     "text": [
      "Looking in indexes: https://pypi.org/simple, https://pip.repos.neuron.amazonaws.com\n",
      "Requirement already satisfied: sentence-transformers==2.2.2 in /home/ec2-user/anaconda3/envs/python3/lib/python3.8/site-packages (2.2.2)\n",
      "Requirement already satisfied: numpy in /home/ec2-user/anaconda3/envs/python3/lib/python3.8/site-packages (from sentence-transformers==2.2.2) (1.20.3)\n",
      "Requirement already satisfied: torchvision in /home/ec2-user/anaconda3/envs/python3/lib/python3.8/site-packages (from sentence-transformers==2.2.2) (0.10.1)\n",
      "Requirement already satisfied: scikit-learn in /home/ec2-user/anaconda3/envs/python3/lib/python3.8/site-packages (from sentence-transformers==2.2.2) (1.0.1)\n",
      "Requirement already satisfied: tqdm in /home/ec2-user/anaconda3/envs/python3/lib/python3.8/site-packages (from sentence-transformers==2.2.2) (4.62.3)\n",
      "Requirement already satisfied: huggingface-hub>=0.4.0 in /home/ec2-user/anaconda3/envs/python3/lib/python3.8/site-packages (from sentence-transformers==2.2.2) (0.8.1)\n",
      "Requirement already satisfied: nltk in /home/ec2-user/anaconda3/envs/python3/lib/python3.8/site-packages (from sentence-transformers==2.2.2) (3.7)\n",
      "Requirement already satisfied: scipy in /home/ec2-user/anaconda3/envs/python3/lib/python3.8/site-packages (from sentence-transformers==2.2.2) (1.5.3)\n",
      "Requirement already satisfied: sentencepiece in /home/ec2-user/anaconda3/envs/python3/lib/python3.8/site-packages (from sentence-transformers==2.2.2) (0.1.97)\n",
      "Requirement already satisfied: torch>=1.6.0 in /home/ec2-user/anaconda3/envs/python3/lib/python3.8/site-packages (from sentence-transformers==2.2.2) (1.9.1)\n",
      "Requirement already satisfied: transformers<5.0.0,>=4.6.0 in /home/ec2-user/anaconda3/envs/python3/lib/python3.8/site-packages (from sentence-transformers==2.2.2) (4.18.0)\n",
      "Requirement already satisfied: packaging>=20.9 in /home/ec2-user/anaconda3/envs/python3/lib/python3.8/site-packages (from huggingface-hub>=0.4.0->sentence-transformers==2.2.2) (21.3)\n",
      "Requirement already satisfied: pyyaml>=5.1 in /home/ec2-user/anaconda3/envs/python3/lib/python3.8/site-packages (from huggingface-hub>=0.4.0->sentence-transformers==2.2.2) (5.4.1)\n",
      "Requirement already satisfied: filelock in /home/ec2-user/anaconda3/envs/python3/lib/python3.8/site-packages (from huggingface-hub>=0.4.0->sentence-transformers==2.2.2) (3.4.0)\n",
      "Requirement already satisfied: requests in /home/ec2-user/anaconda3/envs/python3/lib/python3.8/site-packages (from huggingface-hub>=0.4.0->sentence-transformers==2.2.2) (2.26.0)\n",
      "Requirement already satisfied: typing-extensions>=3.7.4.3 in /home/ec2-user/anaconda3/envs/python3/lib/python3.8/site-packages (from huggingface-hub>=0.4.0->sentence-transformers==2.2.2) (4.0.0)\n",
      "Requirement already satisfied: regex!=2019.12.17 in /home/ec2-user/anaconda3/envs/python3/lib/python3.8/site-packages (from transformers<5.0.0,>=4.6.0->sentence-transformers==2.2.2) (2021.11.10)\n",
      "Requirement already satisfied: sacremoses in /home/ec2-user/anaconda3/envs/python3/lib/python3.8/site-packages (from transformers<5.0.0,>=4.6.0->sentence-transformers==2.2.2) (0.0.53)\n",
      "Requirement already satisfied: tokenizers!=0.11.3,<0.13,>=0.11.1 in /home/ec2-user/anaconda3/envs/python3/lib/python3.8/site-packages (from transformers<5.0.0,>=4.6.0->sentence-transformers==2.2.2) (0.12.1)\n",
      "Requirement already satisfied: click in /home/ec2-user/anaconda3/envs/python3/lib/python3.8/site-packages (from nltk->sentence-transformers==2.2.2) (8.0.3)\n",
      "Requirement already satisfied: joblib in /home/ec2-user/anaconda3/envs/python3/lib/python3.8/site-packages (from nltk->sentence-transformers==2.2.2) (1.1.0)\n",
      "Requirement already satisfied: threadpoolctl>=2.0.0 in /home/ec2-user/anaconda3/envs/python3/lib/python3.8/site-packages (from scikit-learn->sentence-transformers==2.2.2) (3.0.0)\n",
      "Requirement already satisfied: pillow>=5.3.0 in /home/ec2-user/anaconda3/envs/python3/lib/python3.8/site-packages (from torchvision->sentence-transformers==2.2.2) (9.0.1)\n",
      "Requirement already satisfied: pyparsing!=3.0.5,>=2.0.2 in /home/ec2-user/anaconda3/envs/python3/lib/python3.8/site-packages (from packaging>=20.9->huggingface-hub>=0.4.0->sentence-transformers==2.2.2) (3.0.6)\n",
      "Requirement already satisfied: charset-normalizer~=2.0.0 in /home/ec2-user/anaconda3/envs/python3/lib/python3.8/site-packages (from requests->huggingface-hub>=0.4.0->sentence-transformers==2.2.2) (2.0.8)\n",
      "Requirement already satisfied: urllib3<1.27,>=1.21.1 in /home/ec2-user/anaconda3/envs/python3/lib/python3.8/site-packages (from requests->huggingface-hub>=0.4.0->sentence-transformers==2.2.2) (1.26.8)\n",
      "Requirement already satisfied: idna<4,>=2.5 in /home/ec2-user/anaconda3/envs/python3/lib/python3.8/site-packages (from requests->huggingface-hub>=0.4.0->sentence-transformers==2.2.2) (3.1)\n",
      "Requirement already satisfied: certifi>=2017.4.17 in /home/ec2-user/anaconda3/envs/python3/lib/python3.8/site-packages (from requests->huggingface-hub>=0.4.0->sentence-transformers==2.2.2) (2021.10.8)\n",
      "Requirement already satisfied: six in /home/ec2-user/anaconda3/envs/python3/lib/python3.8/site-packages (from sacremoses->transformers<5.0.0,>=4.6.0->sentence-transformers==2.2.2) (1.16.0)\n",
      "Note: you may need to restart the kernel to use updated packages.\n"
     ]
    }
   ],
   "source": [
    "pip install -U sentence-transformers==2.2.2"
   ]
  },
  {
   "cell_type": "markdown",
   "id": "a10f4d95-6fa5-4aea-85d7-2d0095c85be2",
   "metadata": {},
   "source": [
    "## 3.2. torch, torchvision, dataset and transformers 설치"
   ]
  },
  {
   "cell_type": "code",
   "execution_count": 4,
   "id": "63d7f159-b248-4b93-b34c-8231bf993932",
   "metadata": {
    "tags": []
   },
   "outputs": [
    {
     "name": "stdout",
     "output_type": "stream",
     "text": [
      "Looking in indexes: https://pypi.org/simple, https://pip.repos.neuron.amazonaws.com\n",
      "Requirement already satisfied: torch==1.9.1 in /home/ec2-user/anaconda3/envs/python3/lib/python3.8/site-packages (1.9.1)\n",
      "Requirement already satisfied: torchvision==0.10.1 in /home/ec2-user/anaconda3/envs/python3/lib/python3.8/site-packages (0.10.1)\n",
      "Requirement already satisfied: transformers==4.18.0 in /home/ec2-user/anaconda3/envs/python3/lib/python3.8/site-packages (4.18.0)\n",
      "Requirement already satisfied: datasets==2.4.0 in /home/ec2-user/anaconda3/envs/python3/lib/python3.8/site-packages (2.4.0)\n",
      "Requirement already satisfied: typing-extensions in /home/ec2-user/anaconda3/envs/python3/lib/python3.8/site-packages (from torch==1.9.1) (4.0.0)\n",
      "Requirement already satisfied: pillow>=5.3.0 in /home/ec2-user/anaconda3/envs/python3/lib/python3.8/site-packages (from torchvision==0.10.1) (9.0.1)\n",
      "Requirement already satisfied: numpy in /home/ec2-user/anaconda3/envs/python3/lib/python3.8/site-packages (from torchvision==0.10.1) (1.20.3)\n",
      "Requirement already satisfied: requests in /home/ec2-user/anaconda3/envs/python3/lib/python3.8/site-packages (from transformers==4.18.0) (2.26.0)\n",
      "Requirement already satisfied: sacremoses in /home/ec2-user/anaconda3/envs/python3/lib/python3.8/site-packages (from transformers==4.18.0) (0.0.53)\n",
      "Requirement already satisfied: tqdm>=4.27 in /home/ec2-user/anaconda3/envs/python3/lib/python3.8/site-packages (from transformers==4.18.0) (4.62.3)\n",
      "Requirement already satisfied: regex!=2019.12.17 in /home/ec2-user/anaconda3/envs/python3/lib/python3.8/site-packages (from transformers==4.18.0) (2021.11.10)\n",
      "Requirement already satisfied: pyyaml>=5.1 in /home/ec2-user/anaconda3/envs/python3/lib/python3.8/site-packages (from transformers==4.18.0) (5.4.1)\n",
      "Requirement already satisfied: huggingface-hub<1.0,>=0.1.0 in /home/ec2-user/anaconda3/envs/python3/lib/python3.8/site-packages (from transformers==4.18.0) (0.8.1)\n",
      "Requirement already satisfied: tokenizers!=0.11.3,<0.13,>=0.11.1 in /home/ec2-user/anaconda3/envs/python3/lib/python3.8/site-packages (from transformers==4.18.0) (0.12.1)\n",
      "Requirement already satisfied: packaging>=20.0 in /home/ec2-user/anaconda3/envs/python3/lib/python3.8/site-packages (from transformers==4.18.0) (21.3)\n",
      "Requirement already satisfied: filelock in /home/ec2-user/anaconda3/envs/python3/lib/python3.8/site-packages (from transformers==4.18.0) (3.4.0)\n",
      "Requirement already satisfied: xxhash in /home/ec2-user/anaconda3/envs/python3/lib/python3.8/site-packages (from datasets==2.4.0) (3.0.0)\n",
      "Requirement already satisfied: fsspec[http]>=2021.11.1 in /home/ec2-user/anaconda3/envs/python3/lib/python3.8/site-packages (from datasets==2.4.0) (2021.11.1)\n",
      "Requirement already satisfied: dill<0.3.6 in /home/ec2-user/anaconda3/envs/python3/lib/python3.8/site-packages (from datasets==2.4.0) (0.3.4)\n",
      "Requirement already satisfied: aiohttp in /home/ec2-user/anaconda3/envs/python3/lib/python3.8/site-packages (from datasets==2.4.0) (3.8.1)\n",
      "Requirement already satisfied: multiprocess in /home/ec2-user/anaconda3/envs/python3/lib/python3.8/site-packages (from datasets==2.4.0) (0.70.12.2)\n",
      "Requirement already satisfied: responses<0.19 in /home/ec2-user/anaconda3/envs/python3/lib/python3.8/site-packages (from datasets==2.4.0) (0.18.0)\n",
      "Requirement already satisfied: pyarrow>=6.0.0 in /home/ec2-user/anaconda3/envs/python3/lib/python3.8/site-packages (from datasets==2.4.0) (7.0.0)\n",
      "Requirement already satisfied: pandas in /home/ec2-user/anaconda3/envs/python3/lib/python3.8/site-packages (from datasets==2.4.0) (1.3.4)\n",
      "Requirement already satisfied: pyparsing!=3.0.5,>=2.0.2 in /home/ec2-user/anaconda3/envs/python3/lib/python3.8/site-packages (from packaging>=20.0->transformers==4.18.0) (3.0.6)\n",
      "Requirement already satisfied: charset-normalizer~=2.0.0 in /home/ec2-user/anaconda3/envs/python3/lib/python3.8/site-packages (from requests->transformers==4.18.0) (2.0.8)\n",
      "Requirement already satisfied: urllib3<1.27,>=1.21.1 in /home/ec2-user/anaconda3/envs/python3/lib/python3.8/site-packages (from requests->transformers==4.18.0) (1.26.8)\n",
      "Requirement already satisfied: certifi>=2017.4.17 in /home/ec2-user/anaconda3/envs/python3/lib/python3.8/site-packages (from requests->transformers==4.18.0) (2021.10.8)\n",
      "Requirement already satisfied: idna<4,>=2.5 in /home/ec2-user/anaconda3/envs/python3/lib/python3.8/site-packages (from requests->transformers==4.18.0) (3.1)\n",
      "Requirement already satisfied: frozenlist>=1.1.1 in /home/ec2-user/anaconda3/envs/python3/lib/python3.8/site-packages (from aiohttp->datasets==2.4.0) (1.2.0)\n",
      "Requirement already satisfied: attrs>=17.3.0 in /home/ec2-user/anaconda3/envs/python3/lib/python3.8/site-packages (from aiohttp->datasets==2.4.0) (20.3.0)\n",
      "Requirement already satisfied: multidict<7.0,>=4.5 in /home/ec2-user/anaconda3/envs/python3/lib/python3.8/site-packages (from aiohttp->datasets==2.4.0) (5.2.0)\n",
      "Requirement already satisfied: aiosignal>=1.1.2 in /home/ec2-user/anaconda3/envs/python3/lib/python3.8/site-packages (from aiohttp->datasets==2.4.0) (1.2.0)\n",
      "Requirement already satisfied: yarl<2.0,>=1.0 in /home/ec2-user/anaconda3/envs/python3/lib/python3.8/site-packages (from aiohttp->datasets==2.4.0) (1.7.2)\n",
      "Requirement already satisfied: async-timeout<5.0,>=4.0.0a3 in /home/ec2-user/anaconda3/envs/python3/lib/python3.8/site-packages (from aiohttp->datasets==2.4.0) (4.0.1)\n",
      "Requirement already satisfied: python-dateutil>=2.7.3 in /home/ec2-user/anaconda3/envs/python3/lib/python3.8/site-packages (from pandas->datasets==2.4.0) (2.8.2)\n",
      "Requirement already satisfied: pytz>=2017.3 in /home/ec2-user/anaconda3/envs/python3/lib/python3.8/site-packages (from pandas->datasets==2.4.0) (2021.3)\n",
      "Requirement already satisfied: click in /home/ec2-user/anaconda3/envs/python3/lib/python3.8/site-packages (from sacremoses->transformers==4.18.0) (8.0.3)\n",
      "Requirement already satisfied: six in /home/ec2-user/anaconda3/envs/python3/lib/python3.8/site-packages (from sacremoses->transformers==4.18.0) (1.16.0)\n",
      "Requirement already satisfied: joblib in /home/ec2-user/anaconda3/envs/python3/lib/python3.8/site-packages (from sacremoses->transformers==4.18.0) (1.1.0)\n"
     ]
    }
   ],
   "source": [
    "! pip3 install torch==1.9.1 torchvision==0.10.1 transformers==4.18.0  datasets==2.4.0"
   ]
  },
  {
   "cell_type": "markdown",
   "id": "27bff16c-e9fd-4c24-bf16-7f7b8550b8ed",
   "metadata": {},
   "source": [
    "## 3.3. konlpy , wordcloud 등 설치"
   ]
  },
  {
   "cell_type": "code",
   "execution_count": 5,
   "id": "fe552b86-8d9a-4c29-937d-e4a373496026",
   "metadata": {
    "tags": []
   },
   "outputs": [
    {
     "name": "stdout",
     "output_type": "stream",
     "text": [
      "Looking in indexes: https://pypi.org/simple, https://pip.repos.neuron.amazonaws.com\n",
      "Requirement already satisfied: konlpy==0.6.0 in /home/ec2-user/anaconda3/envs/python3/lib/python3.8/site-packages (0.6.0)\n",
      "Requirement already satisfied: lxml>=4.1.0 in /home/ec2-user/anaconda3/envs/python3/lib/python3.8/site-packages (from konlpy==0.6.0) (4.8.0)\n",
      "Requirement already satisfied: numpy>=1.6 in /home/ec2-user/anaconda3/envs/python3/lib/python3.8/site-packages (from konlpy==0.6.0) (1.20.3)\n",
      "Requirement already satisfied: JPype1>=0.7.0 in /home/ec2-user/anaconda3/envs/python3/lib/python3.8/site-packages (from konlpy==0.6.0) (1.4.0)\n",
      "Looking in indexes: https://pypi.org/simple, https://pip.repos.neuron.amazonaws.com\n",
      "Requirement already satisfied: wordcloud==1.8.1 in /home/ec2-user/anaconda3/envs/python3/lib/python3.8/site-packages (1.8.1)\n",
      "Requirement already satisfied: graphviz==0.20.1 in /home/ec2-user/anaconda3/envs/python3/lib/python3.8/site-packages (0.20.1)\n",
      "Requirement already satisfied: progressbar==2.5 in /home/ec2-user/anaconda3/envs/python3/lib/python3.8/site-packages (2.5)\n",
      "Requirement already satisfied: matplotlib in /home/ec2-user/anaconda3/envs/python3/lib/python3.8/site-packages (from wordcloud==1.8.1) (3.5.0)\n",
      "Requirement already satisfied: numpy>=1.6.1 in /home/ec2-user/anaconda3/envs/python3/lib/python3.8/site-packages (from wordcloud==1.8.1) (1.20.3)\n",
      "Requirement already satisfied: pillow in /home/ec2-user/anaconda3/envs/python3/lib/python3.8/site-packages (from wordcloud==1.8.1) (9.0.1)\n",
      "Requirement already satisfied: packaging>=20.0 in /home/ec2-user/anaconda3/envs/python3/lib/python3.8/site-packages (from matplotlib->wordcloud==1.8.1) (21.3)\n",
      "Requirement already satisfied: cycler>=0.10 in /home/ec2-user/anaconda3/envs/python3/lib/python3.8/site-packages (from matplotlib->wordcloud==1.8.1) (0.11.0)\n",
      "Requirement already satisfied: kiwisolver>=1.0.1 in /home/ec2-user/anaconda3/envs/python3/lib/python3.8/site-packages (from matplotlib->wordcloud==1.8.1) (1.3.2)\n",
      "Requirement already satisfied: fonttools>=4.22.0 in /home/ec2-user/anaconda3/envs/python3/lib/python3.8/site-packages (from matplotlib->wordcloud==1.8.1) (4.28.2)\n",
      "Requirement already satisfied: python-dateutil>=2.7 in /home/ec2-user/anaconda3/envs/python3/lib/python3.8/site-packages (from matplotlib->wordcloud==1.8.1) (2.8.2)\n",
      "Requirement already satisfied: pyparsing>=2.2.1 in /home/ec2-user/anaconda3/envs/python3/lib/python3.8/site-packages (from matplotlib->wordcloud==1.8.1) (3.0.6)\n",
      "Requirement already satisfied: six>=1.5 in /home/ec2-user/anaconda3/envs/python3/lib/python3.8/site-packages (from python-dateutil>=2.7->matplotlib->wordcloud==1.8.1) (1.16.0)\n"
     ]
    }
   ],
   "source": [
    "!pip install konlpy==0.6.0 # 한글 Tokenizer 사용\n",
    "!pip install wordcloud==1.8.1 graphviz==0.20.1 progressbar==2.5"
   ]
  },
  {
   "cell_type": "markdown",
   "id": "1bb1624e-e814-4abd-a75f-9f998fc5043c",
   "metadata": {},
   "source": [
    "# 4. 설치된 버전 확인"
   ]
  },
  {
   "cell_type": "code",
   "execution_count": 6,
   "id": "a09bdb79-4d9a-47b6-9a00-d0ec1c97f02c",
   "metadata": {},
   "outputs": [
    {
     "name": "stdout",
     "output_type": "stream",
     "text": [
      "sentence-transformers              2.2.2\n",
      "torch                              1.9.1\n",
      "torchvision                        0.10.1\n",
      "torchvision                        0.10.1\n",
      "sentence-transformers              2.2.2\n",
      "transformers                       4.18.0\n",
      "konlpy                             0.6.0\n",
      "wordcloud                          1.8.1\n",
      "graphviz                           0.20.1\n",
      "datasets                           2.4.0\n",
      "progressbar                        2.5\n",
      "Python 3.8.12\n"
     ]
    }
   ],
   "source": [
    "%%sh \n",
    "pip list | grep sentence-transformers\n",
    "pip list | grep torch\n",
    "pip list | grep torchvision\n",
    "pip list | grep transformers\n",
    "pip list | grep konlpy\n",
    "pip list | grep wordcloud\n",
    "pip list | grep graphviz\n",
    "pip list | grep datasets\n",
    "pip list | grep progressbar\n",
    "python --version"
   ]
  },
  {
   "cell_type": "markdown",
   "id": "ee1bdf6c-02d4-47a6-8fa1-54d1159a9610",
   "metadata": {},
   "source": [
    "# 5. 로컬 모드 셋업\n",
    "- 기본 다커 폴더 위치 변경 등을 함."
   ]
  },
  {
   "cell_type": "code",
   "execution_count": 7,
   "id": "858c24e7-ccd1-41a5-9921-9f14397fe903",
   "metadata": {},
   "outputs": [
    {
     "name": "stdout",
     "output_type": "stream",
     "text": [
      "nvidia-docker2 already installed. We are good to go!\n",
      "Redirecting to /bin/systemctl stop docker.service\n",
      "Warning: Stopping docker.service, but it can still be activated by:\n",
      "  docker.socket\n",
      "Redirecting to /bin/systemctl start docker.service\n",
      "SageMaker instance route table setup is ok. We are good to go.\n",
      "SageMaker instance routing for Docker is ok. We are good to go!\n"
     ]
    }
   ],
   "source": [
    "! bash local_mode_setup.sh"
   ]
  },
  {
   "cell_type": "code",
   "execution_count": null,
   "id": "c4c82705-7fed-45bb-9a03-6513b38f4261",
   "metadata": {},
   "outputs": [],
   "source": []
  },
  {
   "cell_type": "code",
   "execution_count": null,
   "id": "cbd79eac-7fbf-4a0f-aef7-85062fbac507",
   "metadata": {},
   "outputs": [],
   "source": []
  },
  {
   "cell_type": "code",
   "execution_count": null,
   "id": "06e978c9-558e-48b9-8f8a-11f57aa8662f",
   "metadata": {},
   "outputs": [],
   "source": []
  },
  {
   "cell_type": "code",
   "execution_count": null,
   "id": "afbc3b46-fff2-4eed-9933-211dc1e2135e",
   "metadata": {},
   "outputs": [],
   "source": []
  }
 ],
 "metadata": {
  "kernelspec": {
   "display_name": "conda_python3",
   "language": "python",
   "name": "conda_python3"
  },
  "language_info": {
   "codemirror_mode": {
    "name": "ipython",
    "version": 3
   },
   "file_extension": ".py",
   "mimetype": "text/x-python",
   "name": "python",
   "nbconvert_exporter": "python",
   "pygments_lexer": "ipython3",
   "version": "3.8.12"
  }
 },
 "nbformat": 4,
 "nbformat_minor": 5
}
