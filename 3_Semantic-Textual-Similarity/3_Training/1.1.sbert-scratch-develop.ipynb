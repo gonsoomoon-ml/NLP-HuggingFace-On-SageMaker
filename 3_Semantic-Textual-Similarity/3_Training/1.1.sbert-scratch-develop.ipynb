{
 "cells": [
  {
   "cell_type": "markdown",
   "id": "94ed44ac-98e5-4200-8f1c-3adedec2866b",
   "metadata": {},
   "source": [
    "# [모듈 1.1] Sentence-BERT (SBERT) Fine Training 및 추론\n",
    "\n",
    "\n",
    "---"
   ]
  },
  {
   "cell_type": "markdown",
   "id": "2d897cd6-a127-4a1c-9980-aa033c332f6a",
   "metadata": {},
   "source": [
    "\n",
    "# 0. Introduction\n",
    "---\n",
    "\n",
    "본 모듈에서는 문장 임베딩을 산출하는 Sentence-BERT 모델을 STS(Semantic Textual Similarity) 데이터셋으로 파인튜닝해 봅니다.\n",
    "SentenceTransformers 패키지를 사용하면 파인튜닝을 쉽게 수행할 수 있습니다. 다만, 현 시점에는 분산 훈련 기능 지원이 잘 되지 않으므로, 대용량 데이터셋으로 파인튜닝하는 니즈가 있다면 커스텀 훈련 코드를 직접 작성하셔야 합니다.\n",
    "\n",
    "***[Note] 이 노트북은 SageMaker Studio Lab, SageMaker Studio, SageMaker 노트북 인스턴스, 또는 여러분의 로컬 머신에서 이 데모를 실행할 수 있습니다. SageMaker Studio Lab을 사용하는 경우 GPU를 활성화하세요.***\n",
    "\n",
    "### References\n",
    "\n",
    "- Hugging Face Tutorial: https://huggingface.co/docs/transformers/training\n",
    "- Sentence-BERT paper: https://arxiv.org/abs/1908.10084\n",
    "- SentenceTransformers: https://www.sbert.net\n",
    "- KorNLU Datasets: https://github.com/kakaobrain/KorNLUDatasets"
   ]
  },
  {
   "cell_type": "markdown",
   "id": "577d681d-0f93-44ea-a3d1-0e0a9bb5e063",
   "metadata": {
    "tags": []
   },
   "source": [
    "\n",
    "# 1. Setup Environments\n",
    "---\n"
   ]
  },
  {
   "cell_type": "markdown",
   "id": "2a6cd89c-04e3-41d3-91b3-1aa2fe9dded8",
   "metadata": {},
   "source": [
    "#### 사용자 정의 라이브러러 환경 셋업 및 라이브러리 로딩"
   ]
  },
  {
   "cell_type": "code",
   "execution_count": 1,
   "id": "69eaf22d-e370-4a9f-9cfe-f974ed79640c",
   "metadata": {},
   "outputs": [],
   "source": [
    "import sys"
   ]
  },
  {
   "cell_type": "code",
   "execution_count": 2,
   "id": "1d3e0887-da61-40a0-b377-cbeee07dfed9",
   "metadata": {},
   "outputs": [],
   "source": [
    "%load_ext autoreload\n",
    "%autoreload 2\n",
    "\n",
    "sys.path.append('src')"
   ]
  },
  {
   "cell_type": "code",
   "execution_count": 3,
   "id": "c6d4b001-3508-4ca1-b73b-76b11fdcce7a",
   "metadata": {},
   "outputs": [],
   "source": [
    "import os\n",
    "import sys\n",
    "import json\n",
    "import logging\n",
    "import argparse\n",
    "import torch\n",
    "import gzip\n",
    "import csv\n",
    "import math\n",
    "import urllib\n",
    "from torch import nn\n",
    "import numpy as np\n",
    "import pandas as pd\n",
    "from tqdm import tqdm\n",
    "\n",
    "from datetime import datetime\n",
    "from datasets import load_dataset\n",
    "from torch.utils.data import DataLoader\n",
    "from sentence_transformers import SentenceTransformer, SentencesDataset, LoggingHandler, losses, models, util\n",
    "from sentence_transformers.evaluation import EmbeddingSimilarityEvaluator\n",
    "from sentence_transformers.readers import InputExample\n",
    "from transformers.trainer_utils import get_last_checkpoint\n",
    "\n",
    "from os.path import exists\n",
    "\n",
    "logging.basicConfig(\n",
    "    level=logging.INFO,\n",
    "    format='%(asctime)s - %(message)s',\n",
    "    datefmt='%Y-%m-%d %H:%M:%S',\n",
    "    handlers=[LoggingHandler()]\n",
    ")\n",
    "\n",
    "logger = logging.getLogger(__name__)"
   ]
  },
  {
   "cell_type": "markdown",
   "id": "22cdb95d-c62c-4174-a637-af73887f2785",
   "metadata": {},
   "source": [
    "# 2. 데이터 준비 및 알고리즘 훈련에 관련된 변수 준비"
   ]
  },
  {
   "cell_type": "markdown",
   "id": "296b5a92-2172-4e9f-a36c-2497bb42d497",
   "metadata": {},
   "source": [
    "## 2.1. 데이타 저장 위치 및 모델 훈련 후의 아티펙트 위치 정의 "
   ]
  },
  {
   "cell_type": "code",
   "execution_count": 4,
   "id": "970aca02-6ba6-4111-943a-8ffa15e5ead9",
   "metadata": {},
   "outputs": [],
   "source": [
    "dataset= 'KorSTS'\n",
    "\n",
    "train_dir = f'data/{dataset}/train'\n",
    "valid_dir = f'data/{dataset}/valid'\n",
    "test_dir = f'data/{dataset}/test'\n",
    "\n",
    "\n",
    "os.makedirs(train_dir, exist_ok=True)\n",
    "os.makedirs(valid_dir, exist_ok=True) \n",
    "os.makedirs(test_dir, exist_ok=True) \n",
    "\n",
    "chkpt_dir = f'{dataset}/chkpt'\n",
    "model_dir = f'{dataset}/model'\n",
    "output_data_dir = f'{dataset}/output'\n",
    "\n",
    "os.makedirs(chkpt_dir, exist_ok=True) \n",
    "os.makedirs(model_dir, exist_ok=True)\n",
    "os.makedirs(output_data_dir, exist_ok=True) \n",
    "\n",
    "# 기존 파일 제거\n",
    "!rm -rf {chkpt_dir} {model_dir} {output_data_dir} \n"
   ]
  },
  {
   "cell_type": "markdown",
   "id": "af49427d-290a-4b11-87b9-cae8740822b5",
   "metadata": {},
   "source": [
    "## 2.2. 환경 변수 정의\n",
    "- 아래의 환경 변수는 아래 `입력 변수` 를  정의 할때에 사용합니다.\n",
    "- \"잠시 이런 것이 있다\" 하고 지나가시기를 바랍니다.\n",
    "    - 아래 스크립트는 현재의 \"세이지 메이커 노트북\" 에서도 동작하고, 추후에 세이지 메이커의 도커 컨테이노를 통한 모델 훈련시에 도 사용하기 위한 코드 입니다. \n",
    "    - `os.environ.get('SM_CURRENT_HOST')` 이 NULL 이기에 아래의 환경 변수가 세팅이 됩니다."
   ]
  },
  {
   "cell_type": "code",
   "execution_count": 5,
   "id": "92c72675-ac16-44cc-8a79-11557785a206",
   "metadata": {},
   "outputs": [],
   "source": [
    "\n",
    "if os.environ.get('SM_CURRENT_HOST') is None:\n",
    "    is_sm_container = False\n",
    "\n",
    "    #src_dir = '/'.join(os.getcwd().split('/')[:-1])\n",
    "    src_dir = os.getcwd()\n",
    "    os.environ['SM_MODEL_DIR'] = f'{src_dir}/{model_dir}'\n",
    "    os.environ['SM_OUTPUT_DATA_DIR'] = f'{src_dir}/{output_data_dir}'\n",
    "    os.environ['SM_NUM_GPUS'] = str(torch.cuda.device_count())\n",
    "    os.environ['SM_CHANNEL_TRAIN'] = f'{src_dir}/{train_dir}'\n",
    "    os.environ['SM_CHANNEL_VALID'] = f'{src_dir}/{valid_dir}'\n",
    "    os.environ['SM_CHANNEL_TEST'] = f'{src_dir}/{test_dir}'\n",
    "\n"
   ]
  },
  {
   "cell_type": "markdown",
   "id": "a1215e31-b560-4ea9-8fd2-eb097c9dd30b",
   "metadata": {},
   "source": [
    "## 2.3. Argument parser 함수 준비 및 변수 로딩\n",
    "- parser_args() 를 정의하고 정의된 변수를 로딩 하여 값을 확인 합니다.\n",
    "    - 아래의 코드는 세이지 메이커에서 훈련시에 바로 재사용 합니다."
   ]
  },
  {
   "cell_type": "markdown",
   "id": "9635cf55-6781-4f0b-bed4-c4c49a76619c",
   "metadata": {
    "tags": []
   },
   "source": [
    "주피터 노트북에서 곧바로 실행할 수 있도록 설정값들을 로드합니다. "
   ]
  },
  {
   "cell_type": "code",
   "execution_count": 6,
   "id": "c512803f-d734-4edd-a868-0f369f6b3888",
   "metadata": {},
   "outputs": [
    {
     "name": "stdout",
     "output_type": "stream",
     "text": [
      "2022-08-11 14:17:33 - ***** Arguments *****\n",
      "\n",
      "2022-08-11 14:17:33 - epochs=1\n",
      "seed=42\n",
      "train_batch_size=32\n",
      "eval_batch_size=32\n",
      "warmup_steps=100\n",
      "logging_steps=100\n",
      "learning_rate=5e-05\n",
      "disable_tqdm=False\n",
      "fp16=True\n",
      "tokenizer_id=sentence-transformers/xlm-r-100langs-bert-base-nli-stsb-mean-tokens\n",
      "model_id=sentence-transformers/xlm-r-100langs-bert-base-nli-stsb-mean-tokens\n",
      "output_data_dir=/home/ec2-user/SageMaker/NLP-HuggingFace-On-SageMaker/3_Semantic-Textual-Similarity/3_Training/KorSTS/output\n",
      "model_dir=/home/ec2-user/SageMaker/NLP-HuggingFace-On-SageMaker/3_Semantic-Textual-Similarity/3_Training/KorSTS/model\n",
      "n_gpus=4\n",
      "train_dir=/home/ec2-user/SageMaker/NLP-HuggingFace-On-SageMaker/3_Semantic-Textual-Similarity/3_Training/data/KorSTS/train\n",
      "valid_dir=/home/ec2-user/SageMaker/NLP-HuggingFace-On-SageMaker/3_Semantic-Textual-Similarity/3_Training/data/KorSTS/valid\n",
      "test_dir=/home/ec2-user/SageMaker/NLP-HuggingFace-On-SageMaker/3_Semantic-Textual-Similarity/3_Training/data/KorSTS/test\n",
      "chkpt_dir=KorSTS/chkpt\n",
      "\n"
     ]
    }
   ],
   "source": [
    "def parser_args(train_notebook=False):\n",
    "    parser = argparse.ArgumentParser()\n",
    "\n",
    "    # 알고리즘에 대한 사용자 정의 세팅\n",
    "    parser.add_argument(\"--epochs\", type=int, default=1)\n",
    "    parser.add_argument(\"--seed\", type=int, default=42)\n",
    "    parser.add_argument(\"--train_batch_size\", type=int, default=32)\n",
    "    parser.add_argument(\"--eval_batch_size\", type=int, default=32)\n",
    "    parser.add_argument(\"--warmup_steps\", type=int, default=100)\n",
    "    parser.add_argument(\"--logging_steps\", type=int, default=100)\n",
    "    parser.add_argument(\"--learning_rate\", type=str, default=5e-5)\n",
    "    parser.add_argument(\"--disable_tqdm\", type=bool, default=False)\n",
    "    parser.add_argument(\"--fp16\", type=bool, default=True)\n",
    "    parser.add_argument(\"--tokenizer_id\", type=str, default='sentence-transformers/xlm-r-100langs-bert-base-nli-stsb-mean-tokens')\n",
    "    parser.add_argument(\"--model_id\", type=str, default='sentence-transformers/xlm-r-100langs-bert-base-nli-stsb-mean-tokens')\n",
    "    \n",
    "    # SageMaker Container environment\n",
    "    parser.add_argument(\"--output_data_dir\", type=str, default=os.environ[\"SM_OUTPUT_DATA_DIR\"])\n",
    "    parser.add_argument(\"--model_dir\", type=str, default=os.environ[\"SM_MODEL_DIR\"])\n",
    "    parser.add_argument(\"--n_gpus\", type=str, default=os.environ[\"SM_NUM_GPUS\"])\n",
    "    parser.add_argument(\"--train_dir\", type=str, default=os.environ[\"SM_CHANNEL_TRAIN\"])\n",
    "    parser.add_argument(\"--valid_dir\", type=str, default=os.environ[\"SM_CHANNEL_VALID\"])\n",
    "    parser.add_argument(\"--test_dir\", type=str, default=os.environ[\"SM_CHANNEL_TEST\"])    \n",
    "    parser.add_argument('--chkpt_dir', type=str, default='/opt/ml/checkpoints')     \n",
    "\n",
    "    if train_notebook:\n",
    "        args = parser.parse_args([])\n",
    "    else:\n",
    "        args = parser.parse_args()\n",
    "    return args\n",
    "\n",
    "\n",
    "args = parser_args(train_notebook=True) \n",
    "\n",
    "args.chkpt_dir = chkpt_dir\n",
    "logger.info(\"***** Arguments *****\\n\")\n",
    "logger.info(''.join(f'{k}={v}\\n' for k, v in vars(args).items()))\n",
    "\n"
   ]
  },
  {
   "cell_type": "markdown",
   "id": "5478a4d9-eaad-4652-8b1a-141d40b18d88",
   "metadata": {},
   "source": [
    "# 3. Data Preparation\n",
    "---\n",
    "본 핸즈온에서 사용할 데이터셋은 KorSTS (https://github.com/kakaobrain/KorNLUDatasets) 와 KLUE-STS (https://github.com/KLUE-benchmark/KLUE) 입니다.\n",
    "단일 데이터셋으로 훈련해도 무방하지만, 두 데이터셋을 모두 활용하여 훈련 시, 약간의 성능 향상이 있습니다.\n",
    "\n",
    "### Training Tips\n",
    "SBERT 훈련은 일반적으로 아래 3가지 방법들을 베이스라인으로 사용합니다.\n",
    "1. NLI (Natural Language Inference) 데이터셋으로 훈련\n",
    "2. STS 데이터셋으로 훈련\n",
    "3. NLI 데이터셋으로 훈련 후 STS 데이터셋으로 파인튜닝\n",
    "\n",
    "한국어 데이터의 경우, STS의 훈련 데이터가 상대적으로 적음에도 불구하고 NLI 기반 모델보다 예측 성능이 우수합니다. 따라서, 2번째 방법으로 진행합니다. <br>\n",
    "다만, STS보다 조금 더 좋은 예측 성능을 원한다면 NLI 데이터로 먼저 훈련하고 STS 데이터셋으로 이어서 훈련하는 것을 권장합니다."
   ]
  },
  {
   "cell_type": "markdown",
   "id": "9aa546b9-2072-42f3-b886-18a06069edf0",
   "metadata": {},
   "source": [
    "## 3.1. KLUE-STS 데이터셋 다운로드 및 피쳐셋 생성\n",
    "KLUE-STS 데이터셋을 허깅페이스 데이터셋 허브에서 다운로드 후, SBERT 훈련에 필요한 피쳐셋을 생성합니다."
   ]
  },
  {
   "cell_type": "code",
   "execution_count": 7,
   "id": "fc5b4880-9907-44f0-9e45-2e67f3938a60",
   "metadata": {},
   "outputs": [
    {
     "name": "stdout",
     "output_type": "stream",
     "text": [
      "2022-08-11 14:17:33 - Read KLUE-STS train/dev dataset\n",
      "2022-08-11 14:17:33 - Reusing dataset klue (/home/ec2-user/.cache/huggingface/datasets/klue/sts/1.0.0/e0fc3bc3de3eb03be2c92d72fd04a60ecc71903f821619cb28ca0e1e29e4233e)\n"
     ]
    },
    {
     "data": {
      "application/vnd.jupyter.widget-view+json": {
       "model_id": "2b5b24c6ceb44b1ebc5dcdfcb5929766",
       "version_major": 2,
       "version_minor": 0
      },
      "text/plain": [
       "  0%|          | 0/2 [00:00<?, ?it/s]"
      ]
     },
     "metadata": {},
     "output_type": "display_data"
    }
   ],
   "source": [
    "logger.info(\"Read KLUE-STS train/dev dataset\")\n",
    "datasets = load_dataset(\"klue\", \"sts\")\n",
    "\n",
    "train_samples = []\n",
    "dev_samples = []\n",
    "\n",
    "for phase in [\"train\", \"validation\"]:\n",
    "    examples = datasets[phase]\n",
    "\n",
    "    for example in examples:\n",
    "        score = float(example[\"labels\"][\"label\"]) / 5.0  # 0.0 ~ 1.0 스케일로 유사도 정규화\n",
    "        inp_example = InputExample(texts=[example[\"sentence1\"], example[\"sentence2\"]], label=score)\n",
    "\n",
    "        if phase == \"validation\":\n",
    "            dev_samples.append(inp_example)\n",
    "        else:\n",
    "            train_samples.append(inp_example)"
   ]
  },
  {
   "cell_type": "code",
   "execution_count": 8,
   "id": "7f8f0110-b122-4597-bbb7-559e67c39032",
   "metadata": {},
   "outputs": [
    {
     "name": "stdout",
     "output_type": "stream",
     "text": [
      "dev_samples:  519\n",
      "train_samples:  11668\n"
     ]
    }
   ],
   "source": [
    "print(\"dev_samples: \", len(dev_samples))\n",
    "print(\"train_samples: \", len(train_samples))"
   ]
  },
  {
   "cell_type": "code",
   "execution_count": 9,
   "id": "e95be88f-ab30-487a-814e-fb714b0c0314",
   "metadata": {},
   "outputs": [
    {
     "name": "stdout",
     "output_type": "stream",
     "text": [
      "The first 2 is \n",
      "\n",
      "0.74 ['숙소 위치는 찾기 쉽고 일반적인 한국의 반지하 숙소입니다.', '숙박시설의 위치는 쉽게 찾을 수 있고 한국의 대표적인 반지하 숙박시설입니다.']\n",
      "0.0 ['위반행위 조사 등을 거부·방해·기피한 자는 500만원 이하 과태료 부과 대상이다.', '시민들 스스로 자발적인 예방 노력을\\xa0한 것은 아산 뿐만이 아니었다.']\n",
      "\n",
      "The last 2 is \n",
      "\n",
      "0.9400000000000001 ['개 1마리 고양이 3마리 너무 귀여워요!', '개 한 마리와 고양이 세 마리는 정말 귀여워요!']\n",
      "0.6599999999999999 ['학회 홍보 메일은 회신 메일을 보내지마', '학회 홍보 메일은 회신 하지마']\n"
     ]
    }
   ],
   "source": [
    "num = 2\n",
    "def show_head_tail_samples(num, train_samples ):\n",
    "    print(f\"The first {num} is \\n\")\n",
    "    for i in range(num):\n",
    "        print(train_samples[i].label , train_samples[i].texts)\n",
    "\n",
    "    print(f\"\\nThe last {num} is \\n\")    \n",
    "    for i in range(len(train_samples) -num, len(train_samples)):\n",
    "        print(train_samples[i].label , train_samples[i].texts)    \n",
    "        \n",
    "show_head_tail_samples(num, train_samples)        "
   ]
  },
  {
   "cell_type": "markdown",
   "id": "972b0261-3a0e-4612-b1ff-128a46fb37fd",
   "metadata": {
    "tags": []
   },
   "source": [
    "\n",
    "## 3.2. KorSTS 데이터셋 다운로드 및 피쳐셋 생성\n",
    "KorSTS 데이터셋은 허깅페이스에도 등록되어 있지만, 향후 여러분의 커스텀 데이터셋을 같이 사용하는 유즈케이스를 고려하여 GitHub의 데이터셋을 다운로드받아 사용하겠습니다. "
   ]
  },
  {
   "cell_type": "code",
   "execution_count": 10,
   "id": "589cb12d-9a43-4651-912c-466dbbfcd75d",
   "metadata": {},
   "outputs": [
    {
     "name": "stdout",
     "output_type": "stream",
     "text": [
      "2022-08-11 14:17:35 - File is downloaded\n"
     ]
    }
   ],
   "source": [
    "repo = 'https://raw.githubusercontent.com/kakaobrain/KorNLUDatasets/master/KorSTS'\n",
    "sts_train = f'{args.train_dir}/sts-train.tsv'\n",
    "sts_valid = f'{args.valid_dir}/sts-dev.tsv'\n",
    "sts_test = f'{args.test_dir}/sts-test.tsv'\n",
    "\n",
    "if exists(sts_train) and exists(sts_valid) and exists(sts_test):\n",
    "    logger.info(\"File exists\")\n",
    "else: \n",
    "    logger.info(\"File is downloaded\")\n",
    "    urllib.request.urlretrieve(f'{repo}/sts-train.tsv', filename=f'{args.train_dir}/sts-train.tsv')\n",
    "    urllib.request.urlretrieve(f'{repo}/sts-dev.tsv', filename=f'{args.valid_dir}/sts-dev.tsv')\n",
    "    urllib.request.urlretrieve(f'{repo}/sts-test.tsv', filename=f'{args.test_dir}/sts-test.tsv')\n",
    "\n",
    "    "
   ]
  },
  {
   "cell_type": "code",
   "execution_count": 11,
   "id": "0ad5f3ed-a0b9-4970-9b11-e3740cd92aec",
   "metadata": {},
   "outputs": [
    {
     "name": "stdout",
     "output_type": "stream",
     "text": [
      "2022-08-11 14:17:36 - Read KorSTS train dataset\n",
      "2022-08-11 14:17:36 - Read KorSTS dev dataset\n"
     ]
    }
   ],
   "source": [
    "logger.info(\"Read KorSTS train dataset\")\n",
    "\n",
    "with open(f'{args.train_dir}/sts-train.tsv', 'rt', encoding='utf8') as fIn:\n",
    "    reader = csv.DictReader(fIn, delimiter='\\t', quoting=csv.QUOTE_NONE)\n",
    "    for row in reader:\n",
    "        if row[\"sentence1\"] and row[\"sentence2\"]:          \n",
    "            score = float(row['score']) / 5.0  # Normalize score to range 0 ... 1\n",
    "            inp_example = InputExample(texts=[row['sentence1'], row['sentence2']], label=score)\n",
    "            train_samples.append(inp_example)\n",
    "            \n",
    "logging.info(\"Read KorSTS dev dataset\")            \n",
    "with open(f'{args.valid_dir}/sts-dev.tsv', 'rt', encoding='utf8') as fIn:\n",
    "    reader = csv.DictReader(fIn, delimiter='\\t', quoting=csv.QUOTE_NONE)\n",
    "    for row in reader:\n",
    "        if row[\"sentence1\"] and row[\"sentence2\"]:        \n",
    "            score = float(row['score']) / 5.0  # Normalize score to range 0 ... 1\n",
    "            inp_example = InputExample(texts=[row['sentence1'], row['sentence2']], label=score)\n",
    "            dev_samples.append(inp_example)            "
   ]
  },
  {
   "cell_type": "code",
   "execution_count": 12,
   "id": "57247912-538a-497d-8739-c58407b41a38",
   "metadata": {},
   "outputs": [
    {
     "name": "stdout",
     "output_type": "stream",
     "text": [
      "dev_samples:  2019\n",
      "train_samples:  17417\n"
     ]
    }
   ],
   "source": [
    "print(\"dev_samples: \", len(dev_samples))\n",
    "print(\"train_samples: \", len(train_samples))"
   ]
  },
  {
   "cell_type": "code",
   "execution_count": 13,
   "id": "dba029c5-338e-4843-b37a-8c48689d27c2",
   "metadata": {},
   "outputs": [
    {
     "name": "stdout",
     "output_type": "stream",
     "text": [
      "The first 2 is \n",
      "\n",
      "0.74 ['숙소 위치는 찾기 쉽고 일반적인 한국의 반지하 숙소입니다.', '숙박시설의 위치는 쉽게 찾을 수 있고 한국의 대표적인 반지하 숙박시설입니다.']\n",
      "0.0 ['위반행위 조사 등을 거부·방해·기피한 자는 500만원 이하 과태료 부과 대상이다.', '시민들 스스로 자발적인 예방 노력을\\xa0한 것은 아산 뿐만이 아니었다.']\n",
      "\n",
      "The last 2 is \n",
      "\n",
      "0.0 ['중국, 인도는 양국 관계를 증진시키겠다고 맹세한다', '중국은 불안한 주식 거래자들을 안심시키기 위해 뒤뚱거리고 있다.']\n",
      "0.0 ['푸틴 대변인 : 도핑 혐의는 근거 없는 것으로 보인다.', '가장 최근의 심한 날씨 : 토네이도 후 텍사스에서 1명 사망']\n"
     ]
    }
   ],
   "source": [
    "show_head_tail_samples(num, train_samples)        "
   ]
  },
  {
   "cell_type": "markdown",
   "id": "118a5b4e-81b3-48ad-b97e-b0cb8f98b099",
   "metadata": {},
   "source": [
    "# 4. Training\n",
    "---\n",
    "\n"
   ]
  },
  {
   "cell_type": "markdown",
   "id": "57d7fdc0-6779-44d1-b9b6-c2a7a5d43706",
   "metadata": {
    "tags": []
   },
   "source": [
    "## 4.1. Model 준비\n",
    "\n",
    "- model_name = 'sentence-transformers/xlm-r-100langs-bert-base-nli-stsb-mean-tokens'\n",
    "    - https://huggingface.co/sentence-transformers/xlm-r-100langs-bert-base-nli-stsb-mean-tokens\n",
    "    - 위 사이트에 Deprecated 되었다고 하지만, 아래에서 훈련후 Kor-STS Test Data 로 0.801 의 유사도 나옴.\n",
    "- model_name = 'sentence-transformers/distiluse-base-multilingual-cased-v1'     \n",
    "    - https://www.sbert.net/docs/pretrained_models.html#multi-lingual-models\n",
    "    - 아래에서 훈련후 Kor-STS Test Data 로 0.831 의 유사도 나옴."
   ]
  },
  {
   "cell_type": "code",
   "execution_count": 14,
   "id": "5ef7a33c-a8bc-427c-a64f-c5d7dfa5a09c",
   "metadata": {},
   "outputs": [
    {
     "name": "stdout",
     "output_type": "stream",
     "text": [
      "2022-08-11 14:17:36 - /home/ec2-user/SageMaker/NLP-HuggingFace-On-SageMaker/3_Semantic-Textual-Similarity/3_Training/KorSTS/model/training_sts_sentence-transformers-xlm-r-100langs-bert-base-nli-stsb-mean-tokens-2022-08-11_14-17-36\n"
     ]
    }
   ],
   "source": [
    "model_name = 'sentence-transformers/xlm-r-100langs-bert-base-nli-stsb-mean-tokens'\n",
    "# model_name = 'sentence-transformers/distiluse-base-multilingual-cased-v1'\n",
    "\n",
    "train_batch_size = args.train_batch_size\n",
    "num_epochs = args.epochs\n",
    "model_save_path = f'{args.model_dir}/training_sts_'+model_name.replace(\"/\", \"-\")+'-'+datetime.now().strftime(\"%Y-%m-%d_%H-%M-%S\")\n",
    "logger.info(model_save_path)\n",
    "\n",
    "# Use Huggingface/transformers model (like BERT, RoBERTa, XLNet, XLM-R) for mapping tokens to embeddings\n",
    "word_embedding_model = models.Transformer(model_name)"
   ]
  },
  {
   "cell_type": "markdown",
   "id": "4b92c650-3ae4-4319-a756-8457b8f03c97",
   "metadata": {},
   "source": [
    "문장 임베딩을 계산하기 위한 Pooler를 정의합니다. BERT로 분류 태스크를 수행할 때는 첫 번째 [CLS] 토큰의 출력 벡터를 임베딩 벡터로 사용하지만, SBERT에서는 BERT의 모든 토큰들의 출력 벡터들을 사용하여 임베딩 벡터를 계산합니다. 이 때 mean pooling이나 max pooling을 사용할 수 있으며, 본 예제에서는 mean pooling을 사용합니다."
   ]
  },
  {
   "cell_type": "code",
   "execution_count": 15,
   "id": "b01d0e7c-0ac6-410a-b07d-9fdbea08162c",
   "metadata": {},
   "outputs": [
    {
     "name": "stdout",
     "output_type": "stream",
     "text": [
      "2022-08-11 14:17:40 - Use pytorch device: cuda\n"
     ]
    }
   ],
   "source": [
    "# Apply mean pooling to get one fixed sized sentence vector\n",
    "pooling_model = models.Pooling(word_embedding_model.get_word_embedding_dimension(),\n",
    "                               pooling_mode_mean_tokens=True,\n",
    "                               pooling_mode_cls_token=False,\n",
    "                               pooling_mode_max_tokens=False)\n",
    "\n",
    "model = SentenceTransformer(modules=[word_embedding_model, pooling_model])"
   ]
  },
  {
   "cell_type": "markdown",
   "id": "4932a6fd-a2f2-4235-8c0a-dce48dff0281",
   "metadata": {},
   "source": [
    "## 4.2. 데이터 로더 준비"
   ]
  },
  {
   "cell_type": "code",
   "execution_count": 16,
   "id": "a9d05c9e-de08-410d-ace1-07212e4e4625",
   "metadata": {},
   "outputs": [],
   "source": [
    "train_dataset = SentencesDataset(train_samples, model)\n",
    "train_dataloader = DataLoader(train_dataset, shuffle=True, batch_size=train_batch_size)\n",
    "\n"
   ]
  },
  {
   "cell_type": "markdown",
   "id": "abad28b2-2ac0-4937-8a09-6f995dafe178",
   "metadata": {},
   "source": [
    "## 4.3. Loss 및 evaluator 준비"
   ]
  },
  {
   "cell_type": "markdown",
   "id": "c317c627-4ee2-4eca-bd12-dc25a76dfef2",
   "metadata": {},
   "source": [
    "모델 훈련 및 검증에 필요한 클래스 인스턴스를 생성합니다. 베이스라인으로 사용되는 검증 지표는 두 문장의 임베딩 벡터의 유사도를 산출하는 코사인 유사도입니다."
   ]
  },
  {
   "cell_type": "code",
   "execution_count": 17,
   "id": "f20d8263-04b6-498e-aa67-55dd266274b7",
   "metadata": {},
   "outputs": [
    {
     "name": "stdout",
     "output_type": "stream",
     "text": [
      "2022-08-11 14:17:40 - Warmup-steps: 55\n"
     ]
    }
   ],
   "source": [
    "train_loss = losses.CosineSimilarityLoss(model=model)\n",
    "\n",
    "evaluator = EmbeddingSimilarityEvaluator.from_input_examples(dev_samples, name='sts-dev')\n",
    "\n",
    "warmup_steps = math.ceil(len(train_dataloader) * num_epochs * 0.1) # 10% of train data for warm-up\n",
    "logger.info(\"Warmup-steps: {}\".format(warmup_steps))"
   ]
  },
  {
   "cell_type": "markdown",
   "id": "5e178954-f94a-4f8c-8a05-6c396d10f9e6",
   "metadata": {},
   "source": [
    "훈련을 수행합니다. 분산 훈련을 수행하지는 않지만, 데이터 볼륨이 크지 않으므로 수 분 내에 훈련이 완료됩니다."
   ]
  },
  {
   "cell_type": "markdown",
   "id": "3e990ec0-0bd7-40dd-b276-0d91a3758188",
   "metadata": {
    "tags": []
   },
   "source": [
    "## 4.4. 훈련 실행"
   ]
  },
  {
   "cell_type": "code",
   "execution_count": 18,
   "id": "b3905a80-e2c9-4295-a34b-70f12920dad5",
   "metadata": {},
   "outputs": [
    {
     "data": {
      "application/vnd.jupyter.widget-view+json": {
       "model_id": "e99891cbb244421f9bd53e2f49d233b8",
       "version_major": 2,
       "version_minor": 0
      },
      "text/plain": [
       "Epoch:   0%|          | 0/1 [00:00<?, ?it/s]"
      ]
     },
     "metadata": {},
     "output_type": "display_data"
    },
    {
     "data": {
      "application/vnd.jupyter.widget-view+json": {
       "model_id": "1bb58df8f4494d93a0f127a5408a4cca",
       "version_major": 2,
       "version_minor": 0
      },
      "text/plain": [
       "Iteration:   0%|          | 0/545 [00:00<?, ?it/s]"
      ]
     },
     "metadata": {},
     "output_type": "display_data"
    },
    {
     "name": "stdout",
     "output_type": "stream",
     "text": [
      "2022-08-11 14:18:21 - EmbeddingSimilarityEvaluator: Evaluating the model on sts-dev dataset in epoch 0 after 272 steps:\n",
      "2022-08-11 14:18:25 - Cosine-Similarity :\tPearson: 0.8418\tSpearman: 0.8417\n",
      "2022-08-11 14:18:25 - Manhattan-Distance:\tPearson: 0.8339\tSpearman: 0.8371\n",
      "2022-08-11 14:18:25 - Euclidean-Distance:\tPearson: 0.8345\tSpearman: 0.8379\n",
      "2022-08-11 14:18:25 - Dot-Product-Similarity:\tPearson: 0.8066\tSpearman: 0.8076\n",
      "2022-08-11 14:18:25 - Save model to /home/ec2-user/SageMaker/NLP-HuggingFace-On-SageMaker/3_Semantic-Textual-Similarity/3_Training/KorSTS/model/training_sts_sentence-transformers-xlm-r-100langs-bert-base-nli-stsb-mean-tokens-2022-08-11_14-17-36\n",
      "2022-08-11 14:19:05 - EmbeddingSimilarityEvaluator: Evaluating the model on sts-dev dataset in epoch 0 after 544 steps:\n",
      "2022-08-11 14:19:08 - Cosine-Similarity :\tPearson: 0.8482\tSpearman: 0.8473\n",
      "2022-08-11 14:19:08 - Manhattan-Distance:\tPearson: 0.8354\tSpearman: 0.8393\n",
      "2022-08-11 14:19:08 - Euclidean-Distance:\tPearson: 0.8360\tSpearman: 0.8401\n",
      "2022-08-11 14:19:08 - Dot-Product-Similarity:\tPearson: 0.8102\tSpearman: 0.8130\n",
      "2022-08-11 14:19:08 - Save model to /home/ec2-user/SageMaker/NLP-HuggingFace-On-SageMaker/3_Semantic-Textual-Similarity/3_Training/KorSTS/model/training_sts_sentence-transformers-xlm-r-100langs-bert-base-nli-stsb-mean-tokens-2022-08-11_14-17-36\n",
      "2022-08-11 14:19:12 - EmbeddingSimilarityEvaluator: Evaluating the model on sts-dev dataset after epoch 0:\n",
      "2022-08-11 14:19:15 - Cosine-Similarity :\tPearson: 0.8482\tSpearman: 0.8473\n",
      "2022-08-11 14:19:15 - Manhattan-Distance:\tPearson: 0.8354\tSpearman: 0.8393\n",
      "2022-08-11 14:19:15 - Euclidean-Distance:\tPearson: 0.8360\tSpearman: 0.8401\n",
      "2022-08-11 14:19:15 - Dot-Product-Similarity:\tPearson: 0.8102\tSpearman: 0.8130\n"
     ]
    }
   ],
   "source": [
    "# Train the model\n",
    "model.fit(\n",
    "    train_objectives=[(train_dataloader, train_loss)],\n",
    "    evaluator=evaluator,\n",
    "    epochs=num_epochs,\n",
    "    evaluation_steps=int(len(train_dataloader)*0.5),\n",
    "    warmup_steps=warmup_steps,\n",
    "    output_path=model_save_path,\n",
    "    use_amp=True\n",
    ")"
   ]
  },
  {
   "cell_type": "markdown",
   "id": "e370591f-cb30-4b2e-a637-c664ef8fc918",
   "metadata": {},
   "source": [
    "\n",
    "# 5. 모델 평가\n",
    "---\n",
    "훈련이 완료되었다면, 테스트 데이터셋으로 예측 성능을 볼 수 있는 지표들을 산출합니다."
   ]
  },
  {
   "cell_type": "markdown",
   "id": "9cee8590-c2c4-4a8a-b765-6ad5f7bcd03e",
   "metadata": {},
   "source": [
    "## 5.1. Test 데이터 준비"
   ]
  },
  {
   "cell_type": "code",
   "execution_count": 19,
   "id": "1b94aa7e-ff24-453c-a0c5-28ee104b89c5",
   "metadata": {},
   "outputs": [
    {
     "name": "stdout",
     "output_type": "stream",
     "text": [
      "2022-08-11 14:19:15 - Read KorSTS test dataset\n"
     ]
    }
   ],
   "source": [
    "test_samples = []\n",
    "logger.info(\"Read KorSTS test dataset\")            \n",
    "with open(f'{args.test_dir}/sts-test.tsv', 'rt', encoding='utf8') as fIn:\n",
    "    reader = csv.DictReader(fIn, delimiter='\\t', quoting=csv.QUOTE_NONE)\n",
    "    for row in reader:\n",
    "        if row[\"sentence1\"] and row[\"sentence2\"]:        \n",
    "            score = float(row['score']) / 5.0  # Normalize score to range 0 ... 1\n",
    "            inp_example = InputExample(texts=[row['sentence1'], row['sentence2']], label=score)\n",
    "            test_samples.append(inp_example)        "
   ]
  },
  {
   "cell_type": "markdown",
   "id": "e3a5807b-311a-4120-a6dd-c2befe15ff23",
   "metadata": {},
   "source": [
    "## 5.2. 훈련된 모델 로딩"
   ]
  },
  {
   "cell_type": "code",
   "execution_count": 20,
   "id": "a14d71a6-8e0a-472b-80f0-382efb4c4895",
   "metadata": {},
   "outputs": [
    {
     "name": "stdout",
     "output_type": "stream",
     "text": [
      "model_save_path: \n",
      " /home/ec2-user/SageMaker/NLP-HuggingFace-On-SageMaker/3_Semantic-Textual-Similarity/3_Training/KorSTS/model/training_sts_sentence-transformers-xlm-r-100langs-bert-base-nli-stsb-mean-tokens-2022-08-11_14-17-36 \n",
      "\n",
      "\n",
      "2022-08-11 14:19:15 - Load pretrained SentenceTransformer: /home/ec2-user/SageMaker/NLP-HuggingFace-On-SageMaker/3_Semantic-Textual-Similarity/3_Training/KorSTS/model/training_sts_sentence-transformers-xlm-r-100langs-bert-base-nli-stsb-mean-tokens-2022-08-11_14-17-36\n",
      "2022-08-11 14:19:19 - Use pytorch device: cuda\n"
     ]
    }
   ],
   "source": [
    "##############################################################################\n",
    "# Load the stored model and evaluate its performance on STS benchmark dataset\n",
    "##############################################################################\n",
    "\n",
    "print(\"model_save_path: \\n\", model_save_path, \"\\n\\n\")\n",
    "model = SentenceTransformer(model_save_path)\n",
    "\n"
   ]
  },
  {
   "cell_type": "markdown",
   "id": "b08f75dc-6455-469a-9f64-17769a5d20a3",
   "metadata": {},
   "source": [
    "## 5.3. Evaluator 생성"
   ]
  },
  {
   "cell_type": "code",
   "execution_count": 21,
   "id": "98a96778-da38-41d7-b617-25db5b721c19",
   "metadata": {},
   "outputs": [
    {
     "name": "stdout",
     "output_type": "stream",
     "text": [
      "2022-08-11 14:19:19 - EmbeddingSimilarityEvaluator: Evaluating the model on sts-test dataset:\n",
      "2022-08-11 14:19:22 - Cosine-Similarity :\tPearson: 0.8292\tSpearman: 0.8299\n",
      "2022-08-11 14:19:22 - Manhattan-Distance:\tPearson: 0.8233\tSpearman: 0.8276\n",
      "2022-08-11 14:19:22 - Euclidean-Distance:\tPearson: 0.8237\tSpearman: 0.8279\n",
      "2022-08-11 14:19:22 - Dot-Product-Similarity:\tPearson: 0.7663\tSpearman: 0.7640\n"
     ]
    },
    {
     "data": {
      "text/plain": [
       "0.8298779814742798"
      ]
     },
     "execution_count": 21,
     "metadata": {},
     "output_type": "execute_result"
    }
   ],
   "source": [
    "test_evaluator = EmbeddingSimilarityEvaluator.from_input_examples(test_samples, name='sts-test')\n",
    "test_evaluator(model, output_path=model_save_path)"
   ]
  },
  {
   "cell_type": "markdown",
   "id": "cce7a866-49e9-4415-af15-6ec389a9138f",
   "metadata": {
    "tags": []
   },
   "source": [
    "# 6. Semantic Search (News)\n",
    "\n",
    "\n",
    "시멘틱(의미) 검색은 검색 쿼리가 키워드를 찾는 것뿐만 아니라, 검색에 사용되는 단어의 의도와 문맥적 의미를 파악하는 것을 목표로 합니다.\n",
    "시멘틱 유사도 검색을 또한 챗봇 및 해당 검색 쿼리를 입력하면, 검색 쿼리의 임베딩을 계산하여 모든 문서(예: 뉴스 제목/요약, 웹페이지 제목/요약) 리스트의 임베딩을 비교하여 가장 유사도가 높은 문서 후보들을 찾습니다.\n",
    "\n",
    "References\n",
    "- Billion-scale semantic similarity search with FAISS+SBERT: https://towardsdatascience.com/billion-scale-semantic-similarity-search-with-faiss-sbert-c845614962e2\n",
    "- Korean Contemporary Corpus of Written Sentences: http://nlp.kookmin.ac.kr/kcc/"
   ]
  },
  {
   "cell_type": "markdown",
   "id": "832c06db-3e7f-4497-90f9-b70f5f1ba81c",
   "metadata": {},
   "source": [
    "## 6.1. Preparing news dataset"
   ]
  },
  {
   "cell_type": "code",
   "execution_count": 22,
   "id": "af88bdf7-0f4b-42a4-8ac5-88000bc81286",
   "metadata": {},
   "outputs": [
    {
     "name": "stdout",
     "output_type": "stream",
     "text": [
      "news_path: \n",
      " /home/ec2-user/SageMaker/NLP-HuggingFace-On-SageMaker/3_Semantic-Textual-Similarity/3_Training/data/KorSTS/train/KCCq28_Korean_sentences_EUCKR_v2.txt \n",
      "\n",
      "No data So we are downloading file\n"
     ]
    },
    {
     "name": "stderr",
     "output_type": "stream",
     "text": [
      "100% |########################################################################|\n"
     ]
    }
   ],
   "source": [
    "from custom_util import MyProgressBar\n",
    "from os.path import exists\n",
    "import zipfile\n",
    "\n",
    "news_path = f'{args.train_dir}/KCCq28_Korean_sentences_EUCKR_v2.txt'\n",
    "print(\"news_path: \\n\", news_path, \"\\n\")\n",
    "    \n",
    "if exists(news_path):\n",
    "    print(\"Data is available\")    \n",
    "    pass\n",
    "else:\n",
    "    print(\"No data So we are downloading file\")\n",
    "    url = 'http://nlp.kookmin.ac.kr/kcc/KCCq28_Korean_sentences_EUCKR_v2.zip'\n",
    "    news_path = f'{args.train_dir}/KCCq28_Korean_sentences_EUCKR_v2.zip'\n",
    "    urllib.request.urlretrieve(url, news_path, MyProgressBar())    \n",
    "    \n",
    "    with zipfile.ZipFile(news_path, 'r') as zip_ref:\n",
    "        zip_ref.extractall(train_dir)\n",
    "\n"
   ]
  },
  {
   "cell_type": "code",
   "execution_count": 23,
   "id": "5679f7cb-28a4-4d68-bfc3-ed127cc91809",
   "metadata": {},
   "outputs": [
    {
     "name": "stdout",
     "output_type": "stream",
     "text": [
      "2022-08-11 14:21:12 - news_data length:  1337721\n"
     ]
    }
   ],
   "source": [
    "from custom_util import extract_news_data\n",
    "\n",
    "news_data_raw = extract_news_data(args, news_path, logger)"
   ]
  },
  {
   "cell_type": "markdown",
   "id": "ea05d3e3-107f-4e73-8959-c5fd7dc5f71f",
   "metadata": {},
   "source": [
    "## 6.2. News Data Sampling"
   ]
  },
  {
   "cell_type": "markdown",
   "id": "69ea8266-bb6c-4475-bbac-5789249cc46a",
   "metadata": {},
   "source": [
    "- num_sample 을 에러시 조절 하세요."
   ]
  },
  {
   "cell_type": "code",
   "execution_count": 24,
   "id": "69f35b2c-b1be-42f9-a9c2-1b3d7177f150",
   "metadata": {},
   "outputs": [],
   "source": [
    "num_sample = 10000"
   ]
  },
  {
   "cell_type": "code",
   "execution_count": 25,
   "id": "65705cff-abe8-47ae-a6ac-6b7a2d289a1e",
   "metadata": {},
   "outputs": [],
   "source": [
    "import random\n",
    "\n",
    "\n",
    "def sample_news_data(num_sample, news_data_raw):\n",
    "    random.seed(100)\n",
    "    news_data = random.sample(news_data_raw, num_sample)\n",
    "    #news_data = news_data_raw[:num_sample] # For debug purpose\n",
    "    \n",
    "    return news_data\n",
    "\n",
    "corpus = sample_news_data(num_sample, news_data_raw)"
   ]
  },
  {
   "cell_type": "code",
   "execution_count": 26,
   "id": "bef2b9b8-3f85-4995-8e79-47790f445e3e",
   "metadata": {},
   "outputs": [
    {
     "data": {
      "text/plain": [
       "['그는 \"터키 원전수주 계약은 일본 정부의 장기 위험 보증 조항에 달려 있다\"고 덧붙였다.',\n",
       " '기재부 고위 관계자는 \"김동연 부총리가 오고 지난해 예산안 통과 과정에서 예산실이 밤샘근무를 하루밖에 안 했다\"며 \"예산실장 출신이라 개선을 많이 하려고는 하는데 현장의 목소리를 더 들을 필요가 있다\"고 꼬집었다.',\n",
       " '선수들을 지도하고 있는 원동현은 \"이번 훈련을 통해 여자핸드볼 국가대표 선수들이 강인한 해병 정신으로 무장해 리우 올림픽에서 반드시 승리하도록 해병대가 견인차 역할을 할 것\"이라며 \"악조건 속에서도 전승을 거둬 온 해병대의 강한 훈련을 받은 만큼 선수들도 강한 자부심과 자신감을 갖게 될 것이라 확신한다\"고 전했다.']"
      ]
     },
     "execution_count": 26,
     "metadata": {},
     "output_type": "execute_result"
    }
   ],
   "source": [
    "corpus[0:3]"
   ]
  },
  {
   "cell_type": "markdown",
   "id": "3ac03cb7-b95b-416d-af12-5b81491c7ca8",
   "metadata": {
    "tags": []
   },
   "source": [
    "## 6.3. 뉴스 데이터 Embedding"
   ]
  },
  {
   "cell_type": "code",
   "execution_count": 27,
   "id": "22d7d940-42ca-4a08-adbf-244b3932cfa4",
   "metadata": {},
   "outputs": [
    {
     "data": {
      "application/vnd.jupyter.widget-view+json": {
       "model_id": "01795aae07e54eaca6b829ef2b746a64",
       "version_major": 2,
       "version_minor": 0
      },
      "text/plain": [
       "Batches:   0%|          | 0/157 [00:00<?, ?it/s]"
      ]
     },
     "metadata": {},
     "output_type": "display_data"
    }
   ],
   "source": [
    "from custom_util import encode_multi_gpu_embedding \n",
    "\n",
    "\n",
    "corpus_embeddings = encode_multi_gpu_embedding(model, corpus)"
   ]
  },
  {
   "cell_type": "code",
   "execution_count": 28,
   "id": "eb3bb312-baab-4a40-bd60-be22a4a99238",
   "metadata": {},
   "outputs": [],
   "source": [
    "from custom_util import semantic_search\n",
    "from custom_util import Okt_tokenizer "
   ]
  },
  {
   "cell_type": "markdown",
   "id": "cbd18768-d6d4-48cf-b773-3d1bb7b868a3",
   "metadata": {},
   "source": [
    "## 6.4. 추론 테스트"
   ]
  },
  {
   "cell_type": "code",
   "execution_count": 29,
   "id": "9c5150ef-6e8a-429d-8d1c-a638a34001c2",
   "metadata": {},
   "outputs": [
    {
     "data": {
      "application/vnd.jupyter.widget-view+json": {
       "model_id": "c4ab53f24b53401ab73f91e96411b440",
       "version_major": 2,
       "version_minor": 0
      },
      "text/plain": [
       "Batches:   0%|          | 0/1 [00:00<?, ?it/s]"
      ]
     },
     "metadata": {},
     "output_type": "display_data"
    },
    {
     "name": "stdout",
     "output_type": "stream",
     "text": [
      "\n",
      "======================\n",
      "Query: 청소년 대표 시절 단짝 친구 신욱 대표팀 훈련 팀를 이기 가가 도르트문트 정말 이기 그렇다 맨유 도르트문트 좋다 선수 많다 더욱 맨유 생각 지금 행복하다 때문 그렇다 분데스리가 우승 득점 간절하다 우승 이제껏 우승 트로피 없다 레버쿠젠 충분하다 가능하다 같다 기대 손흥민 시즌 분데스리가 독일 유럽 챔피언스리그 경기 출전 도움 기록 중이\n",
      "======================\n",
      "\n",
      "Top 5 most similar sentences in corpus:\n",
      "\n",
      "(Score: 0.5814) 일록이는 청소년대표 시절부터 단짝 친구고, 신욱이 형은 대표팀에서 훈련할 때 B팀를 꼭 이기고 싶다고 말한 적 있죠. \"꼭 이겨야죠.가가와가 도르트문트에 있을 때도 정말 이기고 싶었는데 그러지 못했어요.맨유는 도르트문트보다 좋은 선수가 많은 팀이니 더더욱 꺾고 싶어요.한때는 맨유에 가고 싶다는 생각도 했지만, 지금은 소속팀에서 행복하기 때문에 그렇지 않아요.\" -분데스리가 우승과 득점왕 중 어느 쪽이 더 간절한가요. \"우승을 꼭 해보고 싶어요.전 이제껏 우승 트로피를 들어본 적이 한 번도 없거든요.레버쿠젠에서는 충분히 가능한 꿈인 것 같아서 기대돼요.\" 손흥민은 올 시즌 분데스리가, 독일 FA컵, 유럽 챔피언스리그를 합쳐 8경기에 출전해 3골·2도움을 기록 중이다.\n",
      "(Score: 0.5539) 그는 \"두리가 골을 넣은 자체는 좋아.그런데 기분이 조금 그래.내 아들이 골을 넣었지만 내 팀이 지니 가슴이 아파\"라며 \"수원이 빨리 1위를 따라가야 하는데 아들이 수원의 발목을 잡은 거잖아.두리가 넣지 않았어도 서울이 이겼을지도 모르지.내가 정 들었던 내 팀에 그렇게 하니까 마음이 짠했어\"라며 안타까움을 전했다.\n",
      "(Score: 0.4930) 이어 \"2군에서 잘했던 선수는 1군에서 잘한다는 보장이 없지만 니퍼트와 이용찬 같이 검증된 선수는 던질 수만 있다면 팀의 전력에 무조건 보탬이 된다\"며 에이스의 빠른 복귀를 바랐다.\n",
      "(Score: 0.4921) 이에 박 원내대표도 \"덩치도 크고, 권력도 크고, 원내 의석도 큰 정진석 원내대표가 '형님'이 됐기 때문에 큰 정치를 해서 작은 정당을 좀 잘 도와주길 바란다\"고 화답했다.\n",
      "(Score: 0.4906) 토트넘 공격수 해리 케인 역시 \"손흥민은 우리 팀 최고선수 중 한 명\"이라고 칭찬했다.\n"
     ]
    }
   ],
   "source": [
    "top_k = 5\n",
    "\n",
    "queries = [' 일록이는 청소년대표 시절부터 단짝 친구고, 신욱이 형은 대표팀에서 훈련할 때 B팀를 꼭 이기고 싶다고 말한 적 있죠. \\\n",
    "           \"꼭 이겨야죠.가가와가 도르트문트에 있을 때도 정말 이기고 싶었는데 그러지 못했어요.\\\n",
    "           맨유는 도르트문트보다 좋은 선수가 많은 팀이니 더더욱 꺾고 싶어요.한때는 맨유에 가고 싶다는 생각도 했지만, \\\n",
    "           지금은 소속팀에서 행복하기 때문에 그렇지 않아요.\" -분데스리가 우승과 득점왕 중 어느 쪽이 더 간절한가요. \\\n",
    "           \"우승을 꼭 해보고 싶어요.전 이제껏 우승 트로피를 들어본 적이 한 번도 없거든요.레버쿠젠에서는 충분히 가능한 꿈인 것 같아서 기대돼요.\" \\\n",
    "           손흥민은 올 시즌 분데스리가, 독일 FA컵, 유럽 챔피언스리그를 합쳐 8경기에 출전해 3골·2도움을 기록 중이다.']\n",
    "queries = [Okt_tokenizer(queries[0])]\n",
    "queries\n",
    "semantic_search(model, corpus, corpus_embeddings, queries, top_k)"
   ]
  },
  {
   "cell_type": "code",
   "execution_count": 30,
   "id": "632d77b2-4620-4e9e-be32-7d6043355eaa",
   "metadata": {},
   "outputs": [
    {
     "data": {
      "application/vnd.jupyter.widget-view+json": {
       "model_id": "507302521966432ca945cbf34eb9b672",
       "version_major": 2,
       "version_minor": 0
      },
      "text/plain": [
       "Batches:   0%|          | 0/1 [00:00<?, ?it/s]"
      ]
     },
     "metadata": {},
     "output_type": "display_data"
    },
    {
     "name": "stdout",
     "output_type": "stream",
     "text": [
      "\n",
      "======================\n",
      "Query: 투자 증권 정용택 연구원 이후 누적 기준 한국 유가 증권 시장 외국인 누적 매수 규모 중국인 누적 매수 규모 올해 기준 전체 외국인 누적 수의 점유 한국 경제 주식시장 일본 상대 중국 대한 노출 높다 여타 투자자 중국 보복 강화 불확실 높이 매도 이유 가능성\n",
      "======================\n",
      "\n",
      "Top 5 most similar sentences in corpus:\n",
      "\n",
      "(Score: 0.6123) IBK투자증권 정용택 연구원은 \"2008년 12월 이후 누적 기준으로 한국 유가증권시장에서 외국인 누적 순매수 규모를 보면 중국인의 누적 순매수 규모는 올해 1월 기준 6조8000억원으로 전체 외국인 누적 순매수의 11%를 점유했다\"며 \"한국 경제와 주식시장이 일본보다 상대적으로 중국에 대한 노출도가 높다는 것은 여타 투자자들에게도 중국의 경제보복이 강화될수록 불확실성을 높이며 매도 이유가 될 가능성이 있어 보인다\"고 밝혔다.\n",
      "(Score: 0.5786) 박상현 하이투자증권 수석이코노미스트는 \"여러 가지 어려운 상황 속에서도 중국이 연장을 해줬다는 의미에서 사드 보복에 대한 해소 여지를 보여준 것\"이라며 \"외국인 투자자 입장에서도 불안감을 완화하는 의미가 있다\"고 전했다.\n",
      "(Score: 0.5643) 검찰 관계자는 \"시도상선이 1990년 설립 이후 2004년까지 일본에 본사를 두고 활동하다 2004년 홍콩으로 본사를 이전했다\"며 \"시도상선과 권 회장 등이 한국과 홍콩은 물론 일본에 보유하고 있는 부동산까지 합치면 수천억원대에 이를 것이란 추정도 나온다\"고 말했다.\n",
      "(Score: 0.5579) 원화강세로 추가 매수 불투명 대우증권 심상범 연구원은 \"비차익 매수의 경우 한국 주식을 꾸러미로 사들였다는 점에서 긍정적이지만 이 중에는 일부 차익거래도 숨어 있다\"며 \"외국인들이 한국 경제의 추세적 상승에 베팅하는 것인지 단기적인 것인지는 좀 더 지켜봐야 할 것\"이라고 말했다.\n",
      "(Score: 0.5428) 우리가 일본과 손을 잡으면 미국의 태평양 방위에 상당히 도움이 될 것이다\"고 말했다.\n"
     ]
    }
   ],
   "source": [
    "top_k = 5\n",
    "\n",
    "queries = ['IBK투자증권 정용택 연구원은 \"2008년 12월 이후 누적 기준으로 한국 유가증권시장에서 외국인 누적 순매수 규모를 보면 중국인의 \\\n",
    "            누적 순매수 규모는 올해 1월 기준 6조8000억원으로 전체 외국인 누적 순매수의 11%를 점유했다\"며 \\\n",
    "            \"한국 경제와 주식시장이 일본보다 상대적으로 중국에 대한 노출도가 높다는 것은 여타 투자자들에게도 \\\n",
    "            중국의 경제보복이 강화될수록 불확실성을 높이며 매도 이유가 될 가능성이 있어 보인다\"고 밝혔다.' ]\n",
    "queries = [Okt_tokenizer(queries[0])]\n",
    "queries\n",
    "semantic_search(model, corpus, corpus_embeddings, queries, top_k)"
   ]
  },
  {
   "cell_type": "code",
   "execution_count": 31,
   "id": "4ce48ba2-48a7-46ae-ba29-2dbdbf1911b6",
   "metadata": {},
   "outputs": [
    {
     "data": {
      "application/vnd.jupyter.widget-view+json": {
       "model_id": "8e6f467b6e874106961d0bcd12398d06",
       "version_major": 2,
       "version_minor": 0
      },
      "text/plain": [
       "Batches:   0%|          | 0/1 [00:00<?, ?it/s]"
      ]
     },
     "metadata": {},
     "output_type": "display_data"
    },
    {
     "name": "stdout",
     "output_type": "stream",
     "text": [
      "\n",
      "======================\n",
      "Query: 오뚜기 구만 홍보 실장 현재 오뚜기 국내 카레 시장 점유 올해 카레 각종 장점 마케팅 시장 한편 점유 율도 목표\n",
      "======================\n",
      "\n",
      "Top 5 most similar sentences in corpus:\n",
      "\n",
      "(Score: 0.6076) 오뚜기 강구만 홍보실장은 \"현재 오뚜기의 국내 카레 시장 점유율은 90%에 이른다\"며 \"올해 카레의 각종 장점을 알리는 마케팅을 펼쳐 시장을 키우는 한편, 점유율도 좀 더 높이는 게 목표\"라고 말했다.\n",
      "(Score: 0.5251) 또한 이주영 한국당 의원이 문 특보를 '망나니'에 비유한 데 대해 \"칼 휘두르는 사람이 망나니다.\n",
      "(Score: 0.5189) 또한 박태환 선수가 메달을 딸 때마다 후속 편을 준비했는데 그 광고에는 대화형식으로 \"오빠 달려\" 라고 외치는 귀여운 김연아와, \"물속이거든\" 이라고 대답하는 시크한 박태환이 등장한다.\n",
      "(Score: 0.4862) 위험에 처한 타조가 숨기 위해 덤불 속에 머리만 처박고 안 보일 것이라 생각하는 모습을 비유한 것\"이라며 \"이같은 문재인 정부의 안보불감증 때문에 일촉즉발의 위기 상황에도 강대국들은 코리아 패싱을 하고 있는 것\"이라고 주장했다.\n",
      "(Score: 0.4779) 제페토 포인트 블랭크 스튜디오의 김건우 본부장은 \"25개 국가가 함께 플레이 하는 것을 장점으로 활용, 국가간 경쟁을 통해 게임을 즐길 수 있도록 UI에 국가 마크를 표시하는 등의 시도가 성공적이었다.\n"
     ]
    }
   ],
   "source": [
    "    \n",
    "top_k = 5\n",
    "\n",
    "queries = [ '오뚜기 강구만 홍보실장은 \"현재 오뚜기의 국내 카레 시장 점유율은 90%에 이른다\"며 \\\n",
    "            \"올해 카레의 각종 장점을 알리는 마케팅을 펼쳐 시장을 키우는 한편, 점유율도 좀 더 높이는 게 목표\"라고 말했다.']\n",
    "queries = [Okt_tokenizer(queries[0])]\n",
    "queries\n",
    "semantic_search(model, corpus, corpus_embeddings, queries, top_k)"
   ]
  },
  {
   "cell_type": "markdown",
   "id": "dd77a5fc-6cd3-421d-b973-aa74a34ad87c",
   "metadata": {},
   "source": [
    "# 7. 전처리 도입"
   ]
  },
  {
   "cell_type": "markdown",
   "id": "62d2df37-2343-4f56-b24d-2c23509f8806",
   "metadata": {},
   "source": [
    "## 7.1. DAS 병렬 클러스터 준비"
   ]
  },
  {
   "cell_type": "code",
   "execution_count": 32,
   "id": "6d04207b-6a7a-4e3c-b922-9b1861a5c773",
   "metadata": {
    "tags": [],
    "toc-hr-collapsed": true
   },
   "outputs": [
    {
     "name": "stdout",
     "output_type": "stream",
     "text": [
      "DAS client has been created\n"
     ]
    },
    {
     "name": "stderr",
     "output_type": "stream",
     "text": [
      "/home/ec2-user/anaconda3/envs/python3/lib/python3.8/site-packages/distributed/node.py:160: UserWarning: Port 8787 is already in use.\n",
      "Perhaps you already have a cluster running?\n",
      "Hosting the HTTP server on port 46815 instead\n",
      "  warnings.warn(\n"
     ]
    },
    {
     "data": {
      "text/html": [
       "<div>\n",
       "    <div style=\"width: 24px; height: 24px; background-color: #e1e1e1; border: 3px solid #9D9D9D; border-radius: 5px; position: absolute;\"> </div>\n",
       "    <div style=\"margin-left: 48px;\">\n",
       "        <h3 style=\"margin-bottom: 0px;\">Client</h3>\n",
       "        <p style=\"color: #9D9D9D; margin-bottom: 0px;\">Client-e37310ee-1980-11ed-b829-0e219226b6d7</p>\n",
       "        <table style=\"width: 100%; text-align: left;\">\n",
       "\n",
       "        <tr>\n",
       "        \n",
       "            <td style=\"text-align: left;\"><strong>Connection method:</strong> Cluster object</td>\n",
       "            <td style=\"text-align: left;\"><strong>Cluster type:</strong> distributed.LocalCluster</td>\n",
       "        \n",
       "        </tr>\n",
       "\n",
       "        \n",
       "            <tr>\n",
       "                <td style=\"text-align: left;\">\n",
       "                    <strong>Dashboard: </strong> <a href=\"http://127.0.0.1:46815/status\" target=\"_blank\">http://127.0.0.1:46815/status</a>\n",
       "                </td>\n",
       "                <td style=\"text-align: left;\"></td>\n",
       "            </tr>\n",
       "        \n",
       "\n",
       "        </table>\n",
       "\n",
       "        \n",
       "            <details>\n",
       "            <summary style=\"margin-bottom: 20px;\"><h3 style=\"display: inline;\">Cluster Info</h3></summary>\n",
       "            <div class=\"jp-RenderedHTMLCommon jp-RenderedHTML jp-mod-trusted jp-OutputArea-output\">\n",
       "    <div style=\"width: 24px; height: 24px; background-color: #e1e1e1; border: 3px solid #9D9D9D; border-radius: 5px; position: absolute;\">\n",
       "    </div>\n",
       "    <div style=\"margin-left: 48px;\">\n",
       "        <h3 style=\"margin-bottom: 0px; margin-top: 0px;\">LocalCluster</h3>\n",
       "        <p style=\"color: #9D9D9D; margin-bottom: 0px;\">fb5a28d0</p>\n",
       "        <table style=\"width: 100%; text-align: left;\">\n",
       "            <tr>\n",
       "                <td style=\"text-align: left;\">\n",
       "                    <strong>Dashboard:</strong> <a href=\"http://127.0.0.1:46815/status\" target=\"_blank\">http://127.0.0.1:46815/status</a>\n",
       "                </td>\n",
       "                <td style=\"text-align: left;\">\n",
       "                    <strong>Workers:</strong> 4\n",
       "                </td>\n",
       "            </tr>\n",
       "            <tr>\n",
       "                <td style=\"text-align: left;\">\n",
       "                    <strong>Total threads:</strong> 16\n",
       "                </td>\n",
       "                <td style=\"text-align: left;\">\n",
       "                    <strong>Total memory:</strong> 239.87 GiB\n",
       "                </td>\n",
       "            </tr>\n",
       "            \n",
       "            <tr>\n",
       "    <td style=\"text-align: left;\"><strong>Status:</strong> running</td>\n",
       "    <td style=\"text-align: left;\"><strong>Using processes:</strong> True</td>\n",
       "</tr>\n",
       "\n",
       "            \n",
       "        </table>\n",
       "\n",
       "        <details>\n",
       "            <summary style=\"margin-bottom: 20px;\">\n",
       "                <h3 style=\"display: inline;\">Scheduler Info</h3>\n",
       "            </summary>\n",
       "\n",
       "            <div style=\"\">\n",
       "    <div>\n",
       "        <div style=\"width: 24px; height: 24px; background-color: #FFF7E5; border: 3px solid #FF6132; border-radius: 5px; position: absolute;\"> </div>\n",
       "        <div style=\"margin-left: 48px;\">\n",
       "            <h3 style=\"margin-bottom: 0px;\">Scheduler</h3>\n",
       "            <p style=\"color: #9D9D9D; margin-bottom: 0px;\">Scheduler-0b1c066e-06a6-4f1f-9c77-a4c45f3cdd65</p>\n",
       "            <table style=\"width: 100%; text-align: left;\">\n",
       "                <tr>\n",
       "                    <td style=\"text-align: left;\">\n",
       "                        <strong>Comm:</strong> tcp://127.0.0.1:46849\n",
       "                    </td>\n",
       "                    <td style=\"text-align: left;\">\n",
       "                        <strong>Workers:</strong> 4\n",
       "                    </td>\n",
       "                </tr>\n",
       "                <tr>\n",
       "                    <td style=\"text-align: left;\">\n",
       "                        <strong>Dashboard:</strong> <a href=\"http://127.0.0.1:46815/status\" target=\"_blank\">http://127.0.0.1:46815/status</a>\n",
       "                    </td>\n",
       "                    <td style=\"text-align: left;\">\n",
       "                        <strong>Total threads:</strong> 16\n",
       "                    </td>\n",
       "                </tr>\n",
       "                <tr>\n",
       "                    <td style=\"text-align: left;\">\n",
       "                        <strong>Started:</strong> Just now\n",
       "                    </td>\n",
       "                    <td style=\"text-align: left;\">\n",
       "                        <strong>Total memory:</strong> 239.87 GiB\n",
       "                    </td>\n",
       "                </tr>\n",
       "            </table>\n",
       "        </div>\n",
       "    </div>\n",
       "\n",
       "    <details style=\"margin-left: 48px;\">\n",
       "        <summary style=\"margin-bottom: 20px;\">\n",
       "            <h3 style=\"display: inline;\">Workers</h3>\n",
       "        </summary>\n",
       "\n",
       "        \n",
       "        <div style=\"margin-bottom: 20px;\">\n",
       "            <div style=\"width: 24px; height: 24px; background-color: #DBF5FF; border: 3px solid #4CC9FF; border-radius: 5px; position: absolute;\"> </div>\n",
       "            <div style=\"margin-left: 48px;\">\n",
       "            <details>\n",
       "                <summary>\n",
       "                    <h4 style=\"margin-bottom: 0px; display: inline;\">Worker: 0</h4>\n",
       "                </summary>\n",
       "                <table style=\"width: 100%; text-align: left;\">\n",
       "                    <tr>\n",
       "                        <td style=\"text-align: left;\">\n",
       "                            <strong>Comm: </strong> tcp://127.0.0.1:45889\n",
       "                        </td>\n",
       "                        <td style=\"text-align: left;\">\n",
       "                            <strong>Total threads: </strong> 4\n",
       "                        </td>\n",
       "                    </tr>\n",
       "                    <tr>\n",
       "                        <td style=\"text-align: left;\">\n",
       "                            <strong>Dashboard: </strong> <a href=\"http://127.0.0.1:44399/status\" target=\"_blank\">http://127.0.0.1:44399/status</a>\n",
       "                        </td>\n",
       "                        <td style=\"text-align: left;\">\n",
       "                            <strong>Memory: </strong> 59.97 GiB\n",
       "                        </td>\n",
       "                    </tr>\n",
       "                    <tr>\n",
       "                        <td style=\"text-align: left;\">\n",
       "                            <strong>Nanny: </strong> tcp://127.0.0.1:34885\n",
       "                        </td>\n",
       "                        <td style=\"text-align: left;\"></td>\n",
       "                    </tr>\n",
       "                    <tr>\n",
       "                        <td colspan=\"2\" style=\"text-align: left;\">\n",
       "                            <strong>Local directory: </strong> /home/ec2-user/SageMaker/NLP-HuggingFace-On-SageMaker/3_Semantic-Textual-Similarity/3_Training/dask-worker-space/worker-lixieg4i\n",
       "                        </td>\n",
       "                    </tr>\n",
       "\n",
       "                    \n",
       "                    <tr>\n",
       "                        <td style=\"text-align: left;\">\n",
       "                            <strong>GPU: </strong>Tesla V100-SXM2-16GB\n",
       "                        </td>\n",
       "                        <td style=\"text-align: left;\">\n",
       "                            <strong>GPU memory: </strong> 16.00 GiB\n",
       "                        </td>\n",
       "                    </tr>\n",
       "                    \n",
       "\n",
       "                    \n",
       "\n",
       "                </table>\n",
       "            </details>\n",
       "            </div>\n",
       "        </div>\n",
       "        \n",
       "        <div style=\"margin-bottom: 20px;\">\n",
       "            <div style=\"width: 24px; height: 24px; background-color: #DBF5FF; border: 3px solid #4CC9FF; border-radius: 5px; position: absolute;\"> </div>\n",
       "            <div style=\"margin-left: 48px;\">\n",
       "            <details>\n",
       "                <summary>\n",
       "                    <h4 style=\"margin-bottom: 0px; display: inline;\">Worker: 1</h4>\n",
       "                </summary>\n",
       "                <table style=\"width: 100%; text-align: left;\">\n",
       "                    <tr>\n",
       "                        <td style=\"text-align: left;\">\n",
       "                            <strong>Comm: </strong> tcp://127.0.0.1:37399\n",
       "                        </td>\n",
       "                        <td style=\"text-align: left;\">\n",
       "                            <strong>Total threads: </strong> 4\n",
       "                        </td>\n",
       "                    </tr>\n",
       "                    <tr>\n",
       "                        <td style=\"text-align: left;\">\n",
       "                            <strong>Dashboard: </strong> <a href=\"http://127.0.0.1:39907/status\" target=\"_blank\">http://127.0.0.1:39907/status</a>\n",
       "                        </td>\n",
       "                        <td style=\"text-align: left;\">\n",
       "                            <strong>Memory: </strong> 59.97 GiB\n",
       "                        </td>\n",
       "                    </tr>\n",
       "                    <tr>\n",
       "                        <td style=\"text-align: left;\">\n",
       "                            <strong>Nanny: </strong> tcp://127.0.0.1:40411\n",
       "                        </td>\n",
       "                        <td style=\"text-align: left;\"></td>\n",
       "                    </tr>\n",
       "                    <tr>\n",
       "                        <td colspan=\"2\" style=\"text-align: left;\">\n",
       "                            <strong>Local directory: </strong> /home/ec2-user/SageMaker/NLP-HuggingFace-On-SageMaker/3_Semantic-Textual-Similarity/3_Training/dask-worker-space/worker-az2zqooh\n",
       "                        </td>\n",
       "                    </tr>\n",
       "\n",
       "                    \n",
       "                    <tr>\n",
       "                        <td style=\"text-align: left;\">\n",
       "                            <strong>GPU: </strong>Tesla V100-SXM2-16GB\n",
       "                        </td>\n",
       "                        <td style=\"text-align: left;\">\n",
       "                            <strong>GPU memory: </strong> 16.00 GiB\n",
       "                        </td>\n",
       "                    </tr>\n",
       "                    \n",
       "\n",
       "                    \n",
       "\n",
       "                </table>\n",
       "            </details>\n",
       "            </div>\n",
       "        </div>\n",
       "        \n",
       "        <div style=\"margin-bottom: 20px;\">\n",
       "            <div style=\"width: 24px; height: 24px; background-color: #DBF5FF; border: 3px solid #4CC9FF; border-radius: 5px; position: absolute;\"> </div>\n",
       "            <div style=\"margin-left: 48px;\">\n",
       "            <details>\n",
       "                <summary>\n",
       "                    <h4 style=\"margin-bottom: 0px; display: inline;\">Worker: 2</h4>\n",
       "                </summary>\n",
       "                <table style=\"width: 100%; text-align: left;\">\n",
       "                    <tr>\n",
       "                        <td style=\"text-align: left;\">\n",
       "                            <strong>Comm: </strong> tcp://127.0.0.1:42411\n",
       "                        </td>\n",
       "                        <td style=\"text-align: left;\">\n",
       "                            <strong>Total threads: </strong> 4\n",
       "                        </td>\n",
       "                    </tr>\n",
       "                    <tr>\n",
       "                        <td style=\"text-align: left;\">\n",
       "                            <strong>Dashboard: </strong> <a href=\"http://127.0.0.1:45859/status\" target=\"_blank\">http://127.0.0.1:45859/status</a>\n",
       "                        </td>\n",
       "                        <td style=\"text-align: left;\">\n",
       "                            <strong>Memory: </strong> 59.97 GiB\n",
       "                        </td>\n",
       "                    </tr>\n",
       "                    <tr>\n",
       "                        <td style=\"text-align: left;\">\n",
       "                            <strong>Nanny: </strong> tcp://127.0.0.1:40395\n",
       "                        </td>\n",
       "                        <td style=\"text-align: left;\"></td>\n",
       "                    </tr>\n",
       "                    <tr>\n",
       "                        <td colspan=\"2\" style=\"text-align: left;\">\n",
       "                            <strong>Local directory: </strong> /home/ec2-user/SageMaker/NLP-HuggingFace-On-SageMaker/3_Semantic-Textual-Similarity/3_Training/dask-worker-space/worker-fwbvldab\n",
       "                        </td>\n",
       "                    </tr>\n",
       "\n",
       "                    \n",
       "                    <tr>\n",
       "                        <td style=\"text-align: left;\">\n",
       "                            <strong>GPU: </strong>Tesla V100-SXM2-16GB\n",
       "                        </td>\n",
       "                        <td style=\"text-align: left;\">\n",
       "                            <strong>GPU memory: </strong> 16.00 GiB\n",
       "                        </td>\n",
       "                    </tr>\n",
       "                    \n",
       "\n",
       "                    \n",
       "\n",
       "                </table>\n",
       "            </details>\n",
       "            </div>\n",
       "        </div>\n",
       "        \n",
       "        <div style=\"margin-bottom: 20px;\">\n",
       "            <div style=\"width: 24px; height: 24px; background-color: #DBF5FF; border: 3px solid #4CC9FF; border-radius: 5px; position: absolute;\"> </div>\n",
       "            <div style=\"margin-left: 48px;\">\n",
       "            <details>\n",
       "                <summary>\n",
       "                    <h4 style=\"margin-bottom: 0px; display: inline;\">Worker: 3</h4>\n",
       "                </summary>\n",
       "                <table style=\"width: 100%; text-align: left;\">\n",
       "                    <tr>\n",
       "                        <td style=\"text-align: left;\">\n",
       "                            <strong>Comm: </strong> tcp://127.0.0.1:44635\n",
       "                        </td>\n",
       "                        <td style=\"text-align: left;\">\n",
       "                            <strong>Total threads: </strong> 4\n",
       "                        </td>\n",
       "                    </tr>\n",
       "                    <tr>\n",
       "                        <td style=\"text-align: left;\">\n",
       "                            <strong>Dashboard: </strong> <a href=\"http://127.0.0.1:46243/status\" target=\"_blank\">http://127.0.0.1:46243/status</a>\n",
       "                        </td>\n",
       "                        <td style=\"text-align: left;\">\n",
       "                            <strong>Memory: </strong> 59.97 GiB\n",
       "                        </td>\n",
       "                    </tr>\n",
       "                    <tr>\n",
       "                        <td style=\"text-align: left;\">\n",
       "                            <strong>Nanny: </strong> tcp://127.0.0.1:35269\n",
       "                        </td>\n",
       "                        <td style=\"text-align: left;\"></td>\n",
       "                    </tr>\n",
       "                    <tr>\n",
       "                        <td colspan=\"2\" style=\"text-align: left;\">\n",
       "                            <strong>Local directory: </strong> /home/ec2-user/SageMaker/NLP-HuggingFace-On-SageMaker/3_Semantic-Textual-Similarity/3_Training/dask-worker-space/worker-wpu051jw\n",
       "                        </td>\n",
       "                    </tr>\n",
       "\n",
       "                    \n",
       "                    <tr>\n",
       "                        <td style=\"text-align: left;\">\n",
       "                            <strong>GPU: </strong>Tesla V100-SXM2-16GB\n",
       "                        </td>\n",
       "                        <td style=\"text-align: left;\">\n",
       "                            <strong>GPU memory: </strong> 16.00 GiB\n",
       "                        </td>\n",
       "                    </tr>\n",
       "                    \n",
       "\n",
       "                    \n",
       "\n",
       "                </table>\n",
       "            </details>\n",
       "            </div>\n",
       "        </div>\n",
       "        \n",
       "\n",
       "    </details>\n",
       "</div>\n",
       "\n",
       "        </details>\n",
       "    </div>\n",
       "</div>\n",
       "            </details>\n",
       "        \n",
       "\n",
       "    </div>\n",
       "</div>"
      ],
      "text/plain": [
       "<Client: 'tcp://127.0.0.1:46849' processes=4 threads=16, memory=239.87 GiB>"
      ]
     },
     "execution_count": 32,
     "metadata": {},
     "output_type": "execute_result"
    }
   ],
   "source": [
    "from dask.distributed import Client\n",
    "os.environ[\"TOKENIZERS_PARALLELISM\"] = \"True\"\n",
    "\n",
    "n_workers = 4\n",
    "threads_per_worker = 4\n",
    "\n",
    "try: \n",
    "    if das_client.status == 'running':\n",
    "        print(\"DAS client is running\")\n",
    "        pass\n",
    "    else:\n",
    "        print(\"DAS client has been created\")\n",
    "        das_client = Client(n_workers=n_workers, threads_per_worker = threads_per_worker)        \n",
    "except Exception:\n",
    "    # client 생성이 안되어 있으면 아래로 생성\n",
    "    print(\"DAS client has been created\")\n",
    "    das_client = Client(n_workers=n_workers, threads_per_worker = threads_per_worker)\n",
    "    \n",
    "das_client"
   ]
  },
  {
   "cell_type": "markdown",
   "id": "82c53d64-0c7a-4850-b1f9-1f68198ffb59",
   "metadata": {},
   "source": [
    "## 7.2. 데이터 준비"
   ]
  },
  {
   "cell_type": "markdown",
   "id": "2c342f8b-181b-4c34-a777-91eba27ebee9",
   "metadata": {},
   "source": [
    "Corpus 를 Pandas Dataframe 으로 로딩"
   ]
  },
  {
   "cell_type": "code",
   "execution_count": 33,
   "id": "0c159b4c-94ee-4272-abb5-58412b246166",
   "metadata": {},
   "outputs": [
    {
     "name": "stdout",
     "output_type": "stream",
     "text": [
      "df shape:  (10000, 1)\n"
     ]
    }
   ],
   "source": [
    "df = pd.DataFrame(data=corpus, columns=['doc'])\n",
    "print(\"df shape: \", df.shape)\n",
    "\n"
   ]
  },
  {
   "cell_type": "markdown",
   "id": "98111606-e2d4-438b-b932-8db07a7468c9",
   "metadata": {},
   "source": [
    "Pandas Dataframe 을 DAS DataFrame 으로 변경"
   ]
  },
  {
   "cell_type": "code",
   "execution_count": 34,
   "id": "65258fcb-6b62-4987-bac9-d9a8e559579e",
   "metadata": {},
   "outputs": [
    {
     "data": {
      "text/html": [
       "<div>\n",
       "<style scoped>\n",
       "    .dataframe tbody tr th:only-of-type {\n",
       "        vertical-align: middle;\n",
       "    }\n",
       "\n",
       "    .dataframe tbody tr th {\n",
       "        vertical-align: top;\n",
       "    }\n",
       "\n",
       "    .dataframe thead th {\n",
       "        text-align: right;\n",
       "    }\n",
       "</style>\n",
       "<table border=\"1\" class=\"dataframe\">\n",
       "  <thead>\n",
       "    <tr style=\"text-align: right;\">\n",
       "      <th></th>\n",
       "      <th>doc</th>\n",
       "    </tr>\n",
       "  </thead>\n",
       "  <tbody>\n",
       "    <tr>\n",
       "      <th>0</th>\n",
       "      <td>그는 \"터키 원전수주 계약은 일본 정부의 장기 위험 보증 조항에 달려 있다\"고 덧붙였다.</td>\n",
       "    </tr>\n",
       "    <tr>\n",
       "      <th>1</th>\n",
       "      <td>기재부 고위 관계자는 \"김동연 부총리가 오고 지난해 예산안 통과 과정에서 예산실이 ...</td>\n",
       "    </tr>\n",
       "    <tr>\n",
       "      <th>2</th>\n",
       "      <td>선수들을 지도하고 있는 원동현은 \"이번 훈련을 통해 여자핸드볼 국가대표 선수들이 강...</td>\n",
       "    </tr>\n",
       "    <tr>\n",
       "      <th>3</th>\n",
       "      <td>광 작가도 \"게임은 거의 처음 하는 작업인데 새로운 경험이 됐다.</td>\n",
       "    </tr>\n",
       "    <tr>\n",
       "      <th>4</th>\n",
       "      <td>김동철 국민의당 원내대표도 강 후보자에 대해 \"도덕적 흠결도 많을뿐더러 그 흠결을 ...</td>\n",
       "    </tr>\n",
       "    <tr>\n",
       "      <th>...</th>\n",
       "      <td>...</td>\n",
       "    </tr>\n",
       "    <tr>\n",
       "      <th>9995</th>\n",
       "      <td>현대차 관계자는 \"세계 최초 수소전기차 양산, 워즈오토 10대 엔진 선정, 최고 기...</td>\n",
       "    </tr>\n",
       "    <tr>\n",
       "      <th>9996</th>\n",
       "      <td>그리고 신속하게 결정이 돼야 한다고 말했다\"고 밝혔다.</td>\n",
       "    </tr>\n",
       "    <tr>\n",
       "      <th>9997</th>\n",
       "      <td>김 회장은 \"직원들에게 공개 구혼을 했으니 답을 기다리고 있다\"며 \"직원들의 본심을...</td>\n",
       "    </tr>\n",
       "    <tr>\n",
       "      <th>9998</th>\n",
       "      <td>당의 한 관계자는 \"당선이 확실하지도 않은 상황에서 장관직과 국회의원까지 던지면서 ...</td>\n",
       "    </tr>\n",
       "    <tr>\n",
       "      <th>9999</th>\n",
       "      <td>인터뷰 이튿날인 13일 교육부는 \"원점에서 모든 가능성을 열어 두고 합리적 방안을 ...</td>\n",
       "    </tr>\n",
       "  </tbody>\n",
       "</table>\n",
       "<p>10000 rows × 1 columns</p>\n",
       "</div>"
      ],
      "text/plain": [
       "                                                    doc\n",
       "0     그는 \"터키 원전수주 계약은 일본 정부의 장기 위험 보증 조항에 달려 있다\"고 덧붙였다.\n",
       "1     기재부 고위 관계자는 \"김동연 부총리가 오고 지난해 예산안 통과 과정에서 예산실이 ...\n",
       "2     선수들을 지도하고 있는 원동현은 \"이번 훈련을 통해 여자핸드볼 국가대표 선수들이 강...\n",
       "3                  광 작가도 \"게임은 거의 처음 하는 작업인데 새로운 경험이 됐다.\n",
       "4     김동철 국민의당 원내대표도 강 후보자에 대해 \"도덕적 흠결도 많을뿐더러 그 흠결을 ...\n",
       "...                                                 ...\n",
       "9995  현대차 관계자는 \"세계 최초 수소전기차 양산, 워즈오토 10대 엔진 선정, 최고 기...\n",
       "9996                     그리고 신속하게 결정이 돼야 한다고 말했다\"고 밝혔다.\n",
       "9997  김 회장은 \"직원들에게 공개 구혼을 했으니 답을 기다리고 있다\"며 \"직원들의 본심을...\n",
       "9998  당의 한 관계자는 \"당선이 확실하지도 않은 상황에서 장관직과 국회의원까지 던지면서 ...\n",
       "9999  인터뷰 이튿날인 13일 교육부는 \"원점에서 모든 가능성을 열어 두고 합리적 방안을 ...\n",
       "\n",
       "[10000 rows x 1 columns]"
      ]
     },
     "execution_count": 34,
     "metadata": {},
     "output_type": "execute_result"
    }
   ],
   "source": [
    "import dask.dataframe as dd\n",
    "ddf = dd.from_pandas(df, npartitions=n_workers)\n",
    "ddf.compute()"
   ]
  },
  {
   "cell_type": "markdown",
   "id": "72daa526-baf8-4534-b6ea-6ce101b899ef",
   "metadata": {},
   "source": [
    "DAS Dataframe 의 compute graph 보여 주기"
   ]
  },
  {
   "cell_type": "code",
   "execution_count": 35,
   "id": "393db905-5b4b-4353-b8b4-738f288928ec",
   "metadata": {},
   "outputs": [
    {
     "data": {
      "image/png": "[encoded data removed]",
      "text/plain": [
       "<IPython.core.display.Image object>"
      ]
     },
     "execution_count": 35,
     "metadata": {},
     "output_type": "execute_result"
    }
   ],
   "source": [
    "ddf.visualize()"
   ]
  },
  {
   "cell_type": "markdown",
   "id": "0ff1e345-73e4-4daf-ae6e-d112a3a8236b",
   "metadata": {},
   "source": [
    "## 7.3. 벙렬로 전처리 수행"
   ]
  },
  {
   "cell_type": "markdown",
   "id": "ef48363d-70ba-4cce-a5ff-3ee9bdfc35af",
   "metadata": {},
   "source": [
    "n_worker = 4 로 n_thread=4 로 10,000 개시 30초, 20,000 개의 전처리시에 약 45초 걸립니다."
   ]
  },
  {
   "cell_type": "code",
   "execution_count": 36,
   "id": "0d0fdc14-9746-466e-a76f-52d62c816151",
   "metadata": {
    "collapsed": true,
    "jupyter": {
     "outputs_hidden": true
    },
    "tags": []
   },
   "outputs": [
    {
     "name": "stderr",
     "output_type": "stream",
     "text": [
      "distributed.utils_perf - WARNING - full garbage collections took 79% CPU time recently (threshold: 10%)\n",
      "distributed.utils_perf - WARNING - full garbage collections took 68% CPU time recently (threshold: 10%)\n",
      "distributed.utils_perf - WARNING - full garbage collections took 98% CPU time recently (threshold: 10%)\n",
      "distributed.utils_perf - WARNING - full garbage collections took 82% CPU time recently (threshold: 10%)\n",
      "distributed.utils_perf - WARNING - full garbage collections took 96% CPU time recently (threshold: 10%)\n",
      "distributed.utils_perf - WARNING - full garbage collections took 99% CPU time recently (threshold: 10%)\n",
      "distributed.utils_perf - WARNING - full garbage collections took 99% CPU time recently (threshold: 10%)\n",
      "distributed.utils_perf - WARNING - full garbage collections took 99% CPU time recently (threshold: 10%)\n",
      "distributed.utils_perf - WARNING - full garbage collections took 99% CPU time recently (threshold: 10%)\n",
      "distributed.utils_perf - WARNING - full garbage collections took 99% CPU time recently (threshold: 10%)\n",
      "distributed.utils_perf - WARNING - full garbage collections took 99% CPU time recently (threshold: 10%)\n",
      "distributed.utils_perf - WARNING - full garbage collections took 99% CPU time recently (threshold: 10%)\n",
      "distributed.utils_perf - WARNING - full garbage collections took 99% CPU time recently (threshold: 10%)\n",
      "distributed.utils_perf - WARNING - full garbage collections took 99% CPU time recently (threshold: 10%)\n",
      "distributed.utils_perf - WARNING - full garbage collections took 99% CPU time recently (threshold: 10%)\n",
      "distributed.utils_perf - WARNING - full garbage collections took 99% CPU time recently (threshold: 10%)\n",
      "distributed.utils_perf - WARNING - full garbage collections took 99% CPU time recently (threshold: 10%)\n",
      "distributed.utils_perf - WARNING - full garbage collections took 99% CPU time recently (threshold: 10%)\n",
      "distributed.utils_perf - WARNING - full garbage collections took 99% CPU time recently (threshold: 10%)\n",
      "distributed.utils_perf - WARNING - full garbage collections took 99% CPU time recently (threshold: 10%)\n",
      "distributed.utils_perf - WARNING - full garbage collections took 99% CPU time recently (threshold: 10%)\n",
      "distributed.utils_perf - WARNING - full garbage collections took 99% CPU time recently (threshold: 10%)\n",
      "distributed.utils_perf - WARNING - full garbage collections took 99% CPU time recently (threshold: 10%)\n",
      "distributed.utils_perf - WARNING - full garbage collections took 99% CPU time recently (threshold: 10%)\n",
      "distributed.utils_perf - WARNING - full garbage collections took 99% CPU time recently (threshold: 10%)\n",
      "distributed.utils_perf - WARNING - full garbage collections took 99% CPU time recently (threshold: 10%)\n",
      "distributed.utils_perf - WARNING - full garbage collections took 99% CPU time recently (threshold: 10%)\n",
      "distributed.utils_perf - WARNING - full garbage collections took 99% CPU time recently (threshold: 10%)\n",
      "distributed.utils_perf - WARNING - full garbage collections took 99% CPU time recently (threshold: 10%)\n",
      "distributed.utils_perf - WARNING - full garbage collections took 99% CPU time recently (threshold: 10%)\n",
      "distributed.utils_perf - WARNING - full garbage collections took 99% CPU time recently (threshold: 10%)\n"
     ]
    },
    {
     "name": "stdout",
     "output_type": "stream",
     "text": [
      "CPU times: user 1.54 s, sys: 415 ms, total: 1.95 s\n",
      "Wall time: 30 s\n"
     ]
    }
   ],
   "source": [
    "%%time\n",
    "\n",
    "from IPython.display import display as dp\n",
    "import traceback\n",
    "from custom_util import remove_spec_chars\n",
    "\n",
    "try: \n",
    "    # ddf[\"doc_cl\"] = ddf[\"doc\"].apply(preproces_doc, meta=('doc', 'object')).compute()      \n",
    "    ddf[\"doc_cl\"] = ddf[\"doc\"].apply(remove_spec_chars, meta=('doc', 'object')).compute()      \n",
    "    ddf[\"doc_cl\"] = ddf[\"doc_cl\"].apply(Okt_tokenizer,meta=('doc_cl', 'object') ).compute()      \n",
    "    ddf[\"doc_cl\"].compute()\n",
    "except Exception:\n",
    "    print(traceback.format_exc())    "
   ]
  },
  {
   "cell_type": "markdown",
   "id": "926631c7-c82f-43fc-bc68-e1bb871f890e",
   "metadata": {},
   "source": [
    "## 7.4. pandas df 로 변경"
   ]
  },
  {
   "cell_type": "markdown",
   "id": "ce0e1f97-6259-4ea1-b41a-6f876a7e602b",
   "metadata": {},
   "source": [
    "das dataframe 에서 pandas dataframe 으로 변경"
   ]
  },
  {
   "cell_type": "code",
   "execution_count": 37,
   "id": "3e134798-d9d4-4766-bb91-704ab27de489",
   "metadata": {},
   "outputs": [
    {
     "data": {
      "text/html": [
       "<div>\n",
       "<style scoped>\n",
       "    .dataframe tbody tr th:only-of-type {\n",
       "        vertical-align: middle;\n",
       "    }\n",
       "\n",
       "    .dataframe tbody tr th {\n",
       "        vertical-align: top;\n",
       "    }\n",
       "\n",
       "    .dataframe thead th {\n",
       "        text-align: right;\n",
       "    }\n",
       "</style>\n",
       "<table border=\"1\" class=\"dataframe\">\n",
       "  <thead>\n",
       "    <tr style=\"text-align: right;\">\n",
       "      <th></th>\n",
       "      <th>doc</th>\n",
       "      <th>doc_cl</th>\n",
       "    </tr>\n",
       "  </thead>\n",
       "  <tbody>\n",
       "    <tr>\n",
       "      <th>0</th>\n",
       "      <td>그는 \"터키 원전수주 계약은 일본 정부의 장기 위험 보증 조항에 달려 있다\"고 덧붙였다.</td>\n",
       "      <td>터키 원전 수주 계약 일본 정부 장기 위험 보증 조항</td>\n",
       "    </tr>\n",
       "    <tr>\n",
       "      <th>1</th>\n",
       "      <td>기재부 고위 관계자는 \"김동연 부총리가 오고 지난해 예산안 통과 과정에서 예산실이 ...</td>\n",
       "      <td>기재부 고위 관계자 김동연 부총리 지난해 예산안 통과 과정 산실 밤샘 근무 하루 예...</td>\n",
       "    </tr>\n",
       "    <tr>\n",
       "      <th>2</th>\n",
       "      <td>선수들을 지도하고 있는 원동현은 \"이번 훈련을 통해 여자핸드볼 국가대표 선수들이 강...</td>\n",
       "      <td>선수 지도 동현 이번 훈련 통해 여자 핸드볼 국가대표 선수 강인하다 해병 정신 무장...</td>\n",
       "    </tr>\n",
       "    <tr>\n",
       "      <th>3</th>\n",
       "      <td>광 작가도 \"게임은 거의 처음 하는 작업인데 새로운 경험이 됐다.</td>\n",
       "      <td>작가 게임 거의 처음 작업 새롭다 경험</td>\n",
       "    </tr>\n",
       "    <tr>\n",
       "      <th>4</th>\n",
       "      <td>김동철 국민의당 원내대표도 강 후보자에 대해 \"도덕적 흠결도 많을뿐더러 그 흠결을 ...</td>\n",
       "      <td>김동철 국민의당 원내대표 후보자 대해 도덕 흠결 많다 흠결 자질 역량 없다 혹평 외...</td>\n",
       "    </tr>\n",
       "    <tr>\n",
       "      <th>...</th>\n",
       "      <td>...</td>\n",
       "      <td>...</td>\n",
       "    </tr>\n",
       "    <tr>\n",
       "      <th>9995</th>\n",
       "      <td>현대차 관계자는 \"세계 최초 수소전기차 양산, 워즈오토 10대 엔진 선정, 최고 기...</td>\n",
       "      <td>현대차 관계자 세계 최초 수소 전기차 양산 오토 엔진 선정 최고 기술 탑재 차세대 ...</td>\n",
       "    </tr>\n",
       "    <tr>\n",
       "      <th>9996</th>\n",
       "      <td>그리고 신속하게 결정이 돼야 한다고 말했다\"고 밝혔다.</td>\n",
       "      <td>신속하다 결정</td>\n",
       "    </tr>\n",
       "    <tr>\n",
       "      <th>9997</th>\n",
       "      <td>김 회장은 \"직원들에게 공개 구혼을 했으니 답을 기다리고 있다\"며 \"직원들의 본심을...</td>\n",
       "      <td>회장 직원 공개 구혼 직원 본심</td>\n",
       "    </tr>\n",
       "    <tr>\n",
       "      <th>9998</th>\n",
       "      <td>당의 한 관계자는 \"당선이 확실하지도 않은 상황에서 장관직과 국회의원까지 던지면서 ...</td>\n",
       "      <td>관계자 당선 확실하다 상황 장관 국회의원 출마</td>\n",
       "    </tr>\n",
       "    <tr>\n",
       "      <th>9999</th>\n",
       "      <td>인터뷰 이튿날인 13일 교육부는 \"원점에서 모든 가능성을 열어 두고 합리적 방안을 ...</td>\n",
       "      <td>인터뷰 이튿날 교육부 원점 모든 가능성 합리 방안 모색</td>\n",
       "    </tr>\n",
       "  </tbody>\n",
       "</table>\n",
       "<p>10000 rows × 2 columns</p>\n",
       "</div>"
      ],
      "text/plain": [
       "                                                    doc  \\\n",
       "0     그는 \"터키 원전수주 계약은 일본 정부의 장기 위험 보증 조항에 달려 있다\"고 덧붙였다.   \n",
       "1     기재부 고위 관계자는 \"김동연 부총리가 오고 지난해 예산안 통과 과정에서 예산실이 ...   \n",
       "2     선수들을 지도하고 있는 원동현은 \"이번 훈련을 통해 여자핸드볼 국가대표 선수들이 강...   \n",
       "3                  광 작가도 \"게임은 거의 처음 하는 작업인데 새로운 경험이 됐다.   \n",
       "4     김동철 국민의당 원내대표도 강 후보자에 대해 \"도덕적 흠결도 많을뿐더러 그 흠결을 ...   \n",
       "...                                                 ...   \n",
       "9995  현대차 관계자는 \"세계 최초 수소전기차 양산, 워즈오토 10대 엔진 선정, 최고 기...   \n",
       "9996                     그리고 신속하게 결정이 돼야 한다고 말했다\"고 밝혔다.   \n",
       "9997  김 회장은 \"직원들에게 공개 구혼을 했으니 답을 기다리고 있다\"며 \"직원들의 본심을...   \n",
       "9998  당의 한 관계자는 \"당선이 확실하지도 않은 상황에서 장관직과 국회의원까지 던지면서 ...   \n",
       "9999  인터뷰 이튿날인 13일 교육부는 \"원점에서 모든 가능성을 열어 두고 합리적 방안을 ...   \n",
       "\n",
       "                                                 doc_cl  \n",
       "0                         터키 원전 수주 계약 일본 정부 장기 위험 보증 조항  \n",
       "1     기재부 고위 관계자 김동연 부총리 지난해 예산안 통과 과정 산실 밤샘 근무 하루 예...  \n",
       "2     선수 지도 동현 이번 훈련 통해 여자 핸드볼 국가대표 선수 강인하다 해병 정신 무장...  \n",
       "3                                 작가 게임 거의 처음 작업 새롭다 경험  \n",
       "4     김동철 국민의당 원내대표 후보자 대해 도덕 흠결 많다 흠결 자질 역량 없다 혹평 외...  \n",
       "...                                                 ...  \n",
       "9995  현대차 관계자 세계 최초 수소 전기차 양산 오토 엔진 선정 최고 기술 탑재 차세대 ...  \n",
       "9996                                            신속하다 결정  \n",
       "9997                                  회장 직원 공개 구혼 직원 본심  \n",
       "9998                          관계자 당선 확실하다 상황 장관 국회의원 출마  \n",
       "9999                     인터뷰 이튿날 교육부 원점 모든 가능성 합리 방안 모색  \n",
       "\n",
       "[10000 rows x 2 columns]"
      ]
     },
     "execution_count": 37,
     "metadata": {},
     "output_type": "execute_result"
    }
   ],
   "source": [
    "pd_df = ddf.compute()\n",
    "pd_df"
   ]
  },
  {
   "cell_type": "markdown",
   "id": "12f20675-256c-43ce-8ff2-8feff48b3033",
   "metadata": {},
   "source": [
    "## 7.5. DAS Cluster 셧다운"
   ]
  },
  {
   "cell_type": "code",
   "execution_count": 38,
   "id": "5737c04a-0a13-4a33-9db6-260daaa35dbd",
   "metadata": {},
   "outputs": [
    {
     "name": "stderr",
     "output_type": "stream",
     "text": [
      "distributed.nanny - WARNING - Worker process still alive after 3 seconds, killing\n",
      "distributed.nanny - WARNING - Worker process still alive after 3 seconds, killing\n",
      "distributed.nanny - WARNING - Worker process still alive after 3 seconds, killing\n"
     ]
    }
   ],
   "source": [
    "import time\n",
    "\n",
    "das_client.shutdown()\n",
    "time.sleep(5)"
   ]
  },
  {
   "cell_type": "markdown",
   "id": "21ce6aaa-59fe-480e-991c-d36c503e3a6c",
   "metadata": {},
   "source": [
    "## 7.6. (옵션) DAS 에러시에 아래 주석을 제거하고 작업 하세요.\n",
    "- 10,000 개 실행시에 약 2분 40초 걸림"
   ]
  },
  {
   "cell_type": "code",
   "execution_count": 39,
   "id": "8fd58b90-f7a8-41b2-8433-a92a3bac70ab",
   "metadata": {},
   "outputs": [],
   "source": [
    "# %%time\n",
    "        \n",
    "# from custom_util import preprocess_doc\n",
    "\n",
    "# pd_df = preprocess_doc(df)"
   ]
  },
  {
   "cell_type": "markdown",
   "id": "559b1494-0955-44a5-8c11-f836fd8a8059",
   "metadata": {},
   "source": [
    "## 7.7. 전처리 도입 후에 추론"
   ]
  },
  {
   "cell_type": "markdown",
   "id": "136f1488-025a-4baf-a3e5-029d34b9b8e0",
   "metadata": {},
   "source": [
    "전처리된 Corpus를 embedding encoding 형태로 변경"
   ]
  },
  {
   "cell_type": "code",
   "execution_count": 40,
   "id": "2922ac71-fe55-48c9-bd01-f9ec2693b8e9",
   "metadata": {
    "tags": []
   },
   "outputs": [
    {
     "data": {
      "application/vnd.jupyter.widget-view+json": {
       "model_id": "0f6653bf0a0a498b8853ceaded2ebcb8",
       "version_major": 2,
       "version_minor": 0
      },
      "text/plain": [
       "Batches:   0%|          | 0/157 [00:00<?, ?it/s]"
      ]
     },
     "metadata": {},
     "output_type": "display_data"
    }
   ],
   "source": [
    "corpus_cl = pd_df['doc_cl'].tolist()\n",
    "corpus_embeddings_cl = encode_multi_gpu_embedding(model, corpus_cl)"
   ]
  },
  {
   "cell_type": "code",
   "execution_count": 41,
   "id": "35e57f6c-f4fc-453d-b408-7315c4214694",
   "metadata": {},
   "outputs": [
    {
     "data": {
      "application/vnd.jupyter.widget-view+json": {
       "model_id": "45105deb85ce4e1e81faa5b2b105994d",
       "version_major": 2,
       "version_minor": 0
      },
      "text/plain": [
       "Batches:   0%|          | 0/1 [00:00<?, ?it/s]"
      ]
     },
     "metadata": {},
     "output_type": "display_data"
    },
    {
     "name": "stdout",
     "output_type": "stream",
     "text": [
      "\n",
      "======================\n",
      "Query: 청소년 대표 시절 단짝 친구 신욱 대표팀 훈련 팀를 이기 가가 도르트문트 정말 이기 그렇다 맨유 도르트문트 좋다 선수 많다 더욱 맨유 생각 지금 행복하다 때문 그렇다 분데스리가 우승 득점 간절하다 우승 이제껏 우승 트로피 없다 레버쿠젠 충분하다 가능하다 같다 기대 손흥민 시즌 분데스리가 독일 유럽 챔피언스리그 경기 출전 도움 기록 중이\n",
      "======================\n",
      "\n",
      "Top 5 most similar sentences in corpus:\n",
      "\n",
      "(Score: 1.0000) 일록이는 청소년대표 시절부터 단짝 친구고, 신욱이 형은 대표팀에서 훈련할 때 B팀를 꼭 이기고 싶다고 말한 적 있죠. \"꼭 이겨야죠.가가와가 도르트문트에 있을 때도 정말 이기고 싶었는데 그러지 못했어요.맨유는 도르트문트보다 좋은 선수가 많은 팀이니 더더욱 꺾고 싶어요.한때는 맨유에 가고 싶다는 생각도 했지만, 지금은 소속팀에서 행복하기 때문에 그렇지 않아요.\" -분데스리가 우승과 득점왕 중 어느 쪽이 더 간절한가요. \"우승을 꼭 해보고 싶어요.전 이제껏 우승 트로피를 들어본 적이 한 번도 없거든요.레버쿠젠에서는 충분히 가능한 꿈인 것 같아서 기대돼요.\" 손흥민은 올 시즌 분데스리가, 독일 FA컵, 유럽 챔피언스리그를 합쳐 8경기에 출전해 3골·2도움을 기록 중이다.\n",
      "(Score: 0.4953) 그는 \"두리가 골을 넣은 자체는 좋아.그런데 기분이 조금 그래.내 아들이 골을 넣었지만 내 팀이 지니 가슴이 아파\"라며 \"수원이 빨리 1위를 따라가야 하는데 아들이 수원의 발목을 잡은 거잖아.두리가 넣지 않았어도 서울이 이겼을지도 모르지.내가 정 들었던 내 팀에 그렇게 하니까 마음이 짠했어\"라며 안타까움을 전했다.\n",
      "(Score: 0.4852) 최순호 감독은 선수단을 대표해 \"좋은 경기력으로 팬들이 재미있어하는 축구를 선보이겠다\"라고 비장한 출사표를 바쳤다.\n",
      "(Score: 0.4803) 경기 후 손흥민은구단 공식'스퍼스TV'와 인터뷰를 통해 \"준결승이 열리는 웸블리 스타디움으로 가는 중요한 경기에서 6-0으로 승리했다\"며 \"해트트릭을 기록하는 건 정말 어려웠지만 하게 돼 기쁘고 승리할 수 있어서 더욱 행복하다\"고 소감을 전했다.\n",
      "(Score: 0.4719) 이어 \"맨유는 좋은 팀이기 때문에 힘든 경기가 될 것은 분명하지만, 우리에게도 골 찬스가 있을 것이 분명하기 때문에 지난 8월 올드 트래포드에서의 경기처럼 해야할 것이다\" 라고 덧붙였다.\n"
     ]
    }
   ],
   "source": [
    "top_k = 5\n",
    "\n",
    "queries = [' 일록이는 청소년대표 시절부터 단짝 친구고, 신욱이 형은 대표팀에서 훈련할 때 B팀를 꼭 이기고 싶다고 말한 적 있죠. \\\n",
    "           \"꼭 이겨야죠.가가와가 도르트문트에 있을 때도 정말 이기고 싶었는데 그러지 못했어요.\\\n",
    "           맨유는 도르트문트보다 좋은 선수가 많은 팀이니 더더욱 꺾고 싶어요.한때는 맨유에 가고 싶다는 생각도 했지만, \\\n",
    "           지금은 소속팀에서 행복하기 때문에 그렇지 않아요.\" -분데스리가 우승과 득점왕 중 어느 쪽이 더 간절한가요. \\\n",
    "           \"우승을 꼭 해보고 싶어요.전 이제껏 우승 트로피를 들어본 적이 한 번도 없거든요.레버쿠젠에서는 충분히 가능한 꿈인 것 같아서 기대돼요.\" \\\n",
    "           손흥민은 올 시즌 분데스리가, 독일 FA컵, 유럽 챔피언스리그를 합쳐 8경기에 출전해 3골·2도움을 기록 중이다.']\n",
    "queries = [Okt_tokenizer(queries[0])]\n",
    "queries\n",
    "semantic_search(model, corpus, corpus_embeddings_cl, queries, top_k)"
   ]
  },
  {
   "cell_type": "code",
   "execution_count": 42,
   "id": "ecbc262a-2eab-40bb-9410-1857424d037e",
   "metadata": {},
   "outputs": [
    {
     "data": {
      "application/vnd.jupyter.widget-view+json": {
       "model_id": "b814e30d37344bffa3fa055eb23fb9d6",
       "version_major": 2,
       "version_minor": 0
      },
      "text/plain": [
       "Batches:   0%|          | 0/1 [00:00<?, ?it/s]"
      ]
     },
     "metadata": {},
     "output_type": "display_data"
    },
    {
     "name": "stdout",
     "output_type": "stream",
     "text": [
      "\n",
      "======================\n",
      "Query: 투자 증권 정용택 연구원 이후 누적 기준 한국 유가 증권 시장 외국인 누적 매수 규모 중국인 누적 매수 규모 올해 기준 전체 외국인 누적 수의 점유 한국 경제 주식시장 일본 상대 중국 대한 노출 높다 여타 투자자 중국 보복 강화 불확실 높이 매도 이유 가능성\n",
      "======================\n",
      "\n",
      "Top 5 most similar sentences in corpus:\n",
      "\n",
      "(Score: 1.0000) IBK투자증권 정용택 연구원은 \"2008년 12월 이후 누적 기준으로 한국 유가증권시장에서 외국인 누적 순매수 규모를 보면 중국인의 누적 순매수 규모는 올해 1월 기준 6조8000억원으로 전체 외국인 누적 순매수의 11%를 점유했다\"며 \"한국 경제와 주식시장이 일본보다 상대적으로 중국에 대한 노출도가 높다는 것은 여타 투자자들에게도 중국의 경제보복이 강화될수록 불확실성을 높이며 매도 이유가 될 가능성이 있어 보인다\"고 밝혔다.\n",
      "(Score: 0.6955) 최 차관은 \"일본을 비롯한 주요국 증시가 큰 폭으로 하락하는 등 국제 금융시장의 변동성이 확대됐지만 유가 하락, 미국 금리 인상과 관련한 불확실성 확대 등에 주로 기인하는 것으로 평가됐다\"고 설명했다.\n",
      "(Score: 0.6331) 이종우 IBK투자증권 리서치센터장은 \"미국, 일본 등 선진국 주식시장이 대세 하락으로 들어가기 시작하면 글로벌 약세 장세로 갈 가능성이 상당히 커서 한국 시장도 방법이 없다\"고 말했다.\n",
      "(Score: 0.5714) 최종구 차관보는 \"일본을 제외한 아시아 채권시장에서 한국물이 32%를 차지할 정도로 다른 국가보다 해외 채권 발행규모가 크다\"며 \"따라서 외국인이 채권을 사면 헤지 수요도 커지기 때문에 CDS 프리미엄이 비교적 높게 상승한 것으로 우려할 수준은 아니다\"고 설명했다.\n",
      "(Score: 0.5554) 간담회에서 왕국강 중국사회과학원 금융연구소장은 \"일본 양적완화정책이 자국 경제 회복조치 일환이란 점은 이해한다\"면서도 \"이는 산업구조가 비슷한 다른 국가들에게 큰 피해를 주기 때문에 선택해서는 안될 길\"이라고 지적했다.\n"
     ]
    }
   ],
   "source": [
    "top_k = 5\n",
    "\n",
    "queries = ['IBK투자증권 정용택 연구원은 \"2008년 12월 이후 누적 기준으로 한국 유가증권시장에서 외국인 누적 순매수 규모를 보면 중국인의 \\\n",
    "            누적 순매수 규모는 올해 1월 기준 6조8000억원으로 전체 외국인 누적 순매수의 11%를 점유했다\"며 \\\n",
    "            \"한국 경제와 주식시장이 일본보다 상대적으로 중국에 대한 노출도가 높다는 것은 여타 투자자들에게도 \\\n",
    "            중국의 경제보복이 강화될수록 불확실성을 높이며 매도 이유가 될 가능성이 있어 보인다\"고 밝혔다.' ]\n",
    "queries = [Okt_tokenizer(queries[0])]\n",
    "queries\n",
    "semantic_search(model, corpus, corpus_embeddings_cl, queries, top_k)"
   ]
  },
  {
   "cell_type": "code",
   "execution_count": 43,
   "id": "cb9a5048-69f7-4e12-b4b2-b3753b4f2bfe",
   "metadata": {},
   "outputs": [
    {
     "data": {
      "application/vnd.jupyter.widget-view+json": {
       "model_id": "46fc33783ebb48d89a2bcc0d93c63c26",
       "version_major": 2,
       "version_minor": 0
      },
      "text/plain": [
       "Batches:   0%|          | 0/1 [00:00<?, ?it/s]"
      ]
     },
     "metadata": {},
     "output_type": "display_data"
    },
    {
     "name": "stdout",
     "output_type": "stream",
     "text": [
      "\n",
      "======================\n",
      "Query: 오뚜기 구만 홍보 실장 현재 오뚜기 국내 카레 시장 점유 올해 카레 각종 장점 마케팅 시장 한편 점유 율도 목표\n",
      "======================\n",
      "\n",
      "Top 5 most similar sentences in corpus:\n",
      "\n",
      "(Score: 1.0000) 오뚜기 강구만 홍보실장은 \"현재 오뚜기의 국내 카레 시장 점유율은 90%에 이른다\"며 \"올해 카레의 각종 장점을 알리는 마케팅을 펼쳐 시장을 키우는 한편, 점유율도 좀 더 높이는 게 목표\"라고 말했다.\n",
      "(Score: 0.6165) 오뚜기 관계자는 \"지난 4월말부터 최근 가장 핫한 먹방 개그맨인 김준현씨를 광고모델로 기용한 오뚜기 컵밥과 함흥비빔면 TV 광고를 진행하고 있다\"며 \"콩국수라면, 함흥비빔면, 컵밥이 올해 여름 식품시장에서 큰 역할을 할 수 있을 것으로 기대한다\"고 말했다.\n",
      "(Score: 0.5205) 또한 박태환 선수가 메달을 딸 때마다 후속 편을 준비했는데 그 광고에는 대화형식으로 \"오빠 달려\" 라고 외치는 귀여운 김연아와, \"물속이거든\" 이라고 대답하는 시크한 박태환이 등장한다.\n",
      "(Score: 0.5009) 위험에 처한 타조가 숨기 위해 덤불 속에 머리만 처박고 안 보일 것이라 생각하는 모습을 비유한 것\"이라며 \"이같은 문재인 정부의 안보불감증 때문에 일촉즉발의 위기 상황에도 강대국들은 코리아 패싱을 하고 있는 것\"이라고 주장했다.\n",
      "(Score: 0.4555) 제페토 포인트 블랭크 스튜디오의 김건우 본부장은 \"25개 국가가 함께 플레이 하는 것을 장점으로 활용, 국가간 경쟁을 통해 게임을 즐길 수 있도록 UI에 국가 마크를 표시하는 등의 시도가 성공적이었다.\n"
     ]
    }
   ],
   "source": [
    "    \n",
    "top_k = 5\n",
    "\n",
    "queries = [ '오뚜기 강구만 홍보실장은 \"현재 오뚜기의 국내 카레 시장 점유율은 90%에 이른다\"며 \\\n",
    "            \"올해 카레의 각종 장점을 알리는 마케팅을 펼쳐 시장을 키우는 한편, 점유율도 좀 더 높이는 게 목표\"라고 말했다.']\n",
    "queries = [Okt_tokenizer(queries[0])]\n",
    "queries\n",
    "semantic_search(model, corpus, corpus_embeddings_cl, queries, top_k)"
   ]
  },
  {
   "cell_type": "markdown",
   "id": "074e26d4-1383-4318-9b2c-d7d611fb36f6",
   "metadata": {
    "tags": []
   },
   "source": [
    "# 7. Semantic Search (상품 리뷰)\n",
    "\n"
   ]
  },
  {
   "cell_type": "code",
   "execution_count": 44,
   "id": "58bf5733-e1a6-4d7a-87dd-e5a7e37b7f43",
   "metadata": {},
   "outputs": [],
   "source": [
    "product_best_data_file = 'data/product_review/best_sample.json'"
   ]
  },
  {
   "cell_type": "code",
   "execution_count": 45,
   "id": "5d0251e6-d4fd-44b8-a0ac-3e84c57cbefc",
   "metadata": {},
   "outputs": [
    {
     "ename": "FileNotFoundError",
     "evalue": "[Errno 2] No such file or directory: 'data/product_review/best_sample.json'",
     "output_type": "error",
     "traceback": [
      "\u001b[0;31m---------------------------------------------------------------------------\u001b[0m",
      "\u001b[0;31mFileNotFoundError\u001b[0m                         Traceback (most recent call last)",
      "\u001b[0;32m/tmp/ipykernel_63529/2987546824.py\u001b[0m in \u001b[0;36m<cell line: 3>\u001b[0;34m()\u001b[0m\n\u001b[1;32m      1\u001b[0m \u001b[0;32mimport\u001b[0m \u001b[0mjson\u001b[0m\u001b[0;34m\u001b[0m\u001b[0;34m\u001b[0m\u001b[0m\n\u001b[1;32m      2\u001b[0m \u001b[0;34m\u001b[0m\u001b[0m\n\u001b[0;32m----> 3\u001b[0;31m \u001b[0;32mwith\u001b[0m \u001b[0mopen\u001b[0m\u001b[0;34m(\u001b[0m\u001b[0mproduct_best_data_file\u001b[0m\u001b[0;34m)\u001b[0m \u001b[0;32mas\u001b[0m \u001b[0mjson_file\u001b[0m\u001b[0;34m:\u001b[0m\u001b[0;34m\u001b[0m\u001b[0;34m\u001b[0m\u001b[0m\n\u001b[0m\u001b[1;32m      4\u001b[0m     \u001b[0mbest_review_data\u001b[0m \u001b[0;34m=\u001b[0m \u001b[0mjson\u001b[0m\u001b[0;34m.\u001b[0m\u001b[0mload\u001b[0m\u001b[0;34m(\u001b[0m\u001b[0mjson_file\u001b[0m\u001b[0;34m)\u001b[0m\u001b[0;34m\u001b[0m\u001b[0;34m\u001b[0m\u001b[0m\n\u001b[1;32m      5\u001b[0m \u001b[0;34m\u001b[0m\u001b[0m\n",
      "\u001b[0;31mFileNotFoundError\u001b[0m: [Errno 2] No such file or directory: 'data/product_review/best_sample.json'"
     ]
    }
   ],
   "source": [
    "import json\n",
    "\n",
    "with open(product_best_data_file) as json_file:\n",
    "    best_review_data = json.load(json_file)\n",
    "    \n",
    "best_df = pd.DataFrame(best_review_data)\n",
    "best_df.rename(columns={'contents' : 'doc'}, inplace=True)\n",
    "best_df"
   ]
  },
  {
   "cell_type": "code",
   "execution_count": null,
   "id": "1d923dbb-61e1-4624-add8-9412daaf8f88",
   "metadata": {},
   "outputs": [],
   "source": [
    "%%time\n",
    "pd.set_option('max_colwidth', 1000)\n",
    "\n",
    "from custom_util import preprocess_doc\n",
    "\n",
    "best_df_cl = preprocess_doc(best_df)\n",
    "best_df_cl"
   ]
  },
  {
   "cell_type": "code",
   "execution_count": null,
   "id": "c43e4d2d-d72d-4718-899d-21d1a7b4c063",
   "metadata": {},
   "outputs": [],
   "source": [
    "corpus_cl = best_df_cl['doc_cl'].tolist()\n",
    "corpus = best_df_cl['doc'].tolist()\n",
    "corpus_pd_review_embeddings_cl = encode_multi_gpu_embedding(model, corpus_cl)"
   ]
  },
  {
   "cell_type": "code",
   "execution_count": null,
   "id": "b62a11a8-272d-43d7-ba8f-37d17e9c0222",
   "metadata": {},
   "outputs": [],
   "source": [
    "    \n",
    "top_k = 5\n",
    "\n",
    "queries = [ '매콤어묵도 깔끔한 맛이에요']\n",
    "queries = [Okt_tokenizer(queries[0])]\n",
    "queries\n",
    "semantic_search(model, corpus, corpus_pd_review_embeddings_cl, queries, top_k)"
   ]
  },
  {
   "cell_type": "code",
   "execution_count": null,
   "id": "4f7ec85d-f1e7-4cc8-9b4e-8ea51a088593",
   "metadata": {},
   "outputs": [],
   "source": [
    "    \n",
    "top_k = 5\n",
    "\n",
    "queries = [ '한개가 간장소스가 다 터져서 문의글 남기면서 보니, \\\n",
    "            간장 터져서 왔다는 글이 많이 보이네요. 맛있는데 불안해서 또 시킬 수 있을지 모르겠네요ㅜㅜ'\n",
    "          ]\n",
    "queries = [Okt_tokenizer(queries[0])]\n",
    "queries\n",
    "semantic_search(model, corpus, corpus_pd_review_embeddings_cl, queries, top_k)"
   ]
  },
  {
   "cell_type": "code",
   "execution_count": null,
   "id": "3181a1d0-888a-4e3e-829e-2235ace96a65",
   "metadata": {},
   "outputs": [
    {
     "name": "stderr",
     "output_type": "stream",
     "text": [
      "distributed.client - ERROR - Failed to reconnect to scheduler after 30.00 seconds, closing client\n"
     ]
    },
    {
     "name": "stdout",
     "output_type": "stream",
     "text": [
      "2022-08-11 14:22:34 - _GatheringFuture exception was never retrieved\n",
      "future: <_GatheringFuture finished exception=CancelledError()>\n",
      "asyncio.exceptions.CancelledError\n"
     ]
    }
   ],
   "source": [
    "    \n",
    "top_k = 5\n",
    "\n",
    "queries = [ '가격 : 할인가 개당 3,720원 (2개 이상 구입 필수) 양 : 1인분으로 평범한 양, \\\n",
    "            점심에 먹는 것을 추천 조리시간 및 난이도 : 약 7분, 라면 끓이는 수준의 난이도 평가 : 시중에 파는 \\\n",
    "            우동이 2천원대라는 점을 비교하면 3천원대로 나름 고급형 우동을 집에서 편하게 먹을 수 있어요. \\\n",
    "            어묵 사이즈는 여성 손바닥 정도이고, 한장 크게 들어가있어서 먹으면서 잘라 먹거나 베어 먹으면 됩니다. \\\n",
    "            국물과 어묵이 맛있어서 우동면 하나도 남기지 않고 다 먹었어요. \\\n",
    "            고추우동이라서 살짝 매콤한가 했는데 전혀 맵지 않고 칼칼함도 없이 시원하고 짭쫄한 맛입니다. \\\n",
    "            조리 방법은 뒷면에 상세하게 나와있어서 라면 끓일 줄 아는 분들이면 쉽게 따라할 수 있을거에요. \\\n",
    "            저는 설명서에 다른 채소와 함께 끓이면 더 맛있다고 하여 알배기배추 작은 거 추가해줬더니 씹는 맛이 일품이네요. \\\n",
    "            냉장고에 남는 채소 있으면 같이 끓이시는 것 추천! 맛있게 잘 먹었습니다 :)'\n",
    "          ]\n",
    "queries = [Okt_tokenizer(queries[0])]\n",
    "queries\n",
    "semantic_search(model, corpus, corpus_pd_review_embeddings_cl, queries, top_k)"
   ]
  },
  {
   "cell_type": "code",
   "execution_count": null,
   "id": "77e2a710-ef60-4678-b466-24607ceee198",
   "metadata": {},
   "outputs": [],
   "source": []
  },
  {
   "cell_type": "code",
   "execution_count": null,
   "id": "1f9c968f-1c33-4a2b-95a7-99288d175785",
   "metadata": {},
   "outputs": [],
   "source": []
  }
 ],
 "metadata": {
  "kernelspec": {
   "display_name": "conda_python3",
   "language": "python",
   "name": "conda_python3"
  },
  "language_info": {
   "codemirror_mode": {
    "name": "ipython",
    "version": 3
   },
   "file_extension": ".py",
   "mimetype": "text/x-python",
   "name": "python",
   "nbconvert_exporter": "python",
   "pygments_lexer": "ipython3",
   "version": "3.8.12"
  }
 },
 "nbformat": 4,
 "nbformat_minor": 5
}
