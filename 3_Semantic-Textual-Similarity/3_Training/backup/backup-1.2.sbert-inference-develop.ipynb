{
 "cells": [
  {
   "cell_type": "markdown",
   "id": "28dcd14c",
   "metadata": {},
   "source": [
    "# [모듈 1.2] Semantic Textual Similarity 모델 추론 스크래치\n",
    "\n",
    "\n",
    "---"
   ]
  },
  {
   "cell_type": "markdown",
   "id": "1027d953",
   "metadata": {
    "tags": []
   },
   "source": [
    "\n",
    "# 1. Setup Environments\n",
    "---\n"
   ]
  },
  {
   "cell_type": "markdown",
   "id": "05790601",
   "metadata": {},
   "source": [
    "#### 사용자 정의 라이브러러 환경 셋업 및 라이브러리 로딩"
   ]
  },
  {
   "cell_type": "code",
   "execution_count": 1,
   "id": "323bb1c0",
   "metadata": {},
   "outputs": [],
   "source": [
    "import sys"
   ]
  },
  {
   "cell_type": "code",
   "execution_count": 2,
   "id": "0ea4d601",
   "metadata": {},
   "outputs": [],
   "source": [
    "%load_ext autoreload\n",
    "%autoreload 2\n",
    "\n",
    "sys.path.append('src')"
   ]
  },
  {
   "cell_type": "code",
   "execution_count": 3,
   "id": "43e6370f",
   "metadata": {},
   "outputs": [],
   "source": [
    "%store -r model_save_path"
   ]
  },
  {
   "cell_type": "code",
   "execution_count": 4,
   "id": "7cadc9ec",
   "metadata": {},
   "outputs": [],
   "source": [
    "import os\n",
    "import sys\n",
    "import json\n",
    "import logging\n",
    "import argparse\n",
    "import torch\n",
    "import gzip\n",
    "import csv\n",
    "import math\n",
    "import urllib\n",
    "from torch import nn\n",
    "import numpy as np\n",
    "import pandas as pd\n",
    "from tqdm import tqdm\n",
    "\n",
    "from datetime import datetime\n",
    "from datasets import load_dataset\n",
    "from torch.utils.data import DataLoader\n",
    "from sentence_transformers import SentenceTransformer, SentencesDataset, LoggingHandler, losses, models, util\n",
    "from sentence_transformers.evaluation import EmbeddingSimilarityEvaluator\n",
    "# from sentence_transformers.readers import InputExample\n",
    "# from transformers.trainer_utils import get_last_checkpoint\n",
    "\n",
    "from os.path import exists\n",
    "\n",
    "logging.basicConfig(\n",
    "    level=logging.INFO,\n",
    "    format='%(asctime)s - %(message)s',\n",
    "    datefmt='%Y-%m-%d %H:%M:%S',\n",
    "    handlers=[LoggingHandler()]\n",
    ")\n",
    "\n",
    "logger = logging.getLogger(__name__)"
   ]
  },
  {
   "cell_type": "markdown",
   "id": "dc488076",
   "metadata": {
    "tags": []
   },
   "source": [
    "# 2. Semantic Search (News)\n",
    "\n",
    "\n",
    "시멘틱(의미) 검색은 검색 쿼리가 키워드를 찾는 것뿐만 아니라, 검색에 사용되는 단어의 의도와 문맥적 의미를 파악하는 것을 목표로 합니다.\n",
    "시멘틱 유사도 검색을 또한 챗봇 및 해당 검색 쿼리를 입력하면, 검색 쿼리의 임베딩을 계산하여 모든 문서(예: 뉴스 제목/요약, 웹페이지 제목/요약) 리스트의 임베딩을 비교하여 가장 유사도가 높은 문서 후보들을 찾습니다.\n",
    "\n",
    "References\n",
    "- Billion-scale semantic similarity search with FAISS+SBERT: https://towardsdatascience.com/billion-scale-semantic-similarity-search-with-faiss-sbert-c845614962e2\n",
    "- Korean Contemporary Corpus of Written Sentences: http://nlp.kookmin.ac.kr/kcc/"
   ]
  },
  {
   "cell_type": "markdown",
   "id": "3e1fa503",
   "metadata": {},
   "source": [
    "## 2.1. Preparing news dataset"
   ]
  },
  {
   "cell_type": "code",
   "execution_count": 5,
   "id": "da512408",
   "metadata": {},
   "outputs": [
    {
     "name": "stdout",
     "output_type": "stream",
     "text": [
      "train_dir:  data/KorSTS/train/\n"
     ]
    }
   ],
   "source": [
    "class Params:\n",
    "    def __init__(self):\n",
    "        self.train_dir = 'data/KorSTS/train/'        \n",
    "                        \n",
    "args = Params()\n",
    "print(\"train_dir: \", args.train_dir)"
   ]
  },
  {
   "cell_type": "code",
   "execution_count": 6,
   "id": "02710673",
   "metadata": {},
   "outputs": [
    {
     "name": "stdout",
     "output_type": "stream",
     "text": [
      "news_path: \n",
      " data/KorSTS/train//KCCq28_Korean_sentences_EUCKR_v2.txt \n",
      "\n",
      "No data So we are downloading file\n"
     ]
    },
    {
     "name": "stderr",
     "output_type": "stream",
     "text": [
      "100% |########################################################################|\n"
     ]
    }
   ],
   "source": [
    "from custom_util import MyProgressBar\n",
    "from os.path import exists\n",
    "import zipfile\n",
    "\n",
    "news_path = f'{args.train_dir}/KCCq28_Korean_sentences_EUCKR_v2.txt'\n",
    "print(\"news_path: \\n\", news_path, \"\\n\")\n",
    "    \n",
    "if exists(news_path):\n",
    "    print(\"Data is available\")    \n",
    "    pass\n",
    "else:\n",
    "    print(\"No data So we are downloading file\")\n",
    "    url = 'http://nlp.kookmin.ac.kr/kcc/KCCq28_Korean_sentences_EUCKR_v2.zip'\n",
    "    news_path = f'{args.train_dir}/KCCq28_Korean_sentences_EUCKR_v2.zip'\n",
    "    urllib.request.urlretrieve(url, news_path, MyProgressBar())    \n",
    "    \n",
    "    with zipfile.ZipFile(news_path, 'r') as zip_ref:\n",
    "        zip_ref.extractall(args.train_dir)\n",
    "\n",
    "\n"
   ]
  },
  {
   "cell_type": "code",
   "execution_count": 7,
   "id": "6c62cf9e",
   "metadata": {},
   "outputs": [
    {
     "name": "stdout",
     "output_type": "stream",
     "text": [
      "2023-02-26 13:20:42 - news_data length:  1337721\n"
     ]
    }
   ],
   "source": [
    "from custom_util import extract_news_data\n",
    "\n",
    "news_data_raw = extract_news_data(args, news_path, logger)"
   ]
  },
  {
   "cell_type": "markdown",
   "id": "30e9ee9b",
   "metadata": {},
   "source": [
    "## 2.2. News Data Sampling"
   ]
  },
  {
   "cell_type": "markdown",
   "id": "e70cc8ee",
   "metadata": {},
   "source": [
    "- num_sample 을 에러시 조절 하세요."
   ]
  },
  {
   "cell_type": "code",
   "execution_count": 8,
   "id": "577f8032",
   "metadata": {},
   "outputs": [],
   "source": [
    "num_sample = 20000"
   ]
  },
  {
   "cell_type": "code",
   "execution_count": 9,
   "id": "96d15911",
   "metadata": {},
   "outputs": [],
   "source": [
    "import random\n",
    "\n",
    "\n",
    "def sample_news_data(num_sample, news_data_raw):\n",
    "    random.seed(100)\n",
    "    news_data = random.sample(news_data_raw, num_sample)\n",
    "    #news_data = news_data_raw[:num_sample] # For debug purpose\n",
    "    \n",
    "    return news_data\n",
    "\n",
    "corpus = sample_news_data(num_sample, news_data_raw)"
   ]
  },
  {
   "cell_type": "code",
   "execution_count": 10,
   "id": "82718b97",
   "metadata": {},
   "outputs": [
    {
     "data": {
      "text/plain": [
       "['그는 \"터키 원전수주 계약은 일본 정부의 장기 위험 보증 조항에 달려 있다\"고 덧붙였다.',\n",
       " '기재부 고위 관계자는 \"김동연 부총리가 오고 지난해 예산안 통과 과정에서 예산실이 밤샘근무를 하루밖에 안 했다\"며 \"예산실장 출신이라 개선을 많이 하려고는 하는데 현장의 목소리를 더 들을 필요가 있다\"고 꼬집었다.',\n",
       " '선수들을 지도하고 있는 원동현은 \"이번 훈련을 통해 여자핸드볼 국가대표 선수들이 강인한 해병 정신으로 무장해 리우 올림픽에서 반드시 승리하도록 해병대가 견인차 역할을 할 것\"이라며 \"악조건 속에서도 전승을 거둬 온 해병대의 강한 훈련을 받은 만큼 선수들도 강한 자부심과 자신감을 갖게 될 것이라 확신한다\"고 전했다.']"
      ]
     },
     "execution_count": 10,
     "metadata": {},
     "output_type": "execute_result"
    }
   ],
   "source": [
    "corpus[0:3]"
   ]
  },
  {
   "cell_type": "code",
   "execution_count": 11,
   "id": "87c0a741",
   "metadata": {},
   "outputs": [
    {
     "name": "stdout",
     "output_type": "stream",
     "text": [
      "2023-02-26 13:20:42 - Load pretrained SentenceTransformer: /home/ec2-user/SageMaker/NLP-HuggingFace-On-SageMaker/3_Semantic-Textual-Similarity/3_Training/KorSTS/model/training_sts_sentence-transformers-xlm-r-100langs-bert-base-nli-stsb-mean-tokens-2023-02-26_13-18-02\n",
      "2023-02-26 13:20:46 - Use pytorch device: cuda\n"
     ]
    }
   ],
   "source": [
    "model = SentenceTransformer(model_save_path)"
   ]
  },
  {
   "cell_type": "markdown",
   "id": "c0d0525d",
   "metadata": {
    "tags": []
   },
   "source": [
    "## 2.3. 뉴스 데이터 Sentence-BERT Output Embedding"
   ]
  },
  {
   "cell_type": "code",
   "execution_count": 12,
   "id": "d360c61e",
   "metadata": {},
   "outputs": [
    {
     "data": {
      "application/vnd.jupyter.widget-view+json": {
       "model_id": "1f2dd1732d44410097ef9a1683f3c380",
       "version_major": 2,
       "version_minor": 0
      },
      "text/plain": [
       "Batches:   0%|          | 0/313 [00:00<?, ?it/s]"
      ]
     },
     "metadata": {},
     "output_type": "display_data"
    }
   ],
   "source": [
    "from custom_util import encode_multi_gpu_embedding \n",
    "\n",
    "\n",
    "corpus_embeddings = encode_multi_gpu_embedding(model, corpus) # 384 문장 임베딩 * 10,000 문장"
   ]
  },
  {
   "cell_type": "code",
   "execution_count": 13,
   "id": "b23dad7d",
   "metadata": {},
   "outputs": [],
   "source": [
    "from custom_util import semantic_search\n",
    "from custom_util import Okt_tokenizer "
   ]
  },
  {
   "cell_type": "code",
   "execution_count": 14,
   "id": "e3afc894",
   "metadata": {},
   "outputs": [],
   "source": [
    "top_k = 5\n",
    "\n",
    "queries = [\n",
    "            '올 시즌 정규리그 35경기에서 23골을 작성한 손흥민은 이날 울버햄프턴을 상대로 득점에 \\\n",
    "            성공한 무함마드 살라흐(리버풀·23골)와 함께 정규리그 득점 공동 1위에 올랐다.\\\n",
    "            아시아 출신 선수가 EPL에서 득점왕에 오른 건 손흥민이 처음이다. \\\n",
    "            EPL뿐 아니라 유럽축구 5대 리그(잉글랜드·스페인·독일·프랑스·이탈리아)로 범위를 넓혀도 \\\n",
    "            아시아 선수 득점왕의 전례를 찾아보기 어렵다.'\n",
    "          ]\n"
   ]
  },
  {
   "cell_type": "markdown",
   "id": "5107a16b",
   "metadata": {},
   "source": [
    "### 2.3.1. Corpus: 원문, Query : 원문"
   ]
  },
  {
   "cell_type": "code",
   "execution_count": 15,
   "id": "52196751",
   "metadata": {},
   "outputs": [
    {
     "data": {
      "application/vnd.jupyter.widget-view+json": {
       "model_id": "56179e0114d941c09960921465a2cb72",
       "version_major": 2,
       "version_minor": 0
      },
      "text/plain": [
       "Batches:   0%|          | 0/1 [00:00<?, ?it/s]"
      ]
     },
     "metadata": {},
     "output_type": "display_data"
    },
    {
     "name": "stdout",
     "output_type": "stream",
     "text": [
      "\n",
      "======================\n",
      "Query: 올 시즌 정규리그 35경기에서 23골을 작성한 손흥민은 이날 울버햄프턴을 상대로 득점에             성공한 무함마드 살라흐(리버풀·23골)와 함께 정규리그 득점 공동 1위에 올랐다.            아시아 출신 선수가 EPL에서 득점왕에 오른 건 손흥민이 처음이다.             EPL뿐 아니라 유럽축구 5대 리그(잉글랜드·스페인·독일·프랑스·이탈리아)로 범위를 넓혀도             아시아 선수 득점왕의 전례를 찾아보기 어렵다.\n",
      "======================\n",
      "\n",
      "Top 5 most similar sentences in corpus:\n",
      "\n",
      "(Score: 0.5232) 2번타자로 선발 출전하는 오지환은 \"지난해 9타수 무안타였는데 이번에는 2번타자로 뛰는 만큼 출루를 많이 해서 우리 팀이 기세를 잡을 수 있도록 할 것\"이라며 두 주먹을 불끈 쥐었다.\n",
      "(Score: 0.4884) 올해 초 두산 유니폼을 입은 볼스테드는 \"한 시즌을 다 뛰겠다\"는 바람과는 달리 중도 퇴출의 비운을 맛봤다.\n",
      "(Score: 0.4882) 분데스리가는 \"레버쿠젠이 뮌헨과의 친선경기에서 1-2로 패했지만 새로 합류한 손흥민이 첫 골맛을 보는 성과를 얻었다\"고 손흥민의 활약에 주목했다.\n",
      "(Score: 0.4833) 메이저리그 공식 홈페이지 MLB.com의 '스포츠온어스'는 해외 영입 성공 사례를 소개하며 \"미네소타는 박병호가 국제시장 FA 선수들이 MLB에 즉시 영향을 미친 최근의 사례가 되기를 희망하고 있다\"고 전했다.\n",
      "(Score: 0.4795) 슈틸리케 감독은 \"구자철은 상황상 남태희와 비슷하다 생각한다\"며 \"남태희는 미얀마전에서 부여받은 시간 동안 자리를 충분히 메울 수 있다는 것을 보여줬다\"고 설명했다 남태희는 지난 12일 수원월드컵경기장에서 열린 미얀마와의 2018 러시아월드컵 아시아지역 2차 예선 G조 5차전 경기에 후반 32분 구자철을 대신해 투입됐다.\n"
     ]
    }
   ],
   "source": [
    "# queries = [Okt_tokenizer(queries[0])]\n",
    "semantic_search(model, corpus, corpus_embeddings, queries, top_k)"
   ]
  },
  {
   "cell_type": "markdown",
   "id": "b3e2925d",
   "metadata": {},
   "source": [
    "### 2.3.2. Corpus: 원문, Query : 전처리, 토큰 (명사, 형용사)"
   ]
  },
  {
   "cell_type": "code",
   "execution_count": 16,
   "id": "2d026014",
   "metadata": {},
   "outputs": [
    {
     "data": {
      "application/vnd.jupyter.widget-view+json": {
       "model_id": "c6ba62b4db374f658f492acf61b5b7a8",
       "version_major": 2,
       "version_minor": 0
      },
      "text/plain": [
       "Batches:   0%|          | 0/1 [00:00<?, ?it/s]"
      ]
     },
     "metadata": {},
     "output_type": "display_data"
    },
    {
     "name": "stdout",
     "output_type": "stream",
     "text": [
      "\n",
      "======================\n",
      "Query: 시즌 정규 리그 경기 작성 손흥민 울버햄프턴 상대로 득점 성공하다 무함마드 살라 리버풀 정규 리그 득점 공동 아시아 출신 선수 득점 오른 손흥민 처음 아니다 유럽 축구 리그 잉글랜드 스페인 독일 프랑스 이탈리아 범위 아시아 선수 득점 전례 어렵다\n",
      "======================\n",
      "\n",
      "Top 5 most similar sentences in corpus:\n",
      "\n",
      "(Score: 0.5799) 정재훈 롯데 이적, 이종운 감독 \"최선의 선택\"롯데가 두산과 FA 계약을 맺은 좌완 에이스 장원준을 지명했다.\n",
      "(Score: 0.5114) 영국 매체 스포츠 잉글리시는 이승우와 세 번째 골을 터뜨린 카를레스 알레나를 두고 \"신비스러운 듀오\"라고 칭찬했고 스페인 매체 마르카는 \"클럽 최고의 두 선수인 이승우와 알레나가 득점을 책임졌다\"고 전했다.\n",
      "(Score: 0.4950) 한 일본 축구팬은 손흥민의 결승전 동점골을 두고 \"역시 아시아의 에이스\"라며 치켜세웠다.\n",
      "(Score: 0.4907) 상대 에이스 로페즈를 상대로 7안타 2득점한 타선에 대해서도 \"에이스를 상대로 대량득점을 기대할 수는 없지 않은가.꼭 필요한 점수를 얻어내는 SK다운 야구를 했다\"고 호평했다.\n",
      "(Score: 0.4819) 2번타자로 선발 출전하는 오지환은 \"지난해 9타수 무안타였는데 이번에는 2번타자로 뛰는 만큼 출루를 많이 해서 우리 팀이 기세를 잡을 수 있도록 할 것\"이라며 두 주먹을 불끈 쥐었다.\n"
     ]
    }
   ],
   "source": [
    "queries = [Okt_tokenizer(queries[0])]\n",
    "semantic_search(model, corpus, corpus_embeddings, queries, top_k)"
   ]
  },
  {
   "cell_type": "markdown",
   "id": "4ca9af36",
   "metadata": {},
   "source": [
    "### 2.3.3 경제 뉴스"
   ]
  },
  {
   "cell_type": "code",
   "execution_count": 17,
   "id": "e811b434",
   "metadata": {},
   "outputs": [
    {
     "data": {
      "application/vnd.jupyter.widget-view+json": {
       "model_id": "32ec1a82d7f042bd88605d5ef9006031",
       "version_major": 2,
       "version_minor": 0
      },
      "text/plain": [
       "Batches:   0%|          | 0/1 [00:00<?, ?it/s]"
      ]
     },
     "metadata": {},
     "output_type": "display_data"
    },
    {
     "name": "stdout",
     "output_type": "stream",
     "text": [
      "\n",
      "======================\n",
      "Query: 삼성전자의 2분기 확정 실적이 발표된 전일부터 이틀간 증권사 18곳에서 분석 보고서를 냈다.        대부분은 3분기가 더 부진할 것인 데다 주가는 한 차례 더 조정이 올 것이란 어두운 전망을 내놓았다.        우리나라 시총 1위 기업 주식이 이런데, 미국 장으로 옮기는 데 답인가, 어깨에서 사서 무릎에 팔게 생겼다호실적에도 떨어지고오늘도 기대했던 내가 바보다         증권가도 떠나는 개미들을 붙잡을 만한 전망을 내놓지 못하는 상황이다. 하반기 실적은 더 암울할 것이라는 게 중론이어서다.\n",
      "======================\n",
      "\n",
      "Top 5 most similar sentences in corpus:\n",
      "\n",
      "(Score: 0.5782) 외국인들이 중동사태 이전에도 신흥국에서 발을 빼 왔던데다 3월에 국내에서 금융통화위원회 및 기업들의 프리 실적 시즌이 기다리고 있고 해외에서도 중국 전국인민대표대회, 미국 경기지표 발표 등 넘어야 할 산들이 많다는 것.민상일 이트레이드증권 투자전략팀장은 \"인플레이션 우려가 확산되는 가운데 중동사태라는 돌발악재가 더해지면서 외국인들의 매도세가 강화되는 모습\"이라며 \"당분간 외국인들이 국내 증시에서 적극적으로 매수에 나서기 어렵고 이 영향으로 코스피지수도 좀 더 조정을 받을 가능성이 크다\"고 말했다.\n",
      "(Score: 0.5760) 경기를 지켜본 온라인 축구 커뮤니티에선 \"일본 그저께 경기에 비해서 체력을 무리하게 오버페이스 하진 않는데 전방 프레싱에 지역방어는 여전히 쓰고 있음.공격, 미들 프레싱하고 공격 다 한다고 체력쓰는 건 여전함\" \"일본 입장에서는 승리도 절실하거니와 분명히 한명의 수적 우위가 있는 상황이라서 무지막지한 공격을 퍼부어야하는 상황이라고 선수들은 인식들을 하고 있음에도 도저히 마음놓고 공격일변도를 펼치기는 힘든 상황이네요.후반은 전형적인 체력전, 집중력 싸움이 될 듯합니다\" 등의 분석을 내놓고 있다.\n",
      "(Score: 0.5719) 보고서는 \"미국의 금리인상이 시작되더라도 진행속도가 느리게 진행되는 정도라면 우리나라의 경상수지 흑자, 외환보유액 등을 차별성이 부각될 수 있을 것\"이라며 \"원화가 달러화 대비 약세로 돌아서더라도 엔화, 유로화 등에 상대적 강세가 이어질 가능성이 높아 당분간 국내 통화당국 운신의 폭이 커졌다고 볼 수 있을 것\"이라고 강조했다.\n",
      "(Score: 0.5580) 한 증권사 리스크관리부서 관계자는 \"코스피 상장사라도 유동성이나 재무안정성이 떨어지는 종목이 있고 코스닥 상장사 중에서도 유동성이 풍부한 데다 재무안정성, 성장성이 우수한 종목도 있다\"며 \"하지만 코스닥 상장사는 금감원 규정에 의해 무조건 더 낮은 평가 점수를 받게 돼있다\"고 설명했다.\n",
      "(Score: 0.5547) 현대증권 곽병열 연구원은 \"국내 증시 전반에 걸친 악재보다는 일부 중국 소비자에 대한 노출도가 높은 일부 업종에 대한 국지적인 악재로 보는 게 타당하다\"며 \"브렉시트 발발 이후 글로벌 공조와 미국의 경제지표 호조로 국내외 증시가 반등 국면에 있다는 것을 고려하면 국내 증시 전반에 미칠 악영향은 제한적일 것\"이라고 설명했다.\n"
     ]
    }
   ],
   "source": [
    "top_k = 5\n",
    "\n",
    "queries = [\n",
    "        '삼성전자의 2분기 확정 실적이 발표된 전일부터 이틀간 증권사 18곳에서 분석 보고서를 냈다.\\\n",
    "        대부분은 3분기가 더 부진할 것인 데다 주가는 한 차례 더 조정이 올 것이란 어두운 전망을 내놓았다.\\\n",
    "        우리나라 시총 1위 기업 주식이 이런데, 미국 장으로 옮기는 데 답인가, 어깨에서 사서 무릎에 팔게 생겼다' '호실적에도 떨어지고' '오늘도 기대했던 내가 바보다 \\\n",
    "        증권가도 떠나는 개미들을 붙잡을 만한 전망을 내놓지 못하는 상황이다. 하반기 실적은 더 암울할 것이라는 게 중론이어서다.'\n",
    "        ]\n",
    "# queries = [Okt_tokenizer(queries[0])]\n",
    "\n",
    "semantic_search(model, corpus, corpus_embeddings, queries, top_k)"
   ]
  },
  {
   "cell_type": "code",
   "execution_count": 18,
   "id": "cae4f30d",
   "metadata": {},
   "outputs": [
    {
     "data": {
      "application/vnd.jupyter.widget-view+json": {
       "model_id": "a345ffc50c7c4316a09262422a222fb0",
       "version_major": 2,
       "version_minor": 0
      },
      "text/plain": [
       "Batches:   0%|          | 0/1 [00:00<?, ?it/s]"
      ]
     },
     "metadata": {},
     "output_type": "display_data"
    },
    {
     "name": "stdout",
     "output_type": "stream",
     "text": [
      "\n",
      "======================\n",
      "Query: 전자 확정 실적 발표 전일 이틀 증권사 분석 보고서 대부분 부진하다 주가 차례 조정 두운 전망 우리나라 기업 주식 이렇다 미국 어깨 사서 무릎 호실 오늘 기대하다 바보 증권 가도 개미 전망 상황 하반기 실적 암울하다 중론\n",
      "======================\n",
      "\n",
      "Top 5 most similar sentences in corpus:\n",
      "\n",
      "(Score: 0.6692) 김세중 신영증권 투자전략 팀장은 \"오늘 하루만 놓고 보면 기관이 펀드에서 유입된 현금을 가지고 저가 매수를 했다고 볼 수 있다\"면서 \"대외 여건이 잠시 진정됐고, 금요일 급매물 탓에 주가가 펀더멘털 이상으로 과하게 빠졌다는 판단을 한 것\"이라고 지적했다.\n",
      "(Score: 0.6132) 최남곤 유안타증권 연구원은 \"고액 연봉과 국정농단 연루 의혹에 시달리는 황창규 회장의 거취와 관련한 이슈가 주가에 부담으로 이어지고있고 연말까지는 관련 불확실성이 지속될 가능성이 있다\"며 \"그러나 이 이슈가 해결된 이후에는 주가는 상승 반전할 것\"이라고 말했다.\n",
      "(Score: 0.6127) 이와 관련 윤여삼 미래에셋대우증권 연구원은 \"브렉시트만으로 글로벌 경기여건을 판단하는 것은 어렵지만 하반기 경기여건이 만만치 않다\"라며 \"채권은 매수 관점에서 사들여야 한다\"며 금리가 급락할 수 있다고 전망했다.\n",
      "(Score: 0.6069) 신한금융투자 투자분석부 시황팀은 \"이날 코스피는 주요 수급주체의 매수세가 강하지 않은 가운데 개인투자자의 매도세가 우세했다\"며 \"코스닥 지수는 개인의 양도소득세 과표 확정을 위한 매도에 코스닥150지수 구성종목을 중심으로 하락세가 나타난 것이 특징\"이라고 분석했다.\n",
      "(Score: 0.6007) 한 IB업계 관계자는 \"단기실적이 급감할 경우 신용평가사에서 이를 곧바로 신용등급에 반영하는데다 최근 한 번에 두 단계, 혹은 한 해에도 두 차례 이상 등급을 강등하는 경우가 발생해 보유채권 가치 하락을 우려한 기관들의 태도가 더욱 깐깐해 지고 있다\"고 말했다.\n"
     ]
    }
   ],
   "source": [
    "queries = [Okt_tokenizer(queries[0])]\n",
    "semantic_search(model, corpus, corpus_embeddings, queries, top_k)"
   ]
  },
  {
   "cell_type": "markdown",
   "id": "005abd99",
   "metadata": {},
   "source": [
    "# 3. Corpus 에 전처리 도입"
   ]
  },
  {
   "cell_type": "markdown",
   "id": "f5c13658",
   "metadata": {},
   "source": [
    "## 3.1. DASK 병렬 클러스터 준비"
   ]
  },
  {
   "cell_type": "code",
   "execution_count": 19,
   "id": "1597df97",
   "metadata": {
    "tags": [],
    "toc-hr-collapsed": true
   },
   "outputs": [
    {
     "name": "stdout",
     "output_type": "stream",
     "text": [
      "DAS client has been created\n"
     ]
    },
    {
     "data": {
      "text/html": [
       "<div>\n",
       "    <div style=\"width: 24px; height: 24px; background-color: #e1e1e1; border: 3px solid #9D9D9D; border-radius: 5px; position: absolute;\"> </div>\n",
       "    <div style=\"margin-left: 48px;\">\n",
       "        <h3 style=\"margin-bottom: 0px;\">Client</h3>\n",
       "        <p style=\"color: #9D9D9D; margin-bottom: 0px;\">Client-741cf1b9-b5d8-11ed-9984-0ae4f7872302</p>\n",
       "        <table style=\"width: 100%; text-align: left;\">\n",
       "\n",
       "        <tr>\n",
       "        \n",
       "            <td style=\"text-align: left;\"><strong>Connection method:</strong> Cluster object</td>\n",
       "            <td style=\"text-align: left;\"><strong>Cluster type:</strong> distributed.LocalCluster</td>\n",
       "        \n",
       "        </tr>\n",
       "\n",
       "        \n",
       "            <tr>\n",
       "                <td style=\"text-align: left;\">\n",
       "                    <strong>Dashboard: </strong> <a href=\"http://127.0.0.1:8787/status\" target=\"_blank\">http://127.0.0.1:8787/status</a>\n",
       "                </td>\n",
       "                <td style=\"text-align: left;\"></td>\n",
       "            </tr>\n",
       "        \n",
       "\n",
       "        </table>\n",
       "\n",
       "        \n",
       "\n",
       "        \n",
       "            <details>\n",
       "            <summary style=\"margin-bottom: 20px;\"><h3 style=\"display: inline;\">Cluster Info</h3></summary>\n",
       "            <div class=\"jp-RenderedHTMLCommon jp-RenderedHTML jp-mod-trusted jp-OutputArea-output\">\n",
       "    <div style=\"width: 24px; height: 24px; background-color: #e1e1e1; border: 3px solid #9D9D9D; border-radius: 5px; position: absolute;\">\n",
       "    </div>\n",
       "    <div style=\"margin-left: 48px;\">\n",
       "        <h3 style=\"margin-bottom: 0px; margin-top: 0px;\">LocalCluster</h3>\n",
       "        <p style=\"color: #9D9D9D; margin-bottom: 0px;\">2906e6c1</p>\n",
       "        <table style=\"width: 100%; text-align: left;\">\n",
       "            <tr>\n",
       "                <td style=\"text-align: left;\">\n",
       "                    <strong>Dashboard:</strong> <a href=\"http://127.0.0.1:8787/status\" target=\"_blank\">http://127.0.0.1:8787/status</a>\n",
       "                </td>\n",
       "                <td style=\"text-align: left;\">\n",
       "                    <strong>Workers:</strong> 4\n",
       "                </td>\n",
       "            </tr>\n",
       "            <tr>\n",
       "                <td style=\"text-align: left;\">\n",
       "                    <strong>Total threads:</strong> 16\n",
       "                </td>\n",
       "                <td style=\"text-align: left;\">\n",
       "                    <strong>Total memory:</strong> 239.87 GiB\n",
       "                </td>\n",
       "            </tr>\n",
       "            \n",
       "            <tr>\n",
       "    <td style=\"text-align: left;\"><strong>Status:</strong> running</td>\n",
       "    <td style=\"text-align: left;\"><strong>Using processes:</strong> True</td>\n",
       "</tr>\n",
       "\n",
       "            \n",
       "        </table>\n",
       "\n",
       "        <details>\n",
       "            <summary style=\"margin-bottom: 20px;\">\n",
       "                <h3 style=\"display: inline;\">Scheduler Info</h3>\n",
       "            </summary>\n",
       "\n",
       "            <div style=\"\">\n",
       "    <div>\n",
       "        <div style=\"width: 24px; height: 24px; background-color: #FFF7E5; border: 3px solid #FF6132; border-radius: 5px; position: absolute;\"> </div>\n",
       "        <div style=\"margin-left: 48px;\">\n",
       "            <h3 style=\"margin-bottom: 0px;\">Scheduler</h3>\n",
       "            <p style=\"color: #9D9D9D; margin-bottom: 0px;\">Scheduler-df9de50b-a17a-4b7f-a2ae-c62669b675c0</p>\n",
       "            <table style=\"width: 100%; text-align: left;\">\n",
       "                <tr>\n",
       "                    <td style=\"text-align: left;\">\n",
       "                        <strong>Comm:</strong> tcp://127.0.0.1:45087\n",
       "                    </td>\n",
       "                    <td style=\"text-align: left;\">\n",
       "                        <strong>Workers:</strong> 4\n",
       "                    </td>\n",
       "                </tr>\n",
       "                <tr>\n",
       "                    <td style=\"text-align: left;\">\n",
       "                        <strong>Dashboard:</strong> <a href=\"http://127.0.0.1:8787/status\" target=\"_blank\">http://127.0.0.1:8787/status</a>\n",
       "                    </td>\n",
       "                    <td style=\"text-align: left;\">\n",
       "                        <strong>Total threads:</strong> 16\n",
       "                    </td>\n",
       "                </tr>\n",
       "                <tr>\n",
       "                    <td style=\"text-align: left;\">\n",
       "                        <strong>Started:</strong> Just now\n",
       "                    </td>\n",
       "                    <td style=\"text-align: left;\">\n",
       "                        <strong>Total memory:</strong> 239.87 GiB\n",
       "                    </td>\n",
       "                </tr>\n",
       "            </table>\n",
       "        </div>\n",
       "    </div>\n",
       "\n",
       "    <details style=\"margin-left: 48px;\">\n",
       "        <summary style=\"margin-bottom: 20px;\">\n",
       "            <h3 style=\"display: inline;\">Workers</h3>\n",
       "        </summary>\n",
       "\n",
       "        \n",
       "        <div style=\"margin-bottom: 20px;\">\n",
       "            <div style=\"width: 24px; height: 24px; background-color: #DBF5FF; border: 3px solid #4CC9FF; border-radius: 5px; position: absolute;\"> </div>\n",
       "            <div style=\"margin-left: 48px;\">\n",
       "            <details>\n",
       "                <summary>\n",
       "                    <h4 style=\"margin-bottom: 0px; display: inline;\">Worker: 0</h4>\n",
       "                </summary>\n",
       "                <table style=\"width: 100%; text-align: left;\">\n",
       "                    <tr>\n",
       "                        <td style=\"text-align: left;\">\n",
       "                            <strong>Comm: </strong> tcp://127.0.0.1:42791\n",
       "                        </td>\n",
       "                        <td style=\"text-align: left;\">\n",
       "                            <strong>Total threads: </strong> 4\n",
       "                        </td>\n",
       "                    </tr>\n",
       "                    <tr>\n",
       "                        <td style=\"text-align: left;\">\n",
       "                            <strong>Dashboard: </strong> <a href=\"http://127.0.0.1:35497/status\" target=\"_blank\">http://127.0.0.1:35497/status</a>\n",
       "                        </td>\n",
       "                        <td style=\"text-align: left;\">\n",
       "                            <strong>Memory: </strong> 59.97 GiB\n",
       "                        </td>\n",
       "                    </tr>\n",
       "                    <tr>\n",
       "                        <td style=\"text-align: left;\">\n",
       "                            <strong>Nanny: </strong> tcp://127.0.0.1:41735\n",
       "                        </td>\n",
       "                        <td style=\"text-align: left;\"></td>\n",
       "                    </tr>\n",
       "                    <tr>\n",
       "                        <td colspan=\"2\" style=\"text-align: left;\">\n",
       "                            <strong>Local directory: </strong> /tmp/dask-worker-space/worker-2dwb0xc2\n",
       "                        </td>\n",
       "                    </tr>\n",
       "\n",
       "                    \n",
       "                    <tr>\n",
       "                        <td style=\"text-align: left;\">\n",
       "                            <strong>GPU: </strong>Tesla V100-SXM2-16GB\n",
       "                        </td>\n",
       "                        <td style=\"text-align: left;\">\n",
       "                            <strong>GPU memory: </strong> 16.00 GiB\n",
       "                        </td>\n",
       "                    </tr>\n",
       "                    \n",
       "\n",
       "                    \n",
       "\n",
       "                </table>\n",
       "            </details>\n",
       "            </div>\n",
       "        </div>\n",
       "        \n",
       "        <div style=\"margin-bottom: 20px;\">\n",
       "            <div style=\"width: 24px; height: 24px; background-color: #DBF5FF; border: 3px solid #4CC9FF; border-radius: 5px; position: absolute;\"> </div>\n",
       "            <div style=\"margin-left: 48px;\">\n",
       "            <details>\n",
       "                <summary>\n",
       "                    <h4 style=\"margin-bottom: 0px; display: inline;\">Worker: 1</h4>\n",
       "                </summary>\n",
       "                <table style=\"width: 100%; text-align: left;\">\n",
       "                    <tr>\n",
       "                        <td style=\"text-align: left;\">\n",
       "                            <strong>Comm: </strong> tcp://127.0.0.1:35961\n",
       "                        </td>\n",
       "                        <td style=\"text-align: left;\">\n",
       "                            <strong>Total threads: </strong> 4\n",
       "                        </td>\n",
       "                    </tr>\n",
       "                    <tr>\n",
       "                        <td style=\"text-align: left;\">\n",
       "                            <strong>Dashboard: </strong> <a href=\"http://127.0.0.1:43593/status\" target=\"_blank\">http://127.0.0.1:43593/status</a>\n",
       "                        </td>\n",
       "                        <td style=\"text-align: left;\">\n",
       "                            <strong>Memory: </strong> 59.97 GiB\n",
       "                        </td>\n",
       "                    </tr>\n",
       "                    <tr>\n",
       "                        <td style=\"text-align: left;\">\n",
       "                            <strong>Nanny: </strong> tcp://127.0.0.1:38151\n",
       "                        </td>\n",
       "                        <td style=\"text-align: left;\"></td>\n",
       "                    </tr>\n",
       "                    <tr>\n",
       "                        <td colspan=\"2\" style=\"text-align: left;\">\n",
       "                            <strong>Local directory: </strong> /tmp/dask-worker-space/worker-fgsn10w4\n",
       "                        </td>\n",
       "                    </tr>\n",
       "\n",
       "                    \n",
       "                    <tr>\n",
       "                        <td style=\"text-align: left;\">\n",
       "                            <strong>GPU: </strong>Tesla V100-SXM2-16GB\n",
       "                        </td>\n",
       "                        <td style=\"text-align: left;\">\n",
       "                            <strong>GPU memory: </strong> 16.00 GiB\n",
       "                        </td>\n",
       "                    </tr>\n",
       "                    \n",
       "\n",
       "                    \n",
       "\n",
       "                </table>\n",
       "            </details>\n",
       "            </div>\n",
       "        </div>\n",
       "        \n",
       "        <div style=\"margin-bottom: 20px;\">\n",
       "            <div style=\"width: 24px; height: 24px; background-color: #DBF5FF; border: 3px solid #4CC9FF; border-radius: 5px; position: absolute;\"> </div>\n",
       "            <div style=\"margin-left: 48px;\">\n",
       "            <details>\n",
       "                <summary>\n",
       "                    <h4 style=\"margin-bottom: 0px; display: inline;\">Worker: 2</h4>\n",
       "                </summary>\n",
       "                <table style=\"width: 100%; text-align: left;\">\n",
       "                    <tr>\n",
       "                        <td style=\"text-align: left;\">\n",
       "                            <strong>Comm: </strong> tcp://127.0.0.1:45301\n",
       "                        </td>\n",
       "                        <td style=\"text-align: left;\">\n",
       "                            <strong>Total threads: </strong> 4\n",
       "                        </td>\n",
       "                    </tr>\n",
       "                    <tr>\n",
       "                        <td style=\"text-align: left;\">\n",
       "                            <strong>Dashboard: </strong> <a href=\"http://127.0.0.1:42957/status\" target=\"_blank\">http://127.0.0.1:42957/status</a>\n",
       "                        </td>\n",
       "                        <td style=\"text-align: left;\">\n",
       "                            <strong>Memory: </strong> 59.97 GiB\n",
       "                        </td>\n",
       "                    </tr>\n",
       "                    <tr>\n",
       "                        <td style=\"text-align: left;\">\n",
       "                            <strong>Nanny: </strong> tcp://127.0.0.1:36891\n",
       "                        </td>\n",
       "                        <td style=\"text-align: left;\"></td>\n",
       "                    </tr>\n",
       "                    <tr>\n",
       "                        <td colspan=\"2\" style=\"text-align: left;\">\n",
       "                            <strong>Local directory: </strong> /tmp/dask-worker-space/worker-49ookiu_\n",
       "                        </td>\n",
       "                    </tr>\n",
       "\n",
       "                    \n",
       "                    <tr>\n",
       "                        <td style=\"text-align: left;\">\n",
       "                            <strong>GPU: </strong>Tesla V100-SXM2-16GB\n",
       "                        </td>\n",
       "                        <td style=\"text-align: left;\">\n",
       "                            <strong>GPU memory: </strong> 16.00 GiB\n",
       "                        </td>\n",
       "                    </tr>\n",
       "                    \n",
       "\n",
       "                    \n",
       "\n",
       "                </table>\n",
       "            </details>\n",
       "            </div>\n",
       "        </div>\n",
       "        \n",
       "        <div style=\"margin-bottom: 20px;\">\n",
       "            <div style=\"width: 24px; height: 24px; background-color: #DBF5FF; border: 3px solid #4CC9FF; border-radius: 5px; position: absolute;\"> </div>\n",
       "            <div style=\"margin-left: 48px;\">\n",
       "            <details>\n",
       "                <summary>\n",
       "                    <h4 style=\"margin-bottom: 0px; display: inline;\">Worker: 3</h4>\n",
       "                </summary>\n",
       "                <table style=\"width: 100%; text-align: left;\">\n",
       "                    <tr>\n",
       "                        <td style=\"text-align: left;\">\n",
       "                            <strong>Comm: </strong> tcp://127.0.0.1:40515\n",
       "                        </td>\n",
       "                        <td style=\"text-align: left;\">\n",
       "                            <strong>Total threads: </strong> 4\n",
       "                        </td>\n",
       "                    </tr>\n",
       "                    <tr>\n",
       "                        <td style=\"text-align: left;\">\n",
       "                            <strong>Dashboard: </strong> <a href=\"http://127.0.0.1:35083/status\" target=\"_blank\">http://127.0.0.1:35083/status</a>\n",
       "                        </td>\n",
       "                        <td style=\"text-align: left;\">\n",
       "                            <strong>Memory: </strong> 59.97 GiB\n",
       "                        </td>\n",
       "                    </tr>\n",
       "                    <tr>\n",
       "                        <td style=\"text-align: left;\">\n",
       "                            <strong>Nanny: </strong> tcp://127.0.0.1:44313\n",
       "                        </td>\n",
       "                        <td style=\"text-align: left;\"></td>\n",
       "                    </tr>\n",
       "                    <tr>\n",
       "                        <td colspan=\"2\" style=\"text-align: left;\">\n",
       "                            <strong>Local directory: </strong> /tmp/dask-worker-space/worker-13g8keuq\n",
       "                        </td>\n",
       "                    </tr>\n",
       "\n",
       "                    \n",
       "                    <tr>\n",
       "                        <td style=\"text-align: left;\">\n",
       "                            <strong>GPU: </strong>Tesla V100-SXM2-16GB\n",
       "                        </td>\n",
       "                        <td style=\"text-align: left;\">\n",
       "                            <strong>GPU memory: </strong> 16.00 GiB\n",
       "                        </td>\n",
       "                    </tr>\n",
       "                    \n",
       "\n",
       "                    \n",
       "\n",
       "                </table>\n",
       "            </details>\n",
       "            </div>\n",
       "        </div>\n",
       "        \n",
       "\n",
       "    </details>\n",
       "</div>\n",
       "\n",
       "        </details>\n",
       "    </div>\n",
       "</div>\n",
       "            </details>\n",
       "        \n",
       "\n",
       "    </div>\n",
       "</div>"
      ],
      "text/plain": [
       "<Client: 'tcp://127.0.0.1:45087' processes=4 threads=16, memory=239.87 GiB>"
      ]
     },
     "execution_count": 19,
     "metadata": {},
     "output_type": "execute_result"
    }
   ],
   "source": [
    "from dask.distributed import Client\n",
    "os.environ[\"TOKENIZERS_PARALLELISM\"] = \"True\"\n",
    "\n",
    "n_workers = 4\n",
    "threads_per_worker = 4\n",
    "\n",
    "try: \n",
    "    if das_client.status == 'running':\n",
    "        print(\"DAS client is running\")\n",
    "        pass\n",
    "    else:\n",
    "        print(\"DAS client has been created\")\n",
    "        das_client = Client(n_workers=n_workers, threads_per_worker = threads_per_worker)        \n",
    "except Exception:\n",
    "    # client 생성이 안되어 있으면 아래로 생성\n",
    "    print(\"DAS client has been created\")\n",
    "    das_client = Client(n_workers=n_workers, threads_per_worker = threads_per_worker)\n",
    "    \n",
    "das_client"
   ]
  },
  {
   "cell_type": "markdown",
   "id": "17443ba5",
   "metadata": {},
   "source": [
    "## 3.2. 데이터 준비"
   ]
  },
  {
   "cell_type": "markdown",
   "id": "6be0a4f7",
   "metadata": {},
   "source": [
    "Corpus 를 Pandas Dataframe 으로 로딩"
   ]
  },
  {
   "cell_type": "code",
   "execution_count": 20,
   "id": "ef8cf1e9",
   "metadata": {},
   "outputs": [
    {
     "name": "stdout",
     "output_type": "stream",
     "text": [
      "df shape:  (20000, 1)\n"
     ]
    }
   ],
   "source": [
    "df = pd.DataFrame(data=corpus, columns=['doc'])\n",
    "print(\"df shape: \", df.shape)\n",
    "\n"
   ]
  },
  {
   "cell_type": "markdown",
   "id": "20266a18",
   "metadata": {},
   "source": [
    "Pandas Dataframe 을 DAS DataFrame 으로 변경"
   ]
  },
  {
   "cell_type": "code",
   "execution_count": 21,
   "id": "514222c5",
   "metadata": {},
   "outputs": [
    {
     "data": {
      "text/html": [
       "<div>\n",
       "<style scoped>\n",
       "    .dataframe tbody tr th:only-of-type {\n",
       "        vertical-align: middle;\n",
       "    }\n",
       "\n",
       "    .dataframe tbody tr th {\n",
       "        vertical-align: top;\n",
       "    }\n",
       "\n",
       "    .dataframe thead th {\n",
       "        text-align: right;\n",
       "    }\n",
       "</style>\n",
       "<table border=\"1\" class=\"dataframe\">\n",
       "  <thead>\n",
       "    <tr style=\"text-align: right;\">\n",
       "      <th></th>\n",
       "      <th>doc</th>\n",
       "    </tr>\n",
       "  </thead>\n",
       "  <tbody>\n",
       "    <tr>\n",
       "      <th>0</th>\n",
       "      <td>그는 \"터키 원전수주 계약은 일본 정부의 장기 위험 보증 조항에 달려 있다\"고 덧붙였다.</td>\n",
       "    </tr>\n",
       "    <tr>\n",
       "      <th>1</th>\n",
       "      <td>기재부 고위 관계자는 \"김동연 부총리가 오고 지난해 예산안 통과 과정에서 예산실이 ...</td>\n",
       "    </tr>\n",
       "    <tr>\n",
       "      <th>2</th>\n",
       "      <td>선수들을 지도하고 있는 원동현은 \"이번 훈련을 통해 여자핸드볼 국가대표 선수들이 강...</td>\n",
       "    </tr>\n",
       "    <tr>\n",
       "      <th>3</th>\n",
       "      <td>광 작가도 \"게임은 거의 처음 하는 작업인데 새로운 경험이 됐다.</td>\n",
       "    </tr>\n",
       "    <tr>\n",
       "      <th>4</th>\n",
       "      <td>김동철 국민의당 원내대표도 강 후보자에 대해 \"도덕적 흠결도 많을뿐더러 그 흠결을 ...</td>\n",
       "    </tr>\n",
       "    <tr>\n",
       "      <th>...</th>\n",
       "      <td>...</td>\n",
       "    </tr>\n",
       "    <tr>\n",
       "      <th>19995</th>\n",
       "      <td>이어 \"감독 입장에서 휴식기는 엔진을 완전히 꺼버리는 시기가 절대 아니다\"며 \"휴식...</td>\n",
       "    </tr>\n",
       "    <tr>\n",
       "      <th>19996</th>\n",
       "      <td>1심 구속만기 6개월이 끝나는 10월16일 자정을 기해 반드시 석방돼야 한다\"고 주...</td>\n",
       "    </tr>\n",
       "    <tr>\n",
       "      <th>19997</th>\n",
       "      <td>그는 서·최 의원에 대한 소명절차에 대해 \"그 과정은 조금 잘 안 된 걸로 알고 있...</td>\n",
       "    </tr>\n",
       "    <tr>\n",
       "      <th>19998</th>\n",
       "      <td>침묵하며 지켜보는 다수의 국민이 있다\"고 말했다.</td>\n",
       "    </tr>\n",
       "    <tr>\n",
       "      <th>19999</th>\n",
       "      <td>또 \"현장에서 모든 GP 근무원들과 후송 의료진들 모두 최선을 다 했는데 그런 것들...</td>\n",
       "    </tr>\n",
       "  </tbody>\n",
       "</table>\n",
       "<p>20000 rows × 1 columns</p>\n",
       "</div>"
      ],
      "text/plain": [
       "                                                     doc\n",
       "0      그는 \"터키 원전수주 계약은 일본 정부의 장기 위험 보증 조항에 달려 있다\"고 덧붙였다.\n",
       "1      기재부 고위 관계자는 \"김동연 부총리가 오고 지난해 예산안 통과 과정에서 예산실이 ...\n",
       "2      선수들을 지도하고 있는 원동현은 \"이번 훈련을 통해 여자핸드볼 국가대표 선수들이 강...\n",
       "3                   광 작가도 \"게임은 거의 처음 하는 작업인데 새로운 경험이 됐다.\n",
       "4      김동철 국민의당 원내대표도 강 후보자에 대해 \"도덕적 흠결도 많을뿐더러 그 흠결을 ...\n",
       "...                                                  ...\n",
       "19995  이어 \"감독 입장에서 휴식기는 엔진을 완전히 꺼버리는 시기가 절대 아니다\"며 \"휴식...\n",
       "19996  1심 구속만기 6개월이 끝나는 10월16일 자정을 기해 반드시 석방돼야 한다\"고 주...\n",
       "19997  그는 서·최 의원에 대한 소명절차에 대해 \"그 과정은 조금 잘 안 된 걸로 알고 있...\n",
       "19998                        침묵하며 지켜보는 다수의 국민이 있다\"고 말했다.\n",
       "19999  또 \"현장에서 모든 GP 근무원들과 후송 의료진들 모두 최선을 다 했는데 그런 것들...\n",
       "\n",
       "[20000 rows x 1 columns]"
      ]
     },
     "execution_count": 21,
     "metadata": {},
     "output_type": "execute_result"
    }
   ],
   "source": [
    "import dask.dataframe as dd\n",
    "ddf = dd.from_pandas(df, npartitions=n_workers)\n",
    "ddf.compute()"
   ]
  },
  {
   "cell_type": "markdown",
   "id": "49821752",
   "metadata": {},
   "source": [
    "DAS Dataframe 의 compute graph 보여 주기"
   ]
  },
  {
   "cell_type": "code",
   "execution_count": 22,
   "id": "4a6ebe15",
   "metadata": {},
   "outputs": [
    {
     "data": {
      "image/png": "[encoded data removed]",
      "text/plain": [
       "<IPython.core.display.Image object>"
      ]
     },
     "execution_count": 22,
     "metadata": {},
     "output_type": "execute_result"
    }
   ],
   "source": [
    "ddf.visualize()"
   ]
  },
  {
   "cell_type": "markdown",
   "id": "50a94d02",
   "metadata": {},
   "source": [
    "## 3.3. 벙렬로 전처리 수행"
   ]
  },
  {
   "cell_type": "markdown",
   "id": "5783b6a7",
   "metadata": {},
   "source": [
    "n_worker = 4 로 n_thread=4 로 10,000 개시 30초, 20,000 개의 전처리시에 약 45초 걸립니다."
   ]
  },
  {
   "cell_type": "code",
   "execution_count": 23,
   "id": "dbe8dc68",
   "metadata": {
    "tags": []
   },
   "outputs": [
    {
     "name": "stdout",
     "output_type": "stream",
     "text": [
      "CPU times: user 3.27 s, sys: 932 ms, total: 4.2 s\n",
      "Wall time: 1min 4s\n"
     ]
    }
   ],
   "source": [
    "%%time\n",
    "\n",
    "from IPython.display import display as dp\n",
    "import traceback\n",
    "from custom_util import remove_spec_chars\n",
    "\n",
    "try: \n",
    "    # ddf[\"doc_cl\"] = ddf[\"doc\"].apply(preproces_doc, meta=('doc', 'object')).compute()      \n",
    "    ddf[\"doc_cl\"] = ddf[\"doc\"].apply(remove_spec_chars, meta=('doc', 'object')).compute()      \n",
    "    ddf[\"doc_cl\"] = ddf[\"doc_cl\"].apply(Okt_tokenizer,meta=('doc_cl', 'object') ).compute()      \n",
    "    ddf[\"doc_cl\"].compute()\n",
    "except Exception:\n",
    "    print(traceback.format_exc())    "
   ]
  },
  {
   "cell_type": "markdown",
   "id": "03474269",
   "metadata": {},
   "source": [
    "## 3.4. pandas df 로 변경"
   ]
  },
  {
   "cell_type": "markdown",
   "id": "1dcdfbe5",
   "metadata": {},
   "source": [
    "das dataframe 에서 pandas dataframe 으로 변경"
   ]
  },
  {
   "cell_type": "code",
   "execution_count": 24,
   "id": "d71bb3ac",
   "metadata": {},
   "outputs": [
    {
     "data": {
      "text/html": [
       "<div>\n",
       "<style scoped>\n",
       "    .dataframe tbody tr th:only-of-type {\n",
       "        vertical-align: middle;\n",
       "    }\n",
       "\n",
       "    .dataframe tbody tr th {\n",
       "        vertical-align: top;\n",
       "    }\n",
       "\n",
       "    .dataframe thead th {\n",
       "        text-align: right;\n",
       "    }\n",
       "</style>\n",
       "<table border=\"1\" class=\"dataframe\">\n",
       "  <thead>\n",
       "    <tr style=\"text-align: right;\">\n",
       "      <th></th>\n",
       "      <th>doc</th>\n",
       "      <th>doc_cl</th>\n",
       "    </tr>\n",
       "  </thead>\n",
       "  <tbody>\n",
       "    <tr>\n",
       "      <th>0</th>\n",
       "      <td>그는 \"터키 원전수주 계약은 일본 정부의 장기 위험 보증 조항에 달려 있다\"고 덧붙였다.</td>\n",
       "      <td>터키 원전 수주 계약 일본 정부 장기 위험 보증 조항</td>\n",
       "    </tr>\n",
       "    <tr>\n",
       "      <th>1</th>\n",
       "      <td>기재부 고위 관계자는 \"김동연 부총리가 오고 지난해 예산안 통과 과정에서 예산실이 ...</td>\n",
       "      <td>기재부 고위 관계자 김동연 부총리 지난해 예산안 통과 과정 산실 밤샘 근무 하루 예...</td>\n",
       "    </tr>\n",
       "    <tr>\n",
       "      <th>2</th>\n",
       "      <td>선수들을 지도하고 있는 원동현은 \"이번 훈련을 통해 여자핸드볼 국가대표 선수들이 강...</td>\n",
       "      <td>선수 지도 동현 이번 훈련 통해 여자 핸드볼 국가대표 선수 강인하다 해병 정신 무장...</td>\n",
       "    </tr>\n",
       "    <tr>\n",
       "      <th>3</th>\n",
       "      <td>광 작가도 \"게임은 거의 처음 하는 작업인데 새로운 경험이 됐다.</td>\n",
       "      <td>작가 게임 거의 처음 작업 새롭다 경험</td>\n",
       "    </tr>\n",
       "    <tr>\n",
       "      <th>4</th>\n",
       "      <td>김동철 국민의당 원내대표도 강 후보자에 대해 \"도덕적 흠결도 많을뿐더러 그 흠결을 ...</td>\n",
       "      <td>김동철 국민의당 원내대표 후보자 대해 도덕 흠결 많다 흠결 자질 역량 없다 혹평 외...</td>\n",
       "    </tr>\n",
       "    <tr>\n",
       "      <th>...</th>\n",
       "      <td>...</td>\n",
       "      <td>...</td>\n",
       "    </tr>\n",
       "    <tr>\n",
       "      <th>19995</th>\n",
       "      <td>이어 \"감독 입장에서 휴식기는 엔진을 완전히 꺼버리는 시기가 절대 아니다\"며 \"휴식...</td>\n",
       "      <td>감독 입장 휴식 엔진 완전하다 시기 절대 아니다 휴식 동안 계속 엔진 후반기 선수 ...</td>\n",
       "    </tr>\n",
       "    <tr>\n",
       "      <th>19996</th>\n",
       "      <td>1심 구속만기 6개월이 끝나는 10월16일 자정을 기해 반드시 석방돼야 한다\"고 주...</td>\n",
       "      <td>구속 만기 개월 자정 기해 반드시 석방 주장</td>\n",
       "    </tr>\n",
       "    <tr>\n",
       "      <th>19997</th>\n",
       "      <td>그는 서·최 의원에 대한 소명절차에 대해 \"그 과정은 조금 잘 안 된 걸로 알고 있...</td>\n",
       "      <td>의원 대한 소명 절차 대해 과정 조금 왜냐면 현재 국정감사 외국 때문</td>\n",
       "    </tr>\n",
       "    <tr>\n",
       "      <th>19998</th>\n",
       "      <td>침묵하며 지켜보는 다수의 국민이 있다\"고 말했다.</td>\n",
       "      <td>침묵 다수 국민</td>\n",
       "    </tr>\n",
       "    <tr>\n",
       "      <th>19999</th>\n",
       "      <td>또 \"현장에서 모든 GP 근무원들과 후송 의료진들 모두 최선을 다 했는데 그런 것들...</td>\n",
       "      <td>현장 모든 근무 후송 의료 모두 최선 그렇다 같다 걱정 하사 고민 노고 훼손 약속</td>\n",
       "    </tr>\n",
       "  </tbody>\n",
       "</table>\n",
       "<p>20000 rows × 2 columns</p>\n",
       "</div>"
      ],
      "text/plain": [
       "                                                     doc  \\\n",
       "0      그는 \"터키 원전수주 계약은 일본 정부의 장기 위험 보증 조항에 달려 있다\"고 덧붙였다.   \n",
       "1      기재부 고위 관계자는 \"김동연 부총리가 오고 지난해 예산안 통과 과정에서 예산실이 ...   \n",
       "2      선수들을 지도하고 있는 원동현은 \"이번 훈련을 통해 여자핸드볼 국가대표 선수들이 강...   \n",
       "3                   광 작가도 \"게임은 거의 처음 하는 작업인데 새로운 경험이 됐다.   \n",
       "4      김동철 국민의당 원내대표도 강 후보자에 대해 \"도덕적 흠결도 많을뿐더러 그 흠결을 ...   \n",
       "...                                                  ...   \n",
       "19995  이어 \"감독 입장에서 휴식기는 엔진을 완전히 꺼버리는 시기가 절대 아니다\"며 \"휴식...   \n",
       "19996  1심 구속만기 6개월이 끝나는 10월16일 자정을 기해 반드시 석방돼야 한다\"고 주...   \n",
       "19997  그는 서·최 의원에 대한 소명절차에 대해 \"그 과정은 조금 잘 안 된 걸로 알고 있...   \n",
       "19998                        침묵하며 지켜보는 다수의 국민이 있다\"고 말했다.   \n",
       "19999  또 \"현장에서 모든 GP 근무원들과 후송 의료진들 모두 최선을 다 했는데 그런 것들...   \n",
       "\n",
       "                                                  doc_cl  \n",
       "0                          터키 원전 수주 계약 일본 정부 장기 위험 보증 조항  \n",
       "1      기재부 고위 관계자 김동연 부총리 지난해 예산안 통과 과정 산실 밤샘 근무 하루 예...  \n",
       "2      선수 지도 동현 이번 훈련 통해 여자 핸드볼 국가대표 선수 강인하다 해병 정신 무장...  \n",
       "3                                  작가 게임 거의 처음 작업 새롭다 경험  \n",
       "4      김동철 국민의당 원내대표 후보자 대해 도덕 흠결 많다 흠결 자질 역량 없다 혹평 외...  \n",
       "...                                                  ...  \n",
       "19995  감독 입장 휴식 엔진 완전하다 시기 절대 아니다 휴식 동안 계속 엔진 후반기 선수 ...  \n",
       "19996                           구속 만기 개월 자정 기해 반드시 석방 주장  \n",
       "19997             의원 대한 소명 절차 대해 과정 조금 왜냐면 현재 국정감사 외국 때문  \n",
       "19998                                           침묵 다수 국민  \n",
       "19999      현장 모든 근무 후송 의료 모두 최선 그렇다 같다 걱정 하사 고민 노고 훼손 약속  \n",
       "\n",
       "[20000 rows x 2 columns]"
      ]
     },
     "execution_count": 24,
     "metadata": {},
     "output_type": "execute_result"
    }
   ],
   "source": [
    "pd_df = ddf.compute()\n",
    "pd_df"
   ]
  },
  {
   "cell_type": "markdown",
   "id": "b606784d",
   "metadata": {},
   "source": [
    "## 3.5. DASK Cluster 셧다운"
   ]
  },
  {
   "cell_type": "code",
   "execution_count": 25,
   "id": "4f881003",
   "metadata": {},
   "outputs": [
    {
     "name": "stderr",
     "output_type": "stream",
     "text": [
      "2023-02-26 13:22:32,743 - distributed.nanny - WARNING - Worker process still alive after 3.2 seconds, killing\n"
     ]
    }
   ],
   "source": [
    "import time\n",
    "\n",
    "das_client.shutdown()\n",
    "time.sleep(5)"
   ]
  },
  {
   "cell_type": "markdown",
   "id": "01f77965",
   "metadata": {},
   "source": [
    "## 3.6. (옵션) DASK 에러시에 아래 주석을 제거하고 작업 하세요.\n",
    "- 10,000 개 실행시에 약 2분 40초 걸림"
   ]
  },
  {
   "cell_type": "code",
   "execution_count": 26,
   "id": "06137641",
   "metadata": {},
   "outputs": [],
   "source": [
    "# %%time\n",
    "        \n",
    "# from custom_util import preprocess_doc\n",
    "\n",
    "# pd_df = preprocess_doc(df)"
   ]
  },
  {
   "cell_type": "markdown",
   "id": "f4bfad88",
   "metadata": {
    "tags": []
   },
   "source": [
    "# 4. 전처리 도입 후에 추론"
   ]
  },
  {
   "cell_type": "markdown",
   "id": "7d09c942",
   "metadata": {},
   "source": [
    "전처리된 Corpus를 embedding encoding 형태로 변경"
   ]
  },
  {
   "cell_type": "code",
   "execution_count": 27,
   "id": "c91e341a",
   "metadata": {
    "tags": []
   },
   "outputs": [
    {
     "data": {
      "application/vnd.jupyter.widget-view+json": {
       "model_id": "562c780f5af74d80a63b3bbf8d97fa65",
       "version_major": 2,
       "version_minor": 0
      },
      "text/plain": [
       "Batches:   0%|          | 0/313 [00:00<?, ?it/s]"
      ]
     },
     "metadata": {},
     "output_type": "display_data"
    }
   ],
   "source": [
    "corpus_cl = pd_df['doc_cl'].tolist()\n",
    "corpus_embeddings_cl = encode_multi_gpu_embedding(model, corpus_cl)"
   ]
  },
  {
   "cell_type": "markdown",
   "id": "d3f8532b",
   "metadata": {},
   "source": [
    "## 4.1. Corpus: 전처리, Query : 전처리, 토큰 (명사, 형용사)"
   ]
  },
  {
   "cell_type": "code",
   "execution_count": 28,
   "id": "9b419d9d",
   "metadata": {},
   "outputs": [
    {
     "data": {
      "application/vnd.jupyter.widget-view+json": {
       "model_id": "0ae2e6488c2448228061a2a5fdd8ba02",
       "version_major": 2,
       "version_minor": 0
      },
      "text/plain": [
       "Batches:   0%|          | 0/1 [00:00<?, ?it/s]"
      ]
     },
     "metadata": {},
     "output_type": "display_data"
    },
    {
     "name": "stdout",
     "output_type": "stream",
     "text": [
      "\n",
      "======================\n",
      "Query: 시즌 정규 리그 경기 작성 손흥민 울버햄프턴 상대로 득점 성공하다 무함마드 살라 리버풀 정규 리그 득점 공동 아시아 출신 선수 득점 오른 손흥민 처음 아니다 유럽 축구 리그 잉글랜드 스페인 독일 프랑스 이탈리아 범위 아시아 선수 득점 전례 어렵다\n",
      "======================\n",
      "\n",
      "Top 5 most similar sentences in corpus:\n",
      "\n",
      "(Score: 0.6126) 최형우 올스타전 홈런 레이스 목표 아웃 개도 같다 올스타전 경기 괜찮다 홈런 레이스 긴장\n",
      "(Score: 0.5729) 오재영 경기 초반 점수 지난 경기 마찬가지 야수 도움 지난 경기 초반 점수 안일하다 오늘 같다 경우 최소 실점 위해 최선 소감\n",
      "(Score: 0.5728) 경기 손흥민 구단 공식 퍼스 인터뷰 통해 준결승 웸블리 스타디움 중요하다 경기 승리 해트트릭 기록 정말 어렵다 기쁘다 승리 더욱 행복하다 소감\n",
      "(Score: 0.5714) 한화 구단 용병 후보 히스 선수 대한 아웃 결과 최종 입하 결정\n",
      "(Score: 0.5488) 상대 에이스 로페즈 상대로 안타 득점 대해 서도 에이스 상대로 대량 득점 기대하다 없다 필요하다 점수 다운 야구 호평\n"
     ]
    }
   ],
   "source": [
    "top_k = 5\n",
    "\n",
    "queries = [\n",
    "            '올 시즌 정규리그 35경기에서 23골을 작성한 손흥민은 이날 울버햄프턴을 상대로 득점에 \\\n",
    "            성공한 무함마드 살라흐(리버풀·23골)와 함께 정규리그 득점 공동 1위에 올랐다.\\\n",
    "            아시아 출신 선수가 EPL에서 득점왕에 오른 건 손흥민이 처음이다. \\\n",
    "            EPL뿐 아니라 유럽축구 5대 리그(잉글랜드·스페인·독일·프랑스·이탈리아)로 범위를 넓혀도 \\\n",
    "            아시아 선수 득점왕의 전례를 찾아보기 어렵다.'\n",
    "          ]\n",
    "\n",
    "queries = [Okt_tokenizer(queries[0])]\n",
    "queries\n",
    "semantic_search(model, corpus_cl, corpus_embeddings_cl, queries, top_k)"
   ]
  },
  {
   "cell_type": "code",
   "execution_count": 29,
   "id": "9f687468",
   "metadata": {},
   "outputs": [
    {
     "data": {
      "application/vnd.jupyter.widget-view+json": {
       "model_id": "456621ab6f90444b9142821c880125b3",
       "version_major": 2,
       "version_minor": 0
      },
      "text/plain": [
       "Batches:   0%|          | 0/1 [00:00<?, ?it/s]"
      ]
     },
     "metadata": {},
     "output_type": "display_data"
    },
    {
     "name": "stdout",
     "output_type": "stream",
     "text": [
      "\n",
      "======================\n",
      "Query: 전자 확정 실적 발표 전일 이틀 증권사 분석 보고서 대부분 부진하다 주가 차례 조정 두운 전망 우리나라 기업 주식 이렇다 미국 어깨 사서 무릎 호실 오늘 기대하다 바보 증권 가도 개미 전망 상황 하반기 실적 암울하다 중론\n",
      "======================\n",
      "\n",
      "Top 5 most similar sentences in corpus:\n",
      "\n",
      "(Score: 0.6770) 다른 증권사 연구원 오버 이슈 상장 차례 주가 조정 조정 주식 매수 나쁘다 선택\n",
      "(Score: 0.6672) 관련 윤여삼 미래에셋 대우 증권 연구원 브렉 시트 글로벌 여건 판단 어렵다 하반기 여건 라며 채권 매수 관점 금리 급락 전망\n",
      "(Score: 0.6564) 서상영 증권 연구원 한국 증시 미국 증시 강세 상회 차익 실현 매물 하락 전환 운송업 종이 전날 부진하다 미국 판매량 발표 여파 코스피 하락 주도하다 설명\n",
      "(Score: 0.6522) 김세중 증권 투자 전략 오늘 하루 기관 펀드 유입 현금 가지 저가 매수 면서 대외 여건 잠시 진정 금요일 매물 주가 펀더 멘털 이상 판단 지적\n",
      "(Score: 0.6311) 투자 증권 박종렬 연구원 단기간 영업 실적 개선 통한 주가 평가 보지 무엇 청산 가치 대비 평가 상태 라며 그룹 경영 비리 수사 신동빈 회장 구속영장 기각 최악 상황 향후 경영 정상화 빠르다 진행\n"
     ]
    }
   ],
   "source": [
    "top_k = 5\n",
    "\n",
    "queries = [\n",
    "        '삼성전자의 2분기 확정 실적이 발표된 전일부터 이틀간 증권사 18곳에서 분석 보고서를 냈다.\\\n",
    "        대부분은 3분기가 더 부진할 것인 데다 주가는 한 차례 더 조정이 올 것이란 어두운 전망을 내놓았다.\\\n",
    "        우리나라 시총 1위 기업 주식이 이런데, 미국 장으로 옮기는 데 답인가, 어깨에서 사서 무릎에 팔게 생겼다' '호실적에도 떨어지고' '오늘도 기대했던 내가 바보다 \\\n",
    "        증권가도 떠나는 개미들을 붙잡을 만한 전망을 내놓지 못하는 상황이다. 하반기 실적은 더 암울할 것이라는 게 중론이어서다.'\n",
    "        ]\n",
    "\n",
    "\n",
    "queries = [Okt_tokenizer(queries[0])]\n",
    "queries\n",
    "semantic_search(model, corpus_cl, corpus_embeddings_cl, queries, top_k)"
   ]
  },
  {
   "cell_type": "markdown",
   "id": "66211378",
   "metadata": {
    "tags": []
   },
   "source": [
    "# (실행 제외 합니다.) \n",
    "5. Semantic Search (상품 리뷰)\n",
    "\n",
    "- 아래의 데이터 파일은 비공개이어서, 이 섹션은 실행은 제외 하세요."
   ]
  },
  {
   "cell_type": "markdown",
   "id": "00fac5b7",
   "metadata": {},
   "source": [
    "## 5.1. 데이터 준비"
   ]
  },
  {
   "cell_type": "code",
   "execution_count": 30,
   "id": "af858582",
   "metadata": {},
   "outputs": [],
   "source": [
    "product_best_data_file = 'data/product_review/best_sample.json'"
   ]
  },
  {
   "cell_type": "code",
   "execution_count": 31,
   "id": "69765674",
   "metadata": {},
   "outputs": [
    {
     "ename": "FileNotFoundError",
     "evalue": "[Errno 2] No such file or directory: 'data/product_review/best_sample.json'",
     "output_type": "error",
     "traceback": [
      "\u001b[0;31m---------------------------------------------------------------------------\u001b[0m",
      "\u001b[0;31mFileNotFoundError\u001b[0m                         Traceback (most recent call last)",
      "\u001b[0;32m<ipython-input-31-8af30298aabe>\u001b[0m in \u001b[0;36m<module>\u001b[0;34m\u001b[0m\n\u001b[1;32m      1\u001b[0m \u001b[0;32mimport\u001b[0m \u001b[0mjson\u001b[0m\u001b[0;34m\u001b[0m\u001b[0;34m\u001b[0m\u001b[0m\n\u001b[1;32m      2\u001b[0m \u001b[0;34m\u001b[0m\u001b[0m\n\u001b[0;32m----> 3\u001b[0;31m \u001b[0;32mwith\u001b[0m \u001b[0mopen\u001b[0m\u001b[0;34m(\u001b[0m\u001b[0mproduct_best_data_file\u001b[0m\u001b[0;34m)\u001b[0m \u001b[0;32mas\u001b[0m \u001b[0mjson_file\u001b[0m\u001b[0;34m:\u001b[0m\u001b[0;34m\u001b[0m\u001b[0;34m\u001b[0m\u001b[0m\n\u001b[0m\u001b[1;32m      4\u001b[0m     \u001b[0mbest_review_data\u001b[0m \u001b[0;34m=\u001b[0m \u001b[0mjson\u001b[0m\u001b[0;34m.\u001b[0m\u001b[0mload\u001b[0m\u001b[0;34m(\u001b[0m\u001b[0mjson_file\u001b[0m\u001b[0;34m)\u001b[0m\u001b[0;34m\u001b[0m\u001b[0;34m\u001b[0m\u001b[0m\n\u001b[1;32m      5\u001b[0m \u001b[0;34m\u001b[0m\u001b[0m\n",
      "\u001b[0;31mFileNotFoundError\u001b[0m: [Errno 2] No such file or directory: 'data/product_review/best_sample.json'"
     ]
    }
   ],
   "source": [
    "import json\n",
    "\n",
    "with open(product_best_data_file) as json_file:\n",
    "    best_review_data = json.load(json_file)\n",
    "    \n",
    "best_df = pd.DataFrame(best_review_data)\n",
    "best_df.rename(columns={'contents' : 'doc'}, inplace=True)\n",
    "best_df"
   ]
  },
  {
   "cell_type": "code",
   "execution_count": null,
   "id": "65e10bb0",
   "metadata": {},
   "outputs": [],
   "source": [
    "%%time\n",
    "pd.set_option('max_colwidth', 1000)\n",
    "\n",
    "from custom_util import preprocess_doc\n",
    "\n",
    "best_df_cl = preprocess_doc(best_df)\n",
    "best_df_cl"
   ]
  },
  {
   "cell_type": "markdown",
   "id": "5c645969",
   "metadata": {},
   "source": [
    "## 5.2. Corpus: 원문, Query : 원문"
   ]
  },
  {
   "cell_type": "code",
   "execution_count": null,
   "id": "374ac26c",
   "metadata": {},
   "outputs": [],
   "source": [
    "corpus = best_df_cl['doc'].tolist()\n",
    "corpus_pd_review_embeddings = encode_multi_gpu_embedding(model, corpus)"
   ]
  },
  {
   "cell_type": "code",
   "execution_count": null,
   "id": "67950a48",
   "metadata": {},
   "outputs": [],
   "source": [
    "    \n",
    "top_k = 3\n",
    "\n",
    "queries = [ '가격 : 할인가 개당 3,720원 (2개 이상 구입 필수) 양 : 1인분으로 평범한 양, \\\n",
    "            점심에 먹는 것을 추천 조리시간 및 난이도 : 약 7분, 라면 끓이는 수준의 난이도 평가 : 시중에 파는 \\\n",
    "            우동이 2천원대라는 점을 비교하면 3천원대로 나름 고급형 우동을 집에서 편하게 먹을 수 있어요. \\\n",
    "            어묵 사이즈는 여성 손바닥 정도이고, 한장 크게 들어가있어서 먹으면서 잘라 먹거나 베어 먹으면 됩니다. \\\n",
    "            국물과 어묵이 맛있어서 우동면 하나도 남기지 않고 다 먹었어요. \\\n",
    "            고추우동이라서 살짝 매콤한가 했는데 전혀 맵지 않고 칼칼함도 없이 시원하고 짭쫄한 맛입니다. \\\n",
    "            조리 방법은 뒷면에 상세하게 나와있어서 라면 끓일 줄 아는 분들이면 쉽게 따라할 수 있을거에요. \\\n",
    "            저는 설명서에 다른 채소와 함께 끓이면 더 맛있다고 하여 알배기배추 작은 거 추가해줬더니 씹는 맛이 일품이네요. \\\n",
    "            냉장고에 남는 채소 있으면 같이 끓이시는 것 추천! 맛있게 잘 먹었습니다 :)'\n",
    "          ]\n",
    "# queries = [Okt_tokenizer(queries[0])]\n",
    "# queries\n",
    "semantic_search(model, corpus, corpus_pd_review_embeddings, queries, top_k)"
   ]
  },
  {
   "cell_type": "markdown",
   "id": "ff1567ef",
   "metadata": {},
   "source": [
    "## 5.3. Corpus: 전처리, Query : 전처리, 토큰 (명사, 형용사)"
   ]
  },
  {
   "cell_type": "code",
   "execution_count": null,
   "id": "ac8f3edb",
   "metadata": {},
   "outputs": [],
   "source": [
    "corpus_cl = best_df_cl['doc_cl'].tolist()\n",
    "corpus_pd_review_embeddings_cl = encode_multi_gpu_embedding(model, corpus_cl)"
   ]
  },
  {
   "cell_type": "code",
   "execution_count": null,
   "id": "088e6d9b",
   "metadata": {},
   "outputs": [],
   "source": [
    "    \n",
    "top_k = 3\n",
    "\n",
    "queries = [ '가격 : 할인가 개당 3,720원 (2개 이상 구입 필수) 양 : 1인분으로 평범한 양, \\\n",
    "            점심에 먹는 것을 추천 조리시간 및 난이도 : 약 7분, 라면 끓이는 수준의 난이도 평가 : 시중에 파는 \\\n",
    "            우동이 2천원대라는 점을 비교하면 3천원대로 나름 고급형 우동을 집에서 편하게 먹을 수 있어요. \\\n",
    "            어묵 사이즈는 여성 손바닥 정도이고, 한장 크게 들어가있어서 먹으면서 잘라 먹거나 베어 먹으면 됩니다. \\\n",
    "            국물과 어묵이 맛있어서 우동면 하나도 남기지 않고 다 먹었어요. \\\n",
    "            고추우동이라서 살짝 매콤한가 했는데 전혀 맵지 않고 칼칼함도 없이 시원하고 짭쫄한 맛입니다. \\\n",
    "            조리 방법은 뒷면에 상세하게 나와있어서 라면 끓일 줄 아는 분들이면 쉽게 따라할 수 있을거에요. \\\n",
    "            저는 설명서에 다른 채소와 함께 끓이면 더 맛있다고 하여 알배기배추 작은 거 추가해줬더니 씹는 맛이 일품이네요. \\\n",
    "            냉장고에 남는 채소 있으면 같이 끓이시는 것 추천! 맛있게 잘 먹었습니다 :)'\n",
    "          ]\n",
    "queries = [Okt_tokenizer(queries[0])]\n",
    "queries\n",
    "semantic_search(model, corpus, corpus_pd_review_embeddings, queries, top_k)"
   ]
  },
  {
   "cell_type": "markdown",
   "id": "e5baa417",
   "metadata": {},
   "source": [
    "## 5.4. Non-Best Review (???) - Corpus: 전처리, Query : 전처리, 토큰 (명사, 형용사)"
   ]
  },
  {
   "cell_type": "code",
   "execution_count": null,
   "id": "394920ef",
   "metadata": {},
   "outputs": [],
   "source": [
    "    \n",
    "top_k = 3\n",
    "\n",
    "queries = [ '매콤어묵도 깔끔한 맛이에요']\n",
    "queries = [Okt_tokenizer(queries[0])]\n",
    "queries\n",
    "semantic_search(model, corpus, corpus_pd_review_embeddings_cl, queries, top_k)"
   ]
  },
  {
   "cell_type": "code",
   "execution_count": null,
   "id": "b8f8a833",
   "metadata": {},
   "outputs": [
    {
     "name": "stderr",
     "output_type": "stream",
     "text": [
      "2023-02-26 13:23:02,886 - distributed.client - ERROR - Failed to reconnect to scheduler after 30.00 seconds, closing client\n"
     ]
    }
   ],
   "source": [
    "    \n",
    "top_k = 3\n",
    "\n",
    "queries = [ '한개가 간장소스가 다 터져서 문의글 남기면서 보니, \\\n",
    "            간장 터져서 왔다는 글이 많이 보이네요. 맛있는데 불안해서 또 시킬 수 있을지 모르겠네요ㅜㅜ'\n",
    "          ]\n",
    "queries = [Okt_tokenizer(queries[0])]\n",
    "queries\n",
    "semantic_search(model, corpus, corpus_pd_review_embeddings_cl, queries, top_k)"
   ]
  },
  {
   "cell_type": "code",
   "execution_count": null,
   "id": "9db106fd",
   "metadata": {},
   "outputs": [],
   "source": []
  },
  {
   "cell_type": "code",
   "execution_count": null,
   "id": "2f824e8f",
   "metadata": {},
   "outputs": [],
   "source": []
  },
  {
   "cell_type": "code",
   "execution_count": null,
   "id": "bf9a9343",
   "metadata": {},
   "outputs": [],
   "source": []
  },
  {
   "cell_type": "code",
   "execution_count": null,
   "id": "f98fe596",
   "metadata": {},
   "outputs": [],
   "source": []
  },
  {
   "cell_type": "code",
   "execution_count": null,
   "id": "b8af9623",
   "metadata": {},
   "outputs": [],
   "source": []
  }
 ],
 "metadata": {
  "kernelspec": {
   "display_name": "conda_python3",
   "language": "python",
   "name": "conda_python3"
  },
  "language_info": {
   "codemirror_mode": {
    "name": "ipython",
    "version": 3
   },
   "file_extension": ".py",
   "mimetype": "text/x-python",
   "name": "python",
   "nbconvert_exporter": "python",
   "pygments_lexer": "ipython3",
   "version": "3.10.8"
  }
 },
 "nbformat": 4,
 "nbformat_minor": 5
}
