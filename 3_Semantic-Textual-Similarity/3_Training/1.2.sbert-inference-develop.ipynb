{
 "cells": [
  {
   "cell_type": "markdown",
   "id": "94ed44ac-98e5-4200-8f1c-3adedec2866b",
   "metadata": {},
   "source": [
    "# [모듈 1.2] Semantic Textual Similarity 모델 추론 스크래치\n",
    "\n",
    "\n",
    "---"
   ]
  },
  {
   "cell_type": "markdown",
   "id": "577d681d-0f93-44ea-a3d1-0e0a9bb5e063",
   "metadata": {
    "tags": []
   },
   "source": [
    "\n",
    "# 1. Setup Environments\n",
    "---\n"
   ]
  },
  {
   "cell_type": "markdown",
   "id": "2a6cd89c-04e3-41d3-91b3-1aa2fe9dded8",
   "metadata": {},
   "source": [
    "#### 사용자 정의 라이브러러 환경 셋업 및 라이브러리 로딩"
   ]
  },
  {
   "cell_type": "code",
   "execution_count": 1,
   "id": "69eaf22d-e370-4a9f-9cfe-f974ed79640c",
   "metadata": {},
   "outputs": [],
   "source": [
    "import sys"
   ]
  },
  {
   "cell_type": "code",
   "execution_count": 2,
   "id": "1d3e0887-da61-40a0-b377-cbeee07dfed9",
   "metadata": {},
   "outputs": [],
   "source": [
    "%load_ext autoreload\n",
    "%autoreload 2\n",
    "\n",
    "sys.path.append('src')"
   ]
  },
  {
   "cell_type": "code",
   "execution_count": 3,
   "id": "524b36ef-fd8f-4fd8-8d8a-4a5f5b9bda1a",
   "metadata": {},
   "outputs": [],
   "source": [
    "%store -r model_save_path"
   ]
  },
  {
   "cell_type": "code",
   "execution_count": 4,
   "id": "c6d4b001-3508-4ca1-b73b-76b11fdcce7a",
   "metadata": {},
   "outputs": [],
   "source": [
    "import os\n",
    "import sys\n",
    "import json\n",
    "import logging\n",
    "import argparse\n",
    "import torch\n",
    "import gzip\n",
    "import csv\n",
    "import math\n",
    "import urllib\n",
    "from torch import nn\n",
    "import numpy as np\n",
    "import pandas as pd\n",
    "from tqdm import tqdm\n",
    "\n",
    "from datetime import datetime\n",
    "from datasets import load_dataset\n",
    "from torch.utils.data import DataLoader\n",
    "from sentence_transformers import SentenceTransformer, SentencesDataset, LoggingHandler, losses, models, util\n",
    "from sentence_transformers.evaluation import EmbeddingSimilarityEvaluator\n",
    "# from sentence_transformers.readers import InputExample\n",
    "# from transformers.trainer_utils import get_last_checkpoint\n",
    "\n",
    "from os.path import exists\n",
    "\n",
    "logging.basicConfig(\n",
    "    level=logging.INFO,\n",
    "    format='%(asctime)s - %(message)s',\n",
    "    datefmt='%Y-%m-%d %H:%M:%S',\n",
    "    handlers=[LoggingHandler()]\n",
    ")\n",
    "\n",
    "logger = logging.getLogger(__name__)"
   ]
  },
  {
   "cell_type": "markdown",
   "id": "cce7a866-49e9-4415-af15-6ec389a9138f",
   "metadata": {
    "tags": []
   },
   "source": [
    "# 2. Semantic Search (News)\n",
    "\n",
    "\n",
    "시멘틱(의미) 검색은 검색 쿼리가 키워드를 찾는 것뿐만 아니라, 검색에 사용되는 단어의 의도와 문맥적 의미를 파악하는 것을 목표로 합니다.\n",
    "시멘틱 유사도 검색을 또한 챗봇 및 해당 검색 쿼리를 입력하면, 검색 쿼리의 임베딩을 계산하여 모든 문서(예: 뉴스 제목/요약, 웹페이지 제목/요약) 리스트의 임베딩을 비교하여 가장 유사도가 높은 문서 후보들을 찾습니다.\n",
    "\n",
    "References\n",
    "- Billion-scale semantic similarity search with FAISS+SBERT: https://towardsdatascience.com/billion-scale-semantic-similarity-search-with-faiss-sbert-c845614962e2\n",
    "- Korean Contemporary Corpus of Written Sentences: http://nlp.kookmin.ac.kr/kcc/"
   ]
  },
  {
   "cell_type": "markdown",
   "id": "832c06db-3e7f-4497-90f9-b70f5f1ba81c",
   "metadata": {},
   "source": [
    "## 2.1. Preparing news dataset"
   ]
  },
  {
   "cell_type": "code",
   "execution_count": 5,
   "id": "76f62488-600c-4a93-96ba-a3727326eec1",
   "metadata": {},
   "outputs": [
    {
     "name": "stdout",
     "output_type": "stream",
     "text": [
      "train_dir:  data/KorSTS/train/\n"
     ]
    }
   ],
   "source": [
    "class Params:\n",
    "    def __init__(self):\n",
    "        self.train_dir = 'data/KorSTS/train/'        \n",
    "                        \n",
    "args = Params()\n",
    "print(\"train_dir: \", args.train_dir)"
   ]
  },
  {
   "cell_type": "code",
   "execution_count": 6,
   "id": "af88bdf7-0f4b-42a4-8ac5-88000bc81286",
   "metadata": {},
   "outputs": [
    {
     "name": "stdout",
     "output_type": "stream",
     "text": [
      "news_path: \n",
      " data/KorSTS/train//KCCq28_Korean_sentences_EUCKR_v2.txt \n",
      "\n",
      "Data is available\n"
     ]
    }
   ],
   "source": [
    "from custom_util import MyProgressBar\n",
    "from os.path import exists\n",
    "import zipfile\n",
    "\n",
    "news_path = f'{args.train_dir}/KCCq28_Korean_sentences_EUCKR_v2.txt'\n",
    "print(\"news_path: \\n\", news_path, \"\\n\")\n",
    "    \n",
    "if exists(news_path):\n",
    "    print(\"Data is available\")    \n",
    "    pass\n",
    "else:\n",
    "    print(\"No data So we are downloading file\")\n",
    "    url = 'http://nlp.kookmin.ac.kr/kcc/KCCq28_Korean_sentences_EUCKR_v2.zip'\n",
    "    news_path = f'{args.train_dir}/KCCq28_Korean_sentences_EUCKR_v2.zip'\n",
    "    urllib.request.urlretrieve(url, news_path, MyProgressBar())    \n",
    "    \n",
    "    with zipfile.ZipFile(news_path, 'r') as zip_ref:\n",
    "        zip_ref.extractall(train_dir)\n",
    "\n",
    "\n"
   ]
  },
  {
   "cell_type": "code",
   "execution_count": 7,
   "id": "5679f7cb-28a4-4d68-bfc3-ed127cc91809",
   "metadata": {},
   "outputs": [
    {
     "name": "stdout",
     "output_type": "stream",
     "text": [
      "2022-08-15 10:53:26 - news_data length:  1337721\n"
     ]
    }
   ],
   "source": [
    "from custom_util import extract_news_data\n",
    "\n",
    "news_data_raw = extract_news_data(args, news_path, logger)"
   ]
  },
  {
   "cell_type": "markdown",
   "id": "ea05d3e3-107f-4e73-8959-c5fd7dc5f71f",
   "metadata": {},
   "source": [
    "## 2.2. News Data Sampling"
   ]
  },
  {
   "cell_type": "markdown",
   "id": "69ea8266-bb6c-4475-bbac-5789249cc46a",
   "metadata": {},
   "source": [
    "- num_sample 을 에러시 조절 하세요."
   ]
  },
  {
   "cell_type": "code",
   "execution_count": 8,
   "id": "69f35b2c-b1be-42f9-a9c2-1b3d7177f150",
   "metadata": {},
   "outputs": [],
   "source": [
    "num_sample = 20000"
   ]
  },
  {
   "cell_type": "code",
   "execution_count": 9,
   "id": "65705cff-abe8-47ae-a6ac-6b7a2d289a1e",
   "metadata": {},
   "outputs": [],
   "source": [
    "import random\n",
    "\n",
    "\n",
    "def sample_news_data(num_sample, news_data_raw):\n",
    "    random.seed(100)\n",
    "    news_data = random.sample(news_data_raw, num_sample)\n",
    "    #news_data = news_data_raw[:num_sample] # For debug purpose\n",
    "    \n",
    "    return news_data\n",
    "\n",
    "corpus = sample_news_data(num_sample, news_data_raw)"
   ]
  },
  {
   "cell_type": "code",
   "execution_count": 10,
   "id": "bef2b9b8-3f85-4995-8e79-47790f445e3e",
   "metadata": {},
   "outputs": [
    {
     "data": {
      "text/plain": [
       "['그는 \"터키 원전수주 계약은 일본 정부의 장기 위험 보증 조항에 달려 있다\"고 덧붙였다.',\n",
       " '기재부 고위 관계자는 \"김동연 부총리가 오고 지난해 예산안 통과 과정에서 예산실이 밤샘근무를 하루밖에 안 했다\"며 \"예산실장 출신이라 개선을 많이 하려고는 하는데 현장의 목소리를 더 들을 필요가 있다\"고 꼬집었다.',\n",
       " '선수들을 지도하고 있는 원동현은 \"이번 훈련을 통해 여자핸드볼 국가대표 선수들이 강인한 해병 정신으로 무장해 리우 올림픽에서 반드시 승리하도록 해병대가 견인차 역할을 할 것\"이라며 \"악조건 속에서도 전승을 거둬 온 해병대의 강한 훈련을 받은 만큼 선수들도 강한 자부심과 자신감을 갖게 될 것이라 확신한다\"고 전했다.']"
      ]
     },
     "execution_count": 10,
     "metadata": {},
     "output_type": "execute_result"
    }
   ],
   "source": [
    "corpus[0:3]"
   ]
  },
  {
   "cell_type": "code",
   "execution_count": 11,
   "id": "9b49a47a-13ff-47c2-99f0-c7bc349e0fc6",
   "metadata": {},
   "outputs": [
    {
     "name": "stdout",
     "output_type": "stream",
     "text": [
      "2022-08-15 10:53:26 - Load pretrained SentenceTransformer: /home/ec2-user/SageMaker/NLP-HuggingFace-On-SageMaker/3_Semantic-Textual-Similarity/3_Training/KorSTS/model/training_sts_sentence-transformers-xlm-r-100langs-bert-base-nli-stsb-mean-tokens-2022-08-15_07-09-03\n",
      "2022-08-15 10:53:30 - Use pytorch device: cuda\n"
     ]
    }
   ],
   "source": [
    "model = SentenceTransformer(model_save_path)"
   ]
  },
  {
   "cell_type": "markdown",
   "id": "3ac03cb7-b95b-416d-af12-5b81491c7ca8",
   "metadata": {
    "tags": []
   },
   "source": [
    "## 2.3. 뉴스 데이터 Sentence-BERT Output Embedding"
   ]
  },
  {
   "cell_type": "code",
   "execution_count": 12,
   "id": "22d7d940-42ca-4a08-adbf-244b3932cfa4",
   "metadata": {},
   "outputs": [
    {
     "data": {
      "application/vnd.jupyter.widget-view+json": {
       "model_id": "",
       "version_major": 2,
       "version_minor": 0
      },
      "text/plain": [
       "Batches:   0%|          | 0/313 [00:00<?, ?it/s]"
      ]
     },
     "metadata": {},
     "output_type": "display_data"
    }
   ],
   "source": [
    "from custom_util import encode_multi_gpu_embedding \n",
    "\n",
    "\n",
    "corpus_embeddings = encode_multi_gpu_embedding(model, corpus) # 384 문장 임베딩 * 10,000 문장"
   ]
  },
  {
   "cell_type": "code",
   "execution_count": 13,
   "id": "eb3bb312-baab-4a40-bd60-be22a4a99238",
   "metadata": {},
   "outputs": [],
   "source": [
    "from custom_util import semantic_search\n",
    "from custom_util import Okt_tokenizer "
   ]
  },
  {
   "cell_type": "code",
   "execution_count": 14,
   "id": "9c5150ef-6e8a-429d-8d1c-a638a34001c2",
   "metadata": {},
   "outputs": [],
   "source": [
    "top_k = 5\n",
    "\n",
    "queries = [\n",
    "            '올 시즌 정규리그 35경기에서 23골을 작성한 손흥민은 이날 울버햄프턴을 상대로 득점에 \\\n",
    "            성공한 무함마드 살라흐(리버풀·23골)와 함께 정규리그 득점 공동 1위에 올랐다.\\\n",
    "            아시아 출신 선수가 EPL에서 득점왕에 오른 건 손흥민이 처음이다. \\\n",
    "            EPL뿐 아니라 유럽축구 5대 리그(잉글랜드·스페인·독일·프랑스·이탈리아)로 범위를 넓혀도 \\\n",
    "            아시아 선수 득점왕의 전례를 찾아보기 어렵다.'\n",
    "          ]\n"
   ]
  },
  {
   "cell_type": "markdown",
   "id": "2ab7e3c7-b5eb-4e02-bd66-11f9beecae5a",
   "metadata": {},
   "source": [
    "### 2.3.1. Corpus: 원문, Query : 원문"
   ]
  },
  {
   "cell_type": "code",
   "execution_count": 15,
   "id": "87dbf965-4dfc-43e1-9786-5d1eb798cfdc",
   "metadata": {},
   "outputs": [
    {
     "data": {
      "application/vnd.jupyter.widget-view+json": {
       "model_id": "",
       "version_major": 2,
       "version_minor": 0
      },
      "text/plain": [
       "Batches:   0%|          | 0/1 [00:00<?, ?it/s]"
      ]
     },
     "metadata": {},
     "output_type": "display_data"
    },
    {
     "name": "stdout",
     "output_type": "stream",
     "text": [
      "\n",
      "======================\n",
      "Query: 올 시즌 정규리그 35경기에서 23골을 작성한 손흥민은 이날 울버햄프턴을 상대로 득점에             성공한 무함마드 살라흐(리버풀·23골)와 함께 정규리그 득점 공동 1위에 올랐다.            아시아 출신 선수가 EPL에서 득점왕에 오른 건 손흥민이 처음이다.             EPL뿐 아니라 유럽축구 5대 리그(잉글랜드·스페인·독일·프랑스·이탈리아)로 범위를 넓혀도             아시아 선수 득점왕의 전례를 찾아보기 어렵다.\n",
      "======================\n",
      "\n",
      "Top 5 most similar sentences in corpus:\n",
      "\n",
      "(Score: 0.4953) 류 감독은 25일 대구구장에서 열린 SK 와이번스와의 2011 롯데카드 프로야구 한국시리즈 1차전에서 2-0으로 승리한 뒤 \"우리 투수들이 잘 던졌다\"고 칭찬했다.\n",
      "(Score: 0.4525) 2009년 서울과 맨체스터 유나이티드의 친선경기에서는 두 골을 터트려 퍼거슨 맨유 감독으로부터 \"10번 선수가 탐난다\"는 찬사를 받기도 했다.\n",
      "(Score: 0.4458) 한 일본 축구팬은 손흥민의 결승전 동점골을 두고 \"역시 아시아의 에이스\"라며 치켜세웠다.\n",
      "(Score: 0.4457) 독일 토마스 뮐러가 전반 11분 페널티 킥을 성공시키자 그는 약 30초 동안 \"골\"을 외쳤다.\n",
      "(Score: 0.4372) 동점골을 기록한 토트넘 공격수 해리 케인은 \"손흥민의 골은 환상적이었다\"고 칭찬했다.\n"
     ]
    }
   ],
   "source": [
    "# queries = [Okt_tokenizer(queries[0])]\n",
    "semantic_search(model, corpus, corpus_embeddings, queries, top_k)"
   ]
  },
  {
   "cell_type": "markdown",
   "id": "939454bc-b27d-4d63-8bd2-9cc65ec06ac5",
   "metadata": {},
   "source": [
    "### 2.3.2. Corpus: 원문, Query : 전처리, 토큰 (명사, 형용사)"
   ]
  },
  {
   "cell_type": "code",
   "execution_count": 16,
   "id": "2483c76f-0617-45e9-90ca-6e2bd9557cea",
   "metadata": {},
   "outputs": [
    {
     "data": {
      "application/vnd.jupyter.widget-view+json": {
       "model_id": "",
       "version_major": 2,
       "version_minor": 0
      },
      "text/plain": [
       "Batches:   0%|          | 0/1 [00:00<?, ?it/s]"
      ]
     },
     "metadata": {},
     "output_type": "display_data"
    },
    {
     "name": "stdout",
     "output_type": "stream",
     "text": [
      "\n",
      "======================\n",
      "Query: 시즌 정규 리그 경기 작성 손흥민 울버햄프턴 상대로 득점 성공하다 무함마드 살라 리버풀 정규 리그 득점 공동 아시아 출신 선수 득점 오른 손흥민 처음 아니다 유럽 축구 리그 잉글랜드 스페인 독일 프랑스 이탈리아 범위 아시아 선수 득점 전례 어렵다\n",
      "======================\n",
      "\n",
      "Top 5 most similar sentences in corpus:\n",
      "\n",
      "(Score: 0.5087) 영국 매체 스포츠 잉글리시는 이승우와 세 번째 골을 터뜨린 카를레스 알레나를 두고 \"신비스러운 듀오\"라고 칭찬했고 스페인 매체 마르카는 \"클럽 최고의 두 선수인 이승우와 알레나가 득점을 책임졌다\"고 전했다.\n",
      "(Score: 0.4705) 2009년 서울과 맨체스터 유나이티드의 친선경기에서는 두 골을 터트려 퍼거슨 맨유 감독으로부터 \"10번 선수가 탐난다\"는 찬사를 받기도 했다.\n",
      "(Score: 0.4676) 정재훈 롯데 이적, 이종운 감독 \"최선의 선택\"롯데가 두산과 FA 계약을 맺은 좌완 에이스 장원준을 지명했다.\n",
      "(Score: 0.4661) 상대 에이스 로페즈를 상대로 7안타 2득점한 타선에 대해서도 \"에이스를 상대로 대량득점을 기대할 수는 없지 않은가.꼭 필요한 점수를 얻어내는 SK다운 야구를 했다\"고 호평했다.\n",
      "(Score: 0.4645) 한 일본 축구팬은 손흥민의 결승전 동점골을 두고 \"역시 아시아의 에이스\"라며 치켜세웠다.\n"
     ]
    }
   ],
   "source": [
    "queries = [Okt_tokenizer(queries[0])]\n",
    "semantic_search(model, corpus, corpus_embeddings, queries, top_k)"
   ]
  },
  {
   "cell_type": "markdown",
   "id": "e50ee7fa-1fe3-4bf9-8015-eff38b1ef731",
   "metadata": {},
   "source": [
    "### 2.3.3 경제 뉴스"
   ]
  },
  {
   "cell_type": "code",
   "execution_count": 17,
   "id": "632d77b2-4620-4e9e-be32-7d6043355eaa",
   "metadata": {},
   "outputs": [
    {
     "data": {
      "application/vnd.jupyter.widget-view+json": {
       "model_id": "",
       "version_major": 2,
       "version_minor": 0
      },
      "text/plain": [
       "Batches:   0%|          | 0/1 [00:00<?, ?it/s]"
      ]
     },
     "metadata": {},
     "output_type": "display_data"
    },
    {
     "name": "stdout",
     "output_type": "stream",
     "text": [
      "\n",
      "======================\n",
      "Query: 삼성전자의 2분기 확정 실적이 발표된 전일부터 이틀간 증권사 18곳에서 분석 보고서를 냈다.        대부분은 3분기가 더 부진할 것인 데다 주가는 한 차례 더 조정이 올 것이란 어두운 전망을 내놓았다.        우리나라 시총 1위 기업 주식이 이런데, 미국 장으로 옮기는 데 답인가, 어깨에서 사서 무릎에 팔게 생겼다호실적에도 떨어지고오늘도 기대했던 내가 바보다         증권가도 떠나는 개미들을 붙잡을 만한 전망을 내놓지 못하는 상황이다. 하반기 실적은 더 암울할 것이라는 게 중론이어서다.\n",
      "======================\n",
      "\n",
      "Top 5 most similar sentences in corpus:\n",
      "\n",
      "(Score: 0.6007) KDB대우증권 상품개발실 김희주 이사는 \"한국 기업의 배당 성향은 전 세계적으로 가장 낮은 수준인 반면, 자본금 대비 배당가능이익은 역대 최고 수준으로 기업의 배당 여력은 충분하다\"며 \"최근 그룹 기업지배구조 개선 움직임과 더불어 향후 외국인·기관투자가 중심으로 배당 증대 압력이 커지고 있는 데다 정부 배당정책 모멘텀까지 가세해 배당주 투자에 새로운 변화가 예고된다\"고 말했다.\n",
      "(Score: 0.5407) 한 IB업계 관계자는 \"단기실적이 급감할 경우 신용평가사에서 이를 곧바로 신용등급에 반영하는데다 최근 한 번에 두 단계, 혹은 한 해에도 두 차례 이상 등급을 강등하는 경우가 발생해 보유채권 가치 하락을 우려한 기관들의 태도가 더욱 깐깐해 지고 있다\"고 말했다.\n",
      "(Score: 0.5330) 채권단 관계자는 \"미래에셋을 제외한 다른 채권단들이 가격을 내기 부담스러워 하는 측면이 있어 평균 가격 등을 제안하는 등의 방식을 택한다면 5만9000원 외 다른 가격이 나오면서 매각 협상 속도가 빨라질 수 있을 것\"이라고 말했다.\n",
      "(Score: 0.5219) 한 증권사 리스크관리부서 관계자는 \"코스피 상장사라도 유동성이나 재무안정성이 떨어지는 종목이 있고 코스닥 상장사 중에서도 유동성이 풍부한 데다 재무안정성, 성장성이 우수한 종목도 있다\"며 \"하지만 코스닥 상장사는 금감원 규정에 의해 무조건 더 낮은 평가 점수를 받게 돼있다\"고 설명했다.\n",
      "(Score: 0.5157) 보고서는 \"미국의 금리인상이 시작되더라도 진행속도가 느리게 진행되는 정도라면 우리나라의 경상수지 흑자, 외환보유액 등을 차별성이 부각될 수 있을 것\"이라며 \"원화가 달러화 대비 약세로 돌아서더라도 엔화, 유로화 등에 상대적 강세가 이어질 가능성이 높아 당분간 국내 통화당국 운신의 폭이 커졌다고 볼 수 있을 것\"이라고 강조했다.\n"
     ]
    }
   ],
   "source": [
    "top_k = 5\n",
    "\n",
    "queries = [\n",
    "        '삼성전자의 2분기 확정 실적이 발표된 전일부터 이틀간 증권사 18곳에서 분석 보고서를 냈다.\\\n",
    "        대부분은 3분기가 더 부진할 것인 데다 주가는 한 차례 더 조정이 올 것이란 어두운 전망을 내놓았다.\\\n",
    "        우리나라 시총 1위 기업 주식이 이런데, 미국 장으로 옮기는 데 답인가, 어깨에서 사서 무릎에 팔게 생겼다' '호실적에도 떨어지고' '오늘도 기대했던 내가 바보다 \\\n",
    "        증권가도 떠나는 개미들을 붙잡을 만한 전망을 내놓지 못하는 상황이다. 하반기 실적은 더 암울할 것이라는 게 중론이어서다.'\n",
    "        ]\n",
    "# queries = [Okt_tokenizer(queries[0])]\n",
    "\n",
    "semantic_search(model, corpus, corpus_embeddings, queries, top_k)"
   ]
  },
  {
   "cell_type": "code",
   "execution_count": 18,
   "id": "dc8a85e4-38db-4bb6-b450-26d7e05c01e7",
   "metadata": {},
   "outputs": [
    {
     "data": {
      "application/vnd.jupyter.widget-view+json": {
       "model_id": "",
       "version_major": 2,
       "version_minor": 0
      },
      "text/plain": [
       "Batches:   0%|          | 0/1 [00:00<?, ?it/s]"
      ]
     },
     "metadata": {},
     "output_type": "display_data"
    },
    {
     "name": "stdout",
     "output_type": "stream",
     "text": [
      "\n",
      "======================\n",
      "Query: 전자 확정 실적 발표 전일 이틀 증권사 분석 보고서 대부분 부진하다 주가 차례 조정 두운 전망 우리나라 기업 주식 이렇다 미국 어깨 사서 무릎 호실 오늘 기대하다 바보 증권 가도 개미 전망 상황 하반기 실적 암울하다 중론\n",
      "======================\n",
      "\n",
      "Top 5 most similar sentences in corpus:\n",
      "\n",
      "(Score: 0.5913) 김세중 신영증권 투자전략 팀장은 \"오늘 하루만 놓고 보면 기관이 펀드에서 유입된 현금을 가지고 저가 매수를 했다고 볼 수 있다\"면서 \"대외 여건이 잠시 진정됐고, 금요일 급매물 탓에 주가가 펀더멘털 이상으로 과하게 빠졌다는 판단을 한 것\"이라고 지적했다.\n",
      "(Score: 0.5780) 이와 관련 윤여삼 미래에셋대우증권 연구원은 \"브렉시트만으로 글로벌 경기여건을 판단하는 것은 어렵지만 하반기 경기여건이 만만치 않다\"라며 \"채권은 매수 관점에서 사들여야 한다\"며 금리가 급락할 수 있다고 전망했다.\n",
      "(Score: 0.5377) 피델리티는 \"이처럼 CAPE지수 등 밸류에이션 지표는 단기적인 주식시장 움직임을 예측하는 데는 큰 역할을 하지 못했던 것으로 나타났다\"며 \"밸류에이션보다 단기적인 주식 수익률 예측력이 높은 비즈니스 사이클, 기업이익 증가, 주식시장 기술지표 등 다른 펀더멘털 요소들을 분석한 결과 올해 미국 주식시장에 대해 낙관적인 전망을 유지한다\"고 밝혔다.\n",
      "(Score: 0.5374) 한 증권사 리스크관리부서 관계자는 \"코스피 상장사라도 유동성이나 재무안정성이 떨어지는 종목이 있고 코스닥 상장사 중에서도 유동성이 풍부한 데다 재무안정성, 성장성이 우수한 종목도 있다\"며 \"하지만 코스닥 상장사는 금감원 규정에 의해 무조건 더 낮은 평가 점수를 받게 돼있다\"고 설명했다.\n",
      "(Score: 0.5364) 한 IB업계 관계자는 \"단기실적이 급감할 경우 신용평가사에서 이를 곧바로 신용등급에 반영하는데다 최근 한 번에 두 단계, 혹은 한 해에도 두 차례 이상 등급을 강등하는 경우가 발생해 보유채권 가치 하락을 우려한 기관들의 태도가 더욱 깐깐해 지고 있다\"고 말했다.\n"
     ]
    }
   ],
   "source": [
    "queries = [Okt_tokenizer(queries[0])]\n",
    "semantic_search(model, corpus, corpus_embeddings, queries, top_k)"
   ]
  },
  {
   "cell_type": "markdown",
   "id": "dd77a5fc-6cd3-421d-b973-aa74a34ad87c",
   "metadata": {},
   "source": [
    "# 3. Corpus 에 전처리 도입"
   ]
  },
  {
   "cell_type": "markdown",
   "id": "62d2df37-2343-4f56-b24d-2c23509f8806",
   "metadata": {},
   "source": [
    "## 3.1. DAS 병렬 클러스터 준비"
   ]
  },
  {
   "cell_type": "code",
   "execution_count": 19,
   "id": "6d04207b-6a7a-4e3c-b922-9b1861a5c773",
   "metadata": {
    "tags": [],
    "toc-hr-collapsed": true
   },
   "outputs": [
    {
     "name": "stdout",
     "output_type": "stream",
     "text": [
      "DAS client has been created\n"
     ]
    },
    {
     "data": {
      "text/html": [
       "<div>\n",
       "    <div style=\"width: 24px; height: 24px; background-color: #e1e1e1; border: 3px solid #9D9D9D; border-radius: 5px; position: absolute;\"> </div>\n",
       "    <div style=\"margin-left: 48px;\">\n",
       "        <h3 style=\"margin-bottom: 0px;\">Client</h3>\n",
       "        <p style=\"color: #9D9D9D; margin-bottom: 0px;\">Client-92c79e80-1c88-11ed-b842-0eb5cadd579f</p>\n",
       "        <table style=\"width: 100%; text-align: left;\">\n",
       "\n",
       "        <tr>\n",
       "        \n",
       "            <td style=\"text-align: left;\"><strong>Connection method:</strong> Cluster object</td>\n",
       "            <td style=\"text-align: left;\"><strong>Cluster type:</strong> distributed.LocalCluster</td>\n",
       "        \n",
       "        </tr>\n",
       "\n",
       "        \n",
       "            <tr>\n",
       "                <td style=\"text-align: left;\">\n",
       "                    <strong>Dashboard: </strong> <a href=\"http://127.0.0.1:8787/status\" target=\"_blank\">http://127.0.0.1:8787/status</a>\n",
       "                </td>\n",
       "                <td style=\"text-align: left;\"></td>\n",
       "            </tr>\n",
       "        \n",
       "\n",
       "        </table>\n",
       "\n",
       "        \n",
       "            <details>\n",
       "            <summary style=\"margin-bottom: 20px;\"><h3 style=\"display: inline;\">Cluster Info</h3></summary>\n",
       "            <div class=\"jp-RenderedHTMLCommon jp-RenderedHTML jp-mod-trusted jp-OutputArea-output\">\n",
       "    <div style=\"width: 24px; height: 24px; background-color: #e1e1e1; border: 3px solid #9D9D9D; border-radius: 5px; position: absolute;\">\n",
       "    </div>\n",
       "    <div style=\"margin-left: 48px;\">\n",
       "        <h3 style=\"margin-bottom: 0px; margin-top: 0px;\">LocalCluster</h3>\n",
       "        <p style=\"color: #9D9D9D; margin-bottom: 0px;\">9c7a86dc</p>\n",
       "        <table style=\"width: 100%; text-align: left;\">\n",
       "            <tr>\n",
       "                <td style=\"text-align: left;\">\n",
       "                    <strong>Dashboard:</strong> <a href=\"http://127.0.0.1:8787/status\" target=\"_blank\">http://127.0.0.1:8787/status</a>\n",
       "                </td>\n",
       "                <td style=\"text-align: left;\">\n",
       "                    <strong>Workers:</strong> 4\n",
       "                </td>\n",
       "            </tr>\n",
       "            <tr>\n",
       "                <td style=\"text-align: left;\">\n",
       "                    <strong>Total threads:</strong> 16\n",
       "                </td>\n",
       "                <td style=\"text-align: left;\">\n",
       "                    <strong>Total memory:</strong> 239.87 GiB\n",
       "                </td>\n",
       "            </tr>\n",
       "            \n",
       "            <tr>\n",
       "    <td style=\"text-align: left;\"><strong>Status:</strong> running</td>\n",
       "    <td style=\"text-align: left;\"><strong>Using processes:</strong> True</td>\n",
       "</tr>\n",
       "\n",
       "            \n",
       "        </table>\n",
       "\n",
       "        <details>\n",
       "            <summary style=\"margin-bottom: 20px;\">\n",
       "                <h3 style=\"display: inline;\">Scheduler Info</h3>\n",
       "            </summary>\n",
       "\n",
       "            <div style=\"\">\n",
       "    <div>\n",
       "        <div style=\"width: 24px; height: 24px; background-color: #FFF7E5; border: 3px solid #FF6132; border-radius: 5px; position: absolute;\"> </div>\n",
       "        <div style=\"margin-left: 48px;\">\n",
       "            <h3 style=\"margin-bottom: 0px;\">Scheduler</h3>\n",
       "            <p style=\"color: #9D9D9D; margin-bottom: 0px;\">Scheduler-d1f9d217-d0b0-4add-aa1d-b2e9c3f1719d</p>\n",
       "            <table style=\"width: 100%; text-align: left;\">\n",
       "                <tr>\n",
       "                    <td style=\"text-align: left;\">\n",
       "                        <strong>Comm:</strong> tcp://127.0.0.1:33423\n",
       "                    </td>\n",
       "                    <td style=\"text-align: left;\">\n",
       "                        <strong>Workers:</strong> 4\n",
       "                    </td>\n",
       "                </tr>\n",
       "                <tr>\n",
       "                    <td style=\"text-align: left;\">\n",
       "                        <strong>Dashboard:</strong> <a href=\"http://127.0.0.1:8787/status\" target=\"_blank\">http://127.0.0.1:8787/status</a>\n",
       "                    </td>\n",
       "                    <td style=\"text-align: left;\">\n",
       "                        <strong>Total threads:</strong> 16\n",
       "                    </td>\n",
       "                </tr>\n",
       "                <tr>\n",
       "                    <td style=\"text-align: left;\">\n",
       "                        <strong>Started:</strong> Just now\n",
       "                    </td>\n",
       "                    <td style=\"text-align: left;\">\n",
       "                        <strong>Total memory:</strong> 239.87 GiB\n",
       "                    </td>\n",
       "                </tr>\n",
       "            </table>\n",
       "        </div>\n",
       "    </div>\n",
       "\n",
       "    <details style=\"margin-left: 48px;\">\n",
       "        <summary style=\"margin-bottom: 20px;\">\n",
       "            <h3 style=\"display: inline;\">Workers</h3>\n",
       "        </summary>\n",
       "\n",
       "        \n",
       "        <div style=\"margin-bottom: 20px;\">\n",
       "            <div style=\"width: 24px; height: 24px; background-color: #DBF5FF; border: 3px solid #4CC9FF; border-radius: 5px; position: absolute;\"> </div>\n",
       "            <div style=\"margin-left: 48px;\">\n",
       "            <details>\n",
       "                <summary>\n",
       "                    <h4 style=\"margin-bottom: 0px; display: inline;\">Worker: 0</h4>\n",
       "                </summary>\n",
       "                <table style=\"width: 100%; text-align: left;\">\n",
       "                    <tr>\n",
       "                        <td style=\"text-align: left;\">\n",
       "                            <strong>Comm: </strong> tcp://127.0.0.1:37557\n",
       "                        </td>\n",
       "                        <td style=\"text-align: left;\">\n",
       "                            <strong>Total threads: </strong> 4\n",
       "                        </td>\n",
       "                    </tr>\n",
       "                    <tr>\n",
       "                        <td style=\"text-align: left;\">\n",
       "                            <strong>Dashboard: </strong> <a href=\"http://127.0.0.1:35169/status\" target=\"_blank\">http://127.0.0.1:35169/status</a>\n",
       "                        </td>\n",
       "                        <td style=\"text-align: left;\">\n",
       "                            <strong>Memory: </strong> 59.97 GiB\n",
       "                        </td>\n",
       "                    </tr>\n",
       "                    <tr>\n",
       "                        <td style=\"text-align: left;\">\n",
       "                            <strong>Nanny: </strong> tcp://127.0.0.1:38205\n",
       "                        </td>\n",
       "                        <td style=\"text-align: left;\"></td>\n",
       "                    </tr>\n",
       "                    <tr>\n",
       "                        <td colspan=\"2\" style=\"text-align: left;\">\n",
       "                            <strong>Local directory: </strong> /home/ec2-user/SageMaker/NLP-HuggingFace-On-SageMaker/3_Semantic-Textual-Similarity/3_Training/dask-worker-space/worker-j06ex37x\n",
       "                        </td>\n",
       "                    </tr>\n",
       "\n",
       "                    \n",
       "                    <tr>\n",
       "                        <td style=\"text-align: left;\">\n",
       "                            <strong>GPU: </strong>Tesla V100-SXM2-16GB\n",
       "                        </td>\n",
       "                        <td style=\"text-align: left;\">\n",
       "                            <strong>GPU memory: </strong> 16.00 GiB\n",
       "                        </td>\n",
       "                    </tr>\n",
       "                    \n",
       "\n",
       "                    \n",
       "\n",
       "                </table>\n",
       "            </details>\n",
       "            </div>\n",
       "        </div>\n",
       "        \n",
       "        <div style=\"margin-bottom: 20px;\">\n",
       "            <div style=\"width: 24px; height: 24px; background-color: #DBF5FF; border: 3px solid #4CC9FF; border-radius: 5px; position: absolute;\"> </div>\n",
       "            <div style=\"margin-left: 48px;\">\n",
       "            <details>\n",
       "                <summary>\n",
       "                    <h4 style=\"margin-bottom: 0px; display: inline;\">Worker: 1</h4>\n",
       "                </summary>\n",
       "                <table style=\"width: 100%; text-align: left;\">\n",
       "                    <tr>\n",
       "                        <td style=\"text-align: left;\">\n",
       "                            <strong>Comm: </strong> tcp://127.0.0.1:40757\n",
       "                        </td>\n",
       "                        <td style=\"text-align: left;\">\n",
       "                            <strong>Total threads: </strong> 4\n",
       "                        </td>\n",
       "                    </tr>\n",
       "                    <tr>\n",
       "                        <td style=\"text-align: left;\">\n",
       "                            <strong>Dashboard: </strong> <a href=\"http://127.0.0.1:33861/status\" target=\"_blank\">http://127.0.0.1:33861/status</a>\n",
       "                        </td>\n",
       "                        <td style=\"text-align: left;\">\n",
       "                            <strong>Memory: </strong> 59.97 GiB\n",
       "                        </td>\n",
       "                    </tr>\n",
       "                    <tr>\n",
       "                        <td style=\"text-align: left;\">\n",
       "                            <strong>Nanny: </strong> tcp://127.0.0.1:38329\n",
       "                        </td>\n",
       "                        <td style=\"text-align: left;\"></td>\n",
       "                    </tr>\n",
       "                    <tr>\n",
       "                        <td colspan=\"2\" style=\"text-align: left;\">\n",
       "                            <strong>Local directory: </strong> /home/ec2-user/SageMaker/NLP-HuggingFace-On-SageMaker/3_Semantic-Textual-Similarity/3_Training/dask-worker-space/worker-rjh353nb\n",
       "                        </td>\n",
       "                    </tr>\n",
       "\n",
       "                    \n",
       "                    <tr>\n",
       "                        <td style=\"text-align: left;\">\n",
       "                            <strong>GPU: </strong>Tesla V100-SXM2-16GB\n",
       "                        </td>\n",
       "                        <td style=\"text-align: left;\">\n",
       "                            <strong>GPU memory: </strong> 16.00 GiB\n",
       "                        </td>\n",
       "                    </tr>\n",
       "                    \n",
       "\n",
       "                    \n",
       "\n",
       "                </table>\n",
       "            </details>\n",
       "            </div>\n",
       "        </div>\n",
       "        \n",
       "        <div style=\"margin-bottom: 20px;\">\n",
       "            <div style=\"width: 24px; height: 24px; background-color: #DBF5FF; border: 3px solid #4CC9FF; border-radius: 5px; position: absolute;\"> </div>\n",
       "            <div style=\"margin-left: 48px;\">\n",
       "            <details>\n",
       "                <summary>\n",
       "                    <h4 style=\"margin-bottom: 0px; display: inline;\">Worker: 2</h4>\n",
       "                </summary>\n",
       "                <table style=\"width: 100%; text-align: left;\">\n",
       "                    <tr>\n",
       "                        <td style=\"text-align: left;\">\n",
       "                            <strong>Comm: </strong> tcp://127.0.0.1:41187\n",
       "                        </td>\n",
       "                        <td style=\"text-align: left;\">\n",
       "                            <strong>Total threads: </strong> 4\n",
       "                        </td>\n",
       "                    </tr>\n",
       "                    <tr>\n",
       "                        <td style=\"text-align: left;\">\n",
       "                            <strong>Dashboard: </strong> <a href=\"http://127.0.0.1:37819/status\" target=\"_blank\">http://127.0.0.1:37819/status</a>\n",
       "                        </td>\n",
       "                        <td style=\"text-align: left;\">\n",
       "                            <strong>Memory: </strong> 59.97 GiB\n",
       "                        </td>\n",
       "                    </tr>\n",
       "                    <tr>\n",
       "                        <td style=\"text-align: left;\">\n",
       "                            <strong>Nanny: </strong> tcp://127.0.0.1:41073\n",
       "                        </td>\n",
       "                        <td style=\"text-align: left;\"></td>\n",
       "                    </tr>\n",
       "                    <tr>\n",
       "                        <td colspan=\"2\" style=\"text-align: left;\">\n",
       "                            <strong>Local directory: </strong> /home/ec2-user/SageMaker/NLP-HuggingFace-On-SageMaker/3_Semantic-Textual-Similarity/3_Training/dask-worker-space/worker-4ag1jt79\n",
       "                        </td>\n",
       "                    </tr>\n",
       "\n",
       "                    \n",
       "                    <tr>\n",
       "                        <td style=\"text-align: left;\">\n",
       "                            <strong>GPU: </strong>Tesla V100-SXM2-16GB\n",
       "                        </td>\n",
       "                        <td style=\"text-align: left;\">\n",
       "                            <strong>GPU memory: </strong> 16.00 GiB\n",
       "                        </td>\n",
       "                    </tr>\n",
       "                    \n",
       "\n",
       "                    \n",
       "\n",
       "                </table>\n",
       "            </details>\n",
       "            </div>\n",
       "        </div>\n",
       "        \n",
       "        <div style=\"margin-bottom: 20px;\">\n",
       "            <div style=\"width: 24px; height: 24px; background-color: #DBF5FF; border: 3px solid #4CC9FF; border-radius: 5px; position: absolute;\"> </div>\n",
       "            <div style=\"margin-left: 48px;\">\n",
       "            <details>\n",
       "                <summary>\n",
       "                    <h4 style=\"margin-bottom: 0px; display: inline;\">Worker: 3</h4>\n",
       "                </summary>\n",
       "                <table style=\"width: 100%; text-align: left;\">\n",
       "                    <tr>\n",
       "                        <td style=\"text-align: left;\">\n",
       "                            <strong>Comm: </strong> tcp://127.0.0.1:41637\n",
       "                        </td>\n",
       "                        <td style=\"text-align: left;\">\n",
       "                            <strong>Total threads: </strong> 4\n",
       "                        </td>\n",
       "                    </tr>\n",
       "                    <tr>\n",
       "                        <td style=\"text-align: left;\">\n",
       "                            <strong>Dashboard: </strong> <a href=\"http://127.0.0.1:46581/status\" target=\"_blank\">http://127.0.0.1:46581/status</a>\n",
       "                        </td>\n",
       "                        <td style=\"text-align: left;\">\n",
       "                            <strong>Memory: </strong> 59.97 GiB\n",
       "                        </td>\n",
       "                    </tr>\n",
       "                    <tr>\n",
       "                        <td style=\"text-align: left;\">\n",
       "                            <strong>Nanny: </strong> tcp://127.0.0.1:40533\n",
       "                        </td>\n",
       "                        <td style=\"text-align: left;\"></td>\n",
       "                    </tr>\n",
       "                    <tr>\n",
       "                        <td colspan=\"2\" style=\"text-align: left;\">\n",
       "                            <strong>Local directory: </strong> /home/ec2-user/SageMaker/NLP-HuggingFace-On-SageMaker/3_Semantic-Textual-Similarity/3_Training/dask-worker-space/worker-0mgnxkhv\n",
       "                        </td>\n",
       "                    </tr>\n",
       "\n",
       "                    \n",
       "                    <tr>\n",
       "                        <td style=\"text-align: left;\">\n",
       "                            <strong>GPU: </strong>Tesla V100-SXM2-16GB\n",
       "                        </td>\n",
       "                        <td style=\"text-align: left;\">\n",
       "                            <strong>GPU memory: </strong> 16.00 GiB\n",
       "                        </td>\n",
       "                    </tr>\n",
       "                    \n",
       "\n",
       "                    \n",
       "\n",
       "                </table>\n",
       "            </details>\n",
       "            </div>\n",
       "        </div>\n",
       "        \n",
       "\n",
       "    </details>\n",
       "</div>\n",
       "\n",
       "        </details>\n",
       "    </div>\n",
       "</div>\n",
       "            </details>\n",
       "        \n",
       "\n",
       "    </div>\n",
       "</div>"
      ],
      "text/plain": [
       "<Client: 'tcp://127.0.0.1:33423' processes=4 threads=16, memory=239.87 GiB>"
      ]
     },
     "execution_count": 19,
     "metadata": {},
     "output_type": "execute_result"
    }
   ],
   "source": [
    "from dask.distributed import Client\n",
    "os.environ[\"TOKENIZERS_PARALLELISM\"] = \"True\"\n",
    "\n",
    "n_workers = 4\n",
    "threads_per_worker = 4\n",
    "\n",
    "try: \n",
    "    if das_client.status == 'running':\n",
    "        print(\"DAS client is running\")\n",
    "        pass\n",
    "    else:\n",
    "        print(\"DAS client has been created\")\n",
    "        das_client = Client(n_workers=n_workers, threads_per_worker = threads_per_worker)        \n",
    "except Exception:\n",
    "    # client 생성이 안되어 있으면 아래로 생성\n",
    "    print(\"DAS client has been created\")\n",
    "    das_client = Client(n_workers=n_workers, threads_per_worker = threads_per_worker)\n",
    "    \n",
    "das_client"
   ]
  },
  {
   "cell_type": "markdown",
   "id": "82c53d64-0c7a-4850-b1f9-1f68198ffb59",
   "metadata": {},
   "source": [
    "## 3.2. 데이터 준비"
   ]
  },
  {
   "cell_type": "markdown",
   "id": "2c342f8b-181b-4c34-a777-91eba27ebee9",
   "metadata": {},
   "source": [
    "Corpus 를 Pandas Dataframe 으로 로딩"
   ]
  },
  {
   "cell_type": "code",
   "execution_count": 20,
   "id": "0c159b4c-94ee-4272-abb5-58412b246166",
   "metadata": {},
   "outputs": [
    {
     "name": "stdout",
     "output_type": "stream",
     "text": [
      "df shape:  (20000, 1)\n"
     ]
    }
   ],
   "source": [
    "df = pd.DataFrame(data=corpus, columns=['doc'])\n",
    "print(\"df shape: \", df.shape)\n",
    "\n"
   ]
  },
  {
   "cell_type": "markdown",
   "id": "98111606-e2d4-438b-b932-8db07a7468c9",
   "metadata": {},
   "source": [
    "Pandas Dataframe 을 DAS DataFrame 으로 변경"
   ]
  },
  {
   "cell_type": "code",
   "execution_count": 21,
   "id": "65258fcb-6b62-4987-bac9-d9a8e559579e",
   "metadata": {},
   "outputs": [
    {
     "data": {
      "text/html": [
       "<div>\n",
       "<style scoped>\n",
       "    .dataframe tbody tr th:only-of-type {\n",
       "        vertical-align: middle;\n",
       "    }\n",
       "\n",
       "    .dataframe tbody tr th {\n",
       "        vertical-align: top;\n",
       "    }\n",
       "\n",
       "    .dataframe thead th {\n",
       "        text-align: right;\n",
       "    }\n",
       "</style>\n",
       "<table border=\"1\" class=\"dataframe\">\n",
       "  <thead>\n",
       "    <tr style=\"text-align: right;\">\n",
       "      <th></th>\n",
       "      <th>doc</th>\n",
       "    </tr>\n",
       "  </thead>\n",
       "  <tbody>\n",
       "    <tr>\n",
       "      <th>0</th>\n",
       "      <td>그는 \"터키 원전수주 계약은 일본 정부의 장기 위험 보증 조항에 달려 있다\"고 덧붙였다.</td>\n",
       "    </tr>\n",
       "    <tr>\n",
       "      <th>1</th>\n",
       "      <td>기재부 고위 관계자는 \"김동연 부총리가 오고 지난해 예산안 통과 과정에서 예산실이 ...</td>\n",
       "    </tr>\n",
       "    <tr>\n",
       "      <th>2</th>\n",
       "      <td>선수들을 지도하고 있는 원동현은 \"이번 훈련을 통해 여자핸드볼 국가대표 선수들이 강...</td>\n",
       "    </tr>\n",
       "    <tr>\n",
       "      <th>3</th>\n",
       "      <td>광 작가도 \"게임은 거의 처음 하는 작업인데 새로운 경험이 됐다.</td>\n",
       "    </tr>\n",
       "    <tr>\n",
       "      <th>4</th>\n",
       "      <td>김동철 국민의당 원내대표도 강 후보자에 대해 \"도덕적 흠결도 많을뿐더러 그 흠결을 ...</td>\n",
       "    </tr>\n",
       "    <tr>\n",
       "      <th>...</th>\n",
       "      <td>...</td>\n",
       "    </tr>\n",
       "    <tr>\n",
       "      <th>19995</th>\n",
       "      <td>이어 \"감독 입장에서 휴식기는 엔진을 완전히 꺼버리는 시기가 절대 아니다\"며 \"휴식...</td>\n",
       "    </tr>\n",
       "    <tr>\n",
       "      <th>19996</th>\n",
       "      <td>1심 구속만기 6개월이 끝나는 10월16일 자정을 기해 반드시 석방돼야 한다\"고 주...</td>\n",
       "    </tr>\n",
       "    <tr>\n",
       "      <th>19997</th>\n",
       "      <td>그는 서·최 의원에 대한 소명절차에 대해 \"그 과정은 조금 잘 안 된 걸로 알고 있...</td>\n",
       "    </tr>\n",
       "    <tr>\n",
       "      <th>19998</th>\n",
       "      <td>침묵하며 지켜보는 다수의 국민이 있다\"고 말했다.</td>\n",
       "    </tr>\n",
       "    <tr>\n",
       "      <th>19999</th>\n",
       "      <td>또 \"현장에서 모든 GP 근무원들과 후송 의료진들 모두 최선을 다 했는데 그런 것들...</td>\n",
       "    </tr>\n",
       "  </tbody>\n",
       "</table>\n",
       "<p>20000 rows × 1 columns</p>\n",
       "</div>"
      ],
      "text/plain": [
       "                                                     doc\n",
       "0      그는 \"터키 원전수주 계약은 일본 정부의 장기 위험 보증 조항에 달려 있다\"고 덧붙였다.\n",
       "1      기재부 고위 관계자는 \"김동연 부총리가 오고 지난해 예산안 통과 과정에서 예산실이 ...\n",
       "2      선수들을 지도하고 있는 원동현은 \"이번 훈련을 통해 여자핸드볼 국가대표 선수들이 강...\n",
       "3                   광 작가도 \"게임은 거의 처음 하는 작업인데 새로운 경험이 됐다.\n",
       "4      김동철 국민의당 원내대표도 강 후보자에 대해 \"도덕적 흠결도 많을뿐더러 그 흠결을 ...\n",
       "...                                                  ...\n",
       "19995  이어 \"감독 입장에서 휴식기는 엔진을 완전히 꺼버리는 시기가 절대 아니다\"며 \"휴식...\n",
       "19996  1심 구속만기 6개월이 끝나는 10월16일 자정을 기해 반드시 석방돼야 한다\"고 주...\n",
       "19997  그는 서·최 의원에 대한 소명절차에 대해 \"그 과정은 조금 잘 안 된 걸로 알고 있...\n",
       "19998                        침묵하며 지켜보는 다수의 국민이 있다\"고 말했다.\n",
       "19999  또 \"현장에서 모든 GP 근무원들과 후송 의료진들 모두 최선을 다 했는데 그런 것들...\n",
       "\n",
       "[20000 rows x 1 columns]"
      ]
     },
     "execution_count": 21,
     "metadata": {},
     "output_type": "execute_result"
    }
   ],
   "source": [
    "import dask.dataframe as dd\n",
    "ddf = dd.from_pandas(df, npartitions=n_workers)\n",
    "ddf.compute()"
   ]
  },
  {
   "cell_type": "markdown",
   "id": "72daa526-baf8-4534-b6ea-6ce101b899ef",
   "metadata": {},
   "source": [
    "DAS Dataframe 의 compute graph 보여 주기"
   ]
  },
  {
   "cell_type": "code",
   "execution_count": 22,
   "id": "393db905-5b4b-4353-b8b4-738f288928ec",
   "metadata": {},
   "outputs": [
    {
     "data": {
      "image/png": "[encoded data removed]",
      "text/plain": [
       "<IPython.core.display.Image object>"
      ]
     },
     "execution_count": 22,
     "metadata": {},
     "output_type": "execute_result"
    }
   ],
   "source": [
    "ddf.visualize()"
   ]
  },
  {
   "cell_type": "markdown",
   "id": "0ff1e345-73e4-4daf-ae6e-d112a3a8236b",
   "metadata": {},
   "source": [
    "## 3.3. 벙렬로 전처리 수행"
   ]
  },
  {
   "cell_type": "markdown",
   "id": "ef48363d-70ba-4cce-a5ff-3ee9bdfc35af",
   "metadata": {},
   "source": [
    "n_worker = 4 로 n_thread=4 로 10,000 개시 30초, 20,000 개의 전처리시에 약 45초 걸립니다."
   ]
  },
  {
   "cell_type": "code",
   "execution_count": 23,
   "id": "0d0fdc14-9746-466e-a76f-52d62c816151",
   "metadata": {
    "tags": []
   },
   "outputs": [
    {
     "name": "stdout",
     "output_type": "stream",
     "text": [
      "CPU times: user 2.29 s, sys: 832 ms, total: 3.12 s\n",
      "Wall time: 56.1 s\n"
     ]
    }
   ],
   "source": [
    "%%time\n",
    "\n",
    "from IPython.display import display as dp\n",
    "import traceback\n",
    "from custom_util import remove_spec_chars\n",
    "\n",
    "try: \n",
    "    # ddf[\"doc_cl\"] = ddf[\"doc\"].apply(preproces_doc, meta=('doc', 'object')).compute()      \n",
    "    ddf[\"doc_cl\"] = ddf[\"doc\"].apply(remove_spec_chars, meta=('doc', 'object')).compute()      \n",
    "    ddf[\"doc_cl\"] = ddf[\"doc_cl\"].apply(Okt_tokenizer,meta=('doc_cl', 'object') ).compute()      \n",
    "    ddf[\"doc_cl\"].compute()\n",
    "except Exception:\n",
    "    print(traceback.format_exc())    "
   ]
  },
  {
   "cell_type": "markdown",
   "id": "926631c7-c82f-43fc-bc68-e1bb871f890e",
   "metadata": {},
   "source": [
    "## 3.4. pandas df 로 변경"
   ]
  },
  {
   "cell_type": "markdown",
   "id": "ce0e1f97-6259-4ea1-b41a-6f876a7e602b",
   "metadata": {},
   "source": [
    "das dataframe 에서 pandas dataframe 으로 변경"
   ]
  },
  {
   "cell_type": "code",
   "execution_count": 24,
   "id": "3e134798-d9d4-4766-bb91-704ab27de489",
   "metadata": {},
   "outputs": [
    {
     "data": {
      "text/html": [
       "<div>\n",
       "<style scoped>\n",
       "    .dataframe tbody tr th:only-of-type {\n",
       "        vertical-align: middle;\n",
       "    }\n",
       "\n",
       "    .dataframe tbody tr th {\n",
       "        vertical-align: top;\n",
       "    }\n",
       "\n",
       "    .dataframe thead th {\n",
       "        text-align: right;\n",
       "    }\n",
       "</style>\n",
       "<table border=\"1\" class=\"dataframe\">\n",
       "  <thead>\n",
       "    <tr style=\"text-align: right;\">\n",
       "      <th></th>\n",
       "      <th>doc</th>\n",
       "      <th>doc_cl</th>\n",
       "    </tr>\n",
       "  </thead>\n",
       "  <tbody>\n",
       "    <tr>\n",
       "      <th>0</th>\n",
       "      <td>그는 \"터키 원전수주 계약은 일본 정부의 장기 위험 보증 조항에 달려 있다\"고 덧붙였다.</td>\n",
       "      <td>터키 원전 수주 계약 일본 정부 장기 위험 보증 조항</td>\n",
       "    </tr>\n",
       "    <tr>\n",
       "      <th>1</th>\n",
       "      <td>기재부 고위 관계자는 \"김동연 부총리가 오고 지난해 예산안 통과 과정에서 예산실이 ...</td>\n",
       "      <td>기재부 고위 관계자 김동연 부총리 지난해 예산안 통과 과정 산실 밤샘 근무 하루 예...</td>\n",
       "    </tr>\n",
       "    <tr>\n",
       "      <th>2</th>\n",
       "      <td>선수들을 지도하고 있는 원동현은 \"이번 훈련을 통해 여자핸드볼 국가대표 선수들이 강...</td>\n",
       "      <td>선수 지도 동현 이번 훈련 통해 여자 핸드볼 국가대표 선수 강인하다 해병 정신 무장...</td>\n",
       "    </tr>\n",
       "    <tr>\n",
       "      <th>3</th>\n",
       "      <td>광 작가도 \"게임은 거의 처음 하는 작업인데 새로운 경험이 됐다.</td>\n",
       "      <td>작가 게임 거의 처음 작업 새롭다 경험</td>\n",
       "    </tr>\n",
       "    <tr>\n",
       "      <th>4</th>\n",
       "      <td>김동철 국민의당 원내대표도 강 후보자에 대해 \"도덕적 흠결도 많을뿐더러 그 흠결을 ...</td>\n",
       "      <td>김동철 국민의당 원내대표 후보자 대해 도덕 흠결 많다 흠결 자질 역량 없다 혹평 외...</td>\n",
       "    </tr>\n",
       "    <tr>\n",
       "      <th>...</th>\n",
       "      <td>...</td>\n",
       "      <td>...</td>\n",
       "    </tr>\n",
       "    <tr>\n",
       "      <th>19995</th>\n",
       "      <td>이어 \"감독 입장에서 휴식기는 엔진을 완전히 꺼버리는 시기가 절대 아니다\"며 \"휴식...</td>\n",
       "      <td>감독 입장 휴식 엔진 완전하다 시기 절대 아니다 휴식 동안 계속 엔진 후반기 선수 ...</td>\n",
       "    </tr>\n",
       "    <tr>\n",
       "      <th>19996</th>\n",
       "      <td>1심 구속만기 6개월이 끝나는 10월16일 자정을 기해 반드시 석방돼야 한다\"고 주...</td>\n",
       "      <td>구속 만기 개월 자정 기해 반드시 석방 주장</td>\n",
       "    </tr>\n",
       "    <tr>\n",
       "      <th>19997</th>\n",
       "      <td>그는 서·최 의원에 대한 소명절차에 대해 \"그 과정은 조금 잘 안 된 걸로 알고 있...</td>\n",
       "      <td>의원 대한 소명 절차 대해 과정 조금 왜냐면 현재 국정감사 외국 때문</td>\n",
       "    </tr>\n",
       "    <tr>\n",
       "      <th>19998</th>\n",
       "      <td>침묵하며 지켜보는 다수의 국민이 있다\"고 말했다.</td>\n",
       "      <td>침묵 다수 국민</td>\n",
       "    </tr>\n",
       "    <tr>\n",
       "      <th>19999</th>\n",
       "      <td>또 \"현장에서 모든 GP 근무원들과 후송 의료진들 모두 최선을 다 했는데 그런 것들...</td>\n",
       "      <td>현장 모든 근무 후송 의료 모두 최선 그렇다 같다 걱정 하사 고민 노고 훼손 약속</td>\n",
       "    </tr>\n",
       "  </tbody>\n",
       "</table>\n",
       "<p>20000 rows × 2 columns</p>\n",
       "</div>"
      ],
      "text/plain": [
       "                                                     doc  \\\n",
       "0      그는 \"터키 원전수주 계약은 일본 정부의 장기 위험 보증 조항에 달려 있다\"고 덧붙였다.   \n",
       "1      기재부 고위 관계자는 \"김동연 부총리가 오고 지난해 예산안 통과 과정에서 예산실이 ...   \n",
       "2      선수들을 지도하고 있는 원동현은 \"이번 훈련을 통해 여자핸드볼 국가대표 선수들이 강...   \n",
       "3                   광 작가도 \"게임은 거의 처음 하는 작업인데 새로운 경험이 됐다.   \n",
       "4      김동철 국민의당 원내대표도 강 후보자에 대해 \"도덕적 흠결도 많을뿐더러 그 흠결을 ...   \n",
       "...                                                  ...   \n",
       "19995  이어 \"감독 입장에서 휴식기는 엔진을 완전히 꺼버리는 시기가 절대 아니다\"며 \"휴식...   \n",
       "19996  1심 구속만기 6개월이 끝나는 10월16일 자정을 기해 반드시 석방돼야 한다\"고 주...   \n",
       "19997  그는 서·최 의원에 대한 소명절차에 대해 \"그 과정은 조금 잘 안 된 걸로 알고 있...   \n",
       "19998                        침묵하며 지켜보는 다수의 국민이 있다\"고 말했다.   \n",
       "19999  또 \"현장에서 모든 GP 근무원들과 후송 의료진들 모두 최선을 다 했는데 그런 것들...   \n",
       "\n",
       "                                                  doc_cl  \n",
       "0                          터키 원전 수주 계약 일본 정부 장기 위험 보증 조항  \n",
       "1      기재부 고위 관계자 김동연 부총리 지난해 예산안 통과 과정 산실 밤샘 근무 하루 예...  \n",
       "2      선수 지도 동현 이번 훈련 통해 여자 핸드볼 국가대표 선수 강인하다 해병 정신 무장...  \n",
       "3                                  작가 게임 거의 처음 작업 새롭다 경험  \n",
       "4      김동철 국민의당 원내대표 후보자 대해 도덕 흠결 많다 흠결 자질 역량 없다 혹평 외...  \n",
       "...                                                  ...  \n",
       "19995  감독 입장 휴식 엔진 완전하다 시기 절대 아니다 휴식 동안 계속 엔진 후반기 선수 ...  \n",
       "19996                           구속 만기 개월 자정 기해 반드시 석방 주장  \n",
       "19997             의원 대한 소명 절차 대해 과정 조금 왜냐면 현재 국정감사 외국 때문  \n",
       "19998                                           침묵 다수 국민  \n",
       "19999      현장 모든 근무 후송 의료 모두 최선 그렇다 같다 걱정 하사 고민 노고 훼손 약속  \n",
       "\n",
       "[20000 rows x 2 columns]"
      ]
     },
     "execution_count": 24,
     "metadata": {},
     "output_type": "execute_result"
    }
   ],
   "source": [
    "pd_df = ddf.compute()\n",
    "pd_df"
   ]
  },
  {
   "cell_type": "markdown",
   "id": "12f20675-256c-43ce-8ff2-8feff48b3033",
   "metadata": {},
   "source": [
    "## 3.5. DAS Cluster 셧다운"
   ]
  },
  {
   "cell_type": "code",
   "execution_count": 25,
   "id": "5737c04a-0a13-4a33-9db6-260daaa35dbd",
   "metadata": {},
   "outputs": [
    {
     "name": "stderr",
     "output_type": "stream",
     "text": [
      "distributed.nanny - WARNING - Worker process still alive after 3 seconds, killing\n",
      "distributed.nanny - WARNING - Worker process still alive after 3 seconds, killing\n",
      "distributed.nanny - WARNING - Worker process still alive after 3 seconds, killing\n",
      "distributed.nanny - WARNING - Worker process still alive after 3 seconds, killing\n"
     ]
    }
   ],
   "source": [
    "import time\n",
    "\n",
    "das_client.shutdown()\n",
    "time.sleep(5)"
   ]
  },
  {
   "cell_type": "markdown",
   "id": "21ce6aaa-59fe-480e-991c-d36c503e3a6c",
   "metadata": {},
   "source": [
    "## 3.6. (옵션) DAS 에러시에 아래 주석을 제거하고 작업 하세요.\n",
    "- 10,000 개 실행시에 약 2분 40초 걸림"
   ]
  },
  {
   "cell_type": "code",
   "execution_count": 26,
   "id": "8fd58b90-f7a8-41b2-8433-a92a3bac70ab",
   "metadata": {},
   "outputs": [],
   "source": [
    "# %%time\n",
    "        \n",
    "# from custom_util import preprocess_doc\n",
    "\n",
    "# pd_df = preprocess_doc(df)"
   ]
  },
  {
   "cell_type": "markdown",
   "id": "559b1494-0955-44a5-8c11-f836fd8a8059",
   "metadata": {
    "tags": []
   },
   "source": [
    "# 4. 전처리 도입 후에 추론"
   ]
  },
  {
   "cell_type": "markdown",
   "id": "136f1488-025a-4baf-a3e5-029d34b9b8e0",
   "metadata": {},
   "source": [
    "전처리된 Corpus를 embedding encoding 형태로 변경"
   ]
  },
  {
   "cell_type": "code",
   "execution_count": 27,
   "id": "2922ac71-fe55-48c9-bd01-f9ec2693b8e9",
   "metadata": {
    "tags": []
   },
   "outputs": [
    {
     "data": {
      "application/vnd.jupyter.widget-view+json": {
       "model_id": "",
       "version_major": 2,
       "version_minor": 0
      },
      "text/plain": [
       "Batches:   0%|          | 0/313 [00:00<?, ?it/s]"
      ]
     },
     "metadata": {},
     "output_type": "display_data"
    }
   ],
   "source": [
    "corpus_cl = pd_df['doc_cl'].tolist()\n",
    "corpus_embeddings_cl = encode_multi_gpu_embedding(model, corpus_cl)"
   ]
  },
  {
   "cell_type": "markdown",
   "id": "3033f682-b95b-48ca-9b63-08d6e7808346",
   "metadata": {},
   "source": [
    "## 4.1. Corpus: 전처리, Query : 전처리, 토큰 (명사, 형용사)"
   ]
  },
  {
   "cell_type": "code",
   "execution_count": 28,
   "id": "35e57f6c-f4fc-453d-b408-7315c4214694",
   "metadata": {},
   "outputs": [
    {
     "data": {
      "application/vnd.jupyter.widget-view+json": {
       "model_id": "",
       "version_major": 2,
       "version_minor": 0
      },
      "text/plain": [
       "Batches:   0%|          | 0/1 [00:00<?, ?it/s]"
      ]
     },
     "metadata": {},
     "output_type": "display_data"
    },
    {
     "name": "stdout",
     "output_type": "stream",
     "text": [
      "\n",
      "======================\n",
      "Query: 시즌 정규 리그 경기 작성 손흥민 울버햄프턴 상대로 득점 성공하다 무함마드 살라 리버풀 정규 리그 득점 공동 아시아 출신 선수 득점 오른 손흥민 처음 아니다 유럽 축구 리그 잉글랜드 스페인 독일 프랑스 이탈리아 범위 아시아 선수 득점 전례 어렵다\n",
      "======================\n",
      "\n",
      "Top 5 most similar sentences in corpus:\n",
      "\n",
      "(Score: 0.5553) 최형우 올스타전 홈런 레이스 목표 아웃 개도 같다 올스타전 경기 괜찮다 홈런 레이스 긴장\n",
      "(Score: 0.5156) 영국 매체 스포츠 잉글리시 이승우 카를 레스 알레나 신비 듀오 칭찬 스페인 매체 마르카 클럽 최고 선수 이승우 알레나 득점\n",
      "(Score: 0.5001) 상대 에이스 로페즈 상대로 안타 득점 대해 서도 에이스 상대로 대량 득점 기대하다 없다 필요하다 점수 다운 야구 호평\n",
      "(Score: 0.4934) 경기 손흥민 구단 공식 퍼스 인터뷰 통해 준결승 웸블리 스타디움 중요하다 경기 승리 해트트릭 기록 정말 어렵다 기쁘다 승리 더욱 행복하다 소감\n",
      "(Score: 0.4822) 정규 리그 우승 상태 감독 플레이오프 직행 티켓 만큼 마지막 최선 각오\n"
     ]
    }
   ],
   "source": [
    "top_k = 5\n",
    "\n",
    "queries = [\n",
    "            '올 시즌 정규리그 35경기에서 23골을 작성한 손흥민은 이날 울버햄프턴을 상대로 득점에 \\\n",
    "            성공한 무함마드 살라흐(리버풀·23골)와 함께 정규리그 득점 공동 1위에 올랐다.\\\n",
    "            아시아 출신 선수가 EPL에서 득점왕에 오른 건 손흥민이 처음이다. \\\n",
    "            EPL뿐 아니라 유럽축구 5대 리그(잉글랜드·스페인·독일·프랑스·이탈리아)로 범위를 넓혀도 \\\n",
    "            아시아 선수 득점왕의 전례를 찾아보기 어렵다.'\n",
    "          ]\n",
    "\n",
    "queries = [Okt_tokenizer(queries[0])]\n",
    "queries\n",
    "semantic_search(model, corpus_cl, corpus_embeddings_cl, queries, top_k)"
   ]
  },
  {
   "cell_type": "code",
   "execution_count": 29,
   "id": "ecbc262a-2eab-40bb-9410-1857424d037e",
   "metadata": {},
   "outputs": [
    {
     "data": {
      "application/vnd.jupyter.widget-view+json": {
       "model_id": "",
       "version_major": 2,
       "version_minor": 0
      },
      "text/plain": [
       "Batches:   0%|          | 0/1 [00:00<?, ?it/s]"
      ]
     },
     "metadata": {},
     "output_type": "display_data"
    },
    {
     "name": "stdout",
     "output_type": "stream",
     "text": [
      "\n",
      "======================\n",
      "Query: 전자 확정 실적 발표 전일 이틀 증권사 분석 보고서 대부분 부진하다 주가 차례 조정 두운 전망 우리나라 기업 주식 이렇다 미국 어깨 사서 무릎 호실 오늘 기대하다 바보 증권 가도 개미 전망 상황 하반기 실적 암울하다 중론\n",
      "======================\n",
      "\n",
      "Top 5 most similar sentences in corpus:\n",
      "\n",
      "(Score: 0.6207) 관련 윤여삼 미래에셋 대우 증권 연구원 브렉 시트 글로벌 여건 판단 어렵다 하반기 여건 라며 채권 매수 관점 금리 급락 전망\n",
      "(Score: 0.6191) 다른 증권사 연구원 오버 이슈 상장 차례 주가 조정 조정 주식 매수 나쁘다 선택\n",
      "(Score: 0.5813) 김세중 증권 투자 전략 오늘 하루 기관 펀드 유입 현금 가지 저가 매수 면서 대외 여건 잠시 진정 금요일 매물 주가 펀더 멘털 이상 판단 지적\n",
      "(Score: 0.5760) 서상영 증권 연구원 한국 증시 미국 증시 강세 상회 차익 실현 매물 하락 전환 운송업 종이 전날 부진하다 미국 판매량 발표 여파 코스피 하락 주도하다 설명\n",
      "(Score: 0.5498) 투자 증권 현기 연구원 결정 실망 기적 금융시장 변동성 요인 작용 라며 연말 내년 추가 양적완화 정책 대한 대감 유지 판단\n"
     ]
    }
   ],
   "source": [
    "top_k = 5\n",
    "\n",
    "queries = [\n",
    "        '삼성전자의 2분기 확정 실적이 발표된 전일부터 이틀간 증권사 18곳에서 분석 보고서를 냈다.\\\n",
    "        대부분은 3분기가 더 부진할 것인 데다 주가는 한 차례 더 조정이 올 것이란 어두운 전망을 내놓았다.\\\n",
    "        우리나라 시총 1위 기업 주식이 이런데, 미국 장으로 옮기는 데 답인가, 어깨에서 사서 무릎에 팔게 생겼다' '호실적에도 떨어지고' '오늘도 기대했던 내가 바보다 \\\n",
    "        증권가도 떠나는 개미들을 붙잡을 만한 전망을 내놓지 못하는 상황이다. 하반기 실적은 더 암울할 것이라는 게 중론이어서다.'\n",
    "        ]\n",
    "\n",
    "\n",
    "queries = [Okt_tokenizer(queries[0])]\n",
    "queries\n",
    "semantic_search(model, corpus_cl, corpus_embeddings_cl, queries, top_k)"
   ]
  },
  {
   "cell_type": "markdown",
   "id": "074e26d4-1383-4318-9b2c-d7d611fb36f6",
   "metadata": {
    "tags": []
   },
   "source": [
    "# 5. Semantic Search (상품 리뷰)\n",
    "\n",
    "- 아래의 데이터 파일은 비공개이어서, 이 섹션은 선택 입니다."
   ]
  },
  {
   "cell_type": "markdown",
   "id": "62c409be-25e2-4657-941d-222ccf622eef",
   "metadata": {},
   "source": [
    "## 5.1. 데이터 준비"
   ]
  },
  {
   "cell_type": "code",
   "execution_count": 30,
   "id": "58bf5733-e1a6-4d7a-87dd-e5a7e37b7f43",
   "metadata": {},
   "outputs": [],
   "source": [
    "product_best_data_file = 'data/product_review/best_sample.json'"
   ]
  },
  {
   "cell_type": "code",
   "execution_count": 31,
   "id": "5d0251e6-d4fd-44b8-a0ac-3e84c57cbefc",
   "metadata": {},
   "outputs": [
    {
     "data": {
      "text/html": [
       "<div>\n",
       "<style scoped>\n",
       "    .dataframe tbody tr th:only-of-type {\n",
       "        vertical-align: middle;\n",
       "    }\n",
       "\n",
       "    .dataframe tbody tr th {\n",
       "        vertical-align: top;\n",
       "    }\n",
       "\n",
       "    .dataframe thead th {\n",
       "        text-align: right;\n",
       "    }\n",
       "</style>\n",
       "<table border=\"1\" class=\"dataframe\">\n",
       "  <thead>\n",
       "    <tr style=\"text-align: right;\">\n",
       "      <th></th>\n",
       "      <th>subject</th>\n",
       "      <th>doc</th>\n",
       "    </tr>\n",
       "  </thead>\n",
       "  <tbody>\n",
       "    <tr>\n",
       "      <th>0</th>\n",
       "      <td>생으로 먹어도 익혀 먹어도 모두 어울리는 채소</td>\n",
       "      <td>감자, 무, 고구마, 배 모두 섞인 맛이 나요.\\r\\n뿌리식물이라 반찬용 채소라고 ...</td>\n",
       "    </tr>\n",
       "    <tr>\n",
       "      <th>1</th>\n",
       "      <td>재구매했어요^^</td>\n",
       "      <td>마늘빵을 워낙 좋아해서 마늘빵은 왠만하면 따지지않고 사는편이에요~\\n후기보고 조금 ...</td>\n",
       "    </tr>\n",
       "    <tr>\n",
       "      <th>2</th>\n",
       "      <td>솔직히</td>\n",
       "      <td>미세먼지측정기 사면 모르고살때보다 정신적으로 더 피폐해질까봐 구입하기 망설였어요.\\...</td>\n",
       "    </tr>\n",
       "    <tr>\n",
       "      <th>3</th>\n",
       "      <td>싱싱한 전복으로 만든 전복 크림 누들떡볶이~</td>\n",
       "      <td>산소포장으로 싱싱하게 와서 바로 손질해서 먹었어요 크기는 왼쪽이 소, 오른쪽이 중 ...</td>\n",
       "    </tr>\n",
       "    <tr>\n",
       "      <th>4</th>\n",
       "      <td>파우더라 더 먹기 좋아요 ! 편리한 아침식사</td>\n",
       "      <td>아침마다 오트밀과 귀리가루를 번갈아 가며 먹고 있어요. \\r\\n오버나이트 오트밀을 ...</td>\n",
       "    </tr>\n",
       "    <tr>\n",
       "      <th>...</th>\n",
       "      <td>...</td>\n",
       "      <td>...</td>\n",
       "    </tr>\n",
       "    <tr>\n",
       "      <th>95</th>\n",
       "      <td>두유 그릭 요거트 만들기</td>\n",
       "      <td>고소한 두유 그릭 요거트 만들기\\n\\n매일두유는 그냥 먹어도 맛있지만,\\n요거트로 ...</td>\n",
       "    </tr>\n",
       "    <tr>\n",
       "      <th>96</th>\n",
       "      <td>레전드 드립 커피 선물세트 내돈내산 구매  리얼 후기!</td>\n",
       "      <td>진한 핸드 드립 커피를 집이나 사무실에서 간편하게 즐길수 있는 제품이네요 :)\\r\\...</td>\n",
       "    </tr>\n",
       "    <tr>\n",
       "      <th>97</th>\n",
       "      <td>일루마 후기</td>\n",
       "      <td>물론 여기서 이미 분유를 구매하신다는 것은 이 분유를 먹이고 계시다는 거겠죠~혹시라...</td>\n",
       "    </tr>\n",
       "    <tr>\n",
       "      <th>98</th>\n",
       "      <td>자연산 대왕 바지락 넣어 만든 봉골레파스타</td>\n",
       "      <td>봉골레파스타 만들어먹을 재료 주문하다\\n발견한 자연산 남해안 바지락 대 사이즈!!\\...</td>\n",
       "    </tr>\n",
       "    <tr>\n",
       "      <th>99</th>\n",
       "      <td>8개월 아기 첫 오이</td>\n",
       "      <td>이유식에 오이를 넣으려고 주문했어요. \\n\\n아기들이 오이 들어간 이유식을 별로 안...</td>\n",
       "    </tr>\n",
       "  </tbody>\n",
       "</table>\n",
       "<p>100 rows × 2 columns</p>\n",
       "</div>"
      ],
      "text/plain": [
       "                           subject  \\\n",
       "0        생으로 먹어도 익혀 먹어도 모두 어울리는 채소   \n",
       "1                         재구매했어요^^   \n",
       "2                              솔직히   \n",
       "3         싱싱한 전복으로 만든 전복 크림 누들떡볶이~   \n",
       "4         파우더라 더 먹기 좋아요 ! 편리한 아침식사   \n",
       "..                             ...   \n",
       "95                   두유 그릭 요거트 만들기   \n",
       "96  레전드 드립 커피 선물세트 내돈내산 구매  리얼 후기!   \n",
       "97                          일루마 후기   \n",
       "98         자연산 대왕 바지락 넣어 만든 봉골레파스타   \n",
       "99                     8개월 아기 첫 오이   \n",
       "\n",
       "                                                  doc  \n",
       "0   감자, 무, 고구마, 배 모두 섞인 맛이 나요.\\r\\n뿌리식물이라 반찬용 채소라고 ...  \n",
       "1   마늘빵을 워낙 좋아해서 마늘빵은 왠만하면 따지지않고 사는편이에요~\\n후기보고 조금 ...  \n",
       "2   미세먼지측정기 사면 모르고살때보다 정신적으로 더 피폐해질까봐 구입하기 망설였어요.\\...  \n",
       "3   산소포장으로 싱싱하게 와서 바로 손질해서 먹었어요 크기는 왼쪽이 소, 오른쪽이 중 ...  \n",
       "4   아침마다 오트밀과 귀리가루를 번갈아 가며 먹고 있어요. \\r\\n오버나이트 오트밀을 ...  \n",
       "..                                                ...  \n",
       "95  고소한 두유 그릭 요거트 만들기\\n\\n매일두유는 그냥 먹어도 맛있지만,\\n요거트로 ...  \n",
       "96  진한 핸드 드립 커피를 집이나 사무실에서 간편하게 즐길수 있는 제품이네요 :)\\r\\...  \n",
       "97  물론 여기서 이미 분유를 구매하신다는 것은 이 분유를 먹이고 계시다는 거겠죠~혹시라...  \n",
       "98  봉골레파스타 만들어먹을 재료 주문하다\\n발견한 자연산 남해안 바지락 대 사이즈!!\\...  \n",
       "99  이유식에 오이를 넣으려고 주문했어요. \\n\\n아기들이 오이 들어간 이유식을 별로 안...  \n",
       "\n",
       "[100 rows x 2 columns]"
      ]
     },
     "execution_count": 31,
     "metadata": {},
     "output_type": "execute_result"
    }
   ],
   "source": [
    "import json\n",
    "\n",
    "with open(product_best_data_file) as json_file:\n",
    "    best_review_data = json.load(json_file)\n",
    "    \n",
    "best_df = pd.DataFrame(best_review_data)\n",
    "best_df.rename(columns={'contents' : 'doc'}, inplace=True)\n",
    "best_df"
   ]
  },
  {
   "cell_type": "code",
   "execution_count": 32,
   "id": "1d923dbb-61e1-4624-add8-9412daaf8f88",
   "metadata": {},
   "outputs": [
    {
     "name": "stdout",
     "output_type": "stream",
     "text": [
      "CPU times: user 11.5 s, sys: 45.6 ms, total: 11.5 s\n",
      "Wall time: 6.84 s\n"
     ]
    },
    {
     "data": {
      "text/html": [
       "<div>\n",
       "<style scoped>\n",
       "    .dataframe tbody tr th:only-of-type {\n",
       "        vertical-align: middle;\n",
       "    }\n",
       "\n",
       "    .dataframe tbody tr th {\n",
       "        vertical-align: top;\n",
       "    }\n",
       "\n",
       "    .dataframe thead th {\n",
       "        text-align: right;\n",
       "    }\n",
       "</style>\n",
       "<table border=\"1\" class=\"dataframe\">\n",
       "  <thead>\n",
       "    <tr style=\"text-align: right;\">\n",
       "      <th></th>\n",
       "      <th>subject</th>\n",
       "      <th>doc</th>\n",
       "      <th>doc_cl</th>\n",
       "    </tr>\n",
       "  </thead>\n",
       "  <tbody>\n",
       "    <tr>\n",
       "      <th>0</th>\n",
       "      <td>생으로 먹어도 익혀 먹어도 모두 어울리는 채소</td>\n",
       "      <td>감자, 무, 고구마, 배 모두 섞인 맛이 나요.\\r\\n뿌리식물이라 반찬용 채소라고 생각했는데 생으로 먹어도 상큼하고 좋구요. 구워먹어도 달달하니 맛있어요. 맘 놓고 과일이나 감자, 고구마 못드시는 당뇨환자, 저탄고지 다이어터, 당질제한식 하시는 분들께 강추입니다.\\r\\n\\r\\n배처럼 잘라서 씹어먹어도 좋구요, 얇게 잘라서 잎채소와 샐러드로 먹어도 좋아요. 낯선 재료라 레시피를 검색했는데, 익히지 않고 먹는 레시피가 많아서 생으로 먹는 것이 훨 맛있나? 싶었지만... 구워 먹어도 맛있어요. \\r\\n\\r\\n저는 올리브유, 파프리카가루, 허브솔트에 버무려 두고 40분 정도 후에 팬에서 약불로 말랑해질 때까지 구웠어요. \\r\\n처음에는 웨지감자 마냥 짭짤하게 먹으려고 했는데, 이건 자체에 단맛이 있어서 웨지감자처럼 짭짤한 시즈닝하곤 안어울려요ㅋㅋㅋ 별로 간이 배지도 않구요. 뒤늦게 메이플시럽을 뿌려먹었더니 어울리고 좋더라구요. 익혀서 달달하게 간식용으로 드시기에 좋습니다. 고구마맛탕 같은 거 드시고 싶으신데 다이어트, 혈당 때문에 못드시는 분들은 여기다 시럽 대신에 대체감미료 사용해서 드시면 진짜 좋을 것 같아요.</td>\n",
       "      <td>감자 고구마 모두 뿌리 식물 반찬 채소 생각 생으로 상큼 좋다 달달 맛있다 과일 감자 고구마 당뇨 환자 다이어터 당질 제한 강추 이다 좋다 얇다 잎채소 샐러드 좋다 낯선 재료 레시피 검색 레시피 많다 생으로 맛있다 맛있다 올리브유 파프리카 가루 허브 솔트 무려 정도 불로 말랑하다 처음 감자 마냥 짭짤하다 자체 단맛 감자 짭짤하다 별로 간이 배지 뒤늦다 메이플시럽 좋다 달달 간식 좋다 고구마 맛탕 같다 다이어트 혈당 때문 여기 시럽 대신 대체 감미료 사용 진짜 좋다 같다</td>\n",
       "    </tr>\n",
       "    <tr>\n",
       "      <th>1</th>\n",
       "      <td>재구매했어요^^</td>\n",
       "      <td>마늘빵을 워낙 좋아해서 마늘빵은 왠만하면 따지지않고 사는편이에요~\\n후기보고 조금 걱정했었는데 취향에 따라 조금 갈릴순 있을것 같아요!\\n시중에 바삭바삭함을 넘어서 딱딱하기까지 한 바게트는 많이 먹어봤는데 이건 아주 촉촉해요~\\n저는 그래서 더 마음에 들었고, 빵 사이사이마다 버터랑\\n마늘이 듬뿍듬뿍이라 아, 이런게 진짜 마늘빵이구나 싶었어요 ㅎㅎㅎ\\n\\n빵이 다 잘려져있지않고 끝부분은 사진처럼 컷팅이 덜\\n되어있는데 그래서 빵이 떨어져있지않고 버터랑 마늘이\\n더 잘흡수되고 촉촉한거 같아요!\\n보통 마늘빵을 사먹으면 마늘향이 살짝 나거나\\n어떤부분은 거의 바게트만 먹게되는 경우도 있는데 이건 어느 부분을 먹든 맛있어요^^\\n\\n사이즈는 처음 받아봤을땐 생각보다 작다 싶었는데 전 한번에 먹기에 많아서 남은건 냉동실에 보관했다가 기름 두르지 않은 팬에 살짝 데워먹었더니 맛있더라구요~\\n마켓컬리에서는 전자레인지나 토스트기에 데워먹으라고 나와있어서 다음번엔 전자레인지도 한번 이용해봐야겠어요~\\n\\n식전빵이나 식후 디저트로도 좋고, 간식으로 먹어도 너무 맛있는 마늘바게트였어요!</td>\n",
       "      <td>마늘빵 워낙 좋아하다 마늘빵 왠만하다 편이 후기 보고 조금 걱정 취향 조금 갈릴 같다 시중 바삭바삭하다 딱딱하다 바게트 아주 촉촉하다 마음 사이사이 버터 마늘 이렇다 진짜 마늘빵 부분 사진 컷팅 버터 마늘 흡수 촉촉하다 같다 보통 마늘빵 마늘 살짝 부분 거의 바게트 경우 부분 맛있다 사이즈 처음 생각 작다 한번 먹기 많다 냉동 보관 기름 살짝 맛있다 마켓 컬리 전자레인지 토스트 다음 전자레인지 한번 이용 식전 식후 디저트 좋다 간식 맛있다 마늘 바게트</td>\n",
       "    </tr>\n",
       "    <tr>\n",
       "      <th>2</th>\n",
       "      <td>솔직히</td>\n",
       "      <td>미세먼지측정기 사면 모르고살때보다 정신적으로 더 피폐해질까봐 구입하기 망설였어요.\\n\\n그런데 밖의미세먼지보다 집안공기관리는 잘되고있을까 \\n걱정이되던 찰라에  어웨어 민트 공기측정기를 컬리에서\\n봤지요.\\n\\n온도.습도.미세먼지.화학물질\\n집안의 공기질을 총체적으로 측정할수 있고 핸드폰으로\\n연동이되어 지금 어떤지 집착하지않을정도로\\n딱 그만큼 아는게 힘이될만큼 도움이되요.\\n\\n게다가 많은분들이 단점이라 생각하는\\n유선밖에되지않는다라는것도\\n저는 한곳에 두고 쭉 꼽아놓고 관리해서 좋아요.\\n들고다니면서 공기질 미세먼지 체크하고 신경쓰고\\n싶지는않거든요.\\n충분히 다른어플로 알수있고 모든공간을 컨트롤하고싶진\\n않아요.\\n\\n오늘같이 미세먼지 나쁜날 환기를안하니\\n화학물질 수치가 엄청높네요.\\n바깥공기는 안좋지만\\n3시경 짧게환기하니\\n수치가 뚝떨어져요.\\n대신 초미세는 쭉 올라요. 그래프로 한눈에보이구요.\\n하지만 문닫고 공청기돌리니 금방 수치회복하구요.\\n역시 화학물질배출은 환기가 답인가봐요.\\n \\n집에따로 환풍시설이 없어서 환기타임 언제나\\n전전긍긍하는데. \\n적당히 조절할수있게 우리집 공기관리 도움받아서\\n너무좋으네요.</td>\n",
       "      <td>미세먼지 측정기 사면 고살 정신 폐해 구입 미세먼지 집안 관리 걱정 웨어 민트 측정기 컬리 온도 습도 미세먼지 화학물질 집안 기질 체적 측정 핸드폰 연동 지금 어떻다 집착 정도 도움 게다가 많다 단점 생각 유선 꼽아놓 관리 좋다 기질 미세먼지 체크 신경 충분하다 어플 공간 컨트롤 오늘 미세먼지 나쁘다 환기 화학물질 수치 높다 바깥 공기 안좋다 짧다 환기 수치 대신 미세 그래프 한눈 청기 금방 수치 회복하다 역시 화학물질 배출 환기 시설 없다 환기 타임 전전긍긍 적당하다 조절 우리 공기 관리 도움 좋다</td>\n",
       "    </tr>\n",
       "    <tr>\n",
       "      <th>3</th>\n",
       "      <td>싱싱한 전복으로 만든 전복 크림 누들떡볶이~</td>\n",
       "      <td>산소포장으로 싱싱하게 와서 바로 손질해서 먹었어요 크기는 왼쪽이 소, 오른쪽이 중 사이즈인데 비교해봤을때 아주 큰차이는 없어요 그만큼 소짜리도 그리 작지 않아서 괜찮더라구요\\n\\n\\n유튜브에서 먹방보다가 ㅎㅎ 도로시님이 드신 요리보고 따라해봤어요.\\n\\n준비물:불린 중국당면,크림소스,우유,후추,젓가락떡,새우,전복,양파,청양고추\\n\\n올리브유를 두르고 양파,새우,손질한 전복을 같이 볶아줍니다. 새우 색이 변할 때 우유 200~250ml정도와 크림소스를 듬뿍 넣어주고 해동시킨 젓가락 떡과 미리 불려둔 중국당면을 넣어줍니다.\\n\\n*중국당면은 조리시 미리 뜨거운물에 데쳐도 되지만 찬물에 반나절 불려두는게 더 쫄깃하고 맛있어요.\\n\\n느끼하지않게 후추를 조금 뿌려주고 약불에 5분~7분정도 끓입니다. 너무 오래끓여도 당면이나 떡의 쫄깃함이 사라지니 주의!\\n다 끓으면 불을끄고 위에 미리 썰어둔 청양고추를 넣어먹으면 돼요\\n\\n 전복죽이나 전복버터구이말고 뭐할까하다가 유튜브에서 보고 바로 해봤는데 정말 맛있어요 크림소스랑 전복이랑 생각외로 정말 잘어울리고 당면,떡, 전복 모두 쫄깃한 식감이 일품이에요~~\\n위에 청양고추를 썰어넣어선지 느끼하지않아 더욱 입맛에 맞았어요ㅎㅎ</td>\n",
       "      <td>산소 포장 싱싱하다 바로 손질 크기 왼쪽 오른쪽 사이즈 비교 아주 없다 리도 작다 괜찮다 유튜브 먹방 도로시 요리 보고 준비물 중국 당면 크림소스 우유 후추 젓가락 새우 전복 양파 청양고추 올리브유 양파 새우 손질 전복 새우 변하다 우유 정도 크림소스 듬뿍 해동 젓가락 미리 중국 당면 중국 당면 조리 미리 뜨겁다 찬물 반나절 쫄깃 맛있다 느끼하다 후추 조금 당면 쫄깃함 주의 미리 청양고추 전복죽 전복 버터 구이 유튜브 보고 바로 정말 맛있다 크림소스 전복 생각 외로 정말 당면 전복 모두 쫄깃 식감 일품 청양고추 선지 느끼하다 더욱 입맛</td>\n",
       "    </tr>\n",
       "    <tr>\n",
       "      <th>4</th>\n",
       "      <td>파우더라 더 먹기 좋아요 ! 편리한 아침식사</td>\n",
       "      <td>아침마다 오트밀과 귀리가루를 번갈아 가며 먹고 있어요. \\r\\n오버나이트 오트밀을 좋아하긴 하지만 밤마다 만드는게 가끔은 귀찮을 때도 있어서 컬리에서 귀리가루까지 구매해 \\r\\n하루하루 번갈아가며 먹습니다. 밀싹은 좋다는 이야기 알고 있었고 최근 운동을 시작했고 환절기라 영양소가 필요해 \\r\\n 꼭 먹어야겠다 생각했지만  주스로 구매하자니 소비하는 양과 비용도 크고 무엇보다 요즘 건강주스에 대한 말이 많아서 구매가 좀 꺼려지는 시점 이었어요. \\r\\n그러던 중 컬리에서 요녀석을 찾게 되었고, 고마운 후기들 몇 번 정독하고 구매했습니다. \\r\\n\\r\\n과일과 채소로 스무디만들어 갈아마시면 더 좋겠지만 아직까지는 그렇게 부지런하진 못했고요 ㅠ ㅋㅋ\\r\\n지금은 귀리우유를 만들어 먹거나 오버나이트 오트밀을 만들 때 1스푼씩 넣어주고 있습니다. \\r\\n동결건조 방식도 마음에 들고 무엇보다 먹기 편해서 챙기기 정말 좋아요. \\r\\n마시는 식감이 영 성에 안차면 크랜베리, 블루베리 등 건과일 넣어서 같이 먹어주고 있어요. \\r\\n지금 제품 정보를 다시보니 요거트랑 같이 먹을 때 시너지 효과가 난다니 다음에는 꼭 요거트도 섞어서 먹어야겠네요, \\r\\n\\r\\n\\r\\n\\r\\n</td>\n",
       "      <td>아침 오트밀 귀리 가루 번갈아 오버 나이트 오트밀 좋아하다 가끔 귀찮다 컬리 귀리 가루 구매 하루하루 번갈아 밀싹 좋다 이야기 최근 운동 시작 환절기 영양소 필요하다 생각 주스 구매 소비 비용 무엇 요즘 건강 주스 대한 많다 구매 시점 그렇다 컬리 녀석 고맙다 후기 정독 구매 과일 채소 스무디 좋다 부지런하다 지금 귀리 우유 오버 나이트 오트밀 스푼 동결 건조 방식 마음 무엇 먹기 편하다 정말 좋다 식감 크랜베리 블루베리 과일 지금 제품 정보 다시 요거트 시너지 효과 다음 요거트</td>\n",
       "    </tr>\n",
       "    <tr>\n",
       "      <th>...</th>\n",
       "      <td>...</td>\n",
       "      <td>...</td>\n",
       "      <td>...</td>\n",
       "    </tr>\n",
       "    <tr>\n",
       "      <th>95</th>\n",
       "      <td>두유 그릭 요거트 만들기</td>\n",
       "      <td>고소한 두유 그릭 요거트 만들기\\n\\n매일두유는 그냥 먹어도 맛있지만,\\n요거트로 만들어도 고소함은 유지되고 콜레스테롤 걱정없이 먹을 수 있어요!\\n저는 특히 꾸덕한 그릭 요거트를 좋아해서\\n두유 그릭 요거트를 만들어 봤는데요, \\n\\n1. 발효유 150ml 와 두유 850ml를 넣고 요거트 메이커로 3시간~5시간 정도 발효시킨다. \\n- 요구르트는 종류 상관없이 플레인 요구르트 사용하시면 됩니다.\\n- 발효시간은 원하는 질감 또는 맛에 따라 조절이 가능한데, 저는 신맛을 줄이고 싶어서 발효시간을 최소화 했어요.(3시간) \\n\\n2. 만들어진 요거트를 면보에 걸러 채반에 밭친 후, 12시간 정도 냉장고에 넣어 유청을 빼준다.\\n- 우유로 만들었을 때보다 살짝 더 노란 유청이 나와요.\\n- 저는 냉장고가 좁아서 생수 페트병을 잘라서 채반 대신 사용했어요. \\n\\n3. 꾸덕하게 걸러진 그릭요거트에 그래놀라, 건과일 등 토핑을 추가해서 먹는다. \\n\\n이렇게 만들면 3~4번 정도는 먹을 양이 나와요.\\n번거롭고 시간이 들긴 하지만 어렵지 않아\\n한 번 도전해보시는 것도 추천드려요~</td>\n",
       "      <td>고소하다 두유 그릭 요거트 만들기 두유 그냥 맛있다 요거트 고소하다 유지 콜레스테롤 걱정 그릭 요거트 좋아하다 두유 그릭 요거트 발효 두유 요거트 메이커 정도 발효 요구르트 종류 상관없다 플레인 요구르트 사용 발효 시간 원하다 질감 조절 가능하다 신맛 발효 시간 최소 요거트 면보 채반 밭친 정도 냉장고 유청 우유 살짝 노랗다 유청 냉장고 좁다 생수 페트병 채반 대신 사용 그릭 요거트 그렇다 과일 토핑 추가 정도 번거롭다 시간 어렵다 도전 추천</td>\n",
       "    </tr>\n",
       "    <tr>\n",
       "      <th>96</th>\n",
       "      <td>레전드 드립 커피 선물세트 내돈내산 구매  리얼 후기!</td>\n",
       "      <td>진한 핸드 드립 커피를 집이나 사무실에서 간편하게 즐길수 있는 제품이네요 :)\\r\\n\\r\\n마켓컬리를 돌아보다 우연히 발견하게된 레전드 드립 커피!!\\r\\n\\r\\n사실 생소한 브랜드라 구매하기가 꺼려 졌는데 인터넷을 뒤져보니 그 유명한 \"G7\"의 프리미엄 브랜드가 아닌가!!\\r\\n\\r\\n평소에 향이 좋아 자주 구매하던 제품이라 믿고 주저 없이 구매하게 되었는데 찐 잘한듯 싶었습니다~^^\\r\\n\\r\\n제품에 대해 좀 얘기 하자면,\\r\\n\\r\\n[편리성]\\r\\n간편하게 드립백을 머그컵에 걸어 놓은 후에 정수기 따듯한 물만 부어주면 끝! (단 물조절은 필수! 까딱하단 넘칠수 있다는점!! ^^)\\r\\n[퀄리티]\\r\\n스*벅스에서 사먹는 커피와 견주어도 전혀 손색이 없는 구수한 향과 산미의 조화가 아주 훌륭한 제품! \\r\\n[가성비]\\r\\n드립커피 1팩에 10개씩 들어있어 가성비 짱! \\r\\n\\r\\n선물하려고 5세트 구매 했는데 한세트는 내가 먹는 걸로~ 한달은 든든 하겠네요~ ㅋㅋ\\r\\n\\r\\n나머지는 지인에게 선물했는데 반응 좋네요. 다음에 선물용으로 재구매 의사 있습니다!!\\r\\n\\r\\n\\r\\n\\r\\n \\r\\n\\r\\n</td>\n",
       "      <td>진하다 핸드 드립 커피 사무실 간편하다 제품 마켓 컬리 발견 레전드 드립 커피 사실 생소하다 브랜드 구매 인터넷 유명하다 프리미엄 브랜드 아니다 평소 좋다 자주 구매 제품 주저 구매 제품 대해 얘기 하자 편리 간편하다 드립 머그컵 정수기 부다 조절 필수 까딱 하단 넘치다 퀄리티 벅스 커피 견주어 전혀 손색 없다 구수하다 산미 조화 아주 훌륭하다 제품 가성 드립커피 가성 선물 세트 구매 세트 나머지 지인 선물 반응 좋다 다음 선물 의사</td>\n",
       "    </tr>\n",
       "    <tr>\n",
       "      <th>97</th>\n",
       "      <td>일루마 후기</td>\n",
       "      <td>물론 여기서 이미 분유를 구매하신다는 것은 이 분유를 먹이고 계시다는 거겠죠~혹시라도 그렇지 않은 분들이 보실 수 있으니 적어볼께요! 저희 아기는 태반 조기박리로 40일이나 일찍 세상에 나왔구요...그래서 처음에 컨디션이 많이 안좋았어요\\n니큐에 3주 있고 버틴게 대단하다고 하실만큼요!!\\n저도 중환자실에 오래 있어서 그런지 모유가 호르몬 분비가 안되서 안나오더라구요 겨우 유축해서 한달 먹이고 분유를 골랐는데요\\n일루마로 골랐어요 그나마 모유랑 성분이 비슷해서요\\n아기한테 미안하기도 하고ㅠ솔직히 분유가 제일 비싼잖아요\\n그래서 반신반의 했는데 진짜 좋아요 비싼 이유가 있어요\\n아이가 살이 100g씩 늘었구요 배앓이 한번을 안했어요\\n80일만에 백분위 따라 잡아서 만삭아 평균에 돌입했어요\\n(태어날때는 그래프에도 없었어요...마이너스라..퇴원후에도요)\\n분유가 단맛이 거의 없고 철비릿한 그런 향이 나는데요\\n달지 않아서 좋앗어요 그리고 엄청 입자가 고와서 잘 녹아요\\n혹시라도 고민하신다면 진짜 돈이 아깝지 않다고 말씀드리고 싶네요</td>\n",
       "      <td>여기 분유 구매 분유 먹이 계시다 혹시 그렇다 저희 아기 태반 기박 일찍 세상 처음 컨디션 안좋다 대단하다 만큼 중환자실 그렇다 모유 호르몬 분비 안되다 겨우 유축 먹이 분유 일루 마로 모유 성분 비슷하다 아기 미안하다 솔직하다 분유 제일 비싸다 반신반의 진짜 좋다 비싸다 이유 아이 살이 배앓이 한번 분위 만삭 평균 돌입 그래프 없다 마이너스 퇴원 분유 단맛 거의 없다 철비릿 그렇다 좋다 입자 혹시 고민 진짜 아깝다</td>\n",
       "    </tr>\n",
       "    <tr>\n",
       "      <th>98</th>\n",
       "      <td>자연산 대왕 바지락 넣어 만든 봉골레파스타</td>\n",
       "      <td>봉골레파스타 만들어먹을 재료 주문하다\\n발견한 자연산 남해안 바지락 대 사이즈!!\\n후기에서 종종 깨진게 발견된다는 글 읽고\\n고민하다가 그래도 쫄깃한 바지락 먹고 싶어서\\n주문했는데~~이게 왠일!!! 한개도 안깨지고\\n실싱한 바지락이 왔어요^^\\n알은 또 어찌나 굵은지~~큼지막해서 군침이 절로~\\n함께온 포장용기에 다시한번 해감을 하고\\n파스타 재료를 준비!!\\n\\n1. 후라이팬에 올리브유를 두르고 마늘을 볶는다\\n2. 마늘이 익으면 페퍼론치노 5-6개를 넣고 볶는다\\n3. 볶는 사이에 스파게티 면을 삶는다\\n4. 바지락을 넣고 볶다가 뚜껑을 덮어 익힌다\\n5. 청주를 1-2스푼 넣어 비린내를 잡아준다\\n6. 잘익은 면을 넣고 함께 볶아 그릇에 담아낸다\\n\\n과정은 너무 간단하죠?? 바지락에서 나온\\n해물육수덕에 따로 간은 안해도 되고 딱 좋아요\\n혹시 짜면 면수를 버리지말고 조금 넣어 \\n간을 맞추면 됩니다!!\\n\\n이번 봉골레파스타는 바지락 역할이 컸어요~\\n또 주문해서 칼국수도 만들어 먹으려구요\\n싱싱하고 맛있는 자연산 남해안 바지락 추천입니다</td>\n",
       "      <td>봉골레 파스타 재료 주문 발견 자연 남해안 바지락 사이즈 후기 종종 발견 고민 쫄깃 바지락 주문 개도 실싱 바지락 굵다 큼지막하다 군침 절로 포장 용기 다시 한번 해감 파스타 재료 준비 후라이팬 올리브유 마늘 마늘 페퍼 치노 사이 스파게티 바지락 뚜껑 청주 스푼 비리다 그릇 과정 간단하다 바지락 해물 수덕 안해 좋다 혹시 면수 조금 이번 봉골레 파스타 바지락 역할 주문 칼국수 싱싱하다 맛있다 자연 남해안 바지락 추천 이다</td>\n",
       "    </tr>\n",
       "    <tr>\n",
       "      <th>99</th>\n",
       "      <td>8개월 아기 첫 오이</td>\n",
       "      <td>이유식에 오이를 넣으려고 주문했어요. \\n\\n아기들이 오이 들어간 이유식을 별로 안좋아한다는 이야기가 많아서 미루고 미루다가 샀네요~\\n\\n마트 유기농코너에 오이가 매번 없어서 못샀는데\\n역시 컬리에 있네요^^ \\n\\n크기는 약간 작은편이고요\\n저는 싱싱하고 아삭한 오이로 잘 왔어요. \\n한파라 걱정했는데 다행히 얼지도 않았고요~\\n\\n씻어서 껍질 벗겨 이유식용은 작게 다져 사용했어요. \\n오이향을 싫어할까봐 부추와 당근, 소고기를 함께 넣은 메뉴로 이유식을 만들었어요. \\n아기가 잘 안먹을까봐 걱정했는데 평소와 다름없이 너무 잘 먹네요~^^\\n\\n이유식에 넣으실분들은 저처럼 부추같이 오이향이 좀 상쇄되는 재료를 함께 넣으시면 좋을것 같아요. \\n\\n이유식하고 남은 오이는 슬라이스해서 소금에 살짝 절였다가 헹궈서 물기 짜내고 크래미 샐러드에 넣었어요. \\n마요네즈의 느끼한맛을 절인 오이가 잡아줘서 저는 꼭 오이를 넣어요^^\\n\\n하나 남은 오이는 오이 무침 해야겠네요~\\n\\n이유식도 만들고 남으면 반찬도 해먹고\\n컬리 덕분에 이유식 재료 걱정이 없어 좋아요^^</td>\n",
       "      <td>이유식 오이 주문 아기 오이 이유식 별로 좋아하다 이야기 많다 마트 유기농 코너 오이 매번 없다 역시 컬리 크기 약간 작다 편이 고요 싱싱하다 오이 한파 걱정 다행하다 껍질 이유식 작다 사용 이향 싫어하다 부추 당근 소고기 메뉴 이유식 아기 걱정 평소 이유식 부추 이향 상쇄되 재료 좋다 같다 이유식 오이 라이스 소금 살짝 헹궈 물기 래미 샐러드 마요네즈 느끼하다 오이 오이 하나 오이 오이 이유식 반찬 해먹 컬리 덕분 이유식 재료 걱정 없다 좋다</td>\n",
       "    </tr>\n",
       "  </tbody>\n",
       "</table>\n",
       "<p>100 rows × 3 columns</p>\n",
       "</div>"
      ],
      "text/plain": [
       "                           subject  \\\n",
       "0        생으로 먹어도 익혀 먹어도 모두 어울리는 채소   \n",
       "1                         재구매했어요^^   \n",
       "2                              솔직히   \n",
       "3         싱싱한 전복으로 만든 전복 크림 누들떡볶이~   \n",
       "4         파우더라 더 먹기 좋아요 ! 편리한 아침식사   \n",
       "..                             ...   \n",
       "95                   두유 그릭 요거트 만들기   \n",
       "96  레전드 드립 커피 선물세트 내돈내산 구매  리얼 후기!   \n",
       "97                          일루마 후기   \n",
       "98         자연산 대왕 바지락 넣어 만든 봉골레파스타   \n",
       "99                     8개월 아기 첫 오이   \n",
       "\n",
       "                                                                                                                                                                                                                                                                                                                                                                                                                                                                                                                                                                                                                          doc  \\\n",
       "0                                감자, 무, 고구마, 배 모두 섞인 맛이 나요.\\r\\n뿌리식물이라 반찬용 채소라고 생각했는데 생으로 먹어도 상큼하고 좋구요. 구워먹어도 달달하니 맛있어요. 맘 놓고 과일이나 감자, 고구마 못드시는 당뇨환자, 저탄고지 다이어터, 당질제한식 하시는 분들께 강추입니다.\\r\\n\\r\\n배처럼 잘라서 씹어먹어도 좋구요, 얇게 잘라서 잎채소와 샐러드로 먹어도 좋아요. 낯선 재료라 레시피를 검색했는데, 익히지 않고 먹는 레시피가 많아서 생으로 먹는 것이 훨 맛있나? 싶었지만... 구워 먹어도 맛있어요. \\r\\n\\r\\n저는 올리브유, 파프리카가루, 허브솔트에 버무려 두고 40분 정도 후에 팬에서 약불로 말랑해질 때까지 구웠어요. \\r\\n처음에는 웨지감자 마냥 짭짤하게 먹으려고 했는데, 이건 자체에 단맛이 있어서 웨지감자처럼 짭짤한 시즈닝하곤 안어울려요ㅋㅋㅋ 별로 간이 배지도 않구요. 뒤늦게 메이플시럽을 뿌려먹었더니 어울리고 좋더라구요. 익혀서 달달하게 간식용으로 드시기에 좋습니다. 고구마맛탕 같은 거 드시고 싶으신데 다이어트, 혈당 때문에 못드시는 분들은 여기다 시럽 대신에 대체감미료 사용해서 드시면 진짜 좋을 것 같아요.    \n",
       "1                                                       마늘빵을 워낙 좋아해서 마늘빵은 왠만하면 따지지않고 사는편이에요~\\n후기보고 조금 걱정했었는데 취향에 따라 조금 갈릴순 있을것 같아요!\\n시중에 바삭바삭함을 넘어서 딱딱하기까지 한 바게트는 많이 먹어봤는데 이건 아주 촉촉해요~\\n저는 그래서 더 마음에 들었고, 빵 사이사이마다 버터랑\\n마늘이 듬뿍듬뿍이라 아, 이런게 진짜 마늘빵이구나 싶었어요 ㅎㅎㅎ\\n\\n빵이 다 잘려져있지않고 끝부분은 사진처럼 컷팅이 덜\\n되어있는데 그래서 빵이 떨어져있지않고 버터랑 마늘이\\n더 잘흡수되고 촉촉한거 같아요!\\n보통 마늘빵을 사먹으면 마늘향이 살짝 나거나\\n어떤부분은 거의 바게트만 먹게되는 경우도 있는데 이건 어느 부분을 먹든 맛있어요^^\\n\\n사이즈는 처음 받아봤을땐 생각보다 작다 싶었는데 전 한번에 먹기에 많아서 남은건 냉동실에 보관했다가 기름 두르지 않은 팬에 살짝 데워먹었더니 맛있더라구요~\\n마켓컬리에서는 전자레인지나 토스트기에 데워먹으라고 나와있어서 다음번엔 전자레인지도 한번 이용해봐야겠어요~\\n\\n식전빵이나 식후 디저트로도 좋고, 간식으로 먹어도 너무 맛있는 마늘바게트였어요!   \n",
       "2                     미세먼지측정기 사면 모르고살때보다 정신적으로 더 피폐해질까봐 구입하기 망설였어요.\\n\\n그런데 밖의미세먼지보다 집안공기관리는 잘되고있을까 \\n걱정이되던 찰라에  어웨어 민트 공기측정기를 컬리에서\\n봤지요.\\n\\n온도.습도.미세먼지.화학물질\\n집안의 공기질을 총체적으로 측정할수 있고 핸드폰으로\\n연동이되어 지금 어떤지 집착하지않을정도로\\n딱 그만큼 아는게 힘이될만큼 도움이되요.\\n\\n게다가 많은분들이 단점이라 생각하는\\n유선밖에되지않는다라는것도\\n저는 한곳에 두고 쭉 꼽아놓고 관리해서 좋아요.\\n들고다니면서 공기질 미세먼지 체크하고 신경쓰고\\n싶지는않거든요.\\n충분히 다른어플로 알수있고 모든공간을 컨트롤하고싶진\\n않아요.\\n\\n오늘같이 미세먼지 나쁜날 환기를안하니\\n화학물질 수치가 엄청높네요.\\n바깥공기는 안좋지만\\n3시경 짧게환기하니\\n수치가 뚝떨어져요.\\n대신 초미세는 쭉 올라요. 그래프로 한눈에보이구요.\\n하지만 문닫고 공청기돌리니 금방 수치회복하구요.\\n역시 화학물질배출은 환기가 답인가봐요.\\n \\n집에따로 환풍시설이 없어서 환기타임 언제나\\n전전긍긍하는데. \\n적당히 조절할수있게 우리집 공기관리 도움받아서\\n너무좋으네요.   \n",
       "3   산소포장으로 싱싱하게 와서 바로 손질해서 먹었어요 크기는 왼쪽이 소, 오른쪽이 중 사이즈인데 비교해봤을때 아주 큰차이는 없어요 그만큼 소짜리도 그리 작지 않아서 괜찮더라구요\\n\\n\\n유튜브에서 먹방보다가 ㅎㅎ 도로시님이 드신 요리보고 따라해봤어요.\\n\\n준비물:불린 중국당면,크림소스,우유,후추,젓가락떡,새우,전복,양파,청양고추\\n\\n올리브유를 두르고 양파,새우,손질한 전복을 같이 볶아줍니다. 새우 색이 변할 때 우유 200~250ml정도와 크림소스를 듬뿍 넣어주고 해동시킨 젓가락 떡과 미리 불려둔 중국당면을 넣어줍니다.\\n\\n*중국당면은 조리시 미리 뜨거운물에 데쳐도 되지만 찬물에 반나절 불려두는게 더 쫄깃하고 맛있어요.\\n\\n느끼하지않게 후추를 조금 뿌려주고 약불에 5분~7분정도 끓입니다. 너무 오래끓여도 당면이나 떡의 쫄깃함이 사라지니 주의!\\n다 끓으면 불을끄고 위에 미리 썰어둔 청양고추를 넣어먹으면 돼요\\n\\n 전복죽이나 전복버터구이말고 뭐할까하다가 유튜브에서 보고 바로 해봤는데 정말 맛있어요 크림소스랑 전복이랑 생각외로 정말 잘어울리고 당면,떡, 전복 모두 쫄깃한 식감이 일품이에요~~\\n위에 청양고추를 썰어넣어선지 느끼하지않아 더욱 입맛에 맞았어요ㅎㅎ   \n",
       "4   아침마다 오트밀과 귀리가루를 번갈아 가며 먹고 있어요. \\r\\n오버나이트 오트밀을 좋아하긴 하지만 밤마다 만드는게 가끔은 귀찮을 때도 있어서 컬리에서 귀리가루까지 구매해 \\r\\n하루하루 번갈아가며 먹습니다. 밀싹은 좋다는 이야기 알고 있었고 최근 운동을 시작했고 환절기라 영양소가 필요해 \\r\\n 꼭 먹어야겠다 생각했지만  주스로 구매하자니 소비하는 양과 비용도 크고 무엇보다 요즘 건강주스에 대한 말이 많아서 구매가 좀 꺼려지는 시점 이었어요. \\r\\n그러던 중 컬리에서 요녀석을 찾게 되었고, 고마운 후기들 몇 번 정독하고 구매했습니다. \\r\\n\\r\\n과일과 채소로 스무디만들어 갈아마시면 더 좋겠지만 아직까지는 그렇게 부지런하진 못했고요 ㅠ ㅋㅋ\\r\\n지금은 귀리우유를 만들어 먹거나 오버나이트 오트밀을 만들 때 1스푼씩 넣어주고 있습니다. \\r\\n동결건조 방식도 마음에 들고 무엇보다 먹기 편해서 챙기기 정말 좋아요. \\r\\n마시는 식감이 영 성에 안차면 크랜베리, 블루베리 등 건과일 넣어서 같이 먹어주고 있어요. \\r\\n지금 제품 정보를 다시보니 요거트랑 같이 먹을 때 시너지 효과가 난다니 다음에는 꼭 요거트도 섞어서 먹어야겠네요, \\r\\n\\r\\n\\r\\n\\r\\n   \n",
       "..                                                                                                                                                                                                                                                                                                                                                                                                                                                                                                                                                                                                                        ...   \n",
       "95                                                  고소한 두유 그릭 요거트 만들기\\n\\n매일두유는 그냥 먹어도 맛있지만,\\n요거트로 만들어도 고소함은 유지되고 콜레스테롤 걱정없이 먹을 수 있어요!\\n저는 특히 꾸덕한 그릭 요거트를 좋아해서\\n두유 그릭 요거트를 만들어 봤는데요, \\n\\n1. 발효유 150ml 와 두유 850ml를 넣고 요거트 메이커로 3시간~5시간 정도 발효시킨다. \\n- 요구르트는 종류 상관없이 플레인 요구르트 사용하시면 됩니다.\\n- 발효시간은 원하는 질감 또는 맛에 따라 조절이 가능한데, 저는 신맛을 줄이고 싶어서 발효시간을 최소화 했어요.(3시간) \\n\\n2. 만들어진 요거트를 면보에 걸러 채반에 밭친 후, 12시간 정도 냉장고에 넣어 유청을 빼준다.\\n- 우유로 만들었을 때보다 살짝 더 노란 유청이 나와요.\\n- 저는 냉장고가 좁아서 생수 페트병을 잘라서 채반 대신 사용했어요. \\n\\n3. 꾸덕하게 걸러진 그릭요거트에 그래놀라, 건과일 등 토핑을 추가해서 먹는다. \\n\\n이렇게 만들면 3~4번 정도는 먹을 양이 나와요.\\n번거롭고 시간이 들긴 하지만 어렵지 않아\\n한 번 도전해보시는 것도 추천드려요~   \n",
       "96                            진한 핸드 드립 커피를 집이나 사무실에서 간편하게 즐길수 있는 제품이네요 :)\\r\\n\\r\\n마켓컬리를 돌아보다 우연히 발견하게된 레전드 드립 커피!!\\r\\n\\r\\n사실 생소한 브랜드라 구매하기가 꺼려 졌는데 인터넷을 뒤져보니 그 유명한 \"G7\"의 프리미엄 브랜드가 아닌가!!\\r\\n\\r\\n평소에 향이 좋아 자주 구매하던 제품이라 믿고 주저 없이 구매하게 되었는데 찐 잘한듯 싶었습니다~^^\\r\\n\\r\\n제품에 대해 좀 얘기 하자면,\\r\\n\\r\\n[편리성]\\r\\n간편하게 드립백을 머그컵에 걸어 놓은 후에 정수기 따듯한 물만 부어주면 끝! (단 물조절은 필수! 까딱하단 넘칠수 있다는점!! ^^)\\r\\n[퀄리티]\\r\\n스*벅스에서 사먹는 커피와 견주어도 전혀 손색이 없는 구수한 향과 산미의 조화가 아주 훌륭한 제품! \\r\\n[가성비]\\r\\n드립커피 1팩에 10개씩 들어있어 가성비 짱! \\r\\n\\r\\n선물하려고 5세트 구매 했는데 한세트는 내가 먹는 걸로~ 한달은 든든 하겠네요~ ㅋㅋ\\r\\n\\r\\n나머지는 지인에게 선물했는데 반응 좋네요. 다음에 선물용으로 재구매 의사 있습니다!!\\r\\n\\r\\n\\r\\n\\r\\n \\r\\n\\r\\n   \n",
       "97                                                                             물론 여기서 이미 분유를 구매하신다는 것은 이 분유를 먹이고 계시다는 거겠죠~혹시라도 그렇지 않은 분들이 보실 수 있으니 적어볼께요! 저희 아기는 태반 조기박리로 40일이나 일찍 세상에 나왔구요...그래서 처음에 컨디션이 많이 안좋았어요\\n니큐에 3주 있고 버틴게 대단하다고 하실만큼요!!\\n저도 중환자실에 오래 있어서 그런지 모유가 호르몬 분비가 안되서 안나오더라구요 겨우 유축해서 한달 먹이고 분유를 골랐는데요\\n일루마로 골랐어요 그나마 모유랑 성분이 비슷해서요\\n아기한테 미안하기도 하고ㅠ솔직히 분유가 제일 비싼잖아요\\n그래서 반신반의 했는데 진짜 좋아요 비싼 이유가 있어요\\n아이가 살이 100g씩 늘었구요 배앓이 한번을 안했어요\\n80일만에 백분위 따라 잡아서 만삭아 평균에 돌입했어요\\n(태어날때는 그래프에도 없었어요...마이너스라..퇴원후에도요)\\n분유가 단맛이 거의 없고 철비릿한 그런 향이 나는데요\\n달지 않아서 좋앗어요 그리고 엄청 입자가 고와서 잘 녹아요\\n혹시라도 고민하신다면 진짜 돈이 아깝지 않다고 말씀드리고 싶네요   \n",
       "98                                                                봉골레파스타 만들어먹을 재료 주문하다\\n발견한 자연산 남해안 바지락 대 사이즈!!\\n후기에서 종종 깨진게 발견된다는 글 읽고\\n고민하다가 그래도 쫄깃한 바지락 먹고 싶어서\\n주문했는데~~이게 왠일!!! 한개도 안깨지고\\n실싱한 바지락이 왔어요^^\\n알은 또 어찌나 굵은지~~큼지막해서 군침이 절로~\\n함께온 포장용기에 다시한번 해감을 하고\\n파스타 재료를 준비!!\\n\\n1. 후라이팬에 올리브유를 두르고 마늘을 볶는다\\n2. 마늘이 익으면 페퍼론치노 5-6개를 넣고 볶는다\\n3. 볶는 사이에 스파게티 면을 삶는다\\n4. 바지락을 넣고 볶다가 뚜껑을 덮어 익힌다\\n5. 청주를 1-2스푼 넣어 비린내를 잡아준다\\n6. 잘익은 면을 넣고 함께 볶아 그릇에 담아낸다\\n\\n과정은 너무 간단하죠?? 바지락에서 나온\\n해물육수덕에 따로 간은 안해도 되고 딱 좋아요\\n혹시 짜면 면수를 버리지말고 조금 넣어 \\n간을 맞추면 됩니다!!\\n\\n이번 봉골레파스타는 바지락 역할이 컸어요~\\n또 주문해서 칼국수도 만들어 먹으려구요\\n싱싱하고 맛있는 자연산 남해안 바지락 추천입니다   \n",
       "99                                                           이유식에 오이를 넣으려고 주문했어요. \\n\\n아기들이 오이 들어간 이유식을 별로 안좋아한다는 이야기가 많아서 미루고 미루다가 샀네요~\\n\\n마트 유기농코너에 오이가 매번 없어서 못샀는데\\n역시 컬리에 있네요^^ \\n\\n크기는 약간 작은편이고요\\n저는 싱싱하고 아삭한 오이로 잘 왔어요. \\n한파라 걱정했는데 다행히 얼지도 않았고요~\\n\\n씻어서 껍질 벗겨 이유식용은 작게 다져 사용했어요. \\n오이향을 싫어할까봐 부추와 당근, 소고기를 함께 넣은 메뉴로 이유식을 만들었어요. \\n아기가 잘 안먹을까봐 걱정했는데 평소와 다름없이 너무 잘 먹네요~^^\\n\\n이유식에 넣으실분들은 저처럼 부추같이 오이향이 좀 상쇄되는 재료를 함께 넣으시면 좋을것 같아요. \\n\\n이유식하고 남은 오이는 슬라이스해서 소금에 살짝 절였다가 헹궈서 물기 짜내고 크래미 샐러드에 넣었어요. \\n마요네즈의 느끼한맛을 절인 오이가 잡아줘서 저는 꼭 오이를 넣어요^^\\n\\n하나 남은 오이는 오이 무침 해야겠네요~\\n\\n이유식도 만들고 남으면 반찬도 해먹고\\n컬리 덕분에 이유식 재료 걱정이 없어 좋아요^^   \n",
       "\n",
       "                                                                                                                                                                                                                                                                                                            doc_cl  \n",
       "0                                         감자 고구마 모두 뿌리 식물 반찬 채소 생각 생으로 상큼 좋다 달달 맛있다 과일 감자 고구마 당뇨 환자 다이어터 당질 제한 강추 이다 좋다 얇다 잎채소 샐러드 좋다 낯선 재료 레시피 검색 레시피 많다 생으로 맛있다 맛있다 올리브유 파프리카 가루 허브 솔트 무려 정도 불로 말랑하다 처음 감자 마냥 짭짤하다 자체 단맛 감자 짭짤하다 별로 간이 배지 뒤늦다 메이플시럽 좋다 달달 간식 좋다 고구마 맛탕 같다 다이어트 혈당 때문 여기 시럽 대신 대체 감미료 사용 진짜 좋다 같다  \n",
       "1                                                   마늘빵 워낙 좋아하다 마늘빵 왠만하다 편이 후기 보고 조금 걱정 취향 조금 갈릴 같다 시중 바삭바삭하다 딱딱하다 바게트 아주 촉촉하다 마음 사이사이 버터 마늘 이렇다 진짜 마늘빵 부분 사진 컷팅 버터 마늘 흡수 촉촉하다 같다 보통 마늘빵 마늘 살짝 부분 거의 바게트 경우 부분 맛있다 사이즈 처음 생각 작다 한번 먹기 많다 냉동 보관 기름 살짝 맛있다 마켓 컬리 전자레인지 토스트 다음 전자레인지 한번 이용 식전 식후 디저트 좋다 간식 맛있다 마늘 바게트  \n",
       "2                       미세먼지 측정기 사면 고살 정신 폐해 구입 미세먼지 집안 관리 걱정 웨어 민트 측정기 컬리 온도 습도 미세먼지 화학물질 집안 기질 체적 측정 핸드폰 연동 지금 어떻다 집착 정도 도움 게다가 많다 단점 생각 유선 꼽아놓 관리 좋다 기질 미세먼지 체크 신경 충분하다 어플 공간 컨트롤 오늘 미세먼지 나쁘다 환기 화학물질 수치 높다 바깥 공기 안좋다 짧다 환기 수치 대신 미세 그래프 한눈 청기 금방 수치 회복하다 역시 화학물질 배출 환기 시설 없다 환기 타임 전전긍긍 적당하다 조절 우리 공기 관리 도움 좋다  \n",
       "3   산소 포장 싱싱하다 바로 손질 크기 왼쪽 오른쪽 사이즈 비교 아주 없다 리도 작다 괜찮다 유튜브 먹방 도로시 요리 보고 준비물 중국 당면 크림소스 우유 후추 젓가락 새우 전복 양파 청양고추 올리브유 양파 새우 손질 전복 새우 변하다 우유 정도 크림소스 듬뿍 해동 젓가락 미리 중국 당면 중국 당면 조리 미리 뜨겁다 찬물 반나절 쫄깃 맛있다 느끼하다 후추 조금 당면 쫄깃함 주의 미리 청양고추 전복죽 전복 버터 구이 유튜브 보고 바로 정말 맛있다 크림소스 전복 생각 외로 정말 당면 전복 모두 쫄깃 식감 일품 청양고추 선지 느끼하다 더욱 입맛  \n",
       "4                                   아침 오트밀 귀리 가루 번갈아 오버 나이트 오트밀 좋아하다 가끔 귀찮다 컬리 귀리 가루 구매 하루하루 번갈아 밀싹 좋다 이야기 최근 운동 시작 환절기 영양소 필요하다 생각 주스 구매 소비 비용 무엇 요즘 건강 주스 대한 많다 구매 시점 그렇다 컬리 녀석 고맙다 후기 정독 구매 과일 채소 스무디 좋다 부지런하다 지금 귀리 우유 오버 나이트 오트밀 스푼 동결 건조 방식 마음 무엇 먹기 편하다 정말 좋다 식감 크랜베리 블루베리 과일 지금 제품 정보 다시 요거트 시너지 효과 다음 요거트  \n",
       "..                                                                                                                                                                                                                                                                                                             ...  \n",
       "95                                                       고소하다 두유 그릭 요거트 만들기 두유 그냥 맛있다 요거트 고소하다 유지 콜레스테롤 걱정 그릭 요거트 좋아하다 두유 그릭 요거트 발효 두유 요거트 메이커 정도 발효 요구르트 종류 상관없다 플레인 요구르트 사용 발효 시간 원하다 질감 조절 가능하다 신맛 발효 시간 최소 요거트 면보 채반 밭친 정도 냉장고 유청 우유 살짝 노랗다 유청 냉장고 좁다 생수 페트병 채반 대신 사용 그릭 요거트 그렇다 과일 토핑 추가 정도 번거롭다 시간 어렵다 도전 추천  \n",
       "96                                                            진하다 핸드 드립 커피 사무실 간편하다 제품 마켓 컬리 발견 레전드 드립 커피 사실 생소하다 브랜드 구매 인터넷 유명하다 프리미엄 브랜드 아니다 평소 좋다 자주 구매 제품 주저 구매 제품 대해 얘기 하자 편리 간편하다 드립 머그컵 정수기 부다 조절 필수 까딱 하단 넘치다 퀄리티 벅스 커피 견주어 전혀 손색 없다 구수하다 산미 조화 아주 훌륭하다 제품 가성 드립커피 가성 선물 세트 구매 세트 나머지 지인 선물 반응 좋다 다음 선물 의사  \n",
       "97                                                                      여기 분유 구매 분유 먹이 계시다 혹시 그렇다 저희 아기 태반 기박 일찍 세상 처음 컨디션 안좋다 대단하다 만큼 중환자실 그렇다 모유 호르몬 분비 안되다 겨우 유축 먹이 분유 일루 마로 모유 성분 비슷하다 아기 미안하다 솔직하다 분유 제일 비싸다 반신반의 진짜 좋다 비싸다 이유 아이 살이 배앓이 한번 분위 만삭 평균 돌입 그래프 없다 마이너스 퇴원 분유 단맛 거의 없다 철비릿 그렇다 좋다 입자 혹시 고민 진짜 아깝다  \n",
       "98                                                                   봉골레 파스타 재료 주문 발견 자연 남해안 바지락 사이즈 후기 종종 발견 고민 쫄깃 바지락 주문 개도 실싱 바지락 굵다 큼지막하다 군침 절로 포장 용기 다시 한번 해감 파스타 재료 준비 후라이팬 올리브유 마늘 마늘 페퍼 치노 사이 스파게티 바지락 뚜껑 청주 스푼 비리다 그릇 과정 간단하다 바지락 해물 수덕 안해 좋다 혹시 면수 조금 이번 봉골레 파스타 바지락 역할 주문 칼국수 싱싱하다 맛있다 자연 남해안 바지락 추천 이다  \n",
       "99                                                      이유식 오이 주문 아기 오이 이유식 별로 좋아하다 이야기 많다 마트 유기농 코너 오이 매번 없다 역시 컬리 크기 약간 작다 편이 고요 싱싱하다 오이 한파 걱정 다행하다 껍질 이유식 작다 사용 이향 싫어하다 부추 당근 소고기 메뉴 이유식 아기 걱정 평소 이유식 부추 이향 상쇄되 재료 좋다 같다 이유식 오이 라이스 소금 살짝 헹궈 물기 래미 샐러드 마요네즈 느끼하다 오이 오이 하나 오이 오이 이유식 반찬 해먹 컬리 덕분 이유식 재료 걱정 없다 좋다  \n",
       "\n",
       "[100 rows x 3 columns]"
      ]
     },
     "execution_count": 32,
     "metadata": {},
     "output_type": "execute_result"
    }
   ],
   "source": [
    "%%time\n",
    "pd.set_option('max_colwidth', 1000)\n",
    "\n",
    "from custom_util import preprocess_doc\n",
    "\n",
    "best_df_cl = preprocess_doc(best_df)\n",
    "best_df_cl"
   ]
  },
  {
   "cell_type": "markdown",
   "id": "8b41870d-903a-40a5-9cbc-1c0744fb453e",
   "metadata": {},
   "source": [
    "## 5.2. Corpus: 원문, Query : 원문"
   ]
  },
  {
   "cell_type": "code",
   "execution_count": 33,
   "id": "2ca0e848-ef26-4c9e-b43b-695e5c64fe16",
   "metadata": {},
   "outputs": [
    {
     "data": {
      "application/vnd.jupyter.widget-view+json": {
       "model_id": "",
       "version_major": 2,
       "version_minor": 0
      },
      "text/plain": [
       "Batches:   0%|          | 0/2 [00:00<?, ?it/s]"
      ]
     },
     "metadata": {},
     "output_type": "display_data"
    }
   ],
   "source": [
    "corpus = best_df_cl['doc'].tolist()\n",
    "corpus_pd_review_embeddings = encode_multi_gpu_embedding(model, corpus)"
   ]
  },
  {
   "cell_type": "code",
   "execution_count": 34,
   "id": "fcb48a7d-86ff-4063-805a-b270d31d70fc",
   "metadata": {},
   "outputs": [
    {
     "data": {
      "application/vnd.jupyter.widget-view+json": {
       "model_id": "",
       "version_major": 2,
       "version_minor": 0
      },
      "text/plain": [
       "Batches:   0%|          | 0/1 [00:00<?, ?it/s]"
      ]
     },
     "metadata": {},
     "output_type": "display_data"
    },
    {
     "name": "stdout",
     "output_type": "stream",
     "text": [
      "\n",
      "======================\n",
      "Query: 가격 : 할인가 개당 3,720원 (2개 이상 구입 필수) 양 : 1인분으로 평범한 양,             점심에 먹는 것을 추천 조리시간 및 난이도 : 약 7분, 라면 끓이는 수준의 난이도 평가 : 시중에 파는             우동이 2천원대라는 점을 비교하면 3천원대로 나름 고급형 우동을 집에서 편하게 먹을 수 있어요.             어묵 사이즈는 여성 손바닥 정도이고, 한장 크게 들어가있어서 먹으면서 잘라 먹거나 베어 먹으면 됩니다.             국물과 어묵이 맛있어서 우동면 하나도 남기지 않고 다 먹었어요.             고추우동이라서 살짝 매콤한가 했는데 전혀 맵지 않고 칼칼함도 없이 시원하고 짭쫄한 맛입니다.             조리 방법은 뒷면에 상세하게 나와있어서 라면 끓일 줄 아는 분들이면 쉽게 따라할 수 있을거에요.             저는 설명서에 다른 채소와 함께 끓이면 더 맛있다고 하여 알배기배추 작은 거 추가해줬더니 씹는 맛이 일품이네요.             냉장고에 남는 채소 있으면 같이 끓이시는 것 추천! 맛있게 잘 먹었습니다 :)\n",
      "======================\n",
      "\n",
      "Top 3 most similar sentences in corpus:\n",
      "\n",
      "(Score: 0.8656) 요즘 코로나 때문에 외식하기 참 어렵죠?\n",
      "그래서 이번주에는 외식분위기를 느끼고자 ‘중식’으로 메뉴를 정하고 우리 가족이 충분히 먹을수 있는\n",
      "요리재료를 컬리에서 주문했어요.\n",
      "\n",
      "자 그럼 주문한 재료를 가지고 맛있게 요리를 만들어서 집에서 외식을 해 보아요~\n",
      "\n",
      "컬리에서 주문한 요리재료 : 찹쌀탕수육, 어향육슬, 닭다리살깐풍기, 초마짜장면\n",
      "  * 그리고 컬리에서 산 강대인 쌀과 [가농바이오]오메가에그1+등급 특란으로 볶음밥도 만들었어요.\n",
      "\n",
      "요리는 \n",
      " 1. 탕수육과 깐풍기를 오븐 또는 에어프라이어에 넣고 맛있게 데웁니다.\n",
      " 2. 탕수육 소스는 취향에 맞게  파인애플을 추가해서 새콤달콤하게 만들어 줍니다.\n",
      " 3. 깐풍기 소스를 만들어서 준비합니다.\n",
      " 4. 짜장면은 냄비에 넣고 끓여서 먹기 좋게 준비합니다.\n",
      "\n",
      "이렇게 준비가 끝나면 온 가족이 둘러앉아 맛있게 먹습니다. \n",
      "이때 탕수육이나 깐풍기는 부먹할지 찍먹할지 결정해서 드세요.\n",
      "이렇게 이번주 우리가족은 집에서 중국음식으로 맛있게 외식을 했네요^^\n",
      "(Score: 0.8617) 홋카이도산 무텐카 미소,\n",
      "실제로 받아보니 짠맛도 적당하고 달달해서 맛이 참 좋았어요~\n",
      "\n",
      "미소시루, 부추 된장무침, 꽃게 된장조림 등을 해먹어도 좋지만 저는 겨울철 귀한 백골뱅이를 이용해서 요리를 만들어 봤어요.\n",
      "\n",
      "미소를 넣은 백골뱅이 찜\n",
      "1. 해감이 따로 안 해도 되는 백골뱅이는 잘 씻어서 준비합니다.\n",
      "2. 물에 양파, 파, 무 등 집에 있는 채소를 넣고 청주를 넣어서 골뱅이 1kg기준 10분간 잘 삶아요.\n",
      "3. 마지막에 불을 약불로 줄이고 무텐카 미소를 한 큰술 넣어서 2분동안 불을 끄고 뜸을 들여요.\n",
      "\n",
      "이러면 정~말 맛있는 백골뱅이 찜이 완성됩니다~\n",
      "찜기나 압력솥에 하실 분들은 미소 자체를 2번 물에 풀어서 백골뱅이 위에 부어서 찌면 정말 야들야들해요.\n",
      "\n",
      "저는 삶아서 먹은 후 장아찌랑 올리브오일 절임도 만들어봤는데 간장게장이랑 같은 장으로 해서 담으시면 좋고, 간장게장 담고 남은 물에 양파만 좀 더 넣고 재워서 3-5일 후에 밥이랑 참기름에 비벼 드시면 정말 맛있어요 ^^\n",
      "\n",
      "무텐카 미소 백된장에 가까우면서 첨가물도 들어있지 않아서 안심되는 정말 맛있는 미소예요. \n",
      "적극추천 합니다 !!\n",
      "(Score: 0.8566) 컬리의 시그니처 메뉴로 자리매김 할만 하여\n",
      "감사 인사드리며 시작합니다!\n",
      "\n",
      "골목식당에도 나왔듯이 돼지가 안섞이면\n",
      "맛이 덜한다고 하던데\n",
      "제 입맛엔 소고기 100%만으로 맛있어요!\n",
      "\n",
      "살림에 재능 없는 1인으로 한번 태워먹어 보면서 \n",
      "컬리의 다른 고객들은 그러지 말라는 의미로 \n",
      "말씀드려봅니다!\n",
      "가스렌지 화력이 세면 무조건 약불로 하세요!\n",
      "\n",
      "첨에 마늘과 버터와 로즈마리로 향을 낸 후\n",
      "유리뚜껑으로 열을 모아서 구우면\n",
      "약불로 해도 금방 익어요!\n",
      "\n",
      "불 켤 때만 후라이팬을 따로 들고(켤 때 확 타더라구요)\n",
      "중불로 육즙을 가둔 후 \n",
      "바로 약불 세팅!\n",
      "\n",
      "적양파와 양송이 버섯, 당근을 굽고\n",
      "그 외에 컬리의 가니쉬 모둠도 썩 괜찮아요\n",
      "(가니쉬 안에 로즈마리 있어서 살 필요 없음)\n",
      " \n",
      "소스만들기; 컬리의 사랑과 정성 돈까스 소스 3T,\n",
      "케첩 2T, 버터 1T, 물 1/2컵, 소금, 후추 약간\n",
      "을 넣어서 불에 살짝쿵 졸인 후 뿌리면 \n",
      "맛난 소스 완성!\n",
      "참, 소스는 고기 구운 후라인팬에 육수가 있는 상태로\n",
      "하면 더 꿀맛이래요!\n",
      "\n",
      "이 메뉴 영구 컬리 시그니처 메뉴로 자리잡길 바랍니당~!!\n"
     ]
    }
   ],
   "source": [
    "    \n",
    "top_k = 3\n",
    "\n",
    "queries = [ '가격 : 할인가 개당 3,720원 (2개 이상 구입 필수) 양 : 1인분으로 평범한 양, \\\n",
    "            점심에 먹는 것을 추천 조리시간 및 난이도 : 약 7분, 라면 끓이는 수준의 난이도 평가 : 시중에 파는 \\\n",
    "            우동이 2천원대라는 점을 비교하면 3천원대로 나름 고급형 우동을 집에서 편하게 먹을 수 있어요. \\\n",
    "            어묵 사이즈는 여성 손바닥 정도이고, 한장 크게 들어가있어서 먹으면서 잘라 먹거나 베어 먹으면 됩니다. \\\n",
    "            국물과 어묵이 맛있어서 우동면 하나도 남기지 않고 다 먹었어요. \\\n",
    "            고추우동이라서 살짝 매콤한가 했는데 전혀 맵지 않고 칼칼함도 없이 시원하고 짭쫄한 맛입니다. \\\n",
    "            조리 방법은 뒷면에 상세하게 나와있어서 라면 끓일 줄 아는 분들이면 쉽게 따라할 수 있을거에요. \\\n",
    "            저는 설명서에 다른 채소와 함께 끓이면 더 맛있다고 하여 알배기배추 작은 거 추가해줬더니 씹는 맛이 일품이네요. \\\n",
    "            냉장고에 남는 채소 있으면 같이 끓이시는 것 추천! 맛있게 잘 먹었습니다 :)'\n",
    "          ]\n",
    "# queries = [Okt_tokenizer(queries[0])]\n",
    "# queries\n",
    "semantic_search(model, corpus, corpus_pd_review_embeddings, queries, top_k)"
   ]
  },
  {
   "cell_type": "markdown",
   "id": "0305b709-26c3-4bfb-94d7-d4a1a9d9851d",
   "metadata": {},
   "source": [
    "## 5.3. Corpus: 전처리, Query : 전처리, 토큰 (명사, 형용사)"
   ]
  },
  {
   "cell_type": "code",
   "execution_count": 35,
   "id": "c43e4d2d-d72d-4718-899d-21d1a7b4c063",
   "metadata": {},
   "outputs": [
    {
     "data": {
      "application/vnd.jupyter.widget-view+json": {
       "model_id": "",
       "version_major": 2,
       "version_minor": 0
      },
      "text/plain": [
       "Batches:   0%|          | 0/2 [00:00<?, ?it/s]"
      ]
     },
     "metadata": {},
     "output_type": "display_data"
    }
   ],
   "source": [
    "corpus_cl = best_df_cl['doc_cl'].tolist()\n",
    "corpus_pd_review_embeddings_cl = encode_multi_gpu_embedding(model, corpus_cl)"
   ]
  },
  {
   "cell_type": "code",
   "execution_count": 36,
   "id": "cea9470b-2df7-4b44-b0ed-667ccfb660a2",
   "metadata": {},
   "outputs": [
    {
     "data": {
      "application/vnd.jupyter.widget-view+json": {
       "model_id": "",
       "version_major": 2,
       "version_minor": 0
      },
      "text/plain": [
       "Batches:   0%|          | 0/1 [00:00<?, ?it/s]"
      ]
     },
     "metadata": {},
     "output_type": "display_data"
    },
    {
     "name": "stdout",
     "output_type": "stream",
     "text": [
      "\n",
      "======================\n",
      "Query: 가격 할인 이상 구입 필수 인분 평범하다 점심 추천 조리 시간 난이도 라면 수준 난이도 평가 시중 우동 비교 나름 고급 우동 편하다 어묵 사이즈 여성 손바닥 정도 한장 크게 국물 어묵 맛있다 우동 하나 고추 우동 살짝 매콤 전혀 칼칼하다 시원하다 짭쫄 이다 조리 방법 상세 라면 이면 설명 다른 채소 맛있다 배기 배추 작다 추가 일품 냉장고 채소 추천 맛있다\n",
      "======================\n",
      "\n",
      "Top 3 most similar sentences in corpus:\n",
      "\n",
      "(Score: 0.7101) 물론 요리 하지 않고 그냥 먹어도 너무나도 맛있어요. 한봉지는 그냥 뚝딱 이지요ㅎㅎ \n",
      "그렇지만 요리에 넣어서 먹으면 더욱 더 맛있답니다.\n",
      "아*백 에서 너무 맛있는ㅎㅎ 하지만 코코넛 새우먹으러 가기에는....ㅠㅠ\n",
      "그래서 집에서 요 코코넛으로 만들어 보았답니다!!^^\n",
      "바삭바삭 너무나도 맛있어요~ 기름을 쓰지 않고 오븐에 구워서 건강에도 좋답니다^^\n",
      "\n",
      "새우는 20개정도 준비했답니다. 계란 1개, 빵가루 1/4컵, 코코넛칩1/4컵 (약간 부숴주었어요~), 소금, 후추, 전분가루\n",
      "냉동새우였기에 물기를 쫙~ 빼준 후에 준비해줍니다^^(키친타올도 닦아도 좋아요!)\n",
      "새우에 소금과 후추로 약간 간을 한 후 전분가루를 뭍혀줍니다(위생팩 안에 넣고 흔들어주면 더 쉬워요^^\n",
      "계란물에 새우를 퐁당 넣은 후에\n",
      "코코넛칩과 빵가루 옷을 입혀줍니다^^\n",
      "\n",
      "오일스프레이를 뿌린 후에 (기름기 없는 것을 원하시면 안뿌려도 됩니다.) 180도 예열한 오븐에 10분, 뒤집어서 10분하면\n",
      "바삭바삭 달콤 맛있는 코코넛 쉬림프 완성!\n",
      "\n",
      "만들기도 너무 쉽지만, 코코넛 칩으로 인해 바삭하고 너무 맛있어요^^\n",
      "(Score: 0.7057) ☆좋은점: 주말에 집에서 맛난 식당 요리를 편하게 먹을수 있다는 점이 좋아요. 해놓은 반찬 없을때 후다닥, 일 끝나고 집에와서 손쉽게\n",
      "\n",
      "♧양: 넉넉합니다. 남편과 2명이서 먹었는데 배불렀어요. \n",
      "\n",
      "♧맵기정도: 맵지 않아요. 심심해서 김치나 다른 반찬과 먹어도 부담없어요. 전 파김치랑 먹었어요. 김에 싸먹어도 좋아요. 매운거 원하시는 분은 살짝 고추가루 추가해도 좋을것 같아요.\n",
      "\n",
      "♧조리과정 : 파기름내서 집에 있는 파, 마늘 추가해서 볶았습니다.\n",
      "볶음밥에 빠질수 없는 계란후라이도 추가했어요.\n",
      "(볶음과정 사진 첨부합니다)\n",
      "이미 완조리된 제품이라 후라이팬에 휘리릭 볶기만 하면 되어서 시간도 얼마 안걸리고 편합니다.\n",
      "\n",
      "♧참고 : 고깃집에서 먹던 맛을 느끼고 싶다면 고기 구워드시고 그 팬에 그대로 볶아 드셔도 될것 같아요.\n",
      "저희는 식사대용으로 식용유에 볶았는데 돼지기름에 볶으면 식당에서 먹는 고기맛이 더  잘날수 있을것 같아요. 이미 다 먹어버려서 해보진 못했지만 다음에 재구매하면 한번 시도해보려고 합니다.\n",
      "\n",
      "요즘 외식보다 집에서 먹게 될때가 많은데 간편하게 드시면 좋겠습니다^^\n",
      "(Score: 0.6978) 요즘 코로나 때문에 외식하기 참 어렵죠?\n",
      "그래서 이번주에는 외식분위기를 느끼고자 ‘중식’으로 메뉴를 정하고 우리 가족이 충분히 먹을수 있는\n",
      "요리재료를 컬리에서 주문했어요.\n",
      "\n",
      "자 그럼 주문한 재료를 가지고 맛있게 요리를 만들어서 집에서 외식을 해 보아요~\n",
      "\n",
      "컬리에서 주문한 요리재료 : 찹쌀탕수육, 어향육슬, 닭다리살깐풍기, 초마짜장면\n",
      "  * 그리고 컬리에서 산 강대인 쌀과 [가농바이오]오메가에그1+등급 특란으로 볶음밥도 만들었어요.\n",
      "\n",
      "요리는 \n",
      " 1. 탕수육과 깐풍기를 오븐 또는 에어프라이어에 넣고 맛있게 데웁니다.\n",
      " 2. 탕수육 소스는 취향에 맞게  파인애플을 추가해서 새콤달콤하게 만들어 줍니다.\n",
      " 3. 깐풍기 소스를 만들어서 준비합니다.\n",
      " 4. 짜장면은 냄비에 넣고 끓여서 먹기 좋게 준비합니다.\n",
      "\n",
      "이렇게 준비가 끝나면 온 가족이 둘러앉아 맛있게 먹습니다. \n",
      "이때 탕수육이나 깐풍기는 부먹할지 찍먹할지 결정해서 드세요.\n",
      "이렇게 이번주 우리가족은 집에서 중국음식으로 맛있게 외식을 했네요^^\n"
     ]
    }
   ],
   "source": [
    "    \n",
    "top_k = 3\n",
    "\n",
    "queries = [ '가격 : 할인가 개당 3,720원 (2개 이상 구입 필수) 양 : 1인분으로 평범한 양, \\\n",
    "            점심에 먹는 것을 추천 조리시간 및 난이도 : 약 7분, 라면 끓이는 수준의 난이도 평가 : 시중에 파는 \\\n",
    "            우동이 2천원대라는 점을 비교하면 3천원대로 나름 고급형 우동을 집에서 편하게 먹을 수 있어요. \\\n",
    "            어묵 사이즈는 여성 손바닥 정도이고, 한장 크게 들어가있어서 먹으면서 잘라 먹거나 베어 먹으면 됩니다. \\\n",
    "            국물과 어묵이 맛있어서 우동면 하나도 남기지 않고 다 먹었어요. \\\n",
    "            고추우동이라서 살짝 매콤한가 했는데 전혀 맵지 않고 칼칼함도 없이 시원하고 짭쫄한 맛입니다. \\\n",
    "            조리 방법은 뒷면에 상세하게 나와있어서 라면 끓일 줄 아는 분들이면 쉽게 따라할 수 있을거에요. \\\n",
    "            저는 설명서에 다른 채소와 함께 끓이면 더 맛있다고 하여 알배기배추 작은 거 추가해줬더니 씹는 맛이 일품이네요. \\\n",
    "            냉장고에 남는 채소 있으면 같이 끓이시는 것 추천! 맛있게 잘 먹었습니다 :)'\n",
    "          ]\n",
    "queries = [Okt_tokenizer(queries[0])]\n",
    "queries\n",
    "semantic_search(model, corpus, corpus_pd_review_embeddings, queries, top_k)"
   ]
  },
  {
   "cell_type": "markdown",
   "id": "feb05207-6428-4bf4-80b1-5d5fbd6bf4ac",
   "metadata": {},
   "source": [
    "## 5.4. Non-Best Review (???) - Corpus: 전처리, Query : 전처리, 토큰 (명사, 형용사)"
   ]
  },
  {
   "cell_type": "code",
   "execution_count": 37,
   "id": "b62a11a8-272d-43d7-ba8f-37d17e9c0222",
   "metadata": {},
   "outputs": [
    {
     "data": {
      "application/vnd.jupyter.widget-view+json": {
       "model_id": "",
       "version_major": 2,
       "version_minor": 0
      },
      "text/plain": [
       "Batches:   0%|          | 0/1 [00:00<?, ?it/s]"
      ]
     },
     "metadata": {},
     "output_type": "display_data"
    },
    {
     "name": "stdout",
     "output_type": "stream",
     "text": [
      "\n",
      "======================\n",
      "Query: 매콤 어묵 깔끔하다\n",
      "======================\n",
      "\n",
      "Top 3 most similar sentences in corpus:\n",
      "\n",
      "(Score: 0.3305) 무설탕에 과일 원육 70% 이상을 담은 잼이라고 해서 사봤어요.\n",
      "조금은 건강한 맛일 거라고 예상했는데 너무 달지 않으면서도 상큼하고 적당히 달달한 맛이 기존의 잼보다 저는 훨씬 마음에 들어요.\n",
      "달기만 하고 과일 원육의 씹는 맛이 없다던가 하는 등의 단점이 기존 잼에 있었다면\n",
      "이건 상큼하고 달콤하면서도 과육의 씹는 맛이 있어서 먹는 재미가 있어요.\n",
      "그야말로 건강도 챙기고 맛도 챙길 수 있는 제품인 것 같아요.\n",
      "잼 활용도야 워낙 많겠지만 저는 요즘 주로 요거트에 넣어 먹거나 간단하게 티푸드로 만들어 먹어요.\n",
      "수제 요거트에 견과류  적당히 넣고 멘즈앤가서 잼을 기호에 따라 넣고 섞어서 먹으면 적당히 달콤하면서도 상큼한 맛을 즐길 수 있어요.\n",
      "그리고 집에 있는 식빵을 밀대로 밀어서 납작하게 만들고 쨈을 바른 후 롤케잌처럼 돌돌돌 말아서 랩으로 감싼 후 먹기 좋은 크기로 썰어서 먹으면\n",
      "아이들 간식이나 티푸드로 정말 좋아요. 이때 기호에 따라 슬라이스 치즈를 함께 넣어도 좋아요.\n",
      "이번에 처음 이 제품 사봤는데 너무너무 마음에 들어서 종류대로 다 사보고 싶을 정도예요.\n",
      "상큼하고 너무 달지 않는 잼 찾는다면 꼭 추천하고 싶은 제품이에요 ^^\n",
      "(Score: 0.3278) 요거 물건이네요~ 일단 가격대비 알차단 생각이 들었습니다. 밀가루도 없고 설탕 대신 천연감미료(?)도 쓰고.. 원료 신경써서 쓴 게 티가 나요. 2개나 들어있으니 뭐 괜찮은 듯\n",
      "\n",
      "빵 워낙 좋아하다보니 어떻게 먹을까~ 했는데, 일단 그냥 먹어도 너무 맛있구요. 요거트향이 예상보다 확 올라오면서 나름 맛 진하고 색깔도 노릇노릇 에그타르트?마냥 먹음직스럽고 실제로도 맛있어요! 단백질 많다보니 퍽퍽할까 했는데 제 기준으로는 충분히 촉촉하고 일단 2개 다 먹으면 꽤나 포만감이 있어 다이어트에도 좋을 것 같네요! \n",
      "\n",
      "식사대용으로 하려다보니 이것저것 해 봤는데, 일단 무설탕 샹달프잼하고도 찰떡이구요(그냥 먹어버려서 먹샷은 없음 ㅠ) 상큼한 과일이랑도 브런치로 제격일 듯?\n",
      "\n",
      "중요한건 집에 있던 프로틴피넛가루로 피넛버터 만들어서 샌드해서 먹어봤는데.... 이거슨 바로 최애템...♡ 그러케 느끼하지 않구 애들 간식으로도 너무 좋다는 생각이 들었어요 완전 재구매각\n",
      "\n",
      "단 맛도 엄청 강하지 않아서 저는 개인적으로 더 좋았습니다. 단백질제품들 너무 단맛 쪼코맛 견과 범벅해가지고 입이 다 얼얼할 때가 있거든요. 암튼 오랜만에 조흔 제품 컬리에서 득템했네요 감사~\n",
      "(Score: 0.3243) 제가 사과먹을때 극혐하는 것은 밍숭맹숭한 맛도 아니고 겉에 상처가 난 것도 아니에요.. 그것은 푸석푸석함....!!! (´&#3854;&#3766;&#3964;ρ&#3854;&#3766;&#3964;`)\n",
      "\n",
      "전 사과를 좋아하기 때문에 작년에도 엄청 사먹어댔는데 운이 안좋았는지 거진 반은 푸석한 사과를 만나서 (컬리에서 시킨 거 아님) 죄다 시나몬이랑 레몬즙 넣고 졸일 수 밖에 없었는데요\n",
      "\n",
      "올해는 다행히 대부분 딱딱하고 맛있는 사과를 잘먹고 있던 중이었어요. 그러다가 컬리에 새로 들어온 사과라서 이걸 시켰는데...!! \n",
      "\n",
      "진심 올해 먹은 사과 중에 제일 맛있었어요 (해피엔딩\n",
      "진하게 달콤새콤한 맛도 맛이지만 정말 단!단!한 식감이 최고에요. 사진에서 보이다시피 색깔 예쁜 건 덤이고요 ㅎㅎ\n",
      "이미 씻는 순간부터 아 이 사과는 푸석함과는 거리가 멀군 하고 납득하게 되는 그립감이랄까... 손에 쥐었을때부터 맛있음을 예감할 수 있습니다\n",
      "\n",
      "그러니까 여러분 사지 마세요.... 입고되는 홍로사과 제가 다 먹고싶네요... ㅋㅋㅋㅋㅋㅋㅋㅋ \n",
      "다들 구입해서 품절이 되면 슬플 것 같아요... 크흡\n",
      "\n"
     ]
    }
   ],
   "source": [
    "    \n",
    "top_k = 3\n",
    "\n",
    "queries = [ '매콤어묵도 깔끔한 맛이에요']\n",
    "queries = [Okt_tokenizer(queries[0])]\n",
    "queries\n",
    "semantic_search(model, corpus, corpus_pd_review_embeddings_cl, queries, top_k)"
   ]
  },
  {
   "cell_type": "code",
   "execution_count": 38,
   "id": "4f7ec85d-f1e7-4cc8-9b4e-8ea51a088593",
   "metadata": {},
   "outputs": [
    {
     "data": {
      "application/vnd.jupyter.widget-view+json": {
       "model_id": "",
       "version_major": 2,
       "version_minor": 0
      },
      "text/plain": [
       "Batches:   0%|          | 0/1 [00:00<?, ?it/s]"
      ]
     },
     "metadata": {},
     "output_type": "display_data"
    },
    {
     "name": "stdout",
     "output_type": "stream",
     "text": [
      "\n",
      "======================\n",
      "Query: 간장 소스 문의 간장 맛있다 불안하다\n",
      "======================\n",
      "\n",
      "Top 3 most similar sentences in corpus:\n",
      "\n",
      "(Score: 0.4653) 첫 출산 후 4개월째, 아이 돌보느라 식사도 불규칙적이고 잘 챙겨먹지 못해 아침이면 몸이 너무 힘들었는데요, \n",
      "\n",
      "반신반의로 시험삼아 먹어봤는데 정말 상큼하고 맛있어요!\n",
      "\n",
      "남편은 기분탓이라고 하는데ㅋ 오늘 아침에 마셔봤더니 피로감이 가시면서 몸에 생기가 도는 느낌이예요~\n",
      "\n",
      "처음 맛본 \"Beat the Day\" - 비트, 당근, 사과, 레몬 - 어렸을 때 엄마가 아침에 갈아줬던 당근사과 주스랑 비슷한 맛이었어요\n",
      "\n",
      "왠지 모르겠는데 어렸을 때 먹었던 엄마표 주스맛이 확 떠오르더라구요:) \n",
      "\n",
      "그만큼 건강한 맛인가 같고 양도 생각보다 괜찮았어요\n",
      "\n",
      "집에 있는 500미리 탄산수랑 용량 비교샷 같이 올려요~ \n",
      "\n",
      "타사랑 비교해보니 타사제품은 1일 클렌즈 450ml x 6병이라 가격이 높고, beginner 입에 안맞을 수도 있는 가능성을 고려해서 종합적으로  고민 끝에 가격/용량 + 샛별 배송때문에 콜린스 그린 선택했네요- \n",
      "\n",
      "1일 클렌즈 해보고 몸 상태가 좋아지면 더 주문하고 싶네요! \n",
      "\n",
      "\n",
      "(Score: 0.4353) 제가 성게알을 즐길 줄 아는 사람이 못 되어요,\n",
      "그래서 성게알을 먹어본 경험도 거의 가물가물...\n",
      "그런데 며칠 전부터 갑자기! 뜬금없이!\n",
      "성게알이 넘 먹고 싶은 거예요ㅎㅎ 맛도 기억 안 나면서 말이에요.\n",
      "초밥 단품으로라도 먹어야겠다 했는데\n",
      "자꾸 기회가 안 닿아서, 그냥 컬리에서 주문했어요.\n",
      "\n",
      "역시 아직 저에게 성게알 자체는 어려운 음식이더라고요 ^^;\n",
      "집에 들기름만 있었어도 좀 달랐을까 싶은데,\n",
      "밥이랑 아보카도 오일이랑 그렇게만으로는 별맛을 못 느꼈어요.\n",
      "그래서 해산물과 잘 어울리는 크림 파스타에 투척!\n",
      "소스는 크림에 닭육수를 조금 섞어서 끓였어요.\n",
      "냉동실에 있던 새우도 넣고~ 다진 마늘도 넣고~\n",
      "바다냄새 더 많이 나라고 감태가루도 솔솔 뿌리고~\n",
      "크림소스가 면에 끈적끈적하게 붙도록 졸여서\n",
      "성게알을 곁들여서 완성.\n",
      "사진은 사진일 뿐이고 먹을 때는 잘 뭉개서 비벼주었어요ㅋㅋ\n",
      "요렇게 먹으니 비리지도 않고 풍미가 있는 파스타였답니다 :D\n",
      "저처럼 아직 성게알이 어려우시거나,\n",
      "신선도가 좀 떨어졌다? 싶을 때 크림 파스타로 드셔보셔요 ^.^\n",
      "\n",
      "(Score: 0.4171) 들깨를 좋아하는데 우리쌀 우리밀로 만든 들깨수제비가  보여 만들어 봤네요...\n",
      "\n",
      "1. 물량을 500ml생수병에 맞추니 간이 딱 맞네요..\n",
      "    ( 제 입맛에  ㅎㅎ)\n",
      "\n",
      "2. 500ml(1인분)정도 물을 끓이고 애호박ㆍ표고버섯ㆍ  대파를 썰어  재료를 준비  합니다~\n",
      "     \n",
      "3. 물이 끓으면 애호박과 표고버섯을 넣고 수제비와 들깨스프를 함께 넣어 2~3분정도 끓입니다~\n",
      "\n",
      "4. 대파와 계란을 넣고 2분정도 저어 주면서 끓입니다~\n",
      "    (대파ㆍ계란이 들어가니 국물맛도 더 시원하고 담백하더라구요~~)\n",
      "\n",
      "5 수제비를 5분이상 끓여야 면도 더 쫄깃하고 맛있더라요~~\n",
      "\n",
      "6. 면이 다 익으면 들깨 가루 2스푼 넣고 완성~~♡♡♡\n",
      "\n",
      "사먹는 수제비 보다 더 맛있게 먹었어요~~ㅎㅎㅎ\n",
      " \n",
      "간을 따로 안하고  야채만 넣어 끓이니 넘 좋으네요~~\n",
      "  \n",
      " \n",
      "수제비가   식어도 면이 퍼지지 않고  쫄깃쫄깃 넘 맛있게 먹었답니다~~\n",
      "\n",
      "  1인분 끓였는데 야채 넣고 끓였더니 양이 넘 많아 엄청 배불렀어요~~\n",
      "\n",
      "  재구매 하러 가야겠네요~~\n",
      "   강추~~\n"
     ]
    },
    {
     "name": "stderr",
     "output_type": "stream",
     "text": [
      "distributed.client - ERROR - Failed to reconnect to scheduler after 30.00 seconds, closing client\n"
     ]
    },
    {
     "name": "stdout",
     "output_type": "stream",
     "text": [
      "2022-08-15 10:55:35 - _GatheringFuture exception was never retrieved\n",
      "future: <_GatheringFuture finished exception=CancelledError()>\n",
      "asyncio.exceptions.CancelledError\n"
     ]
    }
   ],
   "source": [
    "    \n",
    "top_k = 3\n",
    "\n",
    "queries = [ '한개가 간장소스가 다 터져서 문의글 남기면서 보니, \\\n",
    "            간장 터져서 왔다는 글이 많이 보이네요. 맛있는데 불안해서 또 시킬 수 있을지 모르겠네요ㅜㅜ'\n",
    "          ]\n",
    "queries = [Okt_tokenizer(queries[0])]\n",
    "queries\n",
    "semantic_search(model, corpus, corpus_pd_review_embeddings_cl, queries, top_k)"
   ]
  },
  {
   "cell_type": "code",
   "execution_count": null,
   "id": "77e2a710-ef60-4678-b466-24607ceee198",
   "metadata": {},
   "outputs": [],
   "source": []
  },
  {
   "cell_type": "code",
   "execution_count": null,
   "id": "1f9c968f-1c33-4a2b-95a7-99288d175785",
   "metadata": {},
   "outputs": [],
   "source": []
  },
  {
   "cell_type": "code",
   "execution_count": null,
   "id": "ab34cc12-f422-4df6-b476-41b98c6fd316",
   "metadata": {},
   "outputs": [],
   "source": []
  },
  {
   "cell_type": "code",
   "execution_count": null,
   "id": "fb3f493b-6120-4bb6-963b-fb9229378b23",
   "metadata": {},
   "outputs": [],
   "source": []
  },
  {
   "cell_type": "code",
   "execution_count": null,
   "id": "0c743218-a2e6-4d91-829f-dadca5997fc0",
   "metadata": {},
   "outputs": [],
   "source": []
  }
 ],
 "metadata": {
  "kernelspec": {
   "display_name": "conda_python3",
   "language": "python",
   "name": "conda_python3"
  },
  "language_info": {
   "codemirror_mode": {
    "name": "ipython",
    "version": 3
   },
   "file_extension": ".py",
   "mimetype": "text/x-python",
   "name": "python",
   "nbconvert_exporter": "python",
   "pygments_lexer": "ipython3",
   "version": "3.8.12"
  }
 },
 "nbformat": 4,
 "nbformat_minor": 5
}
