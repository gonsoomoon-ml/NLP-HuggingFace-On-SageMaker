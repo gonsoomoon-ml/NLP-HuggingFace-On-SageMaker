{
 "cells": [
  {
   "cell_type": "markdown",
   "id": "28dcd14c",
   "metadata": {},
   "source": [
    "# [모듈 1.2] Semantic Textual Similarity 모델 추론 스크래치\n",
    "\n",
    "\n",
    "---"
   ]
  },
  {
   "cell_type": "markdown",
   "id": "1027d953",
   "metadata": {
    "tags": []
   },
   "source": [
    "\n",
    "# 1. Setup Environments\n",
    "---\n"
   ]
  },
  {
   "cell_type": "markdown",
   "id": "05790601",
   "metadata": {},
   "source": [
    "#### 사용자 정의 라이브러러 환경 셋업 및 라이브러리 로딩"
   ]
  },
  {
   "cell_type": "code",
   "execution_count": 1,
   "id": "323bb1c0",
   "metadata": {},
   "outputs": [],
   "source": [
    "import sys"
   ]
  },
  {
   "cell_type": "code",
   "execution_count": 2,
   "id": "0ea4d601",
   "metadata": {},
   "outputs": [],
   "source": [
    "%load_ext autoreload\n",
    "%autoreload 2\n",
    "\n",
    "sys.path.append('src')"
   ]
  },
  {
   "cell_type": "code",
   "execution_count": 3,
   "id": "43e6370f",
   "metadata": {},
   "outputs": [],
   "source": [
    "%store -r model_save_path"
   ]
  },
  {
   "cell_type": "code",
   "execution_count": 4,
   "id": "7cadc9ec",
   "metadata": {},
   "outputs": [],
   "source": [
    "import os\n",
    "import sys\n",
    "import json\n",
    "import logging\n",
    "import argparse\n",
    "import torch\n",
    "import gzip\n",
    "import csv\n",
    "import math\n",
    "import urllib\n",
    "from torch import nn\n",
    "import numpy as np\n",
    "import pandas as pd\n",
    "from tqdm import tqdm\n",
    "\n",
    "from datetime import datetime\n",
    "from datasets import load_dataset\n",
    "from torch.utils.data import DataLoader\n",
    "from sentence_transformers import SentenceTransformer, SentencesDataset, LoggingHandler, losses, models, util\n",
    "from sentence_transformers.evaluation import EmbeddingSimilarityEvaluator\n",
    "# from sentence_transformers.readers import InputExample\n",
    "# from transformers.trainer_utils import get_last_checkpoint\n",
    "\n",
    "from os.path import exists\n",
    "\n",
    "logging.basicConfig(\n",
    "    level=logging.INFO,\n",
    "    format='%(asctime)s - %(message)s',\n",
    "    datefmt='%Y-%m-%d %H:%M:%S',\n",
    "    handlers=[LoggingHandler()]\n",
    ")\n",
    "\n",
    "logger = logging.getLogger(__name__)"
   ]
  },
  {
   "cell_type": "markdown",
   "id": "dc488076",
   "metadata": {
    "tags": []
   },
   "source": [
    "# 2. Semantic Search (News)\n",
    "\n",
    "\n",
    "시멘틱(의미) 검색은 검색 쿼리가 키워드를 찾는 것뿐만 아니라, 검색에 사용되는 단어의 의도와 문맥적 의미를 파악하는 것을 목표로 합니다.\n",
    "시멘틱 유사도 검색을 또한 챗봇 및 해당 검색 쿼리를 입력하면, 검색 쿼리의 임베딩을 계산하여 모든 문서(예: 뉴스 제목/요약, 웹페이지 제목/요약) 리스트의 임베딩을 비교하여 가장 유사도가 높은 문서 후보들을 찾습니다.\n",
    "\n",
    "References\n",
    "- Billion-scale semantic similarity search with FAISS+SBERT: https://towardsdatascience.com/billion-scale-semantic-similarity-search-with-faiss-sbert-c845614962e2\n",
    "- Korean Contemporary Corpus of Written Sentences: http://nlp.kookmin.ac.kr/kcc/"
   ]
  },
  {
   "cell_type": "markdown",
   "id": "3e1fa503",
   "metadata": {},
   "source": [
    "## 2.1. Preparing news dataset"
   ]
  },
  {
   "cell_type": "code",
   "execution_count": 5,
   "id": "da512408",
   "metadata": {},
   "outputs": [
    {
     "name": "stdout",
     "output_type": "stream",
     "text": [
      "train_dir:  data/KorSTS/train/\n"
     ]
    }
   ],
   "source": [
    "class Params:\n",
    "    def __init__(self):\n",
    "        self.train_dir = 'data/KorSTS/train/'        \n",
    "                        \n",
    "args = Params()\n",
    "print(\"train_dir: \", args.train_dir)"
   ]
  },
  {
   "cell_type": "code",
   "execution_count": 7,
   "id": "02710673",
   "metadata": {},
   "outputs": [
    {
     "name": "stdout",
     "output_type": "stream",
     "text": [
      "news_path: \n",
      " data/KorSTS/train//KCCq28_Korean_sentences_EUCKR_v2.txt \n",
      "\n",
      "No data So we are downloading file\n"
     ]
    },
    {
     "name": "stderr",
     "output_type": "stream",
     "text": [
      "100% |########################################################################|\n"
     ]
    }
   ],
   "source": [
    "from custom_util import MyProgressBar\n",
    "from os.path import exists\n",
    "import zipfile\n",
    "\n",
    "news_path = f'{args.train_dir}/KCCq28_Korean_sentences_EUCKR_v2.txt'\n",
    "print(\"news_path: \\n\", news_path, \"\\n\")\n",
    "    \n",
    "if exists(news_path):\n",
    "    print(\"Data is available\")    \n",
    "    pass\n",
    "else:\n",
    "    print(\"No data So we are downloading file\")\n",
    "    url = 'http://nlp.kookmin.ac.kr/kcc/KCCq28_Korean_sentences_EUCKR_v2.zip'\n",
    "    news_path = f'{args.train_dir}/KCCq28_Korean_sentences_EUCKR_v2.zip'\n",
    "    urllib.request.urlretrieve(url, news_path, MyProgressBar())    \n",
    "    \n",
    "    with zipfile.ZipFile(news_path, 'r') as zip_ref:\n",
    "        zip_ref.extractall(args.train_dir)\n",
    "\n",
    "\n"
   ]
  },
  {
   "cell_type": "code",
   "execution_count": 8,
   "id": "6c62cf9e",
   "metadata": {},
   "outputs": [
    {
     "name": "stdout",
     "output_type": "stream",
     "text": [
      "2022-08-17 05:54:07 - news_data length:  1337721\n"
     ]
    }
   ],
   "source": [
    "from custom_util import extract_news_data\n",
    "\n",
    "news_data_raw = extract_news_data(args, news_path, logger)"
   ]
  },
  {
   "cell_type": "markdown",
   "id": "30e9ee9b",
   "metadata": {},
   "source": [
    "## 2.2. News Data Sampling"
   ]
  },
  {
   "cell_type": "markdown",
   "id": "e70cc8ee",
   "metadata": {},
   "source": [
    "- num_sample 을 에러시 조절 하세요."
   ]
  },
  {
   "cell_type": "code",
   "execution_count": 9,
   "id": "577f8032",
   "metadata": {},
   "outputs": [],
   "source": [
    "num_sample = 20000"
   ]
  },
  {
   "cell_type": "code",
   "execution_count": 10,
   "id": "96d15911",
   "metadata": {},
   "outputs": [],
   "source": [
    "import random\n",
    "\n",
    "\n",
    "def sample_news_data(num_sample, news_data_raw):\n",
    "    random.seed(100)\n",
    "    news_data = random.sample(news_data_raw, num_sample)\n",
    "    #news_data = news_data_raw[:num_sample] # For debug purpose\n",
    "    \n",
    "    return news_data\n",
    "\n",
    "corpus = sample_news_data(num_sample, news_data_raw)"
   ]
  },
  {
   "cell_type": "code",
   "execution_count": 11,
   "id": "82718b97",
   "metadata": {},
   "outputs": [
    {
     "data": {
      "text/plain": [
       "['그는 \"터키 원전수주 계약은 일본 정부의 장기 위험 보증 조항에 달려 있다\"고 덧붙였다.',\n",
       " '기재부 고위 관계자는 \"김동연 부총리가 오고 지난해 예산안 통과 과정에서 예산실이 밤샘근무를 하루밖에 안 했다\"며 \"예산실장 출신이라 개선을 많이 하려고는 하는데 현장의 목소리를 더 들을 필요가 있다\"고 꼬집었다.',\n",
       " '선수들을 지도하고 있는 원동현은 \"이번 훈련을 통해 여자핸드볼 국가대표 선수들이 강인한 해병 정신으로 무장해 리우 올림픽에서 반드시 승리하도록 해병대가 견인차 역할을 할 것\"이라며 \"악조건 속에서도 전승을 거둬 온 해병대의 강한 훈련을 받은 만큼 선수들도 강한 자부심과 자신감을 갖게 될 것이라 확신한다\"고 전했다.']"
      ]
     },
     "execution_count": 11,
     "metadata": {},
     "output_type": "execute_result"
    }
   ],
   "source": [
    "corpus[0:3]"
   ]
  },
  {
   "cell_type": "code",
   "execution_count": 12,
   "id": "87c0a741",
   "metadata": {},
   "outputs": [
    {
     "name": "stdout",
     "output_type": "stream",
     "text": [
      "2022-08-17 05:54:16 - Load pretrained SentenceTransformer: /home/ec2-user/SageMaker/NLP-HuggingFace-On-SageMaker/3_Semantic-Textual-Similarity/3_Training/KorSTS/model/training_sts_sentence-transformers-xlm-r-100langs-bert-base-nli-stsb-mean-tokens-2022-08-17_05-43-53\n",
      "2022-08-17 05:54:20 - Use pytorch device: cuda\n"
     ]
    }
   ],
   "source": [
    "model = SentenceTransformer(model_save_path)"
   ]
  },
  {
   "cell_type": "markdown",
   "id": "c0d0525d",
   "metadata": {
    "tags": []
   },
   "source": [
    "## 2.3. 뉴스 데이터 Sentence-BERT Output Embedding"
   ]
  },
  {
   "cell_type": "code",
   "execution_count": 13,
   "id": "d360c61e",
   "metadata": {},
   "outputs": [
    {
     "data": {
      "application/vnd.jupyter.widget-view+json": {
       "model_id": "c2f631f410d54e26ba6586a8a8a3e8c1",
       "version_major": 2,
       "version_minor": 0
      },
      "text/plain": [
       "Batches:   0%|          | 0/313 [00:00<?, ?it/s]"
      ]
     },
     "metadata": {},
     "output_type": "display_data"
    }
   ],
   "source": [
    "from custom_util import encode_multi_gpu_embedding \n",
    "\n",
    "\n",
    "corpus_embeddings = encode_multi_gpu_embedding(model, corpus) # 384 문장 임베딩 * 10,000 문장"
   ]
  },
  {
   "cell_type": "code",
   "execution_count": 14,
   "id": "b23dad7d",
   "metadata": {},
   "outputs": [],
   "source": [
    "from custom_util import semantic_search\n",
    "from custom_util import Okt_tokenizer "
   ]
  },
  {
   "cell_type": "code",
   "execution_count": 15,
   "id": "e3afc894",
   "metadata": {},
   "outputs": [],
   "source": [
    "top_k = 5\n",
    "\n",
    "queries = [\n",
    "            '올 시즌 정규리그 35경기에서 23골을 작성한 손흥민은 이날 울버햄프턴을 상대로 득점에 \\\n",
    "            성공한 무함마드 살라흐(리버풀·23골)와 함께 정규리그 득점 공동 1위에 올랐다.\\\n",
    "            아시아 출신 선수가 EPL에서 득점왕에 오른 건 손흥민이 처음이다. \\\n",
    "            EPL뿐 아니라 유럽축구 5대 리그(잉글랜드·스페인·독일·프랑스·이탈리아)로 범위를 넓혀도 \\\n",
    "            아시아 선수 득점왕의 전례를 찾아보기 어렵다.'\n",
    "          ]\n"
   ]
  },
  {
   "cell_type": "markdown",
   "id": "5107a16b",
   "metadata": {},
   "source": [
    "### 2.3.1. Corpus: 원문, Query : 원문"
   ]
  },
  {
   "cell_type": "code",
   "execution_count": 16,
   "id": "52196751",
   "metadata": {},
   "outputs": [
    {
     "data": {
      "application/vnd.jupyter.widget-view+json": {
       "model_id": "51cdbb56e9e34d68ab329f260d051efb",
       "version_major": 2,
       "version_minor": 0
      },
      "text/plain": [
       "Batches:   0%|          | 0/1 [00:00<?, ?it/s]"
      ]
     },
     "metadata": {},
     "output_type": "display_data"
    },
    {
     "name": "stdout",
     "output_type": "stream",
     "text": [
      "\n",
      "======================\n",
      "Query: 올 시즌 정규리그 35경기에서 23골을 작성한 손흥민은 이날 울버햄프턴을 상대로 득점에             성공한 무함마드 살라흐(리버풀·23골)와 함께 정규리그 득점 공동 1위에 올랐다.            아시아 출신 선수가 EPL에서 득점왕에 오른 건 손흥민이 처음이다.             EPL뿐 아니라 유럽축구 5대 리그(잉글랜드·스페인·독일·프랑스·이탈리아)로 범위를 넓혀도             아시아 선수 득점왕의 전례를 찾아보기 어렵다.\n",
      "======================\n",
      "\n",
      "Top 5 most similar sentences in corpus:\n",
      "\n",
      "(Score: 0.4861) 2번타자로 선발 출전하는 오지환은 \"지난해 9타수 무안타였는데 이번에는 2번타자로 뛰는 만큼 출루를 많이 해서 우리 팀이 기세를 잡을 수 있도록 할 것\"이라며 두 주먹을 불끈 쥐었다.\n",
      "(Score: 0.4555) 한 일본 축구팬은 손흥민의 결승전 동점골을 두고 \"역시 아시아의 에이스\"라며 치켜세웠다.\n",
      "(Score: 0.4493) 포체티노 감독은 맨유와의 2014-2015 캐피털원컵에 출전한 알리를 발견했고 \"17살의 선수가 30처럼 플레이했다\"라며 감탄을 금치 못했다.\n",
      "(Score: 0.4440) 다만 메이저리그 공식 홈페이지 MLB닷컴은 \"추신수가 23일 경기까지는 출장하지 못할 것 같다\"며 \"아직은구단이 추신수를 DL에 올릴 계획은 없지만, 가능성을 완전히 배제할 수는 없다\"고 전했다.\n",
      "(Score: 0.4417) 일본의 스포츠 전문지 '닛칸스포츠'는 14일 인터넷판을 통해 \"한신은 다음 시즌 전력강화를 위해 프로야구 역대 최다인 277세이브를 달성한 오승환 영입을 최우선으로 삼았다\"고 보도했다.\n"
     ]
    }
   ],
   "source": [
    "# queries = [Okt_tokenizer(queries[0])]\n",
    "semantic_search(model, corpus, corpus_embeddings, queries, top_k)"
   ]
  },
  {
   "cell_type": "markdown",
   "id": "b3e2925d",
   "metadata": {},
   "source": [
    "### 2.3.2. Corpus: 원문, Query : 전처리, 토큰 (명사, 형용사)"
   ]
  },
  {
   "cell_type": "code",
   "execution_count": 17,
   "id": "2d026014",
   "metadata": {},
   "outputs": [
    {
     "data": {
      "application/vnd.jupyter.widget-view+json": {
       "model_id": "e6ab3de90e0a4ebabc102fcf4403b170",
       "version_major": 2,
       "version_minor": 0
      },
      "text/plain": [
       "Batches:   0%|          | 0/1 [00:00<?, ?it/s]"
      ]
     },
     "metadata": {},
     "output_type": "display_data"
    },
    {
     "name": "stdout",
     "output_type": "stream",
     "text": [
      "\n",
      "======================\n",
      "Query: 시즌 정규 리그 경기 작성 손흥민 울버햄프턴 상대로 득점 성공하다 무함마드 살라 리버풀 정규 리그 득점 공동 아시아 출신 선수 득점 오른 손흥민 처음 아니다 유럽 축구 리그 잉글랜드 스페인 독일 프랑스 이탈리아 범위 아시아 선수 득점 전례 어렵다\n",
      "======================\n",
      "\n",
      "Top 5 most similar sentences in corpus:\n",
      "\n",
      "(Score: 0.5302) 영국 매체 스포츠 잉글리시는 이승우와 세 번째 골을 터뜨린 카를레스 알레나를 두고 \"신비스러운 듀오\"라고 칭찬했고 스페인 매체 마르카는 \"클럽 최고의 두 선수인 이승우와 알레나가 득점을 책임졌다\"고 전했다.\n",
      "(Score: 0.4882) 2번타자로 선발 출전하는 오지환은 \"지난해 9타수 무안타였는데 이번에는 2번타자로 뛰는 만큼 출루를 많이 해서 우리 팀이 기세를 잡을 수 있도록 할 것\"이라며 두 주먹을 불끈 쥐었다.\n",
      "(Score: 0.4692) 한 일본 축구팬은 손흥민의 결승전 동점골을 두고 \"역시 아시아의 에이스\"라며 치켜세웠다.\n",
      "(Score: 0.4639) 독일 토마스 뮐러가 전반 11분 페널티 킥을 성공시키자 그는 약 30초 동안 \"골\"을 외쳤다.\n",
      "(Score: 0.4598) 2009년 서울과 맨체스터 유나이티드의 친선경기에서는 두 골을 터트려 퍼거슨 맨유 감독으로부터 \"10번 선수가 탐난다\"는 찬사를 받기도 했다.\n"
     ]
    }
   ],
   "source": [
    "queries = [Okt_tokenizer(queries[0])]\n",
    "semantic_search(model, corpus, corpus_embeddings, queries, top_k)"
   ]
  },
  {
   "cell_type": "markdown",
   "id": "4ca9af36",
   "metadata": {},
   "source": [
    "### 2.3.3 경제 뉴스"
   ]
  },
  {
   "cell_type": "code",
   "execution_count": 18,
   "id": "e811b434",
   "metadata": {},
   "outputs": [
    {
     "data": {
      "application/vnd.jupyter.widget-view+json": {
       "model_id": "c74881abd64247fd8949fa2668ce7c80",
       "version_major": 2,
       "version_minor": 0
      },
      "text/plain": [
       "Batches:   0%|          | 0/1 [00:00<?, ?it/s]"
      ]
     },
     "metadata": {},
     "output_type": "display_data"
    },
    {
     "name": "stdout",
     "output_type": "stream",
     "text": [
      "\n",
      "======================\n",
      "Query: 삼성전자의 2분기 확정 실적이 발표된 전일부터 이틀간 증권사 18곳에서 분석 보고서를 냈다.        대부분은 3분기가 더 부진할 것인 데다 주가는 한 차례 더 조정이 올 것이란 어두운 전망을 내놓았다.        우리나라 시총 1위 기업 주식이 이런데, 미국 장으로 옮기는 데 답인가, 어깨에서 사서 무릎에 팔게 생겼다호실적에도 떨어지고오늘도 기대했던 내가 바보다         증권가도 떠나는 개미들을 붙잡을 만한 전망을 내놓지 못하는 상황이다. 하반기 실적은 더 암울할 것이라는 게 중론이어서다.\n",
      "======================\n",
      "\n",
      "Top 5 most similar sentences in corpus:\n",
      "\n",
      "(Score: 0.5901) 한 IB업계 관계자는 \"단기실적이 급감할 경우 신용평가사에서 이를 곧바로 신용등급에 반영하는데다 최근 한 번에 두 단계, 혹은 한 해에도 두 차례 이상 등급을 강등하는 경우가 발생해 보유채권 가치 하락을 우려한 기관들의 태도가 더욱 깐깐해 지고 있다\"고 말했다.\n",
      "(Score: 0.5827) 김세중 신영증권 투자전략 팀장은 \"오늘 하루만 놓고 보면 기관이 펀드에서 유입된 현금을 가지고 저가 매수를 했다고 볼 수 있다\"면서 \"대외 여건이 잠시 진정됐고, 금요일 급매물 탓에 주가가 펀더멘털 이상으로 과하게 빠졌다는 판단을 한 것\"이라고 지적했다.\n",
      "(Score: 0.5767) 한 증권사 리스크관리부서 관계자는 \"코스피 상장사라도 유동성이나 재무안정성이 떨어지는 종목이 있고 코스닥 상장사 중에서도 유동성이 풍부한 데다 재무안정성, 성장성이 우수한 종목도 있다\"며 \"하지만 코스닥 상장사는 금감원 규정에 의해 무조건 더 낮은 평가 점수를 받게 돼있다\"고 설명했다.\n",
      "(Score: 0.5647) 채권단 관계자는 \"미래에셋을 제외한 다른 채권단들이 가격을 내기 부담스러워 하는 측면이 있어 평균 가격 등을 제안하는 등의 방식을 택한다면 5만9000원 외 다른 가격이 나오면서 매각 협상 속도가 빨라질 수 있을 것\"이라고 말했다.\n",
      "(Score: 0.5613) KDB대우증권 상품개발실 김희주 이사는 \"한국 기업의 배당 성향은 전 세계적으로 가장 낮은 수준인 반면, 자본금 대비 배당가능이익은 역대 최고 수준으로 기업의 배당 여력은 충분하다\"며 \"최근 그룹 기업지배구조 개선 움직임과 더불어 향후 외국인·기관투자가 중심으로 배당 증대 압력이 커지고 있는 데다 정부 배당정책 모멘텀까지 가세해 배당주 투자에 새로운 변화가 예고된다\"고 말했다.\n"
     ]
    }
   ],
   "source": [
    "top_k = 5\n",
    "\n",
    "queries = [\n",
    "        '삼성전자의 2분기 확정 실적이 발표된 전일부터 이틀간 증권사 18곳에서 분석 보고서를 냈다.\\\n",
    "        대부분은 3분기가 더 부진할 것인 데다 주가는 한 차례 더 조정이 올 것이란 어두운 전망을 내놓았다.\\\n",
    "        우리나라 시총 1위 기업 주식이 이런데, 미국 장으로 옮기는 데 답인가, 어깨에서 사서 무릎에 팔게 생겼다' '호실적에도 떨어지고' '오늘도 기대했던 내가 바보다 \\\n",
    "        증권가도 떠나는 개미들을 붙잡을 만한 전망을 내놓지 못하는 상황이다. 하반기 실적은 더 암울할 것이라는 게 중론이어서다.'\n",
    "        ]\n",
    "# queries = [Okt_tokenizer(queries[0])]\n",
    "\n",
    "semantic_search(model, corpus, corpus_embeddings, queries, top_k)"
   ]
  },
  {
   "cell_type": "code",
   "execution_count": 19,
   "id": "cae4f30d",
   "metadata": {},
   "outputs": [
    {
     "data": {
      "application/vnd.jupyter.widget-view+json": {
       "model_id": "e46d48c1871c40019f33a6e254eeefbb",
       "version_major": 2,
       "version_minor": 0
      },
      "text/plain": [
       "Batches:   0%|          | 0/1 [00:00<?, ?it/s]"
      ]
     },
     "metadata": {},
     "output_type": "display_data"
    },
    {
     "name": "stdout",
     "output_type": "stream",
     "text": [
      "\n",
      "======================\n",
      "Query: 전자 확정 실적 발표 전일 이틀 증권사 분석 보고서 대부분 부진하다 주가 차례 조정 두운 전망 우리나라 기업 주식 이렇다 미국 어깨 사서 무릎 호실 오늘 기대하다 바보 증권 가도 개미 전망 상황 하반기 실적 암울하다 중론\n",
      "======================\n",
      "\n",
      "Top 5 most similar sentences in corpus:\n",
      "\n",
      "(Score: 0.6358) 김세중 신영증권 투자전략 팀장은 \"오늘 하루만 놓고 보면 기관이 펀드에서 유입된 현금을 가지고 저가 매수를 했다고 볼 수 있다\"면서 \"대외 여건이 잠시 진정됐고, 금요일 급매물 탓에 주가가 펀더멘털 이상으로 과하게 빠졌다는 판단을 한 것\"이라고 지적했다.\n",
      "(Score: 0.5971) 최남곤 유안타증권 연구원은 \"고액 연봉과 국정농단 연루 의혹에 시달리는 황창규 회장의 거취와 관련한 이슈가 주가에 부담으로 이어지고있고 연말까지는 관련 불확실성이 지속될 가능성이 있다\"며 \"그러나 이 이슈가 해결된 이후에는 주가는 상승 반전할 것\"이라고 말했다.\n",
      "(Score: 0.5920) 이와 관련 윤여삼 미래에셋대우증권 연구원은 \"브렉시트만으로 글로벌 경기여건을 판단하는 것은 어렵지만 하반기 경기여건이 만만치 않다\"라며 \"채권은 매수 관점에서 사들여야 한다\"며 금리가 급락할 수 있다고 전망했다.\n",
      "(Score: 0.5756) 대신증권은 7일 금호타이어에 대해 \"매각 무산에 대한 우려는 주가에 충분히 반영됐다\"며 \"주가는 느리지만 회복에 무게를 두고 있다\"고 분석했다.\n",
      "(Score: 0.5732) 대신증권 황규완 연구원은 \"부동산 시장도 거시 경제의 일부기 때문에 경기와 완전히 따로 움직일 가능성은 낮다\"며 \"불확실성이 있는 부동산 시장에 비춰 기업 가치를 보기 보다는 포트폴리오가 수익성을 갖췄는지에 주목해야 할 것\"이라고 말했다.\n"
     ]
    }
   ],
   "source": [
    "queries = [Okt_tokenizer(queries[0])]\n",
    "semantic_search(model, corpus, corpus_embeddings, queries, top_k)"
   ]
  },
  {
   "cell_type": "markdown",
   "id": "005abd99",
   "metadata": {},
   "source": [
    "# 3. Corpus 에 전처리 도입"
   ]
  },
  {
   "cell_type": "markdown",
   "id": "f5c13658",
   "metadata": {},
   "source": [
    "## 3.1. DASK 병렬 클러스터 준비"
   ]
  },
  {
   "cell_type": "code",
   "execution_count": 29,
   "id": "1597df97",
   "metadata": {
    "tags": [],
    "toc-hr-collapsed": true
   },
   "outputs": [
    {
     "name": "stdout",
     "output_type": "stream",
     "text": [
      "DAS client has been created\n"
     ]
    },
    {
     "name": "stderr",
     "output_type": "stream",
     "text": [
      "/home/ec2-user/anaconda3/envs/python3/lib/python3.8/site-packages/distributed/node.py:160: UserWarning: Port 8787 is already in use.\n",
      "Perhaps you already have a cluster running?\n",
      "Hosting the HTTP server on port 42493 instead\n",
      "  warnings.warn(\n"
     ]
    },
    {
     "data": {
      "text/html": [
       "<div>\n",
       "    <div style=\"width: 24px; height: 24px; background-color: #e1e1e1; border: 3px solid #9D9D9D; border-radius: 5px; position: absolute;\"> </div>\n",
       "    <div style=\"margin-left: 48px;\">\n",
       "        <h3 style=\"margin-bottom: 0px;\">Client</h3>\n",
       "        <p style=\"color: #9D9D9D; margin-bottom: 0px;\">Client-514748ea-1df1-11ed-8aeb-12de4ab1831f</p>\n",
       "        <table style=\"width: 100%; text-align: left;\">\n",
       "\n",
       "        <tr>\n",
       "        \n",
       "            <td style=\"text-align: left;\"><strong>Connection method:</strong> Cluster object</td>\n",
       "            <td style=\"text-align: left;\"><strong>Cluster type:</strong> distributed.LocalCluster</td>\n",
       "        \n",
       "        </tr>\n",
       "\n",
       "        \n",
       "            <tr>\n",
       "                <td style=\"text-align: left;\">\n",
       "                    <strong>Dashboard: </strong> <a href=\"http://127.0.0.1:42493/status\" target=\"_blank\">http://127.0.0.1:42493/status</a>\n",
       "                </td>\n",
       "                <td style=\"text-align: left;\"></td>\n",
       "            </tr>\n",
       "        \n",
       "\n",
       "        </table>\n",
       "\n",
       "        \n",
       "            <details>\n",
       "            <summary style=\"margin-bottom: 20px;\"><h3 style=\"display: inline;\">Cluster Info</h3></summary>\n",
       "            <div class=\"jp-RenderedHTMLCommon jp-RenderedHTML jp-mod-trusted jp-OutputArea-output\">\n",
       "    <div style=\"width: 24px; height: 24px; background-color: #e1e1e1; border: 3px solid #9D9D9D; border-radius: 5px; position: absolute;\">\n",
       "    </div>\n",
       "    <div style=\"margin-left: 48px;\">\n",
       "        <h3 style=\"margin-bottom: 0px; margin-top: 0px;\">LocalCluster</h3>\n",
       "        <p style=\"color: #9D9D9D; margin-bottom: 0px;\">8cf13dab</p>\n",
       "        <table style=\"width: 100%; text-align: left;\">\n",
       "            <tr>\n",
       "                <td style=\"text-align: left;\">\n",
       "                    <strong>Dashboard:</strong> <a href=\"http://127.0.0.1:42493/status\" target=\"_blank\">http://127.0.0.1:42493/status</a>\n",
       "                </td>\n",
       "                <td style=\"text-align: left;\">\n",
       "                    <strong>Workers:</strong> 4\n",
       "                </td>\n",
       "            </tr>\n",
       "            <tr>\n",
       "                <td style=\"text-align: left;\">\n",
       "                    <strong>Total threads:</strong> 16\n",
       "                </td>\n",
       "                <td style=\"text-align: left;\">\n",
       "                    <strong>Total memory:</strong> 59.85 GiB\n",
       "                </td>\n",
       "            </tr>\n",
       "            \n",
       "            <tr>\n",
       "    <td style=\"text-align: left;\"><strong>Status:</strong> running</td>\n",
       "    <td style=\"text-align: left;\"><strong>Using processes:</strong> True</td>\n",
       "</tr>\n",
       "\n",
       "            \n",
       "        </table>\n",
       "\n",
       "        <details>\n",
       "            <summary style=\"margin-bottom: 20px;\">\n",
       "                <h3 style=\"display: inline;\">Scheduler Info</h3>\n",
       "            </summary>\n",
       "\n",
       "            <div style=\"\">\n",
       "    <div>\n",
       "        <div style=\"width: 24px; height: 24px; background-color: #FFF7E5; border: 3px solid #FF6132; border-radius: 5px; position: absolute;\"> </div>\n",
       "        <div style=\"margin-left: 48px;\">\n",
       "            <h3 style=\"margin-bottom: 0px;\">Scheduler</h3>\n",
       "            <p style=\"color: #9D9D9D; margin-bottom: 0px;\">Scheduler-8ee79be9-52db-4a3c-b30b-b676cd4a503b</p>\n",
       "            <table style=\"width: 100%; text-align: left;\">\n",
       "                <tr>\n",
       "                    <td style=\"text-align: left;\">\n",
       "                        <strong>Comm:</strong> tcp://127.0.0.1:33737\n",
       "                    </td>\n",
       "                    <td style=\"text-align: left;\">\n",
       "                        <strong>Workers:</strong> 4\n",
       "                    </td>\n",
       "                </tr>\n",
       "                <tr>\n",
       "                    <td style=\"text-align: left;\">\n",
       "                        <strong>Dashboard:</strong> <a href=\"http://127.0.0.1:42493/status\" target=\"_blank\">http://127.0.0.1:42493/status</a>\n",
       "                    </td>\n",
       "                    <td style=\"text-align: left;\">\n",
       "                        <strong>Total threads:</strong> 16\n",
       "                    </td>\n",
       "                </tr>\n",
       "                <tr>\n",
       "                    <td style=\"text-align: left;\">\n",
       "                        <strong>Started:</strong> Just now\n",
       "                    </td>\n",
       "                    <td style=\"text-align: left;\">\n",
       "                        <strong>Total memory:</strong> 59.85 GiB\n",
       "                    </td>\n",
       "                </tr>\n",
       "            </table>\n",
       "        </div>\n",
       "    </div>\n",
       "\n",
       "    <details style=\"margin-left: 48px;\">\n",
       "        <summary style=\"margin-bottom: 20px;\">\n",
       "            <h3 style=\"display: inline;\">Workers</h3>\n",
       "        </summary>\n",
       "\n",
       "        \n",
       "        <div style=\"margin-bottom: 20px;\">\n",
       "            <div style=\"width: 24px; height: 24px; background-color: #DBF5FF; border: 3px solid #4CC9FF; border-radius: 5px; position: absolute;\"> </div>\n",
       "            <div style=\"margin-left: 48px;\">\n",
       "            <details>\n",
       "                <summary>\n",
       "                    <h4 style=\"margin-bottom: 0px; display: inline;\">Worker: 0</h4>\n",
       "                </summary>\n",
       "                <table style=\"width: 100%; text-align: left;\">\n",
       "                    <tr>\n",
       "                        <td style=\"text-align: left;\">\n",
       "                            <strong>Comm: </strong> tcp://127.0.0.1:46747\n",
       "                        </td>\n",
       "                        <td style=\"text-align: left;\">\n",
       "                            <strong>Total threads: </strong> 4\n",
       "                        </td>\n",
       "                    </tr>\n",
       "                    <tr>\n",
       "                        <td style=\"text-align: left;\">\n",
       "                            <strong>Dashboard: </strong> <a href=\"http://127.0.0.1:37235/status\" target=\"_blank\">http://127.0.0.1:37235/status</a>\n",
       "                        </td>\n",
       "                        <td style=\"text-align: left;\">\n",
       "                            <strong>Memory: </strong> 14.96 GiB\n",
       "                        </td>\n",
       "                    </tr>\n",
       "                    <tr>\n",
       "                        <td style=\"text-align: left;\">\n",
       "                            <strong>Nanny: </strong> tcp://127.0.0.1:44399\n",
       "                        </td>\n",
       "                        <td style=\"text-align: left;\"></td>\n",
       "                    </tr>\n",
       "                    <tr>\n",
       "                        <td colspan=\"2\" style=\"text-align: left;\">\n",
       "                            <strong>Local directory: </strong> /home/ec2-user/SageMaker/NLP-HuggingFace-On-SageMaker/3_Semantic-Textual-Similarity/3_Training/dask-worker-space/worker-1l2u6uos\n",
       "                        </td>\n",
       "                    </tr>\n",
       "\n",
       "                    \n",
       "                    <tr>\n",
       "                        <td style=\"text-align: left;\">\n",
       "                            <strong>GPU: </strong>Tesla V100-SXM2-16GB\n",
       "                        </td>\n",
       "                        <td style=\"text-align: left;\">\n",
       "                            <strong>GPU memory: </strong> 16.00 GiB\n",
       "                        </td>\n",
       "                    </tr>\n",
       "                    \n",
       "\n",
       "                    \n",
       "\n",
       "                </table>\n",
       "            </details>\n",
       "            </div>\n",
       "        </div>\n",
       "        \n",
       "        <div style=\"margin-bottom: 20px;\">\n",
       "            <div style=\"width: 24px; height: 24px; background-color: #DBF5FF; border: 3px solid #4CC9FF; border-radius: 5px; position: absolute;\"> </div>\n",
       "            <div style=\"margin-left: 48px;\">\n",
       "            <details>\n",
       "                <summary>\n",
       "                    <h4 style=\"margin-bottom: 0px; display: inline;\">Worker: 1</h4>\n",
       "                </summary>\n",
       "                <table style=\"width: 100%; text-align: left;\">\n",
       "                    <tr>\n",
       "                        <td style=\"text-align: left;\">\n",
       "                            <strong>Comm: </strong> tcp://127.0.0.1:37537\n",
       "                        </td>\n",
       "                        <td style=\"text-align: left;\">\n",
       "                            <strong>Total threads: </strong> 4\n",
       "                        </td>\n",
       "                    </tr>\n",
       "                    <tr>\n",
       "                        <td style=\"text-align: left;\">\n",
       "                            <strong>Dashboard: </strong> <a href=\"http://127.0.0.1:43371/status\" target=\"_blank\">http://127.0.0.1:43371/status</a>\n",
       "                        </td>\n",
       "                        <td style=\"text-align: left;\">\n",
       "                            <strong>Memory: </strong> 14.96 GiB\n",
       "                        </td>\n",
       "                    </tr>\n",
       "                    <tr>\n",
       "                        <td style=\"text-align: left;\">\n",
       "                            <strong>Nanny: </strong> tcp://127.0.0.1:37471\n",
       "                        </td>\n",
       "                        <td style=\"text-align: left;\"></td>\n",
       "                    </tr>\n",
       "                    <tr>\n",
       "                        <td colspan=\"2\" style=\"text-align: left;\">\n",
       "                            <strong>Local directory: </strong> /home/ec2-user/SageMaker/NLP-HuggingFace-On-SageMaker/3_Semantic-Textual-Similarity/3_Training/dask-worker-space/worker-nw9y77dt\n",
       "                        </td>\n",
       "                    </tr>\n",
       "\n",
       "                    \n",
       "                    <tr>\n",
       "                        <td style=\"text-align: left;\">\n",
       "                            <strong>GPU: </strong>Tesla V100-SXM2-16GB\n",
       "                        </td>\n",
       "                        <td style=\"text-align: left;\">\n",
       "                            <strong>GPU memory: </strong> 16.00 GiB\n",
       "                        </td>\n",
       "                    </tr>\n",
       "                    \n",
       "\n",
       "                    \n",
       "\n",
       "                </table>\n",
       "            </details>\n",
       "            </div>\n",
       "        </div>\n",
       "        \n",
       "        <div style=\"margin-bottom: 20px;\">\n",
       "            <div style=\"width: 24px; height: 24px; background-color: #DBF5FF; border: 3px solid #4CC9FF; border-radius: 5px; position: absolute;\"> </div>\n",
       "            <div style=\"margin-left: 48px;\">\n",
       "            <details>\n",
       "                <summary>\n",
       "                    <h4 style=\"margin-bottom: 0px; display: inline;\">Worker: 2</h4>\n",
       "                </summary>\n",
       "                <table style=\"width: 100%; text-align: left;\">\n",
       "                    <tr>\n",
       "                        <td style=\"text-align: left;\">\n",
       "                            <strong>Comm: </strong> tcp://127.0.0.1:42563\n",
       "                        </td>\n",
       "                        <td style=\"text-align: left;\">\n",
       "                            <strong>Total threads: </strong> 4\n",
       "                        </td>\n",
       "                    </tr>\n",
       "                    <tr>\n",
       "                        <td style=\"text-align: left;\">\n",
       "                            <strong>Dashboard: </strong> <a href=\"http://127.0.0.1:42791/status\" target=\"_blank\">http://127.0.0.1:42791/status</a>\n",
       "                        </td>\n",
       "                        <td style=\"text-align: left;\">\n",
       "                            <strong>Memory: </strong> 14.96 GiB\n",
       "                        </td>\n",
       "                    </tr>\n",
       "                    <tr>\n",
       "                        <td style=\"text-align: left;\">\n",
       "                            <strong>Nanny: </strong> tcp://127.0.0.1:37261\n",
       "                        </td>\n",
       "                        <td style=\"text-align: left;\"></td>\n",
       "                    </tr>\n",
       "                    <tr>\n",
       "                        <td colspan=\"2\" style=\"text-align: left;\">\n",
       "                            <strong>Local directory: </strong> /home/ec2-user/SageMaker/NLP-HuggingFace-On-SageMaker/3_Semantic-Textual-Similarity/3_Training/dask-worker-space/worker-_fxyyvdp\n",
       "                        </td>\n",
       "                    </tr>\n",
       "\n",
       "                    \n",
       "                    <tr>\n",
       "                        <td style=\"text-align: left;\">\n",
       "                            <strong>GPU: </strong>Tesla V100-SXM2-16GB\n",
       "                        </td>\n",
       "                        <td style=\"text-align: left;\">\n",
       "                            <strong>GPU memory: </strong> 16.00 GiB\n",
       "                        </td>\n",
       "                    </tr>\n",
       "                    \n",
       "\n",
       "                    \n",
       "\n",
       "                </table>\n",
       "            </details>\n",
       "            </div>\n",
       "        </div>\n",
       "        \n",
       "        <div style=\"margin-bottom: 20px;\">\n",
       "            <div style=\"width: 24px; height: 24px; background-color: #DBF5FF; border: 3px solid #4CC9FF; border-radius: 5px; position: absolute;\"> </div>\n",
       "            <div style=\"margin-left: 48px;\">\n",
       "            <details>\n",
       "                <summary>\n",
       "                    <h4 style=\"margin-bottom: 0px; display: inline;\">Worker: 3</h4>\n",
       "                </summary>\n",
       "                <table style=\"width: 100%; text-align: left;\">\n",
       "                    <tr>\n",
       "                        <td style=\"text-align: left;\">\n",
       "                            <strong>Comm: </strong> tcp://127.0.0.1:37711\n",
       "                        </td>\n",
       "                        <td style=\"text-align: left;\">\n",
       "                            <strong>Total threads: </strong> 4\n",
       "                        </td>\n",
       "                    </tr>\n",
       "                    <tr>\n",
       "                        <td style=\"text-align: left;\">\n",
       "                            <strong>Dashboard: </strong> <a href=\"http://127.0.0.1:42689/status\" target=\"_blank\">http://127.0.0.1:42689/status</a>\n",
       "                        </td>\n",
       "                        <td style=\"text-align: left;\">\n",
       "                            <strong>Memory: </strong> 14.96 GiB\n",
       "                        </td>\n",
       "                    </tr>\n",
       "                    <tr>\n",
       "                        <td style=\"text-align: left;\">\n",
       "                            <strong>Nanny: </strong> tcp://127.0.0.1:40725\n",
       "                        </td>\n",
       "                        <td style=\"text-align: left;\"></td>\n",
       "                    </tr>\n",
       "                    <tr>\n",
       "                        <td colspan=\"2\" style=\"text-align: left;\">\n",
       "                            <strong>Local directory: </strong> /home/ec2-user/SageMaker/NLP-HuggingFace-On-SageMaker/3_Semantic-Textual-Similarity/3_Training/dask-worker-space/worker-niw2kanw\n",
       "                        </td>\n",
       "                    </tr>\n",
       "\n",
       "                    \n",
       "                    <tr>\n",
       "                        <td style=\"text-align: left;\">\n",
       "                            <strong>GPU: </strong>Tesla V100-SXM2-16GB\n",
       "                        </td>\n",
       "                        <td style=\"text-align: left;\">\n",
       "                            <strong>GPU memory: </strong> 16.00 GiB\n",
       "                        </td>\n",
       "                    </tr>\n",
       "                    \n",
       "\n",
       "                    \n",
       "\n",
       "                </table>\n",
       "            </details>\n",
       "            </div>\n",
       "        </div>\n",
       "        \n",
       "\n",
       "    </details>\n",
       "</div>\n",
       "\n",
       "        </details>\n",
       "    </div>\n",
       "</div>\n",
       "            </details>\n",
       "        \n",
       "\n",
       "    </div>\n",
       "</div>"
      ],
      "text/plain": [
       "<Client: 'tcp://127.0.0.1:33737' processes=4 threads=16, memory=59.85 GiB>"
      ]
     },
     "execution_count": 29,
     "metadata": {},
     "output_type": "execute_result"
    }
   ],
   "source": [
    "from dask.distributed import Client\n",
    "os.environ[\"TOKENIZERS_PARALLELISM\"] = \"True\"\n",
    "\n",
    "n_workers = 4\n",
    "threads_per_worker = 4\n",
    "\n",
    "try: \n",
    "    if das_client.status == 'running':\n",
    "        print(\"DAS client is running\")\n",
    "        pass\n",
    "    else:\n",
    "        print(\"DAS client has been created\")\n",
    "        das_client = Client(n_workers=n_workers, threads_per_worker = threads_per_worker)        \n",
    "except Exception:\n",
    "    # client 생성이 안되어 있으면 아래로 생성\n",
    "    print(\"DAS client has been created\")\n",
    "    das_client = Client(n_workers=n_workers, threads_per_worker = threads_per_worker)\n",
    "    \n",
    "das_client"
   ]
  },
  {
   "cell_type": "markdown",
   "id": "17443ba5",
   "metadata": {},
   "source": [
    "## 3.2. 데이터 준비"
   ]
  },
  {
   "cell_type": "markdown",
   "id": "6be0a4f7",
   "metadata": {},
   "source": [
    "Corpus 를 Pandas Dataframe 으로 로딩"
   ]
  },
  {
   "cell_type": "code",
   "execution_count": 30,
   "id": "ef8cf1e9",
   "metadata": {},
   "outputs": [
    {
     "name": "stdout",
     "output_type": "stream",
     "text": [
      "df shape:  (20000, 1)\n"
     ]
    }
   ],
   "source": [
    "df = pd.DataFrame(data=corpus, columns=['doc'])\n",
    "print(\"df shape: \", df.shape)\n",
    "\n"
   ]
  },
  {
   "cell_type": "markdown",
   "id": "20266a18",
   "metadata": {},
   "source": [
    "Pandas Dataframe 을 DAS DataFrame 으로 변경"
   ]
  },
  {
   "cell_type": "code",
   "execution_count": 31,
   "id": "514222c5",
   "metadata": {},
   "outputs": [
    {
     "data": {
      "text/html": [
       "<div>\n",
       "<style scoped>\n",
       "    .dataframe tbody tr th:only-of-type {\n",
       "        vertical-align: middle;\n",
       "    }\n",
       "\n",
       "    .dataframe tbody tr th {\n",
       "        vertical-align: top;\n",
       "    }\n",
       "\n",
       "    .dataframe thead th {\n",
       "        text-align: right;\n",
       "    }\n",
       "</style>\n",
       "<table border=\"1\" class=\"dataframe\">\n",
       "  <thead>\n",
       "    <tr style=\"text-align: right;\">\n",
       "      <th></th>\n",
       "      <th>doc</th>\n",
       "    </tr>\n",
       "  </thead>\n",
       "  <tbody>\n",
       "    <tr>\n",
       "      <th>0</th>\n",
       "      <td>그는 \"터키 원전수주 계약은 일본 정부의 장기 위험 보증 조항에 달려 있다\"고 덧붙였다.</td>\n",
       "    </tr>\n",
       "    <tr>\n",
       "      <th>1</th>\n",
       "      <td>기재부 고위 관계자는 \"김동연 부총리가 오고 지난해 예산안 통과 과정에서 예산실이 ...</td>\n",
       "    </tr>\n",
       "    <tr>\n",
       "      <th>2</th>\n",
       "      <td>선수들을 지도하고 있는 원동현은 \"이번 훈련을 통해 여자핸드볼 국가대표 선수들이 강...</td>\n",
       "    </tr>\n",
       "    <tr>\n",
       "      <th>3</th>\n",
       "      <td>광 작가도 \"게임은 거의 처음 하는 작업인데 새로운 경험이 됐다.</td>\n",
       "    </tr>\n",
       "    <tr>\n",
       "      <th>4</th>\n",
       "      <td>김동철 국민의당 원내대표도 강 후보자에 대해 \"도덕적 흠결도 많을뿐더러 그 흠결을 ...</td>\n",
       "    </tr>\n",
       "    <tr>\n",
       "      <th>...</th>\n",
       "      <td>...</td>\n",
       "    </tr>\n",
       "    <tr>\n",
       "      <th>19995</th>\n",
       "      <td>이어 \"감독 입장에서 휴식기는 엔진을 완전히 꺼버리는 시기가 절대 아니다\"며 \"휴식...</td>\n",
       "    </tr>\n",
       "    <tr>\n",
       "      <th>19996</th>\n",
       "      <td>1심 구속만기 6개월이 끝나는 10월16일 자정을 기해 반드시 석방돼야 한다\"고 주...</td>\n",
       "    </tr>\n",
       "    <tr>\n",
       "      <th>19997</th>\n",
       "      <td>그는 서·최 의원에 대한 소명절차에 대해 \"그 과정은 조금 잘 안 된 걸로 알고 있...</td>\n",
       "    </tr>\n",
       "    <tr>\n",
       "      <th>19998</th>\n",
       "      <td>침묵하며 지켜보는 다수의 국민이 있다\"고 말했다.</td>\n",
       "    </tr>\n",
       "    <tr>\n",
       "      <th>19999</th>\n",
       "      <td>또 \"현장에서 모든 GP 근무원들과 후송 의료진들 모두 최선을 다 했는데 그런 것들...</td>\n",
       "    </tr>\n",
       "  </tbody>\n",
       "</table>\n",
       "<p>20000 rows × 1 columns</p>\n",
       "</div>"
      ],
      "text/plain": [
       "                                                     doc\n",
       "0      그는 \"터키 원전수주 계약은 일본 정부의 장기 위험 보증 조항에 달려 있다\"고 덧붙였다.\n",
       "1      기재부 고위 관계자는 \"김동연 부총리가 오고 지난해 예산안 통과 과정에서 예산실이 ...\n",
       "2      선수들을 지도하고 있는 원동현은 \"이번 훈련을 통해 여자핸드볼 국가대표 선수들이 강...\n",
       "3                   광 작가도 \"게임은 거의 처음 하는 작업인데 새로운 경험이 됐다.\n",
       "4      김동철 국민의당 원내대표도 강 후보자에 대해 \"도덕적 흠결도 많을뿐더러 그 흠결을 ...\n",
       "...                                                  ...\n",
       "19995  이어 \"감독 입장에서 휴식기는 엔진을 완전히 꺼버리는 시기가 절대 아니다\"며 \"휴식...\n",
       "19996  1심 구속만기 6개월이 끝나는 10월16일 자정을 기해 반드시 석방돼야 한다\"고 주...\n",
       "19997  그는 서·최 의원에 대한 소명절차에 대해 \"그 과정은 조금 잘 안 된 걸로 알고 있...\n",
       "19998                        침묵하며 지켜보는 다수의 국민이 있다\"고 말했다.\n",
       "19999  또 \"현장에서 모든 GP 근무원들과 후송 의료진들 모두 최선을 다 했는데 그런 것들...\n",
       "\n",
       "[20000 rows x 1 columns]"
      ]
     },
     "execution_count": 31,
     "metadata": {},
     "output_type": "execute_result"
    }
   ],
   "source": [
    "import dask.dataframe as dd\n",
    "ddf = dd.from_pandas(df, npartitions=n_workers)\n",
    "ddf.compute()"
   ]
  },
  {
   "cell_type": "markdown",
   "id": "49821752",
   "metadata": {},
   "source": [
    "DAS Dataframe 의 compute graph 보여 주기"
   ]
  },
  {
   "cell_type": "code",
   "execution_count": 32,
   "id": "4a6ebe15",
   "metadata": {},
   "outputs": [
    {
     "data": {
      "image/png": "[encoded data removed]",
      "text/plain": [
       "<IPython.core.display.Image object>"
      ]
     },
     "execution_count": 32,
     "metadata": {},
     "output_type": "execute_result"
    }
   ],
   "source": [
    "ddf.visualize()"
   ]
  },
  {
   "cell_type": "markdown",
   "id": "50a94d02",
   "metadata": {},
   "source": [
    "## 3.3. 벙렬로 전처리 수행"
   ]
  },
  {
   "cell_type": "markdown",
   "id": "5783b6a7",
   "metadata": {},
   "source": [
    "n_worker = 4 로 n_thread=4 로 10,000 개시 30초, 20,000 개의 전처리시에 약 45초 걸립니다."
   ]
  },
  {
   "cell_type": "code",
   "execution_count": 34,
   "id": "dbe8dc68",
   "metadata": {
    "tags": []
   },
   "outputs": [
    {
     "name": "stdout",
     "output_type": "stream",
     "text": [
      "CPU times: user 6.76 s, sys: 1.17 s, total: 7.94 s\n",
      "Wall time: 1min 22s\n"
     ]
    }
   ],
   "source": [
    "%%time\n",
    "\n",
    "from IPython.display import display as dp\n",
    "import traceback\n",
    "from custom_util import remove_spec_chars\n",
    "\n",
    "try: \n",
    "    # ddf[\"doc_cl\"] = ddf[\"doc\"].apply(preproces_doc, meta=('doc', 'object')).compute()      \n",
    "    ddf[\"doc_cl\"] = ddf[\"doc\"].apply(remove_spec_chars, meta=('doc', 'object')).compute()      \n",
    "    ddf[\"doc_cl\"] = ddf[\"doc_cl\"].apply(Okt_tokenizer,meta=('doc_cl', 'object') ).compute()      \n",
    "    ddf[\"doc_cl\"].compute()\n",
    "except Exception:\n",
    "    print(traceback.format_exc())    "
   ]
  },
  {
   "cell_type": "markdown",
   "id": "03474269",
   "metadata": {},
   "source": [
    "## 3.4. pandas df 로 변경"
   ]
  },
  {
   "cell_type": "markdown",
   "id": "1dcdfbe5",
   "metadata": {},
   "source": [
    "das dataframe 에서 pandas dataframe 으로 변경"
   ]
  },
  {
   "cell_type": "code",
   "execution_count": 35,
   "id": "d71bb3ac",
   "metadata": {},
   "outputs": [
    {
     "data": {
      "text/html": [
       "<div>\n",
       "<style scoped>\n",
       "    .dataframe tbody tr th:only-of-type {\n",
       "        vertical-align: middle;\n",
       "    }\n",
       "\n",
       "    .dataframe tbody tr th {\n",
       "        vertical-align: top;\n",
       "    }\n",
       "\n",
       "    .dataframe thead th {\n",
       "        text-align: right;\n",
       "    }\n",
       "</style>\n",
       "<table border=\"1\" class=\"dataframe\">\n",
       "  <thead>\n",
       "    <tr style=\"text-align: right;\">\n",
       "      <th></th>\n",
       "      <th>doc</th>\n",
       "      <th>doc_cl</th>\n",
       "    </tr>\n",
       "  </thead>\n",
       "  <tbody>\n",
       "    <tr>\n",
       "      <th>0</th>\n",
       "      <td>그는 \"터키 원전수주 계약은 일본 정부의 장기 위험 보증 조항에 달려 있다\"고 덧붙였다.</td>\n",
       "      <td>터키 원전 수주 계약 일본 정부 장기 위험 보증 조항</td>\n",
       "    </tr>\n",
       "    <tr>\n",
       "      <th>1</th>\n",
       "      <td>기재부 고위 관계자는 \"김동연 부총리가 오고 지난해 예산안 통과 과정에서 예산실이 ...</td>\n",
       "      <td>기재부 고위 관계자 김동연 부총리 지난해 예산안 통과 과정 산실 밤샘 근무 하루 예...</td>\n",
       "    </tr>\n",
       "    <tr>\n",
       "      <th>2</th>\n",
       "      <td>선수들을 지도하고 있는 원동현은 \"이번 훈련을 통해 여자핸드볼 국가대표 선수들이 강...</td>\n",
       "      <td>선수 지도 동현 이번 훈련 통해 여자 핸드볼 국가대표 선수 강인하다 해병 정신 무장...</td>\n",
       "    </tr>\n",
       "    <tr>\n",
       "      <th>3</th>\n",
       "      <td>광 작가도 \"게임은 거의 처음 하는 작업인데 새로운 경험이 됐다.</td>\n",
       "      <td>작가 게임 거의 처음 작업 새롭다 경험</td>\n",
       "    </tr>\n",
       "    <tr>\n",
       "      <th>4</th>\n",
       "      <td>김동철 국민의당 원내대표도 강 후보자에 대해 \"도덕적 흠결도 많을뿐더러 그 흠결을 ...</td>\n",
       "      <td>김동철 국민의당 원내대표 후보자 대해 도덕 흠결 많다 흠결 자질 역량 없다 혹평 외...</td>\n",
       "    </tr>\n",
       "    <tr>\n",
       "      <th>...</th>\n",
       "      <td>...</td>\n",
       "      <td>...</td>\n",
       "    </tr>\n",
       "    <tr>\n",
       "      <th>19995</th>\n",
       "      <td>이어 \"감독 입장에서 휴식기는 엔진을 완전히 꺼버리는 시기가 절대 아니다\"며 \"휴식...</td>\n",
       "      <td>감독 입장 휴식 엔진 완전하다 시기 절대 아니다 휴식 동안 계속 엔진 후반기 선수 ...</td>\n",
       "    </tr>\n",
       "    <tr>\n",
       "      <th>19996</th>\n",
       "      <td>1심 구속만기 6개월이 끝나는 10월16일 자정을 기해 반드시 석방돼야 한다\"고 주...</td>\n",
       "      <td>구속 만기 개월 자정 기해 반드시 석방 주장</td>\n",
       "    </tr>\n",
       "    <tr>\n",
       "      <th>19997</th>\n",
       "      <td>그는 서·최 의원에 대한 소명절차에 대해 \"그 과정은 조금 잘 안 된 걸로 알고 있...</td>\n",
       "      <td>의원 대한 소명 절차 대해 과정 조금 왜냐면 현재 국정감사 외국 때문</td>\n",
       "    </tr>\n",
       "    <tr>\n",
       "      <th>19998</th>\n",
       "      <td>침묵하며 지켜보는 다수의 국민이 있다\"고 말했다.</td>\n",
       "      <td>침묵 다수 국민</td>\n",
       "    </tr>\n",
       "    <tr>\n",
       "      <th>19999</th>\n",
       "      <td>또 \"현장에서 모든 GP 근무원들과 후송 의료진들 모두 최선을 다 했는데 그런 것들...</td>\n",
       "      <td>현장 모든 근무 후송 의료 모두 최선 그렇다 같다 걱정 하사 고민 노고 훼손 약속</td>\n",
       "    </tr>\n",
       "  </tbody>\n",
       "</table>\n",
       "<p>20000 rows × 2 columns</p>\n",
       "</div>"
      ],
      "text/plain": [
       "                                                     doc  \\\n",
       "0      그는 \"터키 원전수주 계약은 일본 정부의 장기 위험 보증 조항에 달려 있다\"고 덧붙였다.   \n",
       "1      기재부 고위 관계자는 \"김동연 부총리가 오고 지난해 예산안 통과 과정에서 예산실이 ...   \n",
       "2      선수들을 지도하고 있는 원동현은 \"이번 훈련을 통해 여자핸드볼 국가대표 선수들이 강...   \n",
       "3                   광 작가도 \"게임은 거의 처음 하는 작업인데 새로운 경험이 됐다.   \n",
       "4      김동철 국민의당 원내대표도 강 후보자에 대해 \"도덕적 흠결도 많을뿐더러 그 흠결을 ...   \n",
       "...                                                  ...   \n",
       "19995  이어 \"감독 입장에서 휴식기는 엔진을 완전히 꺼버리는 시기가 절대 아니다\"며 \"휴식...   \n",
       "19996  1심 구속만기 6개월이 끝나는 10월16일 자정을 기해 반드시 석방돼야 한다\"고 주...   \n",
       "19997  그는 서·최 의원에 대한 소명절차에 대해 \"그 과정은 조금 잘 안 된 걸로 알고 있...   \n",
       "19998                        침묵하며 지켜보는 다수의 국민이 있다\"고 말했다.   \n",
       "19999  또 \"현장에서 모든 GP 근무원들과 후송 의료진들 모두 최선을 다 했는데 그런 것들...   \n",
       "\n",
       "                                                  doc_cl  \n",
       "0                          터키 원전 수주 계약 일본 정부 장기 위험 보증 조항  \n",
       "1      기재부 고위 관계자 김동연 부총리 지난해 예산안 통과 과정 산실 밤샘 근무 하루 예...  \n",
       "2      선수 지도 동현 이번 훈련 통해 여자 핸드볼 국가대표 선수 강인하다 해병 정신 무장...  \n",
       "3                                  작가 게임 거의 처음 작업 새롭다 경험  \n",
       "4      김동철 국민의당 원내대표 후보자 대해 도덕 흠결 많다 흠결 자질 역량 없다 혹평 외...  \n",
       "...                                                  ...  \n",
       "19995  감독 입장 휴식 엔진 완전하다 시기 절대 아니다 휴식 동안 계속 엔진 후반기 선수 ...  \n",
       "19996                           구속 만기 개월 자정 기해 반드시 석방 주장  \n",
       "19997             의원 대한 소명 절차 대해 과정 조금 왜냐면 현재 국정감사 외국 때문  \n",
       "19998                                           침묵 다수 국민  \n",
       "19999      현장 모든 근무 후송 의료 모두 최선 그렇다 같다 걱정 하사 고민 노고 훼손 약속  \n",
       "\n",
       "[20000 rows x 2 columns]"
      ]
     },
     "execution_count": 35,
     "metadata": {},
     "output_type": "execute_result"
    }
   ],
   "source": [
    "pd_df = ddf.compute()\n",
    "pd_df"
   ]
  },
  {
   "cell_type": "markdown",
   "id": "b606784d",
   "metadata": {},
   "source": [
    "## 3.5. DASK Cluster 셧다운"
   ]
  },
  {
   "cell_type": "code",
   "execution_count": 36,
   "id": "4f881003",
   "metadata": {},
   "outputs": [
    {
     "name": "stderr",
     "output_type": "stream",
     "text": [
      "distributed.nanny - WARNING - Worker process still alive after 3 seconds, killing\n"
     ]
    }
   ],
   "source": [
    "import time\n",
    "\n",
    "das_client.shutdown()\n",
    "time.sleep(5)"
   ]
  },
  {
   "cell_type": "markdown",
   "id": "01f77965",
   "metadata": {},
   "source": [
    "## 3.6. (옵션) DASK 에러시에 아래 주석을 제거하고 작업 하세요.\n",
    "- 10,000 개 실행시에 약 2분 40초 걸림"
   ]
  },
  {
   "cell_type": "code",
   "execution_count": 37,
   "id": "06137641",
   "metadata": {},
   "outputs": [],
   "source": [
    "# %%time\n",
    "        \n",
    "# from custom_util import preprocess_doc\n",
    "\n",
    "# pd_df = preprocess_doc(df)"
   ]
  },
  {
   "cell_type": "markdown",
   "id": "f4bfad88",
   "metadata": {
    "tags": []
   },
   "source": [
    "# 4. 전처리 도입 후에 추론"
   ]
  },
  {
   "cell_type": "markdown",
   "id": "7d09c942",
   "metadata": {},
   "source": [
    "전처리된 Corpus를 embedding encoding 형태로 변경"
   ]
  },
  {
   "cell_type": "code",
   "execution_count": 38,
   "id": "c91e341a",
   "metadata": {
    "tags": []
   },
   "outputs": [
    {
     "data": {
      "application/vnd.jupyter.widget-view+json": {
       "model_id": "74ad3668aa6c486f8f878ff1992a34d8",
       "version_major": 2,
       "version_minor": 0
      },
      "text/plain": [
       "Batches:   0%|          | 0/313 [00:00<?, ?it/s]"
      ]
     },
     "metadata": {},
     "output_type": "display_data"
    }
   ],
   "source": [
    "corpus_cl = pd_df['doc_cl'].tolist()\n",
    "corpus_embeddings_cl = encode_multi_gpu_embedding(model, corpus_cl)"
   ]
  },
  {
   "cell_type": "markdown",
   "id": "d3f8532b",
   "metadata": {},
   "source": [
    "## 4.1. Corpus: 전처리, Query : 전처리, 토큰 (명사, 형용사)"
   ]
  },
  {
   "cell_type": "code",
   "execution_count": 39,
   "id": "9b419d9d",
   "metadata": {},
   "outputs": [
    {
     "data": {
      "application/vnd.jupyter.widget-view+json": {
       "model_id": "1e7abe8ca40d4cdb933175c8bbe30a4a",
       "version_major": 2,
       "version_minor": 0
      },
      "text/plain": [
       "Batches:   0%|          | 0/1 [00:00<?, ?it/s]"
      ]
     },
     "metadata": {},
     "output_type": "display_data"
    },
    {
     "name": "stdout",
     "output_type": "stream",
     "text": [
      "\n",
      "======================\n",
      "Query: 시즌 정규 리그 경기 작성 손흥민 울버햄프턴 상대로 득점 성공하다 무함마드 살라 리버풀 정규 리그 득점 공동 아시아 출신 선수 득점 오른 손흥민 처음 아니다 유럽 축구 리그 잉글랜드 스페인 독일 프랑스 이탈리아 범위 아시아 선수 득점 전례 어렵다\n",
      "======================\n",
      "\n",
      "Top 5 most similar sentences in corpus:\n",
      "\n",
      "(Score: 0.5437) 영국 매체 스포츠 잉글리시 이승우 카를 레스 알레나 신비 듀오 칭찬 스페인 매체 마르카 클럽 최고 선수 이승우 알레나 득점\n",
      "(Score: 0.4814) 상대 에이스 로페즈 상대로 안타 득점 대해 서도 에이스 상대로 대량 득점 기대하다 없다 필요하다 점수 다운 야구 호평\n",
      "(Score: 0.4777) 경기 손흥민 구단 공식 퍼스 인터뷰 통해 준결승 웸블리 스타디움 중요하다 경기 승리 해트트릭 기록 정말 어렵다 기쁘다 승리 더욱 행복하다 소감\n",
      "(Score: 0.4703) 정규 리그 우승 상태 감독 플레이오프 직행 티켓 만큼 마지막 최선 각오\n",
      "(Score: 0.4620) 최형우 올스타전 홈런 레이스 목표 아웃 개도 같다 올스타전 경기 괜찮다 홈런 레이스 긴장\n"
     ]
    }
   ],
   "source": [
    "top_k = 5\n",
    "\n",
    "queries = [\n",
    "            '올 시즌 정규리그 35경기에서 23골을 작성한 손흥민은 이날 울버햄프턴을 상대로 득점에 \\\n",
    "            성공한 무함마드 살라흐(리버풀·23골)와 함께 정규리그 득점 공동 1위에 올랐다.\\\n",
    "            아시아 출신 선수가 EPL에서 득점왕에 오른 건 손흥민이 처음이다. \\\n",
    "            EPL뿐 아니라 유럽축구 5대 리그(잉글랜드·스페인·독일·프랑스·이탈리아)로 범위를 넓혀도 \\\n",
    "            아시아 선수 득점왕의 전례를 찾아보기 어렵다.'\n",
    "          ]\n",
    "\n",
    "queries = [Okt_tokenizer(queries[0])]\n",
    "queries\n",
    "semantic_search(model, corpus_cl, corpus_embeddings_cl, queries, top_k)"
   ]
  },
  {
   "cell_type": "code",
   "execution_count": 40,
   "id": "9f687468",
   "metadata": {},
   "outputs": [
    {
     "data": {
      "application/vnd.jupyter.widget-view+json": {
       "model_id": "b38fa703df9840ce84862c13f1a97b2d",
       "version_major": 2,
       "version_minor": 0
      },
      "text/plain": [
       "Batches:   0%|          | 0/1 [00:00<?, ?it/s]"
      ]
     },
     "metadata": {},
     "output_type": "display_data"
    },
    {
     "name": "stdout",
     "output_type": "stream",
     "text": [
      "\n",
      "======================\n",
      "Query: 전자 확정 실적 발표 전일 이틀 증권사 분석 보고서 대부분 부진하다 주가 차례 조정 두운 전망 우리나라 기업 주식 이렇다 미국 어깨 사서 무릎 호실 오늘 기대하다 바보 증권 가도 개미 전망 상황 하반기 실적 암울하다 중론\n",
      "======================\n",
      "\n",
      "Top 5 most similar sentences in corpus:\n",
      "\n",
      "(Score: 0.6638) 서상영 증권 연구원 한국 증시 미국 증시 강세 상회 차익 실현 매물 하락 전환 운송업 종이 전날 부진하다 미국 판매량 발표 여파 코스피 하락 주도하다 설명\n",
      "(Score: 0.6381) 다른 증권사 연구원 오버 이슈 상장 차례 주가 조정 조정 주식 매수 나쁘다 선택\n",
      "(Score: 0.6314) 관련 윤여삼 미래에셋 대우 증권 연구원 브렉 시트 글로벌 여건 판단 어렵다 하반기 여건 라며 채권 매수 관점 금리 급락 전망\n",
      "(Score: 0.6158) 김세중 증권 투자 전략 오늘 하루 기관 펀드 유입 현금 가지 저가 매수 면서 대외 여건 잠시 진정 금요일 매물 주가 펀더 멘털 이상 판단 지적\n",
      "(Score: 0.6022) 김승철 리츠 종금 증권 연구원 향후 주가 대한 부정 시각 여러 조건 블록딜 불발 블록딜 자체 무산 불확실 판단\n"
     ]
    }
   ],
   "source": [
    "top_k = 5\n",
    "\n",
    "queries = [\n",
    "        '삼성전자의 2분기 확정 실적이 발표된 전일부터 이틀간 증권사 18곳에서 분석 보고서를 냈다.\\\n",
    "        대부분은 3분기가 더 부진할 것인 데다 주가는 한 차례 더 조정이 올 것이란 어두운 전망을 내놓았다.\\\n",
    "        우리나라 시총 1위 기업 주식이 이런데, 미국 장으로 옮기는 데 답인가, 어깨에서 사서 무릎에 팔게 생겼다' '호실적에도 떨어지고' '오늘도 기대했던 내가 바보다 \\\n",
    "        증권가도 떠나는 개미들을 붙잡을 만한 전망을 내놓지 못하는 상황이다. 하반기 실적은 더 암울할 것이라는 게 중론이어서다.'\n",
    "        ]\n",
    "\n",
    "\n",
    "queries = [Okt_tokenizer(queries[0])]\n",
    "queries\n",
    "semantic_search(model, corpus_cl, corpus_embeddings_cl, queries, top_k)"
   ]
  },
  {
   "cell_type": "markdown",
   "id": "66211378",
   "metadata": {
    "tags": []
   },
   "source": [
    "# (실행 제외 합니다.) \n",
    "5. Semantic Search (상품 리뷰)\n",
    "\n",
    "- 아래의 데이터 파일은 비공개이어서, 이 섹션은 실행은 제외 하세요."
   ]
  },
  {
   "cell_type": "markdown",
   "id": "00fac5b7",
   "metadata": {},
   "source": [
    "## 5.1. 데이터 준비"
   ]
  },
  {
   "cell_type": "code",
   "execution_count": 41,
   "id": "af858582",
   "metadata": {},
   "outputs": [],
   "source": [
    "product_best_data_file = 'data/product_review/best_sample.json'"
   ]
  },
  {
   "cell_type": "code",
   "execution_count": 42,
   "id": "69765674",
   "metadata": {},
   "outputs": [
    {
     "ename": "FileNotFoundError",
     "evalue": "[Errno 2] No such file or directory: 'data/product_review/best_sample.json'",
     "output_type": "error",
     "traceback": [
      "\u001b[0;31m---------------------------------------------------------------------------\u001b[0m",
      "\u001b[0;31mFileNotFoundError\u001b[0m                         Traceback (most recent call last)",
      "\u001b[0;32m<ipython-input-42-8af30298aabe>\u001b[0m in \u001b[0;36m<module>\u001b[0;34m\u001b[0m\n\u001b[1;32m      1\u001b[0m \u001b[0;32mimport\u001b[0m \u001b[0mjson\u001b[0m\u001b[0;34m\u001b[0m\u001b[0;34m\u001b[0m\u001b[0m\n\u001b[1;32m      2\u001b[0m \u001b[0;34m\u001b[0m\u001b[0m\n\u001b[0;32m----> 3\u001b[0;31m \u001b[0;32mwith\u001b[0m \u001b[0mopen\u001b[0m\u001b[0;34m(\u001b[0m\u001b[0mproduct_best_data_file\u001b[0m\u001b[0;34m)\u001b[0m \u001b[0;32mas\u001b[0m \u001b[0mjson_file\u001b[0m\u001b[0;34m:\u001b[0m\u001b[0;34m\u001b[0m\u001b[0;34m\u001b[0m\u001b[0m\n\u001b[0m\u001b[1;32m      4\u001b[0m     \u001b[0mbest_review_data\u001b[0m \u001b[0;34m=\u001b[0m \u001b[0mjson\u001b[0m\u001b[0;34m.\u001b[0m\u001b[0mload\u001b[0m\u001b[0;34m(\u001b[0m\u001b[0mjson_file\u001b[0m\u001b[0;34m)\u001b[0m\u001b[0;34m\u001b[0m\u001b[0;34m\u001b[0m\u001b[0m\n\u001b[1;32m      5\u001b[0m \u001b[0;34m\u001b[0m\u001b[0m\n",
      "\u001b[0;31mFileNotFoundError\u001b[0m: [Errno 2] No such file or directory: 'data/product_review/best_sample.json'"
     ]
    }
   ],
   "source": [
    "import json\n",
    "\n",
    "with open(product_best_data_file) as json_file:\n",
    "    best_review_data = json.load(json_file)\n",
    "    \n",
    "best_df = pd.DataFrame(best_review_data)\n",
    "best_df.rename(columns={'contents' : 'doc'}, inplace=True)\n",
    "best_df"
   ]
  },
  {
   "cell_type": "code",
   "execution_count": null,
   "id": "65e10bb0",
   "metadata": {},
   "outputs": [],
   "source": [
    "%%time\n",
    "pd.set_option('max_colwidth', 1000)\n",
    "\n",
    "from custom_util import preprocess_doc\n",
    "\n",
    "best_df_cl = preprocess_doc(best_df)\n",
    "best_df_cl"
   ]
  },
  {
   "cell_type": "markdown",
   "id": "5c645969",
   "metadata": {},
   "source": [
    "## 5.2. Corpus: 원문, Query : 원문"
   ]
  },
  {
   "cell_type": "code",
   "execution_count": null,
   "id": "374ac26c",
   "metadata": {},
   "outputs": [],
   "source": [
    "corpus = best_df_cl['doc'].tolist()\n",
    "corpus_pd_review_embeddings = encode_multi_gpu_embedding(model, corpus)"
   ]
  },
  {
   "cell_type": "code",
   "execution_count": null,
   "id": "67950a48",
   "metadata": {},
   "outputs": [],
   "source": [
    "    \n",
    "top_k = 3\n",
    "\n",
    "queries = [ '가격 : 할인가 개당 3,720원 (2개 이상 구입 필수) 양 : 1인분으로 평범한 양, \\\n",
    "            점심에 먹는 것을 추천 조리시간 및 난이도 : 약 7분, 라면 끓이는 수준의 난이도 평가 : 시중에 파는 \\\n",
    "            우동이 2천원대라는 점을 비교하면 3천원대로 나름 고급형 우동을 집에서 편하게 먹을 수 있어요. \\\n",
    "            어묵 사이즈는 여성 손바닥 정도이고, 한장 크게 들어가있어서 먹으면서 잘라 먹거나 베어 먹으면 됩니다. \\\n",
    "            국물과 어묵이 맛있어서 우동면 하나도 남기지 않고 다 먹었어요. \\\n",
    "            고추우동이라서 살짝 매콤한가 했는데 전혀 맵지 않고 칼칼함도 없이 시원하고 짭쫄한 맛입니다. \\\n",
    "            조리 방법은 뒷면에 상세하게 나와있어서 라면 끓일 줄 아는 분들이면 쉽게 따라할 수 있을거에요. \\\n",
    "            저는 설명서에 다른 채소와 함께 끓이면 더 맛있다고 하여 알배기배추 작은 거 추가해줬더니 씹는 맛이 일품이네요. \\\n",
    "            냉장고에 남는 채소 있으면 같이 끓이시는 것 추천! 맛있게 잘 먹었습니다 :)'\n",
    "          ]\n",
    "# queries = [Okt_tokenizer(queries[0])]\n",
    "# queries\n",
    "semantic_search(model, corpus, corpus_pd_review_embeddings, queries, top_k)"
   ]
  },
  {
   "cell_type": "markdown",
   "id": "ff1567ef",
   "metadata": {},
   "source": [
    "## 5.3. Corpus: 전처리, Query : 전처리, 토큰 (명사, 형용사)"
   ]
  },
  {
   "cell_type": "code",
   "execution_count": null,
   "id": "ac8f3edb",
   "metadata": {},
   "outputs": [],
   "source": [
    "corpus_cl = best_df_cl['doc_cl'].tolist()\n",
    "corpus_pd_review_embeddings_cl = encode_multi_gpu_embedding(model, corpus_cl)"
   ]
  },
  {
   "cell_type": "code",
   "execution_count": null,
   "id": "088e6d9b",
   "metadata": {},
   "outputs": [],
   "source": [
    "    \n",
    "top_k = 3\n",
    "\n",
    "queries = [ '가격 : 할인가 개당 3,720원 (2개 이상 구입 필수) 양 : 1인분으로 평범한 양, \\\n",
    "            점심에 먹는 것을 추천 조리시간 및 난이도 : 약 7분, 라면 끓이는 수준의 난이도 평가 : 시중에 파는 \\\n",
    "            우동이 2천원대라는 점을 비교하면 3천원대로 나름 고급형 우동을 집에서 편하게 먹을 수 있어요. \\\n",
    "            어묵 사이즈는 여성 손바닥 정도이고, 한장 크게 들어가있어서 먹으면서 잘라 먹거나 베어 먹으면 됩니다. \\\n",
    "            국물과 어묵이 맛있어서 우동면 하나도 남기지 않고 다 먹었어요. \\\n",
    "            고추우동이라서 살짝 매콤한가 했는데 전혀 맵지 않고 칼칼함도 없이 시원하고 짭쫄한 맛입니다. \\\n",
    "            조리 방법은 뒷면에 상세하게 나와있어서 라면 끓일 줄 아는 분들이면 쉽게 따라할 수 있을거에요. \\\n",
    "            저는 설명서에 다른 채소와 함께 끓이면 더 맛있다고 하여 알배기배추 작은 거 추가해줬더니 씹는 맛이 일품이네요. \\\n",
    "            냉장고에 남는 채소 있으면 같이 끓이시는 것 추천! 맛있게 잘 먹었습니다 :)'\n",
    "          ]\n",
    "queries = [Okt_tokenizer(queries[0])]\n",
    "queries\n",
    "semantic_search(model, corpus, corpus_pd_review_embeddings, queries, top_k)"
   ]
  },
  {
   "cell_type": "markdown",
   "id": "e5baa417",
   "metadata": {},
   "source": [
    "## 5.4. Non-Best Review (???) - Corpus: 전처리, Query : 전처리, 토큰 (명사, 형용사)"
   ]
  },
  {
   "cell_type": "code",
   "execution_count": null,
   "id": "394920ef",
   "metadata": {},
   "outputs": [],
   "source": [
    "    \n",
    "top_k = 3\n",
    "\n",
    "queries = [ '매콤어묵도 깔끔한 맛이에요']\n",
    "queries = [Okt_tokenizer(queries[0])]\n",
    "queries\n",
    "semantic_search(model, corpus, corpus_pd_review_embeddings_cl, queries, top_k)"
   ]
  },
  {
   "cell_type": "code",
   "execution_count": null,
   "id": "b8f8a833",
   "metadata": {},
   "outputs": [],
   "source": [
    "    \n",
    "top_k = 3\n",
    "\n",
    "queries = [ '한개가 간장소스가 다 터져서 문의글 남기면서 보니, \\\n",
    "            간장 터져서 왔다는 글이 많이 보이네요. 맛있는데 불안해서 또 시킬 수 있을지 모르겠네요ㅜㅜ'\n",
    "          ]\n",
    "queries = [Okt_tokenizer(queries[0])]\n",
    "queries\n",
    "semantic_search(model, corpus, corpus_pd_review_embeddings_cl, queries, top_k)"
   ]
  },
  {
   "cell_type": "code",
   "execution_count": null,
   "id": "9db106fd",
   "metadata": {},
   "outputs": [],
   "source": []
  },
  {
   "cell_type": "code",
   "execution_count": null,
   "id": "2f824e8f",
   "metadata": {},
   "outputs": [],
   "source": []
  },
  {
   "cell_type": "code",
   "execution_count": null,
   "id": "bf9a9343",
   "metadata": {},
   "outputs": [],
   "source": []
  },
  {
   "cell_type": "code",
   "execution_count": null,
   "id": "f98fe596",
   "metadata": {},
   "outputs": [],
   "source": []
  },
  {
   "cell_type": "code",
   "execution_count": null,
   "id": "b8af9623",
   "metadata": {},
   "outputs": [],
   "source": []
  }
 ],
 "metadata": {
  "kernelspec": {
   "display_name": "conda_python3",
   "language": "python",
   "name": "conda_python3"
  },
  "language_info": {
   "codemirror_mode": {
    "name": "ipython",
    "version": 3
   },
   "file_extension": ".py",
   "mimetype": "text/x-python",
   "name": "python",
   "nbconvert_exporter": "python",
   "pygments_lexer": "ipython3",
   "version": "3.8.12"
  }
 },
 "nbformat": 4,
 "nbformat_minor": 5
}
