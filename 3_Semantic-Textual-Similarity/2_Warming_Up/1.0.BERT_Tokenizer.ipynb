{
 "cells": [
  {
   "cell_type": "markdown",
   "id": "0f449047-280d-461a-aaa8-4ffd83cfc90b",
   "metadata": {
    "jp-MarkdownHeadingCollapsed": true,
    "tags": []
   },
   "source": [
    "# Warming Up - BERT Tokenizer 소개\n",
    "\n",
    "- BERT 의 Tokenizer 방식에 대해서 이해를 합니다. 참조의 링크를 통해서 자세히 알아 볼 수 있습니다.\n",
    "\n",
    "---\n",
    "\n",
    "### 참조\n",
    "- [자연어처리_BERT 기초개념(완전 초보용)](https://han-py.tistory.com/252)\n",
    "- 4. BERT의 서브워드 토크나이저 : WordPiece\n",
    "    - https://wikidocs.net/115055"
   ]
  },
  {
   "cell_type": "markdown",
   "id": "5359730f-ddfd-43e2-8575-51b78f123b56",
   "metadata": {},
   "source": [
    "# 1. 사전 지식 (BERT 구조)"
   ]
  },
  {
   "cell_type": "markdown",
   "id": "38da1474-e3d7-434e-aee1-cf20a19e561b",
   "metadata": {},
   "source": [
    "![BERT_Structure.png](img/BERT_Structure.png)"
   ]
  },
  {
   "cell_type": "markdown",
   "id": "ce460b37-f42b-4184-afd9-f5efaf26cf9e",
   "metadata": {},
   "source": [
    "# 2. BERT Tokenization 방식\n",
    "출처: [02) 버트(Bidirectional Encoder Representations from Transformers, BERT)](https://wikidocs.net/115055)\n",
    "![BERT_How_to_Token.png](img/BERT_How_to_Token.png)"
   ]
  },
  {
   "cell_type": "code",
   "execution_count": 14,
   "id": "83c517fa-61ff-45f3-a9a5-3d9ecbcff283",
   "metadata": {},
   "outputs": [],
   "source": [
    "import pandas as pd\n",
    "from transformers import BertTokenizer\n",
    "\n",
    "tokenizer = BertTokenizer.from_pretrained(\"bert-base-uncased\") # Bert-base의 토크나이저"
   ]
  },
  {
   "cell_type": "code",
   "execution_count": 2,
   "id": "69308836-6a53-464e-bc2f-61761880e35a",
   "metadata": {},
   "outputs": [
    {
     "name": "stdout",
     "output_type": "stream",
     "text": [
      "['here', 'is', 'the', 'sentence', 'i', 'want', 'em', '##bed', '##ding', '##s', 'for', '.']\n"
     ]
    }
   ],
   "source": [
    "result = tokenizer.tokenize('Here is the sentence I want embeddings for.')\n",
    "print(result)"
   ]
  },
  {
   "cell_type": "code",
   "execution_count": 3,
   "id": "de8ff495-5a7e-4a71-9eff-ac1f5f4a07f5",
   "metadata": {},
   "outputs": [
    {
     "name": "stdout",
     "output_type": "stream",
     "text": [
      "2182\n"
     ]
    }
   ],
   "source": [
    "print(tokenizer.vocab['here'])"
   ]
  },
  {
   "cell_type": "code",
   "execution_count": 4,
   "id": "6e80ad12-3cfc-4bfa-a5ce-854f3698751e",
   "metadata": {},
   "outputs": [
    {
     "ename": "KeyError",
     "evalue": "'embeddings'",
     "output_type": "error",
     "traceback": [
      "\u001b[0;31m---------------------------------------------------------------------------\u001b[0m",
      "\u001b[0;31mKeyError\u001b[0m                                  Traceback (most recent call last)",
      "\u001b[0;32m/tmp/ipykernel_59337/3459640444.py\u001b[0m in \u001b[0;36m<cell line: 1>\u001b[0;34m()\u001b[0m\n\u001b[0;32m----> 1\u001b[0;31m \u001b[0mprint\u001b[0m\u001b[0;34m(\u001b[0m\u001b[0mtokenizer\u001b[0m\u001b[0;34m.\u001b[0m\u001b[0mvocab\u001b[0m\u001b[0;34m[\u001b[0m\u001b[0;34m'embeddings'\u001b[0m\u001b[0;34m]\u001b[0m\u001b[0;34m)\u001b[0m\u001b[0;34m\u001b[0m\u001b[0;34m\u001b[0m\u001b[0m\n\u001b[0m",
      "\u001b[0;31mKeyError\u001b[0m: 'embeddings'"
     ]
    }
   ],
   "source": [
    "print(tokenizer.vocab['embeddings'])"
   ]
  },
  {
   "cell_type": "code",
   "execution_count": 5,
   "id": "53efd3f2-a658-4b68-a722-befef064971c",
   "metadata": {},
   "outputs": [
    {
     "name": "stdout",
     "output_type": "stream",
     "text": [
      "7861\n"
     ]
    }
   ],
   "source": [
    "print(tokenizer.vocab['em'])"
   ]
  },
  {
   "cell_type": "code",
   "execution_count": 6,
   "id": "0d3033e2-628c-49d7-a389-cc805a9bf529",
   "metadata": {},
   "outputs": [
    {
     "name": "stdout",
     "output_type": "stream",
     "text": [
      "8270\n"
     ]
    }
   ],
   "source": [
    "print(tokenizer.vocab['##bed'])"
   ]
  },
  {
   "cell_type": "code",
   "execution_count": 7,
   "id": "33a9ad4a-188c-4d96-8ae7-c38c85bf690f",
   "metadata": {},
   "outputs": [
    {
     "name": "stdout",
     "output_type": "stream",
     "text": [
      "4667\n"
     ]
    }
   ],
   "source": [
    "print(tokenizer.vocab['##ding'])"
   ]
  },
  {
   "cell_type": "code",
   "execution_count": 8,
   "id": "661e7556-6a99-4bc8-a8a6-ba731ff5a3ea",
   "metadata": {},
   "outputs": [
    {
     "name": "stdout",
     "output_type": "stream",
     "text": [
      "2015\n"
     ]
    }
   ],
   "source": [
    "print(tokenizer.vocab['##s'])"
   ]
  },
  {
   "cell_type": "code",
   "execution_count": 9,
   "id": "09dd7997-199c-429d-bc29-642d2f16599d",
   "metadata": {},
   "outputs": [],
   "source": [
    "# BERT의 단어 집합을 vocabulary.txt에 저장\n",
    "with open('vocabulary.txt', 'w') as f:\n",
    "  for token in tokenizer.vocab.keys():\n",
    "    f.write(token + '\\n')"
   ]
  },
  {
   "cell_type": "code",
   "execution_count": 10,
   "id": "bd8cac78-cfa5-4108-b69a-eef02a684b43",
   "metadata": {},
   "outputs": [
    {
     "data": {
      "text/html": [
       "<div>\n",
       "<style scoped>\n",
       "    .dataframe tbody tr th:only-of-type {\n",
       "        vertical-align: middle;\n",
       "    }\n",
       "\n",
       "    .dataframe tbody tr th {\n",
       "        vertical-align: top;\n",
       "    }\n",
       "\n",
       "    .dataframe thead th {\n",
       "        text-align: right;\n",
       "    }\n",
       "</style>\n",
       "<table border=\"1\" class=\"dataframe\">\n",
       "  <thead>\n",
       "    <tr style=\"text-align: right;\">\n",
       "      <th></th>\n",
       "      <th>0</th>\n",
       "    </tr>\n",
       "  </thead>\n",
       "  <tbody>\n",
       "    <tr>\n",
       "      <th>0</th>\n",
       "      <td>[PAD]</td>\n",
       "    </tr>\n",
       "    <tr>\n",
       "      <th>1</th>\n",
       "      <td>[unused0]</td>\n",
       "    </tr>\n",
       "    <tr>\n",
       "      <th>2</th>\n",
       "      <td>[unused1]</td>\n",
       "    </tr>\n",
       "    <tr>\n",
       "      <th>3</th>\n",
       "      <td>[unused2]</td>\n",
       "    </tr>\n",
       "    <tr>\n",
       "      <th>4</th>\n",
       "      <td>[unused3]</td>\n",
       "    </tr>\n",
       "    <tr>\n",
       "      <th>...</th>\n",
       "      <td>...</td>\n",
       "    </tr>\n",
       "    <tr>\n",
       "      <th>30517</th>\n",
       "      <td>##．</td>\n",
       "    </tr>\n",
       "    <tr>\n",
       "      <th>30518</th>\n",
       "      <td>##／</td>\n",
       "    </tr>\n",
       "    <tr>\n",
       "      <th>30519</th>\n",
       "      <td>##：</td>\n",
       "    </tr>\n",
       "    <tr>\n",
       "      <th>30520</th>\n",
       "      <td>##？</td>\n",
       "    </tr>\n",
       "    <tr>\n",
       "      <th>30521</th>\n",
       "      <td>##～</td>\n",
       "    </tr>\n",
       "  </tbody>\n",
       "</table>\n",
       "<p>30522 rows × 1 columns</p>\n",
       "</div>"
      ],
      "text/plain": [
       "               0\n",
       "0          [PAD]\n",
       "1      [unused0]\n",
       "2      [unused1]\n",
       "3      [unused2]\n",
       "4      [unused3]\n",
       "...          ...\n",
       "30517        ##．\n",
       "30518        ##／\n",
       "30519        ##：\n",
       "30520        ##？\n",
       "30521        ##～\n",
       "\n",
       "[30522 rows x 1 columns]"
      ]
     },
     "execution_count": 10,
     "metadata": {},
     "output_type": "execute_result"
    }
   ],
   "source": [
    "df = pd.read_fwf('vocabulary.txt', header=None)\n",
    "df"
   ]
  },
  {
   "cell_type": "code",
   "execution_count": 11,
   "id": "592d370b-5749-4132-86f1-1cafc9770d23",
   "metadata": {},
   "outputs": [
    {
     "name": "stdout",
     "output_type": "stream",
     "text": [
      "단어 집합의 크기 : 30522\n"
     ]
    }
   ],
   "source": [
    "print('단어 집합의 크기 :',len(df))"
   ]
  },
  {
   "cell_type": "code",
   "execution_count": 12,
   "id": "e3cefbe8-bc78-43b8-80bd-a8bda7ac5e96",
   "metadata": {},
   "outputs": [
    {
     "data": {
      "text/plain": [
       "'##ding'"
      ]
     },
     "execution_count": 12,
     "metadata": {},
     "output_type": "execute_result"
    }
   ],
   "source": [
    "df.loc[4667].values[0]"
   ]
  },
  {
   "cell_type": "code",
   "execution_count": 13,
   "id": "407de825-b87c-4ae2-9a56-2335986dbf57",
   "metadata": {},
   "outputs": [
    {
     "data": {
      "text/plain": [
       "'[SEP]'"
      ]
     },
     "execution_count": 13,
     "metadata": {},
     "output_type": "execute_result"
    }
   ],
   "source": [
    "df.loc[102].values[0]"
   ]
  },
  {
   "cell_type": "markdown",
   "id": "95108063-c492-4ebf-9bd7-3750552f2a6a",
   "metadata": {},
   "source": [
    "# 한글 ( 모델: monologg/koelectra-small-v3-discriminator)\n",
    "참조\n",
    "- [KoELECTRA v3 (Base Discriminator)](https://huggingface.co/monologg/koelectra-base-v3-discriminator)"
   ]
  },
  {
   "cell_type": "code",
   "execution_count": 15,
   "id": "370ba9cc-fa9d-489b-9328-c96ee7bcc22c",
   "metadata": {},
   "outputs": [],
   "source": [
    "# from datasets import load_dataset\n",
    "from transformers import (\n",
    "    ElectraModel, \n",
    "    ElectraTokenizer, \n",
    "    ElectraForSequenceClassification, \n",
    "    Trainer, \n",
    "    TrainingArguments, \n",
    "    set_seed\n",
    ")"
   ]
  },
  {
   "cell_type": "code",
   "execution_count": 16,
   "id": "34903668-7f47-41a4-ab8f-e47fab7319a0",
   "metadata": {},
   "outputs": [],
   "source": [
    "tokenizer_id = 'monologg/koelectra-small-v3-discriminator'\n",
    "tokenizer = ElectraTokenizer.from_pretrained(tokenizer_id)"
   ]
  },
  {
   "cell_type": "code",
   "execution_count": 17,
   "id": "a7a99062-a31e-44b5-82ac-feccf3beb1c4",
   "metadata": {},
   "outputs": [
    {
     "data": {
      "text/plain": [
       "['아', '배고픈', '##데', '짜장면', '먹', '##고', '##싶', '##다']"
      ]
     },
     "execution_count": 17,
     "metadata": {},
     "output_type": "execute_result"
    }
   ],
   "source": [
    "tokenizer.tokenize(('아 배고픈데 짜장면 먹고싶다'))"
   ]
  },
  {
   "cell_type": "code",
   "execution_count": 20,
   "id": "e112ff59-3144-4c65-b722-5d7879976b3d",
   "metadata": {},
   "outputs": [
    {
     "data": {
      "text/plain": [
       "['주',\n",
       " '##꾸미',\n",
       " '오징어',\n",
       " '문어',\n",
       " '요런',\n",
       " '##거',\n",
       " '느',\n",
       " '##므',\n",
       " '##느',\n",
       " '##므',\n",
       " '좋',\n",
       " '##아',\n",
       " '##하',\n",
       " '##는데',\n",
       " '혼자',\n",
       " '사',\n",
       " '##는',\n",
       " '싱글',\n",
       " '##족',\n",
       " '##이',\n",
       " '##라',\n",
       " '주',\n",
       " '##꾸미',\n",
       " '땡',\n",
       " '##겨',\n",
       " '##도',\n",
       " '막상',\n",
       " '근처',\n",
       " '##에',\n",
       " '갈',\n",
       " '##데',\n",
       " '##가',\n",
       " '없',\n",
       " '##고',\n",
       " ',',\n",
       " '볶음',\n",
       " '##류',\n",
       " '##가',\n",
       " '은근',\n",
       " '2',\n",
       " '##인',\n",
       " '##분',\n",
       " '이상',\n",
       " '주문',\n",
       " '##해야',\n",
       " '##되',\n",
       " '##는',\n",
       " '##곳',\n",
       " '##도',\n",
       " '많',\n",
       " '##아',\n",
       " '##서',\n",
       " '##ㅠㅠ',\n",
       " '요즘',\n",
       " '한',\n",
       " '##끼',\n",
       " '먹',\n",
       " '##기',\n",
       " '좋',\n",
       " '##게',\n",
       " '포장',\n",
       " '##된',\n",
       " '주',\n",
       " '##꾸미',\n",
       " '##를',\n",
       " '열심히',\n",
       " '섭',\n",
       " '##렵',\n",
       " '중',\n",
       " '##에',\n",
       " '있',\n",
       " '##답',\n",
       " '##니',\n",
       " '##닷',\n",
       " '!',\n",
       " '^',\n",
       " '^',\n",
       " '한',\n",
       " '##끼',\n",
       " '##용',\n",
       " '##이지',\n",
       " '##만',\n",
       " '마치',\n",
       " '두',\n",
       " '##끼',\n",
       " '##인',\n",
       " '##것',\n",
       " '##처럼',\n",
       " '든든',\n",
       " '##하',\n",
       " '##게',\n",
       " '먹',\n",
       " '##기',\n",
       " '위해서',\n",
       " '좋',\n",
       " '##아',\n",
       " '##하',\n",
       " '##는',\n",
       " '##거',\n",
       " '맘껏',\n",
       " '다',\n",
       " '준비',\n",
       " '##해서',\n",
       " '만들',\n",
       " '##었',\n",
       " '##어요',\n",
       " '##ㅎ',\n",
       " '##ㅎ',\n",
       " '##ㅎ',\n",
       " '1',\n",
       " '.',\n",
       " '중국',\n",
       " '##식',\n",
       " '넓',\n",
       " '##적',\n",
       " '당면',\n",
       " '불려',\n",
       " '두고',\n",
       " '2',\n",
       " '.',\n",
       " '함께',\n",
       " '주문',\n",
       " '##한',\n",
       " '왕',\n",
       " '##통',\n",
       " '##통',\n",
       " '새우',\n",
       " '##도',\n",
       " '넣',\n",
       " '##고',\n",
       " '3',\n",
       " '.',\n",
       " '볶음',\n",
       " '##류',\n",
       " '##에',\n",
       " '깻잎',\n",
       " '또',\n",
       " '필수',\n",
       " '중',\n",
       " '##에',\n",
       " '필수',\n",
       " '##죠',\n",
       " '##ㅋㅋ',\n",
       " '4',\n",
       " '.',\n",
       " '거기',\n",
       " '##다가',\n",
       " '매운',\n",
       " '##고추',\n",
       " '더',\n",
       " '뿌려',\n",
       " '##서',\n",
       " '5',\n",
       " '.',\n",
       " '고소',\n",
       " '##함',\n",
       " '띠',\n",
       " '##드',\n",
       " '한',\n",
       " '##장',\n",
       " '싸',\n",
       " '##악',\n",
       " '올려서',\n",
       " '먹',\n",
       " '##음',\n",
       " '채',\n",
       " '##고',\n",
       " '!',\n",
       " '!',\n",
       " '!',\n",
       " '채',\n",
       " '##고',\n",
       " '!',\n",
       " '!',\n",
       " '!',\n",
       " '오늘',\n",
       " '받',\n",
       " '##자',\n",
       " '##마자',\n",
       " '저녁',\n",
       " '##으로',\n",
       " '만들',\n",
       " '##어',\n",
       " '먹',\n",
       " '##어',\n",
       " '##보',\n",
       " '##니',\n",
       " '홍대',\n",
       " '##주',\n",
       " '##꾸미',\n",
       " '##가',\n",
       " '다른',\n",
       " '주',\n",
       " '##꾸미',\n",
       " '보다',\n",
       " '좋',\n",
       " '##았',\n",
       " '##던',\n",
       " '##게',\n",
       " '익',\n",
       " '##는',\n",
       " '순간',\n",
       " '쪼',\n",
       " '##그라',\n",
       " '들',\n",
       " '##면',\n",
       " '##서',\n",
       " '반',\n",
       " '##토',\n",
       " '##막',\n",
       " '##나',\n",
       " '##는데',\n",
       " '##가',\n",
       " '진짜',\n",
       " '너무',\n",
       " '많',\n",
       " '##았',\n",
       " '##거',\n",
       " '##든',\n",
       " '##요',\n",
       " '?',\n",
       " 'ㅠㅠ',\n",
       " '실망',\n",
       " '실망',\n",
       " '대',\n",
       " '##실',\n",
       " '##망',\n",
       " '##ㅠㅠ',\n",
       " '근데',\n",
       " '여긴',\n",
       " '사이즈',\n",
       " '##가',\n",
       " '변함없이',\n",
       " '통통',\n",
       " '##하니',\n",
       " '쫄깃',\n",
       " '##쫄',\n",
       " '##깃',\n",
       " '씹는',\n",
       " '재미',\n",
       " ',',\n",
       " '식감',\n",
       " '##을',\n",
       " '즐기',\n",
       " '##기',\n",
       " '##도',\n",
       " '너무',\n",
       " '좋',\n",
       " '##더라',\n",
       " '##구요',\n",
       " '.',\n",
       " '>',\n",
       " '.',\n",
       " '<',\n",
       " '딱',\n",
       " '좋',\n",
       " '##아',\n",
       " '##요',\n",
       " '!',\n",
       " '맘',\n",
       " '##에',\n",
       " '들',\n",
       " '##었',\n",
       " '##어요',\n",
       " '!',\n",
       " '쟁',\n",
       " '##여',\n",
       " '##두고',\n",
       " '사',\n",
       " '##먹',\n",
       " '##을',\n",
       " '아이템',\n",
       " '##으로',\n",
       " '등극',\n",
       " '##했',\n",
       " '##어요',\n",
       " '~',\n",
       " '*',\n",
       " '^',\n",
       " '^',\n",
       " '*']"
      ]
     },
     "execution_count": 20,
     "metadata": {},
     "output_type": "execute_result"
    }
   ],
   "source": [
    "\n",
    "review = '주꾸미 오징어 문어 요런거 느므느므 좋아하는데 혼자 사는 싱글족이라 주꾸미 땡겨도 막상 근처에 갈데가 없고,\\\n",
    "       볶음류가 은근 2인분 이상 주문해야되는곳도 많아서ㅠㅠ 요즘 한끼 먹기 좋게 포장된 주꾸미를 열심히 섭렵 중에 있답니닷! ^^ \\\n",
    "       한끼용이지만 마치 두끼인것처럼 든든하게 먹기 위해서 좋아하는거 맘껏 다 준비해서 만들었어요ㅎㅎㅎ\\\n",
    "       1. 중국식 넓적 당면 불려 두고 2. 함께 주문한 왕통통 새우도 넣고 \\\n",
    "       3. 볶음류에 깻잎 또 필수 중에 필수죠ㅋㅋ 4. 거기다가 매운고추 더 뿌려서 \\\n",
    "       5. 고소함 띠드 한장 싸악 올려서 먹음 채고!!! 채고!!! 오늘 받자마자 저녁으로 만들어 먹어보니 \\\n",
    "       홍대주꾸미가 다른 주꾸미 보다 좋았던게 익는 순간 쪼그라 들면서 반토막나는데가 진짜 너무 많았거든요? ㅠㅠ \\\n",
    "       실망 실망 대실망ㅠㅠ 근데 여긴 사이즈가 변함없이 통통하니 쫄깃쫄깃 씹는 재미,식감을 즐기기도 너무 좋더라구요. >.< \\\n",
    "       딱 좋아요! 맘에 들었어요! 쟁여두고 사먹을 아이템으로 등극했어요~*^^*'\n",
    "\n",
    "tokenizer.tokenize(review)"
   ]
  },
  {
   "cell_type": "code",
   "execution_count": null,
   "id": "e7f1f733-e787-4cba-a49a-9fd8df7d8ee6",
   "metadata": {},
   "outputs": [],
   "source": []
  },
  {
   "cell_type": "code",
   "execution_count": null,
   "id": "f721ea33-5960-4994-b173-b6e751be7f71",
   "metadata": {},
   "outputs": [],
   "source": []
  }
 ],
 "metadata": {
  "kernelspec": {
   "display_name": "conda_python3",
   "language": "python",
   "name": "conda_python3"
  },
  "language_info": {
   "codemirror_mode": {
    "name": "ipython",
    "version": 3
   },
   "file_extension": ".py",
   "mimetype": "text/x-python",
   "name": "python",
   "nbconvert_exporter": "python",
   "pygments_lexer": "ipython3",
   "version": "3.8.12"
  }
 },
 "nbformat": 4,
 "nbformat_minor": 5
}
