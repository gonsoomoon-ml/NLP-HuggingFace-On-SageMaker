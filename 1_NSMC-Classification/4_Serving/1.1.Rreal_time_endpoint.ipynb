{
 "cells": [
  {
   "cell_type": "markdown",
   "id": "188dcf80",
   "metadata": {},
   "source": [
    "# [모듈 1.1] Real-Time Endpoint 배포 및 추론\n",
    "---\n",
    "\n",
    "본 워크샵의 모든 노트북은 `conda_python3` 추가 패키지를 설치하고 모두 이 커널 에서 작업 합니다.\n",
    "\n",
    "이 노트북은 아래와 같은 작업을 합니다.\n",
    "\n",
    "- 1. 환경 셋업\n",
    "- 2. 모델 패키징\n",
    "- 3. SageMaker Endpoint Deployment\n",
    "- 4. Inference\n",
    "- 5. 테스트 데이터 추론 및 성능 평가\n",
    "- 6. 엔드 포인트 삭제\n",
    "\n"
   ]
  },
  {
   "cell_type": "markdown",
   "id": "684b853a",
   "metadata": {},
   "source": [
    "---\n",
    "\n",
    "### 참고\n",
    "- 김대근님의 리포에서 SageMaker Hugging Face Inference Toolkit 등을 자세히 설명 함.\n",
    "    - [Lab 2-1: Deploy Hugging Face Transformers in SageMaker Real-time Endpoint](https://github.com/daekeun-ml/sm-huggingface-kornlp/blob/main/lab_2_serving/1_real_time_endpoint.ipynb)\n",
    "    \n",
    "    \n",
    "- HF 공식 사이트 에서 SM Endpint 를 배포하는 가이드\n",
    "    - [Deploy models to Amazon SageMaker](https://huggingface.co/docs/sagemaker/inference#deploy-a-🤗-transformers-model-trained-in-sagemaker)\n",
    "    \n",
    "    \n",
    "- SageMaker Hugging Face Inference Toolkit: \n",
    "    - https://github.com/aws/sagemaker-huggingface-inference-toolkit    "
   ]
  },
  {
   "cell_type": "markdown",
   "id": "529e6082",
   "metadata": {},
   "source": [
    "# 1. 환경 셋업"
   ]
  },
  {
   "cell_type": "markdown",
   "id": "fa89005d",
   "metadata": {},
   "source": [
    "## 기본 세팅\n",
    "사용하는 패키지는 import 시점에 다시 재로딩 합니다."
   ]
  },
  {
   "cell_type": "code",
   "execution_count": 1,
   "id": "3bee08ee",
   "metadata": {},
   "outputs": [],
   "source": [
    "%load_ext autoreload\n",
    "%autoreload 2\n",
    "\n",
    "import sys\n",
    "# 서빙 코드\n",
    "sys.path.append('./src')\n",
    "# 훈련 코드\n",
    "sys.path.append('../3_Training/src')"
   ]
  },
  {
   "cell_type": "code",
   "execution_count": 2,
   "id": "fdd207b6",
   "metadata": {},
   "outputs": [
    {
     "name": "stdout",
     "output_type": "stream",
     "text": [
      "no stored variable or alias pytorch_artifact_path\n"
     ]
    }
   ],
   "source": [
    "%store -r bucket\n",
    "%store -r prefix\n",
    "# HF Trainer 훈련시\n",
    "%store -r trainer_artifact_path\n",
    "# 파이 토치로 훈련시\n",
    "%store -r pytorch_artifact_path \n"
   ]
  },
  {
   "cell_type": "markdown",
   "id": "264c7c48",
   "metadata": {
    "tags": []
   },
   "source": [
    "### HF Trainer 로 훈련시에 아티펙트를 지정 함.\n",
    "- pytorch 시에 아래 주석을 제거하고 사용 합니다. "
   ]
  },
  {
   "cell_type": "code",
   "execution_count": 3,
   "id": "dbb51054",
   "metadata": {},
   "outputs": [],
   "source": [
    "artifact_path = trainer_artifact_path\n",
    "# artifact_path = pytorch_artifact_path"
   ]
  },
  {
   "cell_type": "code",
   "execution_count": 4,
   "id": "114f89f4",
   "metadata": {},
   "outputs": [],
   "source": [
    "### 커스텀 라이브러리\n",
    "import config "
   ]
  },
  {
   "cell_type": "code",
   "execution_count": 5,
   "id": "b6f6a190",
   "metadata": {},
   "outputs": [],
   "source": [
    "import sagemaker\n",
    "\n",
    "sagemaker_session = sagemaker.Session()\n",
    "role = sagemaker.get_execution_role()\n",
    "\n"
   ]
  },
  {
   "cell_type": "code",
   "execution_count": 6,
   "id": "8397a26d",
   "metadata": {},
   "outputs": [],
   "source": [
    "import os\n",
    "import json\n",
    "import sys\n",
    "import logging\n",
    "import boto3\n",
    "import sagemaker\n",
    "from sagemaker.huggingface import HuggingFaceModel\n",
    "from sagemaker import session\n",
    "from transformers import ElectraConfig\n",
    "from transformers import (\n",
    "    ElectraModel, ElectraTokenizer, ElectraForSequenceClassification\n",
    ")\n",
    "\n",
    "logging.basicConfig(\n",
    "    level=logging.INFO, \n",
    "    format='[{%(filename)s:%(lineno)d} %(levelname)s - %(message)s',\n",
    "    handlers=[\n",
    "        logging.FileHandler(filename='tmp.log'),\n",
    "        logging.StreamHandler(sys.stdout)\n",
    "    ]\n",
    ")\n",
    "logger = logging.getLogger(__name__)\n",
    "\n",
    "sess = sagemaker.Session()\n",
    "role = sagemaker.get_execution_role()\n",
    "region = boto3.Session().region_name"
   ]
  },
  {
   "cell_type": "markdown",
   "id": "5fe4e493",
   "metadata": {},
   "source": [
    "# 2. 모델 패키징\n",
    "- 모델 아티펙트를 다운로드 합니다.\n",
    "- 다운로드 받은 모델 아티펙트의 압축을 해제하고 모델 가중치인 model.pth 파일을 얻습니다."
   ]
  },
  {
   "cell_type": "code",
   "execution_count": 7,
   "id": "a33d742a",
   "metadata": {},
   "outputs": [
    {
     "name": "stdout",
     "output_type": "stream",
     "text": [
      "model_data_dir:  models/nsmc\n"
     ]
    }
   ],
   "source": [
    "import os\n",
    "import config\n",
    "\n",
    "model_data_dir = config.model_dir\n",
    "os.makedirs(model_data_dir, exist_ok=True)\n",
    "print(\"model_data_dir: \", model_data_dir)"
   ]
  },
  {
   "cell_type": "markdown",
   "id": "b64b384e",
   "metadata": {},
   "source": [
    "### 모델 패키징 폴더 정리"
   ]
  },
  {
   "cell_type": "code",
   "execution_count": 8,
   "id": "635c96c8",
   "metadata": {},
   "outputs": [
    {
     "name": "stdout",
     "output_type": "stream",
     "text": [
      "models/nsmc\n"
     ]
    }
   ],
   "source": [
    "%%sh -s {model_data_dir}\n",
    "\n",
    "model_data_dir=$1\n",
    "\n",
    "echo $model_data_dir\n",
    "\n",
    "# 기존 데이터 삭제\n",
    "rm -rf $model_data_dir/*\n"
   ]
  },
  {
   "cell_type": "markdown",
   "id": "9ac8a907",
   "metadata": {},
   "source": [
    "### 모델 및 토큰나이저 아티펙트 다운로드"
   ]
  },
  {
   "cell_type": "code",
   "execution_count": 9,
   "id": "2a357fe9",
   "metadata": {},
   "outputs": [
    {
     "name": "stdout",
     "output_type": "stream",
     "text": [
      "tokenizer_id: monologg/koelectra-small-v3-discriminator\n",
      "model_id: monologg/koelectra-small-v3-discriminator\n"
     ]
    },
    {
     "name": "stderr",
     "output_type": "stream",
     "text": [
      "/home/ec2-user/anaconda3/envs/python3/lib/python3.8/site-packages/transformers/configuration_utils.py:336: UserWarning: Passing `gradient_checkpointing` to a config initialization is deprecated and will be removed in v5 Transformers. Using `model.gradient_checkpointing_enable()` instead, or if you are using the `Trainer` API, pass `gradient_checkpointing=True` in your `TrainingArguments`.\n",
      "  warnings.warn(\n",
      "Some weights of the model checkpoint at monologg/koelectra-small-v3-discriminator were not used when initializing ElectraForSequenceClassification: ['discriminator_predictions.dense_prediction.bias', 'discriminator_predictions.dense.weight', 'discriminator_predictions.dense_prediction.weight', 'discriminator_predictions.dense.bias']\n",
      "- This IS expected if you are initializing ElectraForSequenceClassification from the checkpoint of a model trained on another task or with another architecture (e.g. initializing a BertForSequenceClassification model from a BertForPreTraining model).\n",
      "- This IS NOT expected if you are initializing ElectraForSequenceClassification from the checkpoint of a model that you expect to be exactly identical (initializing a BertForSequenceClassification model from a BertForSequenceClassification model).\n",
      "Some weights of ElectraForSequenceClassification were not initialized from the model checkpoint at monologg/koelectra-small-v3-discriminator and are newly initialized: ['classifier.dense.bias', 'classifier.dense.weight', 'classifier.out_proj.bias', 'classifier.out_proj.weight']\n",
      "You should probably TRAIN this model on a down-stream task to be able to use it for predictions and inference.\n"
     ]
    },
    {
     "data": {
      "text/plain": [
       "('models/nsmc/tokenizer_config.json',\n",
       " 'models/nsmc/special_tokens_map.json',\n",
       " 'models/nsmc/vocab.txt',\n",
       " 'models/nsmc/added_tokens.json')"
      ]
     },
     "execution_count": 9,
     "metadata": {},
     "output_type": "execute_result"
    }
   ],
   "source": [
    "tokenizer_id = config.tokenizer_id\n",
    "model_id = config.model_id\n",
    "\n",
    "print(f\"tokenizer_id: {tokenizer_id}\")\n",
    "print(f\"model_id: {model_id}\")\n",
    "\n",
    "# Download model and tokenizer\n",
    "model = ElectraForSequenceClassification.from_pretrained(model_id)\n",
    "tokenizer = ElectraTokenizer.from_pretrained(tokenizer_id)\n",
    "\n",
    "# os.makedirs(model_dir, exist_ok=True)\n",
    "model.save_pretrained(model_data_dir)\n",
    "tokenizer.save_pretrained(model_data_dir)"
   ]
  },
  {
   "cell_type": "markdown",
   "id": "e60dec13",
   "metadata": {},
   "source": [
    "### pre-trained 모델 가중치 삭제"
   ]
  },
  {
   "cell_type": "code",
   "execution_count": 10,
   "id": "3187a57c",
   "metadata": {},
   "outputs": [
    {
     "name": "stdout",
     "output_type": "stream",
     "text": [
      "models/nsmc\n"
     ]
    }
   ],
   "source": [
    "%%sh -s {model_data_dir}\n",
    "\n",
    "model_data_dir=$1\n",
    "\n",
    "echo $model_data_dir\n",
    "cd $model_data_dir\n",
    "\n",
    "\n",
    "# 기존 모델 삭제ㅁ\n",
    "rm -rf pytorch_model.bin\n"
   ]
  },
  {
   "cell_type": "markdown",
   "id": "67900fa7",
   "metadata": {},
   "source": [
    "### fine-tunnig 된 모델 가중치 다운로드\n",
    "- 파이토치로 훈련시에 가중치를 약속된 pytorch_model.bin 이름으로 변경\n",
    "- 아래 셀에서 다음을 주석 제거 하세요.\n",
    "\n",
    "```# mv sentimental-electro-hf.pth pytorch_model.bin```\n",
    "\n"
   ]
  },
  {
   "cell_type": "code",
   "execution_count": 11,
   "id": "5d4b0656",
   "metadata": {},
   "outputs": [
    {
     "name": "stdout",
     "output_type": "stream",
     "text": [
      "2022-07-24 14:19:40   52546886 model.tar.gz\n"
     ]
    }
   ],
   "source": [
    "! aws s3 ls {artifact_path} "
   ]
  },
  {
   "cell_type": "code",
   "execution_count": 12,
   "id": "a8e80891",
   "metadata": {},
   "outputs": [
    {
     "name": "stdout",
     "output_type": "stream",
     "text": [
      "s3://sagemaker-us-east-1-193236958861/huggingface-native-pytorch-190-hol-2022-2022-07-24-14-08-34-732/output/model.tar.gz\n",
      "models/nsmc\n",
      "download: s3://sagemaker-us-east-1-193236958861/huggingface-native-pytorch-190-hol-2022-2022-07-24-14-08-34-732/output/model.tar.gz to models/nsmc/model.tar.gz\n",
      "pytorch_model.bin\n",
      "training_args.bin\n",
      "config.json\n"
     ]
    }
   ],
   "source": [
    "%%sh -s {artifact_path} {model_data_dir}\n",
    "\n",
    "artifact_path=$1\n",
    "model_data_dir=$2\n",
    "\n",
    "echo $artifact_path\n",
    "echo $model_data_dir\n",
    "\n",
    "\n",
    "# 모델을 S3에서 로컬로 다운로드\n",
    "aws s3 cp $artifact_path $model_data_dir\n",
    "\n",
    "# 모델 다운로드 폴더로 이동\n",
    "cd $model_data_dir\n",
    "\n",
    "# 압축 해제\n",
    "tar -xvf model.tar.gz  \n",
    "\n",
    "rm -rf model.tar.gz  \n",
    "\n",
    "# 파이토치 훈련시에 훈련된 가중치를 약속된 pytorch_model.bin 이름으로 변경ㅁ\n",
    "# mv sentimental-electro-hf.pth pytorch_model.bin\n"
   ]
  },
  {
   "cell_type": "markdown",
   "id": "d4b611a6",
   "metadata": {},
   "source": [
    "### 모델 아테펙트를 model.tar.gz 로 압축"
   ]
  },
  {
   "cell_type": "markdown",
   "id": "c1956193",
   "metadata": {},
   "source": [
    "모델 파라메터 및 토크나이저를 `model.tar.gz`으로 압축합니다. 압축 파일명은 자유롭게 지정할 수 있으나, 반드시 `tar.gz`로 압축해야 합니다."
   ]
  },
  {
   "cell_type": "code",
   "execution_count": 13,
   "id": "87f5dd22",
   "metadata": {},
   "outputs": [
    {
     "name": "stdout",
     "output_type": "stream",
     "text": [
      "config.json\n",
      "pytorch_model.bin\n",
      "special_tokens_map.json\n",
      "tokenizer_config.json\n",
      "training_args.bin\n",
      "vocab.txt\n"
     ]
    }
   ],
   "source": [
    "model_artifact_name = 'model.tar.gz'\n",
    "!cd {model_data_dir} && tar -czvf {model_artifact_name} *.*"
   ]
  },
  {
   "cell_type": "markdown",
   "id": "573eefd6",
   "metadata": {},
   "source": [
    "### model.tar.gz 를 S3 에 업로드ㅡ"
   ]
  },
  {
   "cell_type": "code",
   "execution_count": 14,
   "id": "49cb17fc",
   "metadata": {},
   "outputs": [
    {
     "name": "stdout",
     "output_type": "stream",
     "text": [
      "upload: models/nsmc/model.tar.gz to s3://sagemaker-us-east-1-193236958861/KoElectra-HF/model.tar.gz\n",
      "s3_model_path: \n",
      " s3://sagemaker-us-east-1-193236958861/KoElectra-HF\n"
     ]
    }
   ],
   "source": [
    "s3_prefix = prefix\n",
    "s3_model_path = f's3://{bucket}/{s3_prefix}'\n",
    "!aws s3 cp {model_data_dir}/{model_artifact_name} {s3_model_path}/{model_artifact_name}\n",
    "\n",
    "print(\"s3_model_path: \\n\", s3_model_path)"
   ]
  },
  {
   "cell_type": "markdown",
   "id": "b8398dda",
   "metadata": {},
   "source": [
    "모델 파라메터 및 토크나이저를 `model.tar.gz`으로 압축합니다. 압축 파일명은 자유롭게 지정할 수 있으나, 반드시 `tar.gz`로 압축해야 합니다."
   ]
  },
  {
   "cell_type": "markdown",
   "id": "632cb950",
   "metadata": {},
   "source": [
    "# 3. SageMaker Endpoint Deployment"
   ]
  },
  {
   "cell_type": "markdown",
   "id": "df14b410",
   "metadata": {},
   "source": [
    "## 3.1. 앤드포인트 배포\n",
    " \n",
    "아래 코드를 보시면 아시겠지만, 지속적으로 업데이트되는 파이썬 버전&프레임워크 버전&트랜스포머 버전에 쉽게 대응할 수 있습니다. AWS에서 관리하고 있는 딥러닝 컨테이너(DLC) 목록을 아래 주소에서 확인해 보세요.\n",
    "\n",
    "- https://github.com/aws/deep-learning-containers/blob/master/available_images.md"
   ]
  },
  {
   "cell_type": "code",
   "execution_count": 15,
   "id": "ab835061",
   "metadata": {},
   "outputs": [],
   "source": [
    "# instance_type = \"ml.m5.xlarge\"\n",
    "instance_type = 'ml.g4dn.xlarge' # $ 0.906 per Hour"
   ]
  },
  {
   "cell_type": "code",
   "execution_count": 16,
   "id": "f61ac10e",
   "metadata": {},
   "outputs": [
    {
     "name": "stdout",
     "output_type": "stream",
     "text": [
      "[{session.py:2702} INFO - Creating model with name: huggingface-pytorch-inference-2022-07-24-14-27-46-256\n",
      "[{session.py:3638} INFO - Creating endpoint-config with name huggingface-pytorch-inference-2022-07-24-14-27-46-968\n",
      "[{session.py:3106} INFO - Creating endpoint with name huggingface-pytorch-inference-2022-07-24-14-27-46-968\n"
     ]
    }
   ],
   "source": [
    "# create Hugging Face Model Class\n",
    "hf_model = HuggingFaceModel(\n",
    "    model_data=f\"{s3_model_path}/{model_artifact_name}\",  # path to your trained SageMaker model\n",
    "    role=role,                                            # IAM role with permissions to create an endpoint\n",
    "    transformers_version=\"4.11.0\",                        # Transformers version used\n",
    "    pytorch_version=\"1.9.0\",                              # PyTorch version used\n",
    "    py_version='py38',                                    # Python version used\n",
    "    \n",
    ")\n",
    "\n",
    "# deploy model to SageMaker Inference\n",
    "hf_predictor = hf_model.deploy(\n",
    "    initial_instance_count=1,\n",
    "    instance_type= instance_type,\n",
    "    wait=False\n",
    ")"
   ]
  },
  {
   "cell_type": "code",
   "execution_count": 17,
   "id": "a5d886c4",
   "metadata": {},
   "outputs": [
    {
     "name": "stdout",
     "output_type": "stream",
     "text": [
      "----------------------------------------------------------------!CPU times: user 261 ms, sys: 11.6 ms, total: 273 ms\n",
      "Wall time: 5min 23s\n"
     ]
    },
    {
     "data": {
      "text/plain": [
       "{'EndpointName': 'huggingface-pytorch-inference-2022-07-24-14-27-46-968',\n",
       " 'EndpointArn': 'arn:aws:sagemaker:us-east-1:193236958861:endpoint/huggingface-pytorch-inference-2022-07-24-14-27-46-968',\n",
       " 'EndpointConfigName': 'huggingface-pytorch-inference-2022-07-24-14-27-46-968',\n",
       " 'ProductionVariants': [{'VariantName': 'AllTraffic',\n",
       "   'DeployedImages': [{'SpecifiedImage': '763104351884.dkr.ecr.us-east-1.amazonaws.com/huggingface-pytorch-inference:1.9.0-transformers4.11.0-gpu-py38-cu111-ubuntu20.04',\n",
       "     'ResolvedImage': '763104351884.dkr.ecr.us-east-1.amazonaws.com/huggingface-pytorch-inference@sha256:b1a3fd4369a4364e153f390d81bd11b49f2c0b8193ad565b4886f10326c2c6b1',\n",
       "     'ResolutionTime': datetime.datetime(2022, 7, 24, 14, 27, 48, 533000, tzinfo=tzlocal())}],\n",
       "   'CurrentWeight': 1.0,\n",
       "   'DesiredWeight': 1.0,\n",
       "   'CurrentInstanceCount': 1,\n",
       "   'DesiredInstanceCount': 1}],\n",
       " 'EndpointStatus': 'InService',\n",
       " 'CreationTime': datetime.datetime(2022, 7, 24, 14, 27, 47, 228000, tzinfo=tzlocal()),\n",
       " 'LastModifiedTime': datetime.datetime(2022, 7, 24, 14, 33, 6, 956000, tzinfo=tzlocal()),\n",
       " 'ResponseMetadata': {'RequestId': 'b95a045a-6fc1-4c85-a99d-454178646c6c',\n",
       "  'HTTPStatusCode': 200,\n",
       "  'HTTPHeaders': {'x-amzn-requestid': 'b95a045a-6fc1-4c85-a99d-454178646c6c',\n",
       "   'content-type': 'application/x-amz-json-1.1',\n",
       "   'content-length': '874',\n",
       "   'date': 'Sun, 24 Jul 2022 14:33:10 GMT'},\n",
       "  'RetryAttempts': 0}}"
      ]
     },
     "execution_count": 17,
     "metadata": {},
     "output_type": "execute_result"
    }
   ],
   "source": [
    "%%time \n",
    "sess.wait_for_endpoint(hf_predictor.endpoint_name, poll=5)"
   ]
  },
  {
   "cell_type": "markdown",
   "id": "fcf7866e",
   "metadata": {},
   "source": [
    "## 3.2. Wait for the endpoint jobs to complete\n",
    "\n",
    "엔드포인트가 생성될 때까지 기다립니다. 약 5-10분의 시간이 소요됩니다."
   ]
  },
  {
   "cell_type": "code",
   "execution_count": 18,
   "id": "093f572b",
   "metadata": {},
   "outputs": [
    {
     "data": {
      "text/html": [
       "<b><a target=\"blank\" href=\"https://console.aws.amazon.com/sagemaker/home?region=us-east-1#/endpoints/huggingface-pytorch-inference-2022-07-24-14-27-46-968\">[Deploy model from S3] Review Endpoint</a></b>"
      ],
      "text/plain": [
       "<IPython.core.display.HTML object>"
      ]
     },
     "metadata": {},
     "output_type": "display_data"
    }
   ],
   "source": [
    "from IPython.core.display import display, HTML\n",
    "\n",
    "def make_endpoint_link(region, endpoint_name, endpoint_task):\n",
    "    \n",
    "    endpoint_link = f'<b><a target=\"blank\" href=\"https://console.aws.amazon.com/sagemaker/home?region={region}#/endpoints/{endpoint_name}\">{endpoint_task} Review Endpoint</a></b>'   \n",
    "    return endpoint_link \n",
    "        \n",
    "endpoint_link1 = make_endpoint_link(region, hf_predictor.endpoint_name, '[Deploy model from S3]')\n",
    "\n",
    "\n",
    "display(HTML(endpoint_link1))"
   ]
  },
  {
   "cell_type": "markdown",
   "id": "53756d92",
   "metadata": {},
   "source": [
    "<br>\n",
    "\n",
    "# 4. Inference\n",
    "\n",
    "---\n",
    "\n",
    "두 개의 엔드포인트가 배포되었습니다. 샘플 데이터로 직접 추론을 수행해 봅니다."
   ]
  },
  {
   "cell_type": "markdown",
   "id": "661073d2",
   "metadata": {},
   "source": [
    "## 4.1. SageMaker Python SDK 추론"
   ]
  },
  {
   "cell_type": "code",
   "execution_count": 19,
   "id": "ef1577b8",
   "metadata": {},
   "outputs": [],
   "source": [
    "# example request, you always need to define \"inputs\"\n",
    "payload = {\n",
    "   \"inputs\": [\n",
    "       \"정말 재미있습니다. 세 번 봐도 질리지 않아요.\",\n",
    "       \"시간이 아깝습니다. 다른 영화를 보세요.\"\n",
    "   ]\n",
    "}"
   ]
  },
  {
   "cell_type": "code",
   "execution_count": 20,
   "id": "bef206e2",
   "metadata": {},
   "outputs": [
    {
     "data": {
      "text/plain": [
       "[{'label': 'positive', 'score': 0.9793254733085632},\n",
       " {'label': 'negative', 'score': 0.961677610874176}]"
      ]
     },
     "execution_count": 20,
     "metadata": {},
     "output_type": "execute_result"
    }
   ],
   "source": [
    "hf_predictor.predict(payload)"
   ]
  },
  {
   "cell_type": "markdown",
   "id": "97607ff4",
   "metadata": {},
   "source": [
    "## 4.2. Botoe3 추론"
   ]
  },
  {
   "cell_type": "code",
   "execution_count": 21,
   "id": "142f021b",
   "metadata": {},
   "outputs": [],
   "source": [
    "import boto3\n",
    "\n",
    "runtime_client = boto3.Session().client('sagemaker-runtime')\n"
   ]
  },
  {
   "cell_type": "code",
   "execution_count": 22,
   "id": "484d0f02",
   "metadata": {},
   "outputs": [
    {
     "name": "stdout",
     "output_type": "stream",
     "text": [
      "--- 0.4195272922515869 seconds ---\n",
      "result:  [{'label': 'positive', 'score': 0.9793254733085632}, {'label': 'negative', 'score': 0.961677610874176}]\n"
     ]
    }
   ],
   "source": [
    "import time\n",
    "import json\n",
    "from inference_utils import invoke_endpoint_hf\n",
    "payload_dump = json.dumps(payload)\n",
    "\n",
    "start_time = time.time()\n",
    "result = invoke_endpoint_hf(runtime_client, hf_predictor.endpoint_name, \n",
    "                         payload_dump,\n",
    "                         content_type='application/json'\n",
    "                        )\n",
    "\n",
    "print(\"--- %s seconds ---\" % (time.time() - start_time))\n",
    "print('result: ', result)"
   ]
  },
  {
   "cell_type": "markdown",
   "id": "aceb6be5",
   "metadata": {},
   "source": [
    "# 5. 테스트 데이터 추론 및 성능 평가"
   ]
  },
  {
   "cell_type": "markdown",
   "id": "b62de1f2",
   "metadata": {},
   "source": [
    "## 5.1. 테스트 데이터 로딩"
   ]
  },
  {
   "cell_type": "code",
   "execution_count": 23,
   "id": "bb76135b",
   "metadata": {},
   "outputs": [],
   "source": [
    "test_file_path = '../3_Training/data/nsmc/test/ratings_test.txt'"
   ]
  },
  {
   "cell_type": "code",
   "execution_count": 24,
   "id": "46dd19e6",
   "metadata": {},
   "outputs": [],
   "source": [
    "from data_util import read_nsmc_split\n",
    "from inference_utils import inference_batch, plot_confusion_matrix\n",
    "\n",
    "# 훈련 Text, Label 로딩    \n",
    "test_texts, test_labels = read_nsmc_split(test_file_path)\n",
    "\n"
   ]
  },
  {
   "cell_type": "code",
   "execution_count": 25,
   "id": "c90424f5",
   "metadata": {},
   "outputs": [
    {
     "name": "stdout",
     "output_type": "stream",
     "text": [
      "test_df shape:  (49832, 2)\n"
     ]
    },
    {
     "data": {
      "text/plain": [
       "(49832, 2)"
      ]
     },
     "execution_count": 25,
     "metadata": {},
     "output_type": "execute_result"
    }
   ],
   "source": [
    "import pandas as pd\n",
    "test_df = pd.DataFrame(data=list(zip(test_texts, test_labels)), \n",
    "                       columns=['doc','label'])\n",
    "print(\"test_df shape: \", test_df.shape)\n",
    "sample_df = test_df[0:50000]\n",
    "# sample_df = test_df[0:200]\n",
    "sample_df.shape\n",
    "\n"
   ]
  },
  {
   "cell_type": "markdown",
   "id": "187eefc8",
   "metadata": {},
   "source": [
    "## 5.2. 배치 단위로 추론\n",
    "-- 약 10 분 정도 소요 됨"
   ]
  },
  {
   "cell_type": "code",
   "execution_count": 26,
   "id": "dc9650f5",
   "metadata": {},
   "outputs": [
    {
     "name": "stdout",
     "output_type": "stream",
     "text": [
      "test samples 5120 is done\n",
      "test samples 10240 is done\n",
      "test samples 15360 is done\n",
      "test samples 20480 is done\n",
      "test samples 25600 is done\n",
      "test samples 30720 is done\n",
      "test samples 35840 is done\n",
      "test samples 40960 is done\n",
      "test samples 46080 is done\n",
      "CPU times: user 459 ms, sys: 15.1 ms, total: 474 ms\n",
      "Wall time: 8min 37s\n"
     ]
    }
   ],
   "source": [
    "%%time \n",
    "\n",
    "chunk_size = 1024\n",
    "pred_list, score_list = inference_batch(sample_df, chunk_size, runtime_client, hf_predictor)\n"
   ]
  },
  {
   "cell_type": "markdown",
   "id": "91969557",
   "metadata": {},
   "source": [
    "## 5.3. 기존 테스트 데이터에 실험 데이터 추가"
   ]
  },
  {
   "cell_type": "code",
   "execution_count": 27,
   "id": "f17c7589",
   "metadata": {},
   "outputs": [],
   "source": [
    "sample_df.insert(len(sample_df.columns), column='pred', value=pred_list)\n",
    "sample_df.insert(len(sample_df.columns), column='score', value=score_list)"
   ]
  },
  {
   "cell_type": "code",
   "execution_count": 28,
   "id": "f89a01ea",
   "metadata": {},
   "outputs": [
    {
     "data": {
      "text/html": [
       "<div>\n",
       "<style scoped>\n",
       "    .dataframe tbody tr th:only-of-type {\n",
       "        vertical-align: middle;\n",
       "    }\n",
       "\n",
       "    .dataframe tbody tr th {\n",
       "        vertical-align: top;\n",
       "    }\n",
       "\n",
       "    .dataframe thead th {\n",
       "        text-align: right;\n",
       "    }\n",
       "</style>\n",
       "<table border=\"1\" class=\"dataframe\">\n",
       "  <thead>\n",
       "    <tr style=\"text-align: right;\">\n",
       "      <th></th>\n",
       "      <th>doc</th>\n",
       "      <th>label</th>\n",
       "      <th>pred</th>\n",
       "      <th>score</th>\n",
       "    </tr>\n",
       "  </thead>\n",
       "  <tbody>\n",
       "    <tr>\n",
       "      <th>0</th>\n",
       "      <td>뭐야 이 평점들은     나쁘진 않지만 점 짜리는 더더욱 아니잖아</td>\n",
       "      <td>0</td>\n",
       "      <td>0</td>\n",
       "      <td>0.845</td>\n",
       "    </tr>\n",
       "    <tr>\n",
       "      <th>1</th>\n",
       "      <td>지루하지는 않은데 완전 막장임    돈주고 보기에는</td>\n",
       "      <td>0</td>\n",
       "      <td>0</td>\n",
       "      <td>0.911</td>\n",
       "    </tr>\n",
       "    <tr>\n",
       "      <th>2</th>\n",
       "      <td>만 아니었어도 별 다섯 개 줬을텐데   왜 로 나와서 제 심기를 불편하게 하죠</td>\n",
       "      <td>0</td>\n",
       "      <td>0</td>\n",
       "      <td>0.776</td>\n",
       "    </tr>\n",
       "    <tr>\n",
       "      <th>3</th>\n",
       "      <td>음악이 주가 된  최고의 음악영화</td>\n",
       "      <td>1</td>\n",
       "      <td>1</td>\n",
       "      <td>0.979</td>\n",
       "    </tr>\n",
       "    <tr>\n",
       "      <th>4</th>\n",
       "      <td>진정한 쓰레기</td>\n",
       "      <td>0</td>\n",
       "      <td>0</td>\n",
       "      <td>0.968</td>\n",
       "    </tr>\n",
       "  </tbody>\n",
       "</table>\n",
       "</div>"
      ],
      "text/plain": [
       "                                           doc  label pred  score\n",
       "0         뭐야 이 평점들은     나쁘진 않지만 점 짜리는 더더욱 아니잖아      0    0  0.845\n",
       "1                 지루하지는 않은데 완전 막장임    돈주고 보기에는      0    0  0.911\n",
       "2  만 아니었어도 별 다섯 개 줬을텐데   왜 로 나와서 제 심기를 불편하게 하죠      0    0  0.776\n",
       "3                           음악이 주가 된  최고의 음악영화      1    1  0.979\n",
       "4                                      진정한 쓰레기      0    0  0.968"
      ]
     },
     "execution_count": 28,
     "metadata": {},
     "output_type": "execute_result"
    }
   ],
   "source": [
    "sample_df.head()"
   ]
  },
  {
   "cell_type": "markdown",
   "id": "ad2f1813",
   "metadata": {},
   "source": [
    "## 5.4. 정확도 및 혼돈 행렬 확인"
   ]
  },
  {
   "cell_type": "code",
   "execution_count": 29,
   "id": "a8918b9b",
   "metadata": {},
   "outputs": [],
   "source": [
    "y_true = sample_df.label.tolist()\n",
    "y_pred = sample_df.pred.tolist()\n"
   ]
  },
  {
   "cell_type": "code",
   "execution_count": 30,
   "id": "aebd90f5",
   "metadata": {},
   "outputs": [
    {
     "data": {
      "image/png": "[encoded data removed]",
      "text/plain": [
       "<Figure size 576x432 with 2 Axes>"
      ]
     },
     "metadata": {
      "needs_background": "light"
     },
     "output_type": "display_data"
    }
   ],
   "source": [
    "from sklearn.metrics import confusion_matrix\n",
    "\n",
    "cf = confusion_matrix(y_true, y_pred)\n",
    "plot_confusion_matrix(cf, normalize=False)"
   ]
  },
  {
   "cell_type": "markdown",
   "id": "b6e6d33f",
   "metadata": {},
   "source": [
    "# 6. 엔드 포인트 삭제\n",
    "- 기존에 생성한 로컬 세이지 메이커 모델, 앤드포인트 컨피그, 앤드포인트 삭제"
   ]
  },
  {
   "cell_type": "code",
   "execution_count": 31,
   "id": "e8966ad5",
   "metadata": {},
   "outputs": [
    {
     "name": "stdout",
     "output_type": "stream",
     "text": [
      "--- Deleted model: huggingface-pytorch-inference-2022-07-24-14-27-46-256\n",
      "--- Deleted endpoint: huggingface-pytorch-inference-2022-07-24-14-27-46-968\n",
      "--- Deleted endpoint_config: huggingface-pytorch-inference-2022-07-24-14-27-46-968\n"
     ]
    }
   ],
   "source": [
    "from inference_utils import delete_endpoint\n",
    "\n",
    "client = boto3.Session().client('sagemaker')\n",
    "delete_endpoint(client, hf_predictor.endpoint_name)"
   ]
  },
  {
   "cell_type": "code",
   "execution_count": null,
   "id": "4cd35320",
   "metadata": {},
   "outputs": [],
   "source": []
  },
  {
   "cell_type": "code",
   "execution_count": null,
   "id": "a7622b8b-25fa-4012-84d9-d46016512621",
   "metadata": {},
   "outputs": [],
   "source": []
  }
 ],
 "metadata": {
  "interpreter": {
   "hash": "c281c456f1b8161c8906f4af2c08ed2c40c50136979eaae69688b01f70e9f4a9"
  },
  "kernelspec": {
   "display_name": "conda_python3",
   "language": "python",
   "name": "conda_python3"
  },
  "language_info": {
   "codemirror_mode": {
    "name": "ipython",
    "version": 3
   },
   "file_extension": ".py",
   "mimetype": "text/x-python",
   "name": "python",
   "nbconvert_exporter": "python",
   "pygments_lexer": "ipython3",
   "version": "3.8.12"
  }
 },
 "nbformat": 4,
 "nbformat_minor": 5
}
